{
 "nbformat": 4,
 "nbformat_minor": 2,
 "metadata": {
  "language_info": {
   "name": "python",
   "codemirror_mode": {
    "name": "ipython",
    "version": 3
   }
  },
  "orig_nbformat": 2,
  "file_extension": ".py",
  "mimetype": "text/x-python",
  "name": "python",
  "npconvert_exporter": "python",
  "pygments_lexer": "ipython3",
  "version": 3
 },
 "cells": [
  {
   "cell_type": "markdown",
   "execution_count": null,
   "metadata": {},
   "outputs": [],
   "source": [
    "# Exploring the Ringelmann effect with git2net\n",
    "**Lucas Schelkes**\n",
    "\n"
   ]
  },
  {
   "cell_type": "markdown",
   "execution_count": null,
   "metadata": {},
   "outputs": [],
   "source": [
    "In this project, we analyze the effect of group size on the productivity in GitHub projects. \n",
    "\n",
    "Using the tool `git2net`, we will analyse the following GitHub repositories:\n",
    "\n",
    "1. `TLP` (power saving tool for ThinkPads) as a small example (11 committers)\n",
    "\n",
    "2. `Android` (Android architecture blueprints v2 for building apps) as an medium-sized example (40 committers)\n",
    "\n",
    "3. `nginx-proxy` (sets up container for running nginx) as an medium-large-sized example (60 committers)\n",
    "\n",
    "4. `hello-world` (\"hello world\" code in all languages) as a large-sized example (79 committers)\n",
    "\n",
    "Finally we will derive to an interpretation of the analysis in respect to the Ringelmann effect."
   ]
  },
  {
   "cell_type": "markdown",
   "execution_count": null,
   "metadata": {},
   "outputs": [],
   "source": [
    "## `nginx-proxy` repo\n",
    "\n",
    "We first mine the co-editing data from variously sized git repositories.\n",
    "First, we specify the `sqlite` database location and the to-be-mined cloned `GitHub` repository."
   ]
  },
  {
   "cell_type": "code",
   "execution_count": 1,
   "metadata": {},
   "outputs": [],
   "source": [
    "import os\n",
    "import git2net\n",
    "\n",
    "#path to copy of virgin db:\n",
    "#sqlite_db_file = '/home/luc/pip/git2net/group_work_1/tlp (Kopie).db'\n",
    "#sqlite_db_file = '/home/luc/pip/git2net/group_work_1/bitcoin.db'\n",
    "#sqlite_db_file = '/home/luc/pip/git2net/group_work_1/architecture-samples (Kopie).db'\n",
    "sqlite_db_file = '/home/luc/pip/git2net/group_work_1/nginx (Kopie).db'\n",
    "\n",
    "\n",
    "\n",
    "#set variable to whatever folder the to-be-mined git repository is located:\n",
    "#repo_dir = '/home/luc/pip/git2net/ds_gw_1/TLP'\n",
    "#repo_dir = '/home/luc/pip/git2net/group_work_1/architecture-samples'"
   ]
  },
  {
   "cell_type": "markdown",
   "execution_count": null,
   "metadata": {},
   "outputs": [],
   "source": [
    "## Mining\n",
    "\n",
    "Only do the mining, if a copy of the \"virgin\" sqlite database has not being saved in `sqlite_db_file`.\n",
    "This copy needs to be freshly recopied from the virgin file in every Notebook run-through to avoid database errors."
   ]
  },
  {
   "cell_type": "code",
   "execution_count": 2,
   "metadata": {},
   "outputs": [],
   "source": [
    "#uncomment this block, if mining is wished\n",
    "\n",
    "#check, if database file is there; remove if yes\n",
    "#if os.path.exists(sqlite_db_file):\n",
    "#    os.remove(sqlite_db_file)\n",
    "#    print('sqlite_db_file removed!')\n",
    "\n",
    "#mining process: \n",
    "#repo_dir: to-be-mined git repository\n",
    "#sqlite_db_file: to-be-stored values in database\n",
    "\n",
    "#git2net.mine_git_repo(repo_dir, sqlite_db_file)\n",
    "\n",
    "#git2net.mining_state_summary(repo_dir, sqlite_db_file)"
   ]
  },
  {
   "cell_type": "markdown",
   "execution_count": null,
   "metadata": {},
   "outputs": [],
   "source": [
    "## Visualization\n",
    "\n",
    "In order to get a first idea of who about did roughly what with whom else, lets look at a graph showing edges from `committer_A` to `committer_B` whenever `committer_A` changed a line of the original author `committer_B`."
   ]
  },
  {
   "cell_type": "code",
   "execution_count": 3,
   "metadata": {},
   "outputs": [
    {
     "data": {
      "text/html": "<style>\n    text.label_UkFYMBoF {\n        text-anchor: middle;\n        font-size: 8px;\n        font-family: Arial, Helvetica, sans-serif;\n        fill: #999999;\n        stroke: #ffffff;\n        stroke-width: 0.1px;\n        opacity: 1.0;\n    }\n    .links_UkFYMBoF line {\n    stroke-opacity: 1.0;\n    }\n    .arrows svg:path {\n        stroke: #666;\n    }\n    .nodes_UkFYMBoF circle {\n    stroke: #fff;\n    stroke-width: 0.5px;\n    }\n</style>\n\n<svg width=\"400\" height=\"400\" id=\"UkFYMBoF\">        \n    <text x=\"20\" y=\"20\" font-family=\"sans-serif\" font-size=\"14px\" fill=\"#666\" style=\"cursor: pointer\"\n        id='UkFYMBoF_svg_txt'>[save svg]</text>\n</svg>\n\n<script charset=\"utf-8\" src=\"https://d3js.org/d3.v4.min.js\"></script>\n<script charset=\"utf-8\">\n\n// Load via requireJS if available (jupyter notebook environment)\ntry {\n    // Problem: require.config will raise an exception when called for the second time \n    require.config({\n        paths: {\n            //d3: \"https://d3js.org/d3.v4.min\"\n            d3: \"https://d3js.org/d3.v4.min.js\".replace(\".js\", \"\")\n        }\n    });\n    console.log(\"Detected requireJS\");\n}\ncatch(err){\n    // a reference error indicates that requireJS does not exist. \n    // other errors may occur due to multiple calls to config\n    if (err instanceof ReferenceError){\n        console.log(\"Detected no requireJS\");\n\n        // Helper function that waits for d3js to be loaded\n        require = function require(symbols, callback) {\n            var ms = 5;\n            window.setTimeout(function(t) {\n                if (window[symbols[0]])\n                    callback(window[symbols[0]]);\n                else \n                    window.setTimeout(arguments.callee, ms);\n            }, ms);\n        }\n    }\n}\n\n// wait until d3js has been loaded\nrequire([\"d3\"], function(d3) {\n    var svg = d3.select(\"#\"+\"UkFYMBoF\"), radius = 6, width = +svg.attr(\"width\"), height = +svg.attr(\"height\");\n\n    var color = d3.scaleOrdinal(d3.schemeCategory20);\n\n    var graph = {\"links\": [{\"source\": \"Frank Lemanschik\", \"target\": \"Jason Wilder\", \"color\": \"#999999\", \"width\": 0.5, \"weight\": 0.5}, {\"source\": \"Jason Wilder\", \"target\": \"Andrew Vos\", \"color\": \"#999999\", \"width\": 0.5, \"weight\": 0.3333333333333333}, {\"source\": \"Andrew Vos\", \"target\": \"Jason Wilder\", \"color\": \"#999999\", \"width\": 0.5, \"weight\": 0.5}, {\"source\": \"Anthony Mayfield\", \"target\": \"Jason Wilder\", \"color\": \"#999999\", \"width\": 0.5, \"weight\": 1.0}, {\"source\": \"Jason Wilder\", \"target\": \"Thomas L\\u00c9VEIL\", \"color\": \"#999999\", \"width\": 0.5, \"weight\": 0.47058823529411764}, {\"source\": \"Mike Dillon\", \"target\": \"Jason Wilder\", \"color\": \"#999999\", \"width\": 0.5, \"weight\": 0.13253012048192772}, {\"source\": \"Eric Betts\", \"target\": \"Jason Wilder\", \"color\": \"#999999\", \"width\": 0.5, \"weight\": 0.25}, {\"source\": \"Mike Dillon\", \"target\": \"Thomas L\\u00c9VEIL\", \"color\": \"#999999\", \"width\": 0.5, \"weight\": 0.17647058823529413}, {\"source\": \"Jason Wilder\", \"target\": \"Mike Dillon\", \"color\": \"#999999\", \"width\": 0.5, \"weight\": 0.3253012048192771}, {\"source\": \"Sebastiaan van Stijn\", \"target\": \"Jason Wilder\", \"color\": \"#999999\", \"width\": 0.5, \"weight\": 0.24444444444444444}, {\"source\": \"Sebastiaan van Stijn\", \"target\": \"Brian Christner\", \"color\": \"#999999\", \"width\": 0.5, \"weight\": 0.5}, {\"source\": \"Sebastiaan van Stijn\", \"target\": \"Paim pozhil\", \"color\": \"#999999\", \"width\": 0.5, \"weight\": 0.5}, {\"source\": \"Sebastiaan van Stijn\", \"target\": \"Mike Dillon\", \"color\": \"#999999\", \"width\": 0.5, \"weight\": 0.06666666666666667}, {\"source\": \"Jason Wilder\", \"target\": \"Sebastiaan van Stijn\", \"color\": \"#999999\", \"width\": 0.5, \"weight\": 0.37777777777777777}, {\"source\": \"Sebastiaan van Stijn\", \"target\": \"Andrew Vos\", \"color\": \"#999999\", \"width\": 0.5, \"weight\": 0.16666666666666666}, {\"source\": \"Joseph Page\", \"target\": \"Jason Wilder\", \"color\": \"#999999\", \"width\": 0.5, \"weight\": 0.125}, {\"source\": \"Max Claus Nunes\", \"target\": \"Sebastiaan van Stijn\", \"color\": \"#999999\", \"width\": 0.5, \"weight\": 0.25}, {\"source\": \"Jason Wilder\", \"target\": \"Brian Christner\", \"color\": \"#999999\", \"width\": 0.5, \"weight\": 0.5}, {\"source\": \"Jason Wilder\", \"target\": \"Paim pozhil\", \"color\": \"#999999\", \"width\": 0.5, \"weight\": 0.5}, {\"source\": \"\\u00c5smund Grammeltvedt\", \"target\": \"Jason Wilder\", \"color\": \"#999999\", \"width\": 0.5, \"weight\": 1.0}, {\"source\": \"Julien Pervill\\u00e9\", \"target\": \"Sebastiaan van Stijn\", \"color\": \"#999999\", \"width\": 0.5, \"weight\": 0.07692307692307693}, {\"source\": \"Julien Pervill\\u00e9\", \"target\": \"Max Claus Nunes\", \"color\": \"#999999\", \"width\": 0.5, \"weight\": 0.25}, {\"source\": \"Ben Hall\", \"target\": \"Sebastiaan van Stijn\", \"color\": \"#999999\", \"width\": 0.5, \"weight\": 0.1111111111111111}, {\"source\": \"Ben Hall\", \"target\": \"Thomas L\\u00c9VEIL\", \"color\": \"#999999\", \"width\": 0.5, \"weight\": 0.1111111111111111}, {\"source\": \"Ben Hall\", \"target\": \"Jason Wilder\", \"color\": \"#999999\", \"width\": 0.5, \"weight\": 0.1111111111111111}, {\"source\": \"Tobias Munk\", \"target\": \"Eric Betts\", \"color\": \"#999999\", \"width\": 0.5, \"weight\": 0.25}, {\"source\": \"Paulo Ragonha\", \"target\": \"Jason Wilder\", \"color\": \"#999999\", \"width\": 0.5, \"weight\": 1.0}, {\"source\": \"Jason Wilder\", \"target\": \"Max Claus Nunes\", \"color\": \"#999999\", \"width\": 0.5, \"weight\": 0.5}, {\"source\": \"Jason Wilder\", \"target\": \"Eric Betts\", \"color\": \"#999999\", \"width\": 0.5, \"weight\": 0.5}, {\"source\": \"Mike Dillon\", \"target\": \"Joseph Page\", \"color\": \"#999999\", \"width\": 0.5, \"weight\": 0.125}, {\"source\": \"Bernardo Farah\", \"target\": \"Jason Wilder\", \"color\": \"#999999\", \"width\": 0.5, \"weight\": 0.2}, {\"source\": \"Jason Wilder\", \"target\": \"Bernardo Farah\", \"color\": \"#999999\", \"width\": 0.5, \"weight\": 0.4}, {\"source\": \"Jason Wilder\", \"target\": \"Joseph Page\", \"color\": \"#999999\", \"width\": 0.5, \"weight\": 0.5}, {\"source\": \"David Wisner\", \"target\": \"Jason Wilder\", \"color\": \"#999999\", \"width\": 0.5, \"weight\": 0.25}, {\"source\": \"Kuo-Cheng Yeu\", \"target\": \"Jason Wilder\", \"color\": \"#999999\", \"width\": 0.5, \"weight\": 0.037037037037037035}, {\"source\": \"Tobias Munk\", \"target\": \"Albert Murillo Aguirre\", \"color\": \"#999999\", \"width\": 0.5, \"weight\": 0.14285714285714285}, {\"source\": \"Mike Dillon\", \"target\": \"David Wisner\", \"color\": \"#999999\", \"width\": 0.5, \"weight\": 0.25}, {\"source\": \"Markus Kosmal\", \"target\": \"Mike Dillon\", \"color\": \"#999999\", \"width\": 0.5, \"weight\": 1.0}, {\"source\": \"Jason Wilder\", \"target\": \"Albert Murillo Aguirre\", \"color\": \"#999999\", \"width\": 0.5, \"weight\": 0.5714285714285714}, {\"source\": \"Brian Prodoehl\", \"target\": \"Jason Wilder\", \"color\": \"#999999\", \"width\": 0.5, \"weight\": 0.16666666666666666}, {\"source\": \"Jason Wilder\", \"target\": \"David Wisner\", \"color\": \"#999999\", \"width\": 0.5, \"weight\": 0.5}, {\"source\": \"Joseph Page\", \"target\": \"Mike Dillon\", \"color\": \"#999999\", \"width\": 0.5, \"weight\": 0.125}, {\"source\": \"Ryan Trauntvein\", \"target\": \"Frank Lemanschik\", \"color\": \"#999999\", \"width\": 0.5, \"weight\": 0.25}, {\"source\": \"Ryan Trauntvein\", \"target\": \"Ben Hall\", \"color\": \"#999999\", \"width\": 0.5, \"weight\": 0.1111111111111111}, {\"source\": \"Ryan Trauntvein\", \"target\": \"Jason Wilder\", \"color\": \"#999999\", \"width\": 0.5, \"weight\": 0.18181818181818182}, {\"source\": \"Ryan Trauntvein\", \"target\": \"Mike Dillon\", \"color\": \"#999999\", \"width\": 0.5, \"weight\": 0.18181818181818182}, {\"source\": \"Russ Ferriday\", \"target\": \"Albert Murillo Aguirre\", \"color\": \"#999999\", \"width\": 0.5, \"weight\": 1.0}, {\"source\": \"Jason Wilder\", \"target\": \"Frank Lemanschik\", \"color\": \"#999999\", \"width\": 0.5, \"weight\": 0.25}, {\"source\": \"Jason Wilder\", \"target\": \"Ben Hall\", \"color\": \"#999999\", \"width\": 0.5, \"weight\": 0.2222222222222222}, {\"source\": \"Viranch Mehta\", \"target\": \"Mike Dillon\", \"color\": \"#999999\", \"width\": 0.5, \"weight\": 0.2558139534883721}, {\"source\": \"Viranch Mehta\", \"target\": \"Jason Wilder\", \"color\": \"#999999\", \"width\": 0.5, \"weight\": 0.13953488372093023}, {\"source\": \"Richard Bateman\", \"target\": \"Mike Dillon\", \"color\": \"#999999\", \"width\": 0.5, \"weight\": 0.06666666666666667}, {\"source\": \"Wolfgang Ebner\", \"target\": \"Ben Hall\", \"color\": \"#999999\", \"width\": 0.5, \"weight\": 0.3333333333333333}, {\"source\": \"Wolfgang Ebner\", \"target\": \"Kuo-Cheng Yeu\", \"color\": \"#999999\", \"width\": 0.5, \"weight\": 0.1111111111111111}, {\"source\": \"Wolfgang Ebner\", \"target\": \"Thomas L\\u00c9VEIL\", \"color\": \"#999999\", \"width\": 0.5, \"weight\": 0.1111111111111111}, {\"source\": \"Wolfgang Ebner\", \"target\": \"Jason Wilder\", \"color\": \"#999999\", \"width\": 0.5, \"weight\": 0.1111111111111111}, {\"source\": \"Jason Wilder\", \"target\": \"Kuo-Cheng Yeu\", \"color\": \"#999999\", \"width\": 0.5, \"weight\": 0.4074074074074074}, {\"source\": \"Rich\", \"target\": \"Jason Wilder\", \"color\": \"#999999\", \"width\": 0.5, \"weight\": 0.14285714285714285}, {\"source\": \"Rich\", \"target\": \"Mike Dillon\", \"color\": \"#999999\", \"width\": 0.5, \"weight\": 0.14285714285714285}, {\"source\": \"Ray Walker\", \"target\": \"Jason Wilder\", \"color\": \"#999999\", \"width\": 0.5, \"weight\": 0.25}, {\"source\": \"Mike Dillon\", \"target\": \"Rich\", \"color\": \"#999999\", \"width\": 0.5, \"weight\": 0.14285714285714285}, {\"source\": \"Bernardo Farah\", \"target\": \"Mike Dillon\", \"color\": \"#999999\", \"width\": 0.5, \"weight\": 0.2}, {\"source\": \"CoreOS Admin\", \"target\": \"Richard Bateman\", \"color\": \"#999999\", \"width\": 0.5, \"weight\": 0.6}, {\"source\": \"Jason Wilder\", \"target\": \"Rich\", \"color\": \"#999999\", \"width\": 0.5, \"weight\": 0.5714285714285714}, {\"source\": \"Thomas LEVEIL\", \"target\": \"Jason Wilder\", \"color\": \"#999999\", \"width\": 0.5, \"weight\": 0.037037037037037035}, {\"source\": \"Mike Dillon\", \"target\": \"Thomas LEVEIL\", \"color\": \"#999999\", \"width\": 0.5, \"weight\": 0.13253012048192772}, {\"source\": \"Ale\\u0161 Roub\\u00ed\\u010dek\", \"target\": \"Joseph Page\", \"color\": \"#999999\", \"width\": 0.5, \"weight\": 0.14285714285714285}, {\"source\": \"Ale\\u0161 Roub\\u00ed\\u010dek\", \"target\": \"Ray Walker\", \"color\": \"#999999\", \"width\": 0.5, \"weight\": 0.25}, {\"source\": \"Ale\\u0161 Roub\\u00ed\\u010dek\", \"target\": \"Wolfgang Ebner\", \"color\": \"#999999\", \"width\": 0.5, \"weight\": 0.14285714285714285}, {\"source\": \"Ale\\u0161 Roub\\u00ed\\u010dek\", \"target\": \"Jason Wilder\", \"color\": \"#999999\", \"width\": 0.5, \"weight\": 0.14285714285714285}, {\"source\": \"Thomas L\\u00c9VEIL\", \"target\": \"Thomas LEVEIL\", \"color\": \"#999999\", \"width\": 0.5, \"weight\": 0.11764705882352941}, {\"source\": \"Jonas Svatos\", \"target\": \"CoreOS Admin\", \"color\": \"#999999\", \"width\": 0.5, \"weight\": 0.5}, {\"source\": \"Jason Wilder\", \"target\": \"Ale\\u0161 Roub\\u00ed\\u010dek\", \"color\": \"#999999\", \"width\": 0.5, \"weight\": 0.2857142857142857}, {\"source\": \"Thomas L\\u00c9VEIL\", \"target\": \"Jason Wilder\", \"color\": \"#999999\", \"width\": 0.5, \"weight\": 0.11764705882352941}, {\"source\": \"Jason Wilder\", \"target\": \"Ray Walker\", \"color\": \"#999999\", \"width\": 0.5, \"weight\": 0.5}, {\"source\": \"Jason Wilder\", \"target\": \"Wolfgang Ebner\", \"color\": \"#999999\", \"width\": 0.5, \"weight\": 0.2222222222222222}, {\"source\": \"Jason Wilder\", \"target\": \"CoreOS Admin\", \"color\": \"#999999\", \"width\": 0.5, \"weight\": 0.2}, {\"source\": \"Marius Gundersen\", \"target\": \"Bernardo Farah\", \"color\": \"#999999\", \"width\": 0.5, \"weight\": 0.2}, {\"source\": \"Marius Gundersen\", \"target\": \"Mike Dillon\", \"color\": \"#999999\", \"width\": 0.5, \"weight\": 0.06666666666666667}, {\"source\": \"Jason Wilder\", \"target\": \"Thomas LEVEIL\", \"color\": \"#999999\", \"width\": 0.5, \"weight\": 0.36419753086419754}, {\"source\": \"Thomas LEVEIL\", \"target\": \"Mike Dillon\", \"color\": \"#999999\", \"width\": 0.5, \"weight\": 0.030120481927710843}, {\"source\": \"Mike Dillon\", \"target\": \"Ale\\u0161 Roub\\u00ed\\u010dek\", \"color\": \"#999999\", \"width\": 0.5, \"weight\": 0.14285714285714285}, {\"source\": \"Travis Dart\", \"target\": \"Jason Wilder\", \"color\": \"#999999\", \"width\": 0.5, \"weight\": 1.0}, {\"source\": \"Steve Kamerman\", \"target\": \"Jason Wilder\", \"color\": \"#999999\", \"width\": 0.5, \"weight\": 0.16853932584269662}, {\"source\": \"Baptiste Donaux\", \"target\": \"Marius Gundersen\", \"color\": \"#999999\", \"width\": 0.5, \"weight\": 0.2}, {\"source\": \"Baptiste Donaux\", \"target\": \"Viranch Mehta\", \"color\": \"#999999\", \"width\": 0.5, \"weight\": 0.3953488372093023}, {\"source\": \"Tobias Munk\", \"target\": \"Mike Dillon\", \"color\": \"#999999\", \"width\": 0.5, \"weight\": 0.07692307692307693}, {\"source\": \"Baptiste Donaux\", \"target\": \"Ryan Trauntvein\", \"color\": \"#999999\", \"width\": 0.5, \"weight\": 0.45454545454545453}, {\"source\": \"Baptiste Donaux\", \"target\": \"Jason Wilder\", \"color\": \"#999999\", \"width\": 0.5, \"weight\": 0.0989010989010989}, {\"source\": \"Baptiste Donaux\", \"target\": \"Tobias Munk\", \"color\": \"#999999\", \"width\": 0.5, \"weight\": 0.46153846153846156}, {\"source\": \"Tobias Munk\", \"target\": \"Jason Wilder\", \"color\": \"#999999\", \"width\": 0.5, \"weight\": 0.07692307692307693}, {\"source\": \"Mike Dillon\", \"target\": \"Baptiste Donaux\", \"color\": \"#999999\", \"width\": 0.5, \"weight\": 0.07692307692307693}, {\"source\": \"pabra\", \"target\": \"Jason Wilder\", \"color\": \"#999999\", \"width\": 0.5, \"weight\": 0.07692307692307693}, {\"source\": \"Baptiste Donaux\", \"target\": \"Mike Dillon\", \"color\": \"#999999\", \"width\": 0.5, \"weight\": 0.12087912087912088}, {\"source\": \"Steve Kamerman\", \"target\": \"Thomas LEVEIL\", \"color\": \"#999999\", \"width\": 0.5, \"weight\": 0.25925925925925924}, {\"source\": \"Steve Kamerman\", \"target\": \"Mike Dillon\", \"color\": \"#999999\", \"width\": 0.5, \"weight\": 0.04819277108433735}, {\"source\": \"Baptiste Donaux\", \"target\": \"Thomas LEVEIL\", \"color\": \"#999999\", \"width\": 0.5, \"weight\": 0.12087912087912088}, {\"source\": \"Mike Rohland\", \"target\": \"Tobias Munk\", \"color\": \"#999999\", \"width\": 0.5, \"weight\": 0.1}, {\"source\": \"Mike Rohland\", \"target\": \"Mike Dillon\", \"color\": \"#999999\", \"width\": 0.5, \"weight\": 0.1}, {\"source\": \"Mike Rohland\", \"target\": \"Jason Wilder\", \"color\": \"#999999\", \"width\": 0.5, \"weight\": 0.1}, {\"source\": \"Jason Wilder\", \"target\": \"Tobias Munk\", \"color\": \"#999999\", \"width\": 0.5, \"weight\": 0.07692307692307693}, {\"source\": \"Baptiste Donaux\", \"target\": \"Pit Kleyersburg\", \"color\": \"#999999\", \"width\": 0.5, \"weight\": 0.06896551724137931}, {\"source\": \"Jason Wilder\", \"target\": \"Mike Rohland\", \"color\": \"#999999\", \"width\": 0.5, \"weight\": 0.6}, {\"source\": \"Jason Wilder\", \"target\": \"Marius Gundersen\", \"color\": \"#999999\", \"width\": 0.5, \"weight\": 0.3333333333333333}, {\"source\": \"Pit Kleyersburg\", \"target\": \"Marius Gundersen\", \"color\": \"#999999\", \"width\": 0.5, \"weight\": 0.06666666666666667}, {\"source\": \"Pit Kleyersburg\", \"target\": \"Thomas LEVEIL\", \"color\": \"#999999\", \"width\": 0.5, \"weight\": 0.13793103448275862}, {\"source\": \"Pit Kleyersburg\", \"target\": \"Mike Dillon\", \"color\": \"#999999\", \"width\": 0.5, \"weight\": 0.10344827586206896}, {\"source\": \"Baptiste Donaux\", \"target\": \"Mike Rohland\", \"color\": \"#999999\", \"width\": 0.5, \"weight\": 0.1}, {\"source\": \"Baptiste Donaux\", \"target\": \"Sebastiaan van Stijn\", \"color\": \"#999999\", \"width\": 0.5, \"weight\": 0.022222222222222223}, {\"source\": \"Jason Wilder\", \"target\": \"Pit Kleyersburg\", \"color\": \"#999999\", \"width\": 0.5, \"weight\": 0.3448275862068966}, {\"source\": \"Jason Wilder\", \"target\": \"Baptiste Donaux\", \"color\": \"#999999\", \"width\": 0.5, \"weight\": 0.13186813186813187}, {\"source\": \"kumy\", \"target\": \"Jason Wilder\", \"color\": \"#999999\", \"width\": 0.5, \"weight\": 1.0}, {\"source\": \"Jason Wilder\", \"target\": \"Gabriel Baker\", \"color\": \"#999999\", \"width\": 0.5, \"weight\": 1.0}, {\"source\": \"Jason Wilder\", \"target\": \"Richard Bateman\", \"color\": \"#999999\", \"width\": 0.5, \"weight\": 0.3333333333333333}, {\"source\": \"Jason Wilder\", \"target\": \"Viranch Mehta\", \"color\": \"#999999\", \"width\": 0.5, \"weight\": 0.18604651162790697}, {\"source\": \"Steve Kamerman\", \"target\": \"Tobias Munk\", \"color\": \"#999999\", \"width\": 0.5, \"weight\": 0.07692307692307693}, {\"source\": \"Steve Kamerman\", \"target\": \"Sebastiaan van Stijn\", \"color\": \"#999999\", \"width\": 0.5, \"weight\": 0.15555555555555556}, {\"source\": \"Steve Kamerman\", \"target\": \"Marius Gundersen\", \"color\": \"#999999\", \"width\": 0.5, \"weight\": 0.2}, {\"source\": \"Jason Wilder\", \"target\": \"Brian Prodoehl\", \"color\": \"#999999\", \"width\": 0.5, \"weight\": 0.8333333333333334}, {\"source\": \"Jason Wilder\", \"target\": \"Steve Kamerman\", \"color\": \"#999999\", \"width\": 0.5, \"weight\": 0.19382022471910113}, {\"source\": \"hwang\", \"target\": \"Jason Wilder\", \"color\": \"#999999\", \"width\": 0.5, \"weight\": 0.14285714285714285}, {\"source\": \"Christoph\", \"target\": \"Jason Wilder\", \"color\": \"#999999\", \"width\": 0.5, \"weight\": 0.14285714285714285}, {\"source\": \"ryneeverett\", \"target\": \"Jason Wilder\", \"color\": \"#999999\", \"width\": 0.5, \"weight\": 1.0}, {\"source\": \"hwang\", \"target\": \"Pit Kleyersburg\", \"color\": \"#999999\", \"width\": 0.5, \"weight\": 0.07142857142857142}, {\"source\": \"Ruben\", \"target\": \"Jason Wilder\", \"color\": \"#999999\", \"width\": 0.5, \"weight\": 0.14285714285714285}, {\"source\": \"mplx\", \"target\": \"Ruben\", \"color\": \"#999999\", \"width\": 0.5, \"weight\": 0.09090909090909091}, {\"source\": \"pvlg\", \"target\": \"Jason Wilder\", \"color\": \"#999999\", \"width\": 0.5, \"weight\": 1.0}, {\"source\": \"Matthias Do\\u0308ring\", \"target\": \"Jason Wilder\", \"color\": \"#999999\", \"width\": 0.5, \"weight\": 0.02857142857142857}, {\"source\": \"Jason Wilder\", \"target\": \"Ruben\", \"color\": \"#999999\", \"width\": 0.5, \"weight\": 0.2857142857142857}, {\"source\": \"Steve Kamerman\", \"target\": \"Ruben\", \"color\": \"#999999\", \"width\": 0.5, \"weight\": 0.42857142857142855}, {\"source\": \"Steve Kamerman\", \"target\": \"Julien Pervill\\u00e9\", \"color\": \"#999999\", \"width\": 0.5, \"weight\": 0.5384615384615384}, {\"source\": \"Steve Kamerman\", \"target\": \"Kuo-Cheng Yeu\", \"color\": \"#999999\", \"width\": 0.5, \"weight\": 0.4444444444444444}, {\"source\": \"Steve Kamerman\", \"target\": \"Pit Kleyersburg\", \"color\": \"#999999\", \"width\": 0.5, \"weight\": 0.1724137931034483}, {\"source\": \"Steve Kamerman\", \"target\": \"mplx\", \"color\": \"#999999\", \"width\": 0.5, \"weight\": 0.18181818181818182}, {\"source\": \"Max Wilkinson\", \"target\": \"Mike Dillon\", \"color\": \"#999999\", \"width\": 0.5, \"weight\": 1.0}, {\"source\": \"Steve Kamerman\", \"target\": \"Christoph\", \"color\": \"#999999\", \"width\": 0.5, \"weight\": 0.42857142857142855}, {\"source\": \"Jason Wilder\", \"target\": \"Christoph\", \"color\": \"#999999\", \"width\": 0.5, \"weight\": 0.2857142857142857}, {\"source\": \"Cody Ramaker\", \"target\": \"hwang\", \"color\": \"#999999\", \"width\": 0.5, \"weight\": 0.3333333333333333}, {\"source\": \"Matthias D\\u00f6ring\", \"target\": \"Cody Ramaker\", \"color\": \"#999999\", \"width\": 0.5, \"weight\": 0.3333333333333333}, {\"source\": \"Matthias D\\u00f6ring\", \"target\": \"Matthias Do\\u0308ring\", \"color\": \"#999999\", \"width\": 0.5, \"weight\": 0.02857142857142857}, {\"source\": \"Matthias D\\u00f6ring\", \"target\": \"hwang\", \"color\": \"#999999\", \"width\": 0.5, \"weight\": 0.14285714285714285}, {\"source\": \"Jason Wilder\", \"target\": \"hwang\", \"color\": \"#999999\", \"width\": 0.5, \"weight\": 0.21428571428571427}, {\"source\": \"Jason Wilder\", \"target\": \"mplx\", \"color\": \"#999999\", \"width\": 0.5, \"weight\": 0.6363636363636364}, {\"source\": \"Jason Wilder\", \"target\": \"Cody Ramaker\", \"color\": \"#999999\", \"width\": 0.5, \"weight\": 0.3333333333333333}, {\"source\": \"Thomas LEVEIL\", \"target\": \"pabra\", \"color\": \"#999999\", \"width\": 0.5, \"weight\": 0.07692307692307693}, {\"source\": \"Thomas LEVEIL\", \"target\": \"Marius Gundersen\", \"color\": \"#999999\", \"width\": 0.5, \"weight\": 0.06666666666666667}, {\"source\": \"Thomas LEVEIL\", \"target\": \"Pit Kleyersburg\", \"color\": \"#999999\", \"width\": 0.5, \"weight\": 0.06896551724137931}, {\"source\": \"Jason Wilder\", \"target\": \"pabra\", \"color\": \"#999999\", \"width\": 0.5, \"weight\": 0.5384615384615384}, {\"source\": \"Steve Kamerman\", \"target\": \"Matthias Do\\u0308ring\", \"color\": \"#999999\", \"width\": 0.5, \"weight\": 0.2571428571428571}, {\"source\": \"Matthias D\\u00f6ring\", \"target\": \"Jason Wilder\", \"color\": \"#999999\", \"width\": 0.5, \"weight\": 0.09433962264150944}, {\"source\": \"Matthias D\\u00f6ring\", \"target\": \"Thomas LEVEIL\", \"color\": \"#999999\", \"width\": 0.5, \"weight\": 0.09433962264150944}, {\"source\": \"Matthias D\\u00f6ring\", \"target\": \"Mike Dillon\", \"color\": \"#999999\", \"width\": 0.5, \"weight\": 0.018867924528301886}, {\"source\": \"Matthias D\\u00f6ring\", \"target\": \"Christoph\", \"color\": \"#999999\", \"width\": 0.5, \"weight\": 0.14285714285714285}, {\"source\": \"Matthias D\\u00f6ring\", \"target\": \"Pit Kleyersburg\", \"color\": \"#999999\", \"width\": 0.5, \"weight\": 0.034482758620689655}, {\"source\": \"Matthias D\\u00f6ring\", \"target\": \"Ruben\", \"color\": \"#999999\", \"width\": 0.5, \"weight\": 0.07142857142857142}, {\"source\": \"Kevin Doveton\", \"target\": \"Mike Dillon\", \"color\": \"#999999\", \"width\": 0.5, \"weight\": 0.25}, {\"source\": \"Yosmany Garcia\", \"target\": \"Michael\", \"color\": \"#999999\", \"width\": 0.5, \"weight\": 1.0}, {\"source\": \"Steve Kamerman\", \"target\": \"hwang\", \"color\": \"#999999\", \"width\": 0.5, \"weight\": 0.2857142857142857}, {\"source\": \"Steve Kamerman\", \"target\": \"pabra\", \"color\": \"#999999\", \"width\": 0.5, \"weight\": 0.15384615384615385}, {\"source\": \"Jacek Jakubik\", \"target\": \"Jason Wilder\", \"color\": \"#999999\", \"width\": 0.5, \"weight\": 1.0}, {\"source\": \"Jason Wilder\", \"target\": \"Matthias D\\u00f6ring\", \"color\": \"#999999\", \"width\": 0.5, \"weight\": 0.4528301886792453}, {\"source\": \"Thomas LEVEIL\", \"target\": \"Richard Bateman\", \"color\": \"#999999\", \"width\": 0.5, \"weight\": 0.06666666666666667}, {\"source\": \"Thomas LEVEIL\", \"target\": \"Steve Kamerman\", \"color\": \"#999999\", \"width\": 0.5, \"weight\": 0.12654320987654322}, {\"source\": \"sischnei\", \"target\": \"Matthias D\\u00f6ring\", \"color\": \"#999999\", \"width\": 0.5, \"weight\": 1.0}, {\"source\": \"Jason Wilder\", \"target\": \"Matthias Do\\u0308ring\", \"color\": \"#999999\", \"width\": 0.5, \"weight\": 0.37142857142857144}, {\"source\": \"Naglis Jonaitis\", \"target\": \"pabra\", \"color\": \"#999999\", \"width\": 0.5, \"weight\": 0.5}, {\"source\": \"Roberto Alvarez\", \"target\": \"Jason Wilder\", \"color\": \"#999999\", \"width\": 0.5, \"weight\": 1.0}, {\"source\": \"Tobias H\\u00fcske\", \"target\": \"Matthias D\\u00f6ring\", \"color\": \"#999999\", \"width\": 0.5, \"weight\": 0.3333333333333333}, {\"source\": \"neilpang\", \"target\": \"Baptiste Donaux\", \"color\": \"#999999\", \"width\": 0.5, \"weight\": 0.2}, {\"source\": \"neil\", \"target\": \"Matthias Do\\u0308ring\", \"color\": \"#999999\", \"width\": 0.5, \"weight\": 0.16666666666666666}, {\"source\": \"neil\", \"target\": \"Julien Pervill\\u00e9\", \"color\": \"#999999\", \"width\": 0.5, \"weight\": 0.16666666666666666}, {\"source\": \"Steve Kamerman\", \"target\": \"neil\", \"color\": \"#999999\", \"width\": 0.5, \"weight\": 0.3333333333333333}, {\"source\": \"Jason Wilder\", \"target\": \"Julien Pervill\\u00e9\", \"color\": \"#999999\", \"width\": 0.5, \"weight\": 0.23076923076923078}, {\"source\": \"Steve Kamerman\", \"target\": \"Matthias D\\u00f6ring\", \"color\": \"#999999\", \"width\": 0.5, \"weight\": 0.03773584905660377}, {\"source\": \"Steve Kamerman\", \"target\": \"Richard Bateman\", \"color\": \"#999999\", \"width\": 0.5, \"weight\": 0.13333333333333333}, {\"source\": \"Steve Kamerman\", \"target\": \"Baptiste Donaux\", \"color\": \"#999999\", \"width\": 0.5, \"weight\": 0.01098901098901099}, {\"source\": \"\\u8010\\u5c0f\\u5fc3\", \"target\": \"NaiXiaoXin\", \"color\": \"#999999\", \"width\": 0.5, \"weight\": 1.0}, {\"source\": \"\\u8010\\u5c0f\\u5fc3\", \"target\": \"Naglis Jonaitis\", \"color\": \"#999999\", \"width\": 0.5, \"weight\": 0.5}, {\"source\": \"\\u8010\\u5c0f\\u5fc3\", \"target\": \"pabra\", \"color\": \"#999999\", \"width\": 0.5, \"weight\": 0.2}, {\"source\": \"Matthias D\\u00f6ring\", \"target\": \"Tobias H\\u00fcske\", \"color\": \"#999999\", \"width\": 0.5, \"weight\": 0.3333333333333333}, {\"source\": \"\\u8010\\u5c0f\\u5fc3\", \"target\": \"Jason Wilder\", \"color\": \"#999999\", \"width\": 0.5, \"weight\": 0.2}, {\"source\": \"Teoh Han Hui\", \"target\": \"Steve Kamerman\", \"color\": \"#999999\", \"width\": 0.5, \"weight\": 0.25}, {\"source\": \"Jason Wilder\", \"target\": \"Tobias H\\u00fcske\", \"color\": \"#999999\", \"width\": 0.5, \"weight\": 0.3333333333333333}, {\"source\": \"Remi Pichon\", \"target\": \"neilpang\", \"color\": \"#999999\", \"width\": 0.5, \"weight\": 1.0}, {\"source\": \"Brikou CARRE\", \"target\": \"Jason Wilder\", \"color\": \"#999999\", \"width\": 0.5, \"weight\": 1.0}, {\"source\": \"Jason Wilder\", \"target\": \"neilpang\", \"color\": \"#999999\", \"width\": 0.5, \"weight\": 0.6}, {\"source\": \"Pan Teparak\", \"target\": \"Steve Kamerman\", \"color\": \"#999999\", \"width\": 0.5, \"weight\": 0.4444444444444444}, {\"source\": \"Pan Teparak\", \"target\": \"Thomas LEVEIL\", \"color\": \"#999999\", \"width\": 0.5, \"weight\": 0.4444444444444444}, {\"source\": \"Patrick\", \"target\": \"Baptiste Donaux\", \"color\": \"#999999\", \"width\": 0.5, \"weight\": 1.0}, {\"source\": \"Pan Teparak\", \"target\": \"Michael\", \"color\": \"#999999\", \"width\": 0.5, \"weight\": 0.14285714285714285}, {\"source\": \"Nicolas Duchon\", \"target\": \"Jason Wilder\", \"color\": \"#999999\", \"width\": 0.5, \"weight\": 0.041666666666666664}, {\"source\": \"Steve Kamerman\", \"target\": \"CoreOS Admin\", \"color\": \"#999999\", \"width\": 0.5, \"weight\": 0.1}, {\"source\": \"Steve Kamerman\", \"target\": \"Jonas Svatos\", \"color\": \"#999999\", \"width\": 0.5, \"weight\": 0.5}, {\"source\": \"Nicolas Duchon\", \"target\": \"Steve Kamerman\", \"color\": \"#999999\", \"width\": 0.5, \"weight\": 0.10416666666666667}, {\"source\": \"Nicolas Duchon\", \"target\": \"Kuo-Cheng Yeu\", \"color\": \"#999999\", \"width\": 0.5, \"weight\": 0.07407407407407407}, {\"source\": \"cglewis\", \"target\": \"Jason Wilder\", \"color\": \"#999999\", \"width\": 0.5, \"weight\": 0.5}, {\"source\": \"cglewis\", \"target\": \"Matthias Do\\u0308ring\", \"color\": \"#999999\", \"width\": 0.5, \"weight\": 0.5}, {\"source\": \"Sy Doveton\", \"target\": \"Steve Kamerman\", \"color\": \"#999999\", \"width\": 0.5, \"weight\": 1.0}, {\"source\": \"Nicolas Duchon\", \"target\": \"Thomas LEVEIL\", \"color\": \"#999999\", \"width\": 0.5, \"weight\": 0.041666666666666664}, {\"source\": \"Nicolas Duchon\", \"target\": \"Matthias Do\\u0308ring\", \"color\": \"#999999\", \"width\": 0.5, \"weight\": 0.02857142857142857}, {\"source\": \"Nicolas Duchon\", \"target\": \"mplx\", \"color\": \"#999999\", \"width\": 0.5, \"weight\": 0.09090909090909091}, {\"source\": \"mouhamed\", \"target\": \"Steve Kamerman\", \"color\": \"#999999\", \"width\": 0.5, \"weight\": 1.0}, {\"source\": \"b1f6c1c4\", \"target\": \"Steve Kamerman\", \"color\": \"#999999\", \"width\": 0.5, \"weight\": 0.5}, {\"source\": \"Sergei Filippov\", \"target\": \"Baptiste Donaux\", \"color\": \"#999999\", \"width\": 0.5, \"weight\": 1.0}, {\"source\": \"Jason Wilder\", \"target\": \"neil\", \"color\": \"#999999\", \"width\": 0.5, \"weight\": 0.3333333333333333}, {\"source\": \"b1f6c1c4\", \"target\": \"Thomas LEVEIL\", \"color\": \"#999999\", \"width\": 0.5, \"weight\": 0.5}, {\"source\": \"Steve Kamerman\", \"target\": \"Nicolas Duchon\", \"color\": \"#999999\", \"width\": 0.5, \"weight\": 0.041666666666666664}, {\"source\": \"Matthias Do\\u0308ring\", \"target\": \"Matthias D\\u00f6ring\", \"color\": \"#999999\", \"width\": 0.5, \"weight\": 0.05714285714285714}, {\"source\": \"Jason Wilder\", \"target\": \"Nicolas Duchon\", \"color\": \"#999999\", \"width\": 0.5, \"weight\": 0.5}, {\"source\": \"Steve Kamerman\", \"target\": \"Viranch Mehta\", \"color\": \"#999999\", \"width\": 0.5, \"weight\": 0.023255813953488372}, {\"source\": \"Gpkfr\", \"target\": \"Matthias Do\\u0308ring\", \"color\": \"#999999\", \"width\": 0.5, \"weight\": 0.16666666666666666}, {\"source\": \"Kenichi HIROSE\", \"target\": \"Steve Kamerman\", \"color\": \"#999999\", \"width\": 0.5, \"weight\": 1.0}, {\"source\": \"Jiazhen Xie\", \"target\": \"Gpkfr\", \"color\": \"#999999\", \"width\": 0.5, \"weight\": 0.25}, {\"source\": \"Jakub Pomyka\\u0142a\", \"target\": \"Kevin Doveton\", \"color\": \"#999999\", \"width\": 0.5, \"weight\": 1.0}, {\"source\": \"Jiazhen Xie\", \"target\": \"Thomas LEVEIL\", \"color\": \"#999999\", \"width\": 0.5, \"weight\": 0.25}, {\"source\": \"Lorenzo Cameroni\", \"target\": \"Jiazhen Xie\", \"color\": \"#999999\", \"width\": 0.5, \"weight\": 0.25}, {\"source\": \"Jason Wilder\", \"target\": \"Jiazhen Xie\", \"color\": \"#999999\", \"width\": 0.5, \"weight\": 0.25}, {\"source\": \"Jason Wilder\", \"target\": \"Gpkfr\", \"color\": \"#999999\", \"width\": 0.5, \"weight\": 0.5}, {\"source\": \"Dick Visser\", \"target\": \"Michael\", \"color\": \"#999999\", \"width\": 0.5, \"weight\": 1.0}, {\"source\": \"Lorenzo Cameroni\", \"target\": \"Gpkfr\", \"color\": \"#999999\", \"width\": 0.5, \"weight\": 0.16666666666666666}, {\"source\": \"came88\", \"target\": \"Lorenzo Cameroni\", \"color\": \"#999999\", \"width\": 0.5, \"weight\": 1.0}, {\"source\": \"Jason Wilder\", \"target\": \"Teoh Han Hui\", \"color\": \"#999999\", \"width\": 0.5, \"weight\": 0.625}, {\"source\": \"Jason Wilder\", \"target\": \"Michael\", \"color\": \"#999999\", \"width\": 0.5, \"weight\": 0.5714285714285714}, {\"source\": \"Lorenzo Cameroni\", \"target\": \"Nicolas Duchon\", \"color\": \"#999999\", \"width\": 0.5, \"weight\": 0.375}, {\"source\": \"Lorenzo Cameroni\", \"target\": \"Jason Wilder\", \"color\": \"#999999\", \"width\": 0.5, \"weight\": 0.08333333333333333}, {\"source\": \"Lorenzo Cameroni\", \"target\": \"Steve Kamerman\", \"color\": \"#999999\", \"width\": 0.5, \"weight\": 0.20833333333333334}, {\"source\": \"Lorenzo Cameroni\", \"target\": \"Teoh Han Hui\", \"color\": \"#999999\", \"width\": 0.5, \"weight\": 0.125}, {\"source\": \"Matthias Do\\u0308ring\", \"target\": \"Lorenzo Cameroni\", \"color\": \"#999999\", \"width\": 0.5, \"weight\": 0.08333333333333333}, {\"source\": \"Jason Wilder\", \"target\": \"Kevin Doveton\", \"color\": \"#999999\", \"width\": 0.5, \"weight\": 0.5}, {\"source\": \"Jason Wilder\", \"target\": \"Lorenzo Cameroni\", \"color\": \"#999999\", \"width\": 0.5, \"weight\": 0.08333333333333333}, {\"source\": \"Thomas LEVEIL\", \"target\": \"Matthias D\\u00f6ring\", \"color\": \"#999999\", \"width\": 0.5, \"weight\": 0.018867924528301886}, {\"source\": \"Thomas LEVEIL\", \"target\": \"Baptiste Donaux\", \"color\": \"#999999\", \"width\": 0.5, \"weight\": 0.02197802197802198}, {\"source\": \"Thomas LEVEIL\", \"target\": \"Matthias Do\\u0308ring\", \"color\": \"#999999\", \"width\": 0.5, \"weight\": 0.08571428571428572}, {\"source\": \"Jason Wilder\", \"target\": \"\\u8010\\u5c0f\\u5fc3\", \"color\": \"#999999\", \"width\": 0.5, \"weight\": 0.2}], \"nodes\": [{\"id\": \"Frank Lemanschik\", \"text\": \"Frank Lemanschik\", \"color\": \"#99ccff\", \"size\": 5.0}, {\"id\": \"Jason Wilder\", \"text\": \"Jason Wilder\", \"color\": \"#99ccff\", \"size\": 5.0}, {\"id\": \"Andrew Vos\", \"text\": \"Andrew Vos\", \"color\": \"#99ccff\", \"size\": 5.0}, {\"id\": \"Anthony Mayfield\", \"text\": \"Anthony Mayfield\", \"color\": \"#99ccff\", \"size\": 5.0}, {\"id\": \"Thomas L\\u00c9VEIL\", \"text\": \"Thomas L\\u00c9VEIL\", \"color\": \"#99ccff\", \"size\": 5.0}, {\"id\": \"Mike Dillon\", \"text\": \"Mike Dillon\", \"color\": \"#99ccff\", \"size\": 5.0}, {\"id\": \"Eric Betts\", \"text\": \"Eric Betts\", \"color\": \"#99ccff\", \"size\": 5.0}, {\"id\": \"Sebastiaan van Stijn\", \"text\": \"Sebastiaan van Stijn\", \"color\": \"#99ccff\", \"size\": 5.0}, {\"id\": \"Brian Christner\", \"text\": \"Brian Christner\", \"color\": \"#99ccff\", \"size\": 5.0}, {\"id\": \"Paim pozhil\", \"text\": \"Paim pozhil\", \"color\": \"#99ccff\", \"size\": 5.0}, {\"id\": \"Joseph Page\", \"text\": \"Joseph Page\", \"color\": \"#99ccff\", \"size\": 5.0}, {\"id\": \"Max Claus Nunes\", \"text\": \"Max Claus Nunes\", \"color\": \"#99ccff\", \"size\": 5.0}, {\"id\": \"\\u00c5smund Grammeltvedt\", \"text\": \"\\u00c5smund Grammeltvedt\", \"color\": \"#99ccff\", \"size\": 5.0}, {\"id\": \"Julien Pervill\\u00e9\", \"text\": \"Julien Pervill\\u00e9\", \"color\": \"#99ccff\", \"size\": 5.0}, {\"id\": \"Ben Hall\", \"text\": \"Ben Hall\", \"color\": \"#99ccff\", \"size\": 5.0}, {\"id\": \"Tobias Munk\", \"text\": \"Tobias Munk\", \"color\": \"#99ccff\", \"size\": 5.0}, {\"id\": \"Paulo Ragonha\", \"text\": \"Paulo Ragonha\", \"color\": \"#99ccff\", \"size\": 5.0}, {\"id\": \"Bernardo Farah\", \"text\": \"Bernardo Farah\", \"color\": \"#99ccff\", \"size\": 5.0}, {\"id\": \"David Wisner\", \"text\": \"David Wisner\", \"color\": \"#99ccff\", \"size\": 5.0}, {\"id\": \"Kuo-Cheng Yeu\", \"text\": \"Kuo-Cheng Yeu\", \"color\": \"#99ccff\", \"size\": 5.0}, {\"id\": \"Albert Murillo Aguirre\", \"text\": \"Albert Murillo Aguirre\", \"color\": \"#99ccff\", \"size\": 5.0}, {\"id\": \"Markus Kosmal\", \"text\": \"Markus Kosmal\", \"color\": \"#99ccff\", \"size\": 5.0}, {\"id\": \"Brian Prodoehl\", \"text\": \"Brian Prodoehl\", \"color\": \"#99ccff\", \"size\": 5.0}, {\"id\": \"Ryan Trauntvein\", \"text\": \"Ryan Trauntvein\", \"color\": \"#99ccff\", \"size\": 5.0}, {\"id\": \"Russ Ferriday\", \"text\": \"Russ Ferriday\", \"color\": \"#99ccff\", \"size\": 5.0}, {\"id\": \"Viranch Mehta\", \"text\": \"Viranch Mehta\", \"color\": \"#99ccff\", \"size\": 5.0}, {\"id\": \"Richard Bateman\", \"text\": \"Richard Bateman\", \"color\": \"#99ccff\", \"size\": 5.0}, {\"id\": \"Wolfgang Ebner\", \"text\": \"Wolfgang Ebner\", \"color\": \"#99ccff\", \"size\": 5.0}, {\"id\": \"Rich\", \"text\": \"Rich\", \"color\": \"#99ccff\", \"size\": 5.0}, {\"id\": \"Ray Walker\", \"text\": \"Ray Walker\", \"color\": \"#99ccff\", \"size\": 5.0}, {\"id\": \"CoreOS Admin\", \"text\": \"CoreOS Admin\", \"color\": \"#99ccff\", \"size\": 5.0}, {\"id\": \"Thomas LEVEIL\", \"text\": \"Thomas LEVEIL\", \"color\": \"#99ccff\", \"size\": 5.0}, {\"id\": \"Ale\\u0161 Roub\\u00ed\\u010dek\", \"text\": \"Ale\\u0161 Roub\\u00ed\\u010dek\", \"color\": \"#99ccff\", \"size\": 5.0}, {\"id\": \"Jonas Svatos\", \"text\": \"Jonas Svatos\", \"color\": \"#99ccff\", \"size\": 5.0}, {\"id\": \"Marius Gundersen\", \"text\": \"Marius Gundersen\", \"color\": \"#99ccff\", \"size\": 5.0}, {\"id\": \"Travis Dart\", \"text\": \"Travis Dart\", \"color\": \"#99ccff\", \"size\": 5.0}, {\"id\": \"Steve Kamerman\", \"text\": \"Steve Kamerman\", \"color\": \"#99ccff\", \"size\": 5.0}, {\"id\": \"Baptiste Donaux\", \"text\": \"Baptiste Donaux\", \"color\": \"#99ccff\", \"size\": 5.0}, {\"id\": \"pabra\", \"text\": \"pabra\", \"color\": \"#99ccff\", \"size\": 5.0}, {\"id\": \"Mike Rohland\", \"text\": \"Mike Rohland\", \"color\": \"#99ccff\", \"size\": 5.0}, {\"id\": \"Pit Kleyersburg\", \"text\": \"Pit Kleyersburg\", \"color\": \"#99ccff\", \"size\": 5.0}, {\"id\": \"kumy\", \"text\": \"kumy\", \"color\": \"#99ccff\", \"size\": 5.0}, {\"id\": \"Gabriel Baker\", \"text\": \"Gabriel Baker\", \"color\": \"#99ccff\", \"size\": 5.0}, {\"id\": \"hwang\", \"text\": \"hwang\", \"color\": \"#99ccff\", \"size\": 5.0}, {\"id\": \"Christoph\", \"text\": \"Christoph\", \"color\": \"#99ccff\", \"size\": 5.0}, {\"id\": \"ryneeverett\", \"text\": \"ryneeverett\", \"color\": \"#99ccff\", \"size\": 5.0}, {\"id\": \"Ruben\", \"text\": \"Ruben\", \"color\": \"#99ccff\", \"size\": 5.0}, {\"id\": \"mplx\", \"text\": \"mplx\", \"color\": \"#99ccff\", \"size\": 5.0}, {\"id\": \"pvlg\", \"text\": \"pvlg\", \"color\": \"#99ccff\", \"size\": 5.0}, {\"id\": \"Matthias Do\\u0308ring\", \"text\": \"Matthias Do\\u0308ring\", \"color\": \"#99ccff\", \"size\": 5.0}, {\"id\": \"Max Wilkinson\", \"text\": \"Max Wilkinson\", \"color\": \"#99ccff\", \"size\": 5.0}, {\"id\": \"Cody Ramaker\", \"text\": \"Cody Ramaker\", \"color\": \"#99ccff\", \"size\": 5.0}, {\"id\": \"Matthias D\\u00f6ring\", \"text\": \"Matthias D\\u00f6ring\", \"color\": \"#99ccff\", \"size\": 5.0}, {\"id\": \"Kevin Doveton\", \"text\": \"Kevin Doveton\", \"color\": \"#99ccff\", \"size\": 5.0}, {\"id\": \"Yosmany Garcia\", \"text\": \"Yosmany Garcia\", \"color\": \"#99ccff\", \"size\": 5.0}, {\"id\": \"Michael\", \"text\": \"Michael\", \"color\": \"#99ccff\", \"size\": 5.0}, {\"id\": \"Jacek Jakubik\", \"text\": \"Jacek Jakubik\", \"color\": \"#99ccff\", \"size\": 5.0}, {\"id\": \"sischnei\", \"text\": \"sischnei\", \"color\": \"#99ccff\", \"size\": 5.0}, {\"id\": \"Naglis Jonaitis\", \"text\": \"Naglis Jonaitis\", \"color\": \"#99ccff\", \"size\": 5.0}, {\"id\": \"Roberto Alvarez\", \"text\": \"Roberto Alvarez\", \"color\": \"#99ccff\", \"size\": 5.0}, {\"id\": \"Tobias H\\u00fcske\", \"text\": \"Tobias H\\u00fcske\", \"color\": \"#99ccff\", \"size\": 5.0}, {\"id\": \"neilpang\", \"text\": \"neilpang\", \"color\": \"#99ccff\", \"size\": 5.0}, {\"id\": \"neil\", \"text\": \"neil\", \"color\": \"#99ccff\", \"size\": 5.0}, {\"id\": \"\\u8010\\u5c0f\\u5fc3\", \"text\": \"\\u8010\\u5c0f\\u5fc3\", \"color\": \"#99ccff\", \"size\": 5.0}, {\"id\": \"NaiXiaoXin\", \"text\": \"NaiXiaoXin\", \"color\": \"#99ccff\", \"size\": 5.0}, {\"id\": \"Teoh Han Hui\", \"text\": \"Teoh Han Hui\", \"color\": \"#99ccff\", \"size\": 5.0}, {\"id\": \"Remi Pichon\", \"text\": \"Remi Pichon\", \"color\": \"#99ccff\", \"size\": 5.0}, {\"id\": \"Brikou CARRE\", \"text\": \"Brikou CARRE\", \"color\": \"#99ccff\", \"size\": 5.0}, {\"id\": \"Pan Teparak\", \"text\": \"Pan Teparak\", \"color\": \"#99ccff\", \"size\": 5.0}, {\"id\": \"Patrick\", \"text\": \"Patrick\", \"color\": \"#99ccff\", \"size\": 5.0}, {\"id\": \"Nicolas Duchon\", \"text\": \"Nicolas Duchon\", \"color\": \"#99ccff\", \"size\": 5.0}, {\"id\": \"cglewis\", \"text\": \"cglewis\", \"color\": \"#99ccff\", \"size\": 5.0}, {\"id\": \"Sy Doveton\", \"text\": \"Sy Doveton\", \"color\": \"#99ccff\", \"size\": 5.0}, {\"id\": \"mouhamed\", \"text\": \"mouhamed\", \"color\": \"#99ccff\", \"size\": 5.0}, {\"id\": \"b1f6c1c4\", \"text\": \"b1f6c1c4\", \"color\": \"#99ccff\", \"size\": 5.0}, {\"id\": \"Sergei Filippov\", \"text\": \"Sergei Filippov\", \"color\": \"#99ccff\", \"size\": 5.0}, {\"id\": \"Gpkfr\", \"text\": \"Gpkfr\", \"color\": \"#99ccff\", \"size\": 5.0}, {\"id\": \"Kenichi HIROSE\", \"text\": \"Kenichi HIROSE\", \"color\": \"#99ccff\", \"size\": 5.0}, {\"id\": \"Jiazhen Xie\", \"text\": \"Jiazhen Xie\", \"color\": \"#99ccff\", \"size\": 5.0}, {\"id\": \"Jakub Pomyka\\u0142a\", \"text\": \"Jakub Pomyka\\u0142a\", \"color\": \"#99ccff\", \"size\": 5.0}, {\"id\": \"Lorenzo Cameroni\", \"text\": \"Lorenzo Cameroni\", \"color\": \"#99ccff\", \"size\": 5.0}, {\"id\": \"Dick Visser\", \"text\": \"Dick Visser\", \"color\": \"#99ccff\", \"size\": 5.0}, {\"id\": \"came88\", \"text\": \"came88\", \"color\": \"#99ccff\", \"size\": 5.0}]};\n    var directed = true;\n\n    var simulation = d3.forceSimulation()        \n       .force(\"link\", d3.forceLink().id(function(d) { return d.id; }).strength(function(d){return d.weight;}))\n        .force(\"charge\", d3.forceManyBody().strength(-20).distanceMax(400))\n       .force(\"repelForce\", d3.forceManyBody().strength(-200).distanceMax(100))\n       .force(\"center\", d3.forceCenter(400 / 2, 400 / 2))\n       .alphaTarget(0.0);\n\n    svg.append(\"defs\").selectAll(\"marker\")\n        .data([\"end\"])\n    .enter().append(\"marker\")\n        .attr(\"id\", String)\n        .attr(\"viewBox\", \"0 -5 20 20\")\n        .attr(\"refX\", 34)\n        .attr(\"refY\", 0)\n        .attr(\"markerWidth\", 15)\n        .attr(\"markerHeight\", 15)\n        .attr(\"orient\", \"auto\")\n    .append(\"path\")\n        // draws a filled path (triangle) between three points\n        .attr(\"d\", \"M0,-5 L20,0 L0,5 z\")\n        .attr(\"fill\", '#999')\n        .attr(\"stroke\", 'none');\n\n    var g = svg.append(\"g\")\n        .attr(\"class\", \"everything\");\n\n    var link = g.append(\"g\")\n        .attr(\"class\", \"links_UkFYMBoF\")\n        .selectAll(\"line\")\n        .data(graph.links)\n        .enter().append(\"line\")\n        .attr(\"stroke-width\", function(d) { return d.width; })\n        .attr(\"stroke\", function(d) { return d.color; } );\n\n    if (directed)\n        link.attr(\"marker-end\", \"url(#end)\");\n\n    var node_g = g.append(\"g\")\n        .attr(\"class\", \"nodes_UkFYMBoF\")\n        .selectAll(\"circle\")\n        .data(graph.nodes)\n        .enter()\n        .append(\"g\"); \n\n    var node = node_g.append(\"circle\")\n        .attr('id', function(d) { return d.id; })\n        .attr(\"r\", function(d) { return d.size; })\n        .attr(\"fill\", function(d) { return d.color; })\n        .call(d3.drag()\n            .on(\"start\", dragstarted)\n            .on(\"drag\", dragged)\n            .on(\"end\", dragended));\n\n    var text = node_g.append(\"text\")\n    .attr(\"x\", [0, -10][0])\n    .attr(\"y\", [0, -10][1]+3)\n    .attr(\"id\", function(d) {return d.id; })\n    .attr(\"class\", \"label_UkFYMBoF\")\n    .text(function(d) { return d.id; });\n\n    node.append(\"title\")\n        .text(function(d) { return d.text; });\n\n    var zoom_handler = d3.zoom()\n        .on(\"zoom\", zoom_actions);\n    zoom_handler(svg);\n\n    // attach event handler for svg export\n    d3.select('#UkFYMBoF_svg_txt').on(\"click\", save_svg);\n\n    simulation\n        .nodes(graph.nodes)\n        .on(\"tick\", ticked);\n\n    simulation.force(\"link\")\n        .links(graph.links);\n\n    function ticked() {\n        link.attr(\"x1\", function(d) { return d.source.x; })\n            .attr(\"y1\", function(d) { return d.source.y; })\n            .attr(\"x2\", function(d) { return d.target.x; })\n            .attr(\"y2\", function(d) { return d.target.y; });\n\n         text.attr(\"transform\", transform);\n\n\n        text.attr(\"cx\", function(d) { return d.x; })\n            .attr(\"cy\", function(d) { return d.y; });\n\n        node.attr(\"cx\", function(d) { return d.x; })\n            .attr(\"cy\", function(d) { return d.y; });\n    }\n\n    function transform(d) {\n        return \"translate(\" + d.x + \",\" + d.y + \")\";\n    }\n\n    function dragstarted(d) {\n    if (!d3.event.active) simulation.alphaTarget(0.3).restart();\n    d.fx = d.x;\n    d.fy = d.y;\n    }\n\n    function zoom_actions(){\n        g.attr(\"transform\", d3.event.transform)\n    }    \n\n    function dragged(d) {\n    d.fx = d3.event.x;\n    d.fy = d3.event.y;\n    }\n\n    function dragended(d) {\n    if (!d3.event.active) simulation.alphaTarget(0);\n    d.fx = null;\n    d.fy = null;\n    }\n\n    function to_svg() {\n        // Returns a SVG representation of the current state of the visualisation\n\t    var svg  = document.getElementById('UkFYMBoF');\n\t    var xml = (new XMLSerializer).serializeToString(svg);\n        return xml;\n    }\n\n    function save_svg() {\n        var svg  = document.getElementById('UkFYMBoF');\n        var xml = (new XMLSerializer).serializeToString(svg);        \n        var blob = new Blob([xml], {type: 'text/xml'});\n        if(window.navigator.msSaveOrOpenBlob) {\n            window.navigator.msSaveBlob(blob, 'network.svg');\n        }\n        else{\n            var elem = window.document.createElement('a');\n            elem.href = window.URL.createObjectURL(blob);\n            elem.download = 'network.svg';\n            document.body.appendChild(elem);\n            elem.click();\n            document.body.removeChild(elem);\n        }\n    }\n});\n</script>",
      "text/plain": "<pathpy.classes.network.Network at 0x7f0462cd1898>"
     },
     "execution_count": 3,
     "metadata": {},
     "output_type": "execute_result"
    }
   ],
   "source": [
    "#package for network visualization:\n",
    "import pathpy as pp\n",
    "\n",
    "#fetching information:\n",
    "t, node_info, edge_info = git2net.get_coediting_network(sqlite_db_file)\n",
    "\n",
    "#showing graph:\n",
    "pp.Network.from_temporal_network(t)"
   ]
  },
  {
   "cell_type": "markdown",
   "execution_count": null,
   "metadata": {},
   "outputs": [],
   "source": [
    "This already gives us the idea that `Thomas Koch` is the centre figure of the community.\n",
    "\n",
    "Lets look at the work activity of the committers in the last 6 months, this gives us an idea who has recently been active. The following graph shows us which committer has edited which files from `01.05.2019` onwards."
   ]
  },
  {
   "cell_type": "code",
   "execution_count": 4,
   "metadata": {},
   "outputs": [
    {
     "data": {
      "text/html": "<style>\n    text.label_OfAqzRIN {\n        text-anchor: middle;\n        font-size: 8px;\n        font-family: Arial, Helvetica, sans-serif;\n        fill: #999999;\n        stroke: #ffffff;\n        stroke-width: 0.1px;\n        opacity: 1.0;\n    }\n    .links_OfAqzRIN line {\n    stroke-opacity: 1.0;\n    }\n    .arrows svg:path {\n        stroke: #666;\n    }\n    .nodes_OfAqzRIN circle {\n    stroke: #fff;\n    stroke-width: 0.5px;\n    }\n</style>\n\n<svg width=\"400\" height=\"400\" id=\"OfAqzRIN\">        \n    <text x=\"20\" y=\"20\" font-family=\"sans-serif\" font-size=\"14px\" fill=\"#666\" style=\"cursor: pointer\"\n        id='OfAqzRIN_svg_txt'>[save svg]</text>\n</svg>\n\n<script charset=\"utf-8\" src=\"https://d3js.org/d3.v4.min.js\"></script>\n<script charset=\"utf-8\">\n\n// Load via requireJS if available (jupyter notebook environment)\ntry {\n    // Problem: require.config will raise an exception when called for the second time \n    require.config({\n        paths: {\n            //d3: \"https://d3js.org/d3.v4.min\"\n            d3: \"https://d3js.org/d3.v4.min.js\".replace(\".js\", \"\")\n        }\n    });\n    console.log(\"Detected requireJS\");\n}\ncatch(err){\n    // a reference error indicates that requireJS does not exist. \n    // other errors may occur due to multiple calls to config\n    if (err instanceof ReferenceError){\n        console.log(\"Detected no requireJS\");\n\n        // Helper function that waits for d3js to be loaded\n        require = function require(symbols, callback) {\n            var ms = 5;\n            window.setTimeout(function(t) {\n                if (window[symbols[0]])\n                    callback(window[symbols[0]]);\n                else \n                    window.setTimeout(arguments.callee, ms);\n            }, ms);\n        }\n    }\n}\n\n// wait until d3js has been loaded\nrequire([\"d3\"], function(d3) {\n    var svg = d3.select(\"#\"+\"OfAqzRIN\"), radius = 6, width = +svg.attr(\"width\"), height = +svg.attr(\"height\");\n\n    var color = d3.scaleOrdinal(d3.schemeCategory20);\n\n    var graph = {\"links\": [{\"source\": \"Jiazhen Xie\", \"target\": \"Dockerfile\", \"color\": \"#999999\", \"width\": 0.5, \"weight\": 0.3333333333333333}, {\"source\": \"Jiazhen Xie\", \"target\": \"Dockerfile.alpine\", \"color\": \"#999999\", \"width\": 0.5, \"weight\": 0.3333333333333333}, {\"source\": \"Jiazhen Xie\", \"target\": \"test_dhparam.py\", \"color\": \"#999999\", \"width\": 0.5, \"weight\": 0.3333333333333333}, {\"source\": \"Lorenzo Cameroni\", \"target\": \"Dockerfile\", \"color\": \"#999999\", \"width\": 0.5, \"weight\": 0.2}, {\"source\": \"Lorenzo Cameroni\", \"target\": \"Dockerfile.alpine\", \"color\": \"#999999\", \"width\": 0.5, \"weight\": 0.2}, {\"source\": \"Jason Wilder\", \"target\": \"Dockerfile.alpine\", \"color\": \"#999999\", \"width\": 0.5, \"weight\": 0.625}, {\"source\": \"Jason Wilder\", \"target\": \"Dockerfile\", \"color\": \"#999999\", \"width\": 0.5, \"weight\": 0.625}, {\"source\": \"Jason Wilder\", \"target\": \"test_dhparam.py\", \"color\": \"#999999\", \"width\": 0.5, \"weight\": 0.75}, {\"source\": \"Dick Visser\", \"target\": \"README.md\", \"color\": \"#999999\", \"width\": 0.5, \"weight\": 1.0}, {\"source\": \"Lorenzo Cameroni\", \"target\": \"README.md\", \"color\": \"#999999\", \"width\": 0.5, \"weight\": 0.4}, {\"source\": \"came88\", \"target\": \"nginx.tmpl\", \"color\": \"#999999\", \"width\": 0.5, \"weight\": 1.0}, {\"source\": \"Jason Wilder\", \"target\": \"README.md\", \"color\": \"#999999\", \"width\": 0.5, \"weight\": 0.6}, {\"source\": \"Jason Wilder\", \"target\": \"nginx.tmpl\", \"color\": \"#999999\", \"width\": 0.5, \"weight\": 0.7142857142857143}, {\"source\": \"Lorenzo Cameroni\", \"target\": \"nginx.tmpl\", \"color\": \"#999999\", \"width\": 0.5, \"weight\": 0.2}, {\"source\": \"Matthias Do\\u0308ring\", \"target\": \"Dockerfile\", \"color\": \"#999999\", \"width\": 0.5, \"weight\": 0.3333333333333333}, {\"source\": \"Matthias Do\\u0308ring\", \"target\": \"Dockerfile.alpine\", \"color\": \"#999999\", \"width\": 0.5, \"weight\": 0.3333333333333333}, {\"source\": \"Matthias Do\\u0308ring\", \"target\": \"README.md\", \"color\": \"#999999\", \"width\": 0.5, \"weight\": 0.3333333333333333}, {\"source\": \"Jason Wilder\", \"target\": \"generate-dhparam.sh\", \"color\": \"#999999\", \"width\": 0.5, \"weight\": 1.0}, {\"source\": \"Jason Wilder\", \"target\": \".travis.yml\", \"color\": \"#999999\", \"width\": 0.5, \"weight\": 1.0}, {\"source\": \"Jason Wilder\", \"target\": \"python-requirements.txt\", \"color\": \"#999999\", \"width\": 0.5, \"weight\": 1.0}, {\"source\": \"Jason Wilder\", \"target\": \"conftest.py\", \"color\": \"#999999\", \"width\": 0.5, \"weight\": 1.0}, {\"source\": \"Jason Wilder\", \"target\": \"create_server_certificate.sh\", \"color\": \"#999999\", \"width\": 0.5, \"weight\": 1.0}, {\"source\": \"Jason Wilder\", \"target\": \"docker-entrypoint.sh\", \"color\": \"#999999\", \"width\": 0.5, \"weight\": 1.0}, {\"source\": \"Jason Wilder\", \"target\": \"webserver.py\", \"color\": \"#999999\", \"width\": 0.5, \"weight\": 1.0}], \"nodes\": [{\"id\": \"Jiazhen Xie\", \"text\": \"Jiazhen Xie\", \"color\": \"#73D2DE\", \"size\": 5.0}, {\"id\": \"Dockerfile\", \"text\": \"Dockerfile\", \"color\": \"#2E5EAA\", \"size\": 5.0}, {\"id\": \"Dockerfile.alpine\", \"text\": \"Dockerfile.alpine\", \"color\": \"#2E5EAA\", \"size\": 5.0}, {\"id\": \"test_dhparam.py\", \"text\": \"test_dhparam.py\", \"color\": \"#2E5EAA\", \"size\": 5.0}, {\"id\": \"Lorenzo Cameroni\", \"text\": \"Lorenzo Cameroni\", \"color\": \"#73D2DE\", \"size\": 5.0}, {\"id\": \"Jason Wilder\", \"text\": \"Jason Wilder\", \"color\": \"#73D2DE\", \"size\": 5.0}, {\"id\": \"Dick Visser\", \"text\": \"Dick Visser\", \"color\": \"#73D2DE\", \"size\": 5.0}, {\"id\": \"README.md\", \"text\": \"README.md\", \"color\": \"#2E5EAA\", \"size\": 5.0}, {\"id\": \"came88\", \"text\": \"came88\", \"color\": \"#73D2DE\", \"size\": 5.0}, {\"id\": \"nginx.tmpl\", \"text\": \"nginx.tmpl\", \"color\": \"#2E5EAA\", \"size\": 5.0}, {\"id\": \"Matthias Do\\u0308ring\", \"text\": \"Matthias Do\\u0308ring\", \"color\": \"#73D2DE\", \"size\": 5.0}, {\"id\": \"generate-dhparam.sh\", \"text\": \"generate-dhparam.sh\", \"color\": \"#2E5EAA\", \"size\": 5.0}, {\"id\": \".travis.yml\", \"text\": \".travis.yml\", \"color\": \"#2E5EAA\", \"size\": 5.0}, {\"id\": \"python-requirements.txt\", \"text\": \"python-requirements.txt\", \"color\": \"#2E5EAA\", \"size\": 5.0}, {\"id\": \"conftest.py\", \"text\": \"conftest.py\", \"color\": \"#2E5EAA\", \"size\": 5.0}, {\"id\": \"create_server_certificate.sh\", \"text\": \"create_server_certificate.sh\", \"color\": \"#2E5EAA\", \"size\": 5.0}, {\"id\": \"docker-entrypoint.sh\", \"text\": \"docker-entrypoint.sh\", \"color\": \"#2E5EAA\", \"size\": 5.0}, {\"id\": \"webserver.py\", \"text\": \"webserver.py\", \"color\": \"#2E5EAA\", \"size\": 5.0}]};\n    var directed = true;\n\n    var simulation = d3.forceSimulation()        \n       .force(\"link\", d3.forceLink().id(function(d) { return d.id; }).strength(function(d){return d.weight;}))\n        .force(\"charge\", d3.forceManyBody().strength(-20).distanceMax(400))\n       .force(\"repelForce\", d3.forceManyBody().strength(-200).distanceMax(100))\n       .force(\"center\", d3.forceCenter(400 / 2, 400 / 2))\n       .alphaTarget(0.0);\n\n    svg.append(\"defs\").selectAll(\"marker\")\n        .data([\"end\"])\n    .enter().append(\"marker\")\n        .attr(\"id\", String)\n        .attr(\"viewBox\", \"0 -5 20 20\")\n        .attr(\"refX\", 34)\n        .attr(\"refY\", 0)\n        .attr(\"markerWidth\", 15)\n        .attr(\"markerHeight\", 15)\n        .attr(\"orient\", \"auto\")\n    .append(\"path\")\n        // draws a filled path (triangle) between three points\n        .attr(\"d\", \"M0,-5 L20,0 L0,5 z\")\n        .attr(\"fill\", '#999')\n        .attr(\"stroke\", 'none');\n\n    var g = svg.append(\"g\")\n        .attr(\"class\", \"everything\");\n\n    var link = g.append(\"g\")\n        .attr(\"class\", \"links_OfAqzRIN\")\n        .selectAll(\"line\")\n        .data(graph.links)\n        .enter().append(\"line\")\n        .attr(\"stroke-width\", function(d) { return d.width; })\n        .attr(\"stroke\", function(d) { return d.color; } );\n\n    if (directed)\n        link.attr(\"marker-end\", \"url(#end)\");\n\n    var node_g = g.append(\"g\")\n        .attr(\"class\", \"nodes_OfAqzRIN\")\n        .selectAll(\"circle\")\n        .data(graph.nodes)\n        .enter()\n        .append(\"g\"); \n\n    var node = node_g.append(\"circle\")\n        .attr('id', function(d) { return d.id; })\n        .attr(\"r\", function(d) { return d.size; })\n        .attr(\"fill\", function(d) { return d.color; })\n        .call(d3.drag()\n            .on(\"start\", dragstarted)\n            .on(\"drag\", dragged)\n            .on(\"end\", dragended));\n\n    var text = node_g.append(\"text\")\n    .attr(\"x\", [0, -10][0])\n    .attr(\"y\", [0, -10][1]+3)\n    .attr(\"id\", function(d) {return d.id; })\n    .attr(\"class\", \"label_OfAqzRIN\")\n    .text(function(d) { return d.id; });\n\n    node.append(\"title\")\n        .text(function(d) { return d.text; });\n\n    var zoom_handler = d3.zoom()\n        .on(\"zoom\", zoom_actions);\n    zoom_handler(svg);\n\n    // attach event handler for svg export\n    d3.select('#OfAqzRIN_svg_txt').on(\"click\", save_svg);\n\n    simulation\n        .nodes(graph.nodes)\n        .on(\"tick\", ticked);\n\n    simulation.force(\"link\")\n        .links(graph.links);\n\n    function ticked() {\n        link.attr(\"x1\", function(d) { return d.source.x; })\n            .attr(\"y1\", function(d) { return d.source.y; })\n            .attr(\"x2\", function(d) { return d.target.x; })\n            .attr(\"y2\", function(d) { return d.target.y; });\n\n         text.attr(\"transform\", transform);\n\n\n        text.attr(\"cx\", function(d) { return d.x; })\n            .attr(\"cy\", function(d) { return d.y; });\n\n        node.attr(\"cx\", function(d) { return d.x; })\n            .attr(\"cy\", function(d) { return d.y; });\n    }\n\n    function transform(d) {\n        return \"translate(\" + d.x + \",\" + d.y + \")\";\n    }\n\n    function dragstarted(d) {\n    if (!d3.event.active) simulation.alphaTarget(0.3).restart();\n    d.fx = d.x;\n    d.fy = d.y;\n    }\n\n    function zoom_actions(){\n        g.attr(\"transform\", d3.event.transform)\n    }    \n\n    function dragged(d) {\n    d.fx = d3.event.x;\n    d.fy = d3.event.y;\n    }\n\n    function dragended(d) {\n    if (!d3.event.active) simulation.alphaTarget(0);\n    d.fx = null;\n    d.fy = null;\n    }\n\n    function to_svg() {\n        // Returns a SVG representation of the current state of the visualisation\n\t    var svg  = document.getElementById('OfAqzRIN');\n\t    var xml = (new XMLSerializer).serializeToString(svg);\n        return xml;\n    }\n\n    function save_svg() {\n        var svg  = document.getElementById('OfAqzRIN');\n        var xml = (new XMLSerializer).serializeToString(svg);        \n        var blob = new Blob([xml], {type: 'text/xml'});\n        if(window.navigator.msSaveOrOpenBlob) {\n            window.navigator.msSaveBlob(blob, 'network.svg');\n        }\n        else{\n            var elem = window.document.createElement('a');\n            elem.href = window.URL.createObjectURL(blob);\n            elem.download = 'network.svg';\n            document.body.appendChild(elem);\n            elem.click();\n            document.body.removeChild(elem);\n        }\n    }\n});\n</script>",
      "text/plain": "<IPython.core.display.HTML object>"
     },
     "metadata": {},
     "output_type": "display_data"
    }
   ],
   "source": [
    "from datetime import datetime\n",
    "\n",
    "time_from = datetime(2019, 5, 1)\n",
    "t, node_info, edge_info = git2net.get_bipartite_network(sqlite_db_file, time_from=time_from)\n",
    "\n",
    "n = pp.Network.from_temporal_network(t)\n",
    "colour_map = {'author': '#73D2DE', 'file': '#2E5EAA'}\n",
    "node_colour = {node: colour_map[node_info['class'][node]] for node in n.nodes}\n",
    "pp.visualisation.plot(n, node_color=node_colour)"
   ]
  },
  {
   "cell_type": "markdown",
   "execution_count": null,
   "metadata": {},
   "outputs": [],
   "source": [
    "Again, `Thomas Koch` seems not only to be the centre figure of the community, but also one of the only few with recent activity, doing most of the work himself.\n",
    "\n",
    "## Sqlite queries\n",
    "\n",
    "Lets begin to analyse the sqlite database, by connecting to the file."
   ]
  },
  {
   "cell_type": "code",
   "execution_count": 5,
   "metadata": {},
   "outputs": [],
   "source": [
    "import pandas as pd\n",
    "import sqlite3\n",
    "\n",
    "#connect to database file:\n",
    "con = sqlite3.connect(sqlite_db_file)\n",
    "c = con.cursor()"
   ]
  },
  {
   "cell_type": "markdown",
   "execution_count": null,
   "metadata": {},
   "outputs": [],
   "source": [
    "Since we only want to look at the edit type `replacement` in the `edits`-table, lets create a new table `df2` with the columns that we need for linear regression, namely:\n",
    "\n",
    "1. the distinct `hash` commit value\n",
    "2. the `committer_name`\n",
    "3. the `committer_date`\n",
    "4. the parent commit hash `original_commit_deletion`\n",
    "5. and the producitivity measure `levenshtein_dist`."
   ]
  },
  {
   "cell_type": "code",
   "execution_count": 6,
   "metadata": {},
   "outputs": [
    {
     "data": {
      "text/plain": "<sqlite3.Cursor at 0x7f048ce613b0>"
     },
     "execution_count": 6,
     "metadata": {},
     "output_type": "execute_result"
    }
   ],
   "source": [
    "#create a new table with the desired column names:\n",
    "query0=\"\"\"\n",
    "    CREATE TABLE IF NOT EXISTS df2(\n",
    "    hash TEXT PRIMARY KEY,\n",
    "    committer_name TEXT,\n",
    "    committer_date TEXT,\n",
    "    original_commit_deletion TEXT,\n",
    "    levenshtein_dist INTEGER);\n",
    "\"\"\"\n",
    "\n",
    "#execute the queries on the database:\n",
    "c.execute(query0)"
   ]
  },
  {
   "cell_type": "markdown",
   "execution_count": null,
   "metadata": {},
   "outputs": [],
   "source": [
    "Following task 02, lets select only rows of table `edits`, where `edit_type='replacement'` and merge this with table `commits` along the primary key `hash`. This gives us a joined table of `edits` and `commits`, but with hashes occuring multiple times, each with different `levenshtein_dist`.\n",
    "\n",
    "Therefore we group this query by unique hashes, taking the sum of the `levenshtein dist` of same hashes, because we want to know the total `levenshtein_dist` for each commit and not for every single edit.\n",
    "\n",
    "Finally, we insert this into the new table `df2` to avoid key words (e.g. `SUM(levenshtein_dist)`) as column names."
   ]
  },
  {
   "cell_type": "code",
   "execution_count": 7,
   "metadata": {},
   "outputs": [
    {
     "data": {
      "text/plain": "<sqlite3.Cursor at 0x7f048ce613b0>"
     },
     "execution_count": 7,
     "metadata": {},
     "output_type": "execute_result"
    }
   ],
   "source": [
    "query1=\"\"\"\n",
    "    INSERT INTO df2(hash, committer_name, committer_date, original_commit_deletion, levenshtein_dist)\n",
    "    SELECT hash, committer_name, committer_date, original_commit_deletion, \"SUM(levenshtein_dist)\"\n",
    "    FROM\n",
    "    (\n",
    "    SELECT \n",
    "    hash,\n",
    "    committer_name,\n",
    "    committer_date,\n",
    "    original_commit_deletion,\n",
    "    SUM(levenshtein_dist)\n",
    "    FROM(SELECT * FROM edits INNER JOIN commits ON commits.hash = edits.commit_hash WHERE edit_type = 'replacement')\n",
    "    GROUP BY hash\n",
    "    );\n",
    "\"\"\"\n",
    "\n",
    "c.execute(query1)"
   ]
  },
  {
   "cell_type": "markdown",
   "execution_count": null,
   "metadata": {},
   "outputs": [],
   "source": [
    "We can count the distinct `committer_names`, this gives us an idea of the size."
   ]
  },
  {
   "cell_type": "code",
   "execution_count": 8,
   "metadata": {},
   "outputs": [
    {
     "name": "stdout",
     "output_type": "stream",
     "text": "The number of committers we are dealing with is 60\n"
    }
   ],
   "source": [
    "#count the distinct committer names:\n",
    "query1_1=\"\"\"\n",
    "    SELECT count(DISTINCT committer_name) FROM df2;\n",
    "\"\"\"\n",
    "\n",
    "c.execute(query1_1)\n",
    "\n",
    "#store amount of distinct committer names as int...\n",
    "number_committers = c.fetchone()[0]\n",
    "\n",
    "print('The number of committers we are dealing with is', number_committers)\n",
    "\n",
    "#save the queries:\n",
    "con.commit()"
   ]
  },
  {
   "cell_type": "markdown",
   "execution_count": null,
   "metadata": {},
   "outputs": [],
   "source": [
    "Lets take a look of the committers names with the following query."
   ]
  },
  {
   "cell_type": "code",
   "execution_count": 9,
   "metadata": {},
   "outputs": [],
   "source": [
    "#select the distinct committer names\n",
    "query1_2=\"\"\"\n",
    "     SELECT DISTINCT committer_name FROM df2;\n",
    "\"\"\"\n",
    "\n",
    "c.execute(query1_2)\n",
    "\n",
    "#store names of committers in list:\n",
    "committer_list = c.fetchall()\n",
    "\n",
    "#save the queries:\n",
    "con.commit()\n",
    "\n",
    "#close the database to make it accessible for others:\n",
    "con.close()"
   ]
  },
  {
   "cell_type": "code",
   "execution_count": 10,
   "metadata": {},
   "outputs": [
    {
     "name": "stdout",
     "output_type": "stream",
     "text": "The committers names are:\n\n"
    },
    {
     "data": {
      "text/plain": "['Matthias Döring',\n 'Thomas LEVEIL',\n 'hwang',\n 'Jason Wilder',\n 'Teoh Han Hui',\n 'Pan Teparak',\n 'Mike Dillon',\n 'Steve Kamerman',\n 'Max Claus Nunes',\n 'Tobias Munk',\n 'Baptiste Donaux',\n 'Brian Christner',\n 'Jiazhen Xie',\n 'Anthony Mayfield',\n 'neil',\n '耐小心',\n 'Marius Gundersen',\n 'Bernardo Farah',\n 'Mike Rohland',\n 'Rich',\n 'Aleš Roubíček',\n 'GitHub',\n 'Lorenzo Cameroni',\n 'Tobias Hüske',\n 'Ben Hall',\n 'Nicolas Duchon',\n 'Åsmund Grammeltvedt',\n 'Brian Prodoehl',\n 'Sebastiaan van Stijn',\n 'Richard Bateman',\n 'Kuo-Cheng Yeu',\n 'Viranch Mehta',\n 'cglewis',\n 'Gpkfr',\n 'Jonas Svatos',\n 'ryneeverett',\n 'Andrew Vos',\n 'Ryan Trauntvein',\n 'Wolfgang Ebner',\n 'Kenichi HIROSE',\n 'Sy Doveton',\n 'Travis Dart',\n 'Pit Kleyersburg',\n 'Joseph Page',\n 'kumy',\n 'Thomas LÉVEIL',\n 'neilpang',\n 'Frank Lemanschik',\n 'CoreOS Admin',\n 'Cody Ramaker',\n 'Markus Kosmal',\n 'Matthias Döring',\n 'Naglis Jonaitis',\n 'Ray Walker',\n 'Julien Pervillé',\n 'Gabriel Baker',\n 'Russ Ferriday',\n 'David Wisner',\n 'Eric Betts',\n 'Max Wilkinson']"
     },
     "execution_count": 10,
     "metadata": {},
     "output_type": "execute_result"
    }
   ],
   "source": [
    "#turn list of string-tuples into list of single-strings:\n",
    "committers = [i[0] for i in committer_list]\n",
    "\n",
    "print('The committers names are:\\n')\n",
    "\n",
    "committers\n"
   ]
  },
  {
   "cell_type": "markdown",
   "execution_count": null,
   "metadata": {},
   "outputs": [],
   "source": [
    "We want to find a productivity measure that suits each commit. The idea is to find the next commit, that an author did, and calculate the `levensthein_dist` for that specific time intervall between the two commits. Therefore, we first need to sort the `df2`-table by ascending `commit_dates`.\n",
    "\n",
    "We call this new table `df3`. We do this by executing our sorting query on `df2` and transfering everything to `df3`. By doing this procedure we avoid table errors and unclean workspace."
   ]
  },
  {
   "cell_type": "code",
   "execution_count": 11,
   "metadata": {},
   "outputs": [],
   "source": [
    "#create new empty table:\n",
    "query01=\"\"\"\n",
    "    CREATE TABLE IF NOT EXISTS df3(\n",
    "    hash TEXT PRIMARY KEY,\n",
    "    committer_name TEXT,\n",
    "    committer_date TEXT,\n",
    "    original_commit_deletion TEXT,\n",
    "    levenshtein_dist INTEGER);\n",
    "\"\"\"\n",
    "\n",
    "#sort committer_date ascending:\n",
    "query2=\"\"\"\n",
    "    INSERT INTO df3(hash, committer_name, committer_date, original_commit_deletion, levenshtein_dist)\n",
    "    SELECT *\n",
    "    FROM\n",
    "    (\n",
    "    SELECT * \n",
    "    FROM df2 \n",
    "    ORDER BY committer_date ASC\n",
    "    );\n",
    "\"\"\"\n",
    "\n",
    "#delete table df2:\n",
    "query3=\"\"\"\n",
    "    DROP TABLE df2;\n",
    "\"\"\"\n",
    "\n",
    "con = sqlite3.connect(sqlite_db_file)\n",
    "c = con.cursor()\n",
    "\n",
    "#execute the queries:\n",
    "c.execute(query01)\n",
    "c.execute(query2)\n",
    "c.execute(query3)\n",
    "#result: df3\n",
    "\n",
    "#close connection:\n",
    "con.commit()\n",
    "con.close()"
   ]
  },
  {
   "cell_type": "markdown",
   "execution_count": null,
   "metadata": {},
   "outputs": [],
   "source": [
    "## Numpy array\n",
    "\n",
    "Now we have a clean table with ascending `committer_dates`. We can transform this into a numpy array for faster and more precise calculations. "
   ]
  },
  {
   "cell_type": "code",
   "execution_count": 12,
   "metadata": {},
   "outputs": [
    {
     "name": "stdout",
     "output_type": "stream",
     "text": "The first row of the np array: \n ['5623ca7b92f143f73b730874510a97dbe16cf68f' 'Jason Wilder'\n '2014-05-05 14:13:51' '843a07cff7ff594252a5b477ca9d6e3792a4de7c' 217]\n"
    }
   ],
   "source": [
    "#reopen connection:\n",
    "con = sqlite3.connect(sqlite_db_file)\n",
    "\n",
    "#output df2 as a pandas dataframe:\n",
    "df = pd.read_sql_query(\"SELECT * FROM df3;\", con=con)\n",
    "\n",
    "#turn Pandas dataframe into numpy array:\n",
    "df = df.values\n",
    "\n",
    "print('The first row of the np array: \\n', df[0])"
   ]
  },
  {
   "cell_type": "markdown",
   "execution_count": null,
   "metadata": {},
   "outputs": [],
   "source": [
    "## Productivity measure\n",
    "\n",
    "Since we will need to extend the array for the extra productivity value that we will calculate, we introduce a small function that appends further columns to our array."
   ]
  },
  {
   "cell_type": "code",
   "execution_count": 13,
   "metadata": {},
   "outputs": [],
   "source": [
    "import numpy as np\n",
    "\n",
    "#function for adding a full-length '0'-column to the dataframe:\n",
    "def add_column(df):\n",
    "    new_column = np.array(np.zeros(df.shape[0]))\n",
    "    return np.column_stack((df, new_column))"
   ]
  },
  {
   "cell_type": "code",
   "execution_count": 14,
   "metadata": {},
   "outputs": [
    {
     "name": "stdout",
     "output_type": "stream",
     "text": "Shape of array: (286, 6)\n"
    }
   ],
   "source": [
    "#add column:\n",
    "df = add_column(df)\n",
    "print('Shape of array:', df.shape)"
   ]
  },
  {
   "cell_type": "markdown",
   "execution_count": null,
   "metadata": {},
   "outputs": [],
   "source": [
    "In order to find out the total time between two commits of each author, we must turn the `committer_date` (string) into a readible numeric object. We can do this by stripping the time variables and returning a `datetime`-object."
   ]
  },
  {
   "cell_type": "code",
   "execution_count": 15,
   "metadata": {},
   "outputs": [
    {
     "name": "stdout",
     "output_type": "stream",
     "text": "2014-05-05 14:13:51\n<class 'datetime.datetime'>\n"
    }
   ],
   "source": [
    "#make date stamps readible, by turning them into a datetime-object:\n",
    "\n",
    "from datetime import datetime\n",
    "\n",
    "def date_to_int(date_str):\n",
    "    return datetime.strptime(date_str, '%Y-%m-%d %H:%M:%S')\n",
    "\n",
    "print(date_to_int(df[0][2]))\n",
    "print(type(date_to_int(df[0][2])))"
   ]
  },
  {
   "cell_type": "markdown",
   "execution_count": null,
   "metadata": {},
   "outputs": [],
   "source": [
    "Since the table is sorted by ascending `committer_dates`, we can simply run a loop and check for the next commit that a certain author delivered. We then calculate the amount of time (in seconds) between the two commits; we save the value in the newly created column.\n",
    "\n"
   ]
  },
  {
   "cell_type": "code",
   "execution_count": 16,
   "metadata": {},
   "outputs": [],
   "source": [
    "\n",
    "for i in range(df.shape[0]-1):\n",
    "    #grab the author and his commit_time:\n",
    "    author = df[i][1]\n",
    "    commit_time = df[i][2]\n",
    "    for j in range(i+1,df.shape[0]):\n",
    "        #search for the his next commit:\n",
    "        author_next = df[j][1]\n",
    "        commit_time_next = df[j][2]\n",
    "        #if there is a \"next commit\", calculate the commit_time differences (in total seconds) and save the value in the last column:\n",
    "        if author == author_next:\n",
    "                #calulate the total time (in seconds) between the 2 commits:\n",
    "                df[j][5] = (date_to_int(commit_time_next) - date_to_int(commit_time)).total_seconds()\n",
    "                break\n",
    "            "
   ]
  },
  {
   "cell_type": "code",
   "execution_count": 17,
   "metadata": {},
   "outputs": [
    {
     "name": "stdout",
     "output_type": "stream",
     "text": "Shape of array: (286, 7)\n"
    }
   ],
   "source": [
    "#add empty 6th column:\n",
    "df = add_column(df)\n",
    "print('Shape of array:', df.shape)"
   ]
  },
  {
   "cell_type": "markdown",
   "execution_count": null,
   "metadata": {},
   "outputs": [],
   "source": [
    "If someone has a `levensthein_dist` of 1000, but took 3 months to commit it, he was not very productive.\n",
    "Whereas someone with that same `levensthein_dist`, who commited in 3 days, is far more productive. \n",
    "\n",
    "Therefore, we define the productivity measure for each authors commit to be the `levensthein_dist` per second:\n",
    "\n",
    "$$\\text{levensthein_dist/second} \\quad = \\quad \\frac{\\text{levensthein_dist}}{\\text{time_between_two_commits}}$$ "
   ]
  },
  {
   "cell_type": "code",
   "execution_count": 18,
   "metadata": {},
   "outputs": [],
   "source": [
    "for i in range(df.shape[0]):\n",
    "    #if time_between_commits = 0, then set productivity to 0\n",
    "    if df[i][5] == 0:\n",
    "        df[i][6] = 0\n",
    "    #else, calculate productivity measure and store in 6th column\n",
    "    else:     \n",
    "        df[i][6] = df[i][4] / df[i][5]"
   ]
  },
  {
   "cell_type": "code",
   "execution_count": 19,
   "metadata": {},
   "outputs": [
    {
     "name": "stdout",
     "output_type": "stream",
     "text": "Shape of array: (286, 8)\n"
    }
   ],
   "source": [
    "#add empty 7th column:\n",
    "df = add_column(df)\n",
    "print('Shape of array:', df.shape)"
   ]
  },
  {
   "cell_type": "markdown",
   "execution_count": null,
   "metadata": {},
   "outputs": [],
   "source": [
    "## Collaboration variable\n",
    "\n",
    "Following task 03, we want to construct a variable defining if the author collaborated or not for his commit, i.e. whether or not he is editing someone elses commit.\n",
    "\n",
    "We set a boolean variable\n",
    "- '1' if the authors parents hash is another authors commit hash (collaborated: True)\n",
    "- '0' if this is not the case (collaborated: False)\n",
    "\n",
    "and store this in the newly created column."
   ]
  },
  {
   "cell_type": "code",
   "execution_count": 20,
   "metadata": {},
   "outputs": [],
   "source": [
    "for i in range(df.shape[0]):\n",
    "    parent_hash = df[i][3]\n",
    "    #set orig_author to default 'nobody'\n",
    "    #(important for genesis commit hashes)\n",
    "    orig_author = 'nobody'\n",
    "    for j in range(i):\n",
    "        #check whether any other prior hash is from the same author\n",
    "        if df[j][0] == parent_hash:\n",
    "            #update orig_author with real author name:\n",
    "            orig_author = df[j][1]\n",
    "            #if original hash found, then break:\n",
    "            break\n",
    "    #set a place holder in the 7th column:\n",
    "    df[i][7] = 'no parent_hash'\n",
    "    #if author collaborated, save '1', if not, save '0':\n",
    "    #only if orig_author was another author, did the author collaborate:\n",
    "    if orig_author != df[i][1] and orig_author != 'nobody':\n",
    "        df[i][7] = 1\n",
    "    else:\n",
    "        df[i][7] = 0"
   ]
  },
  {
   "cell_type": "markdown",
   "execution_count": null,
   "metadata": {},
   "outputs": [],
   "source": [
    "Now check the `df`-variable. We know have all the data in the columns needed for linear regression!\n",
    "\n",
    "Specifically, we only need\n",
    "\n",
    "1. the `committer_name`, capturing the identity of the developer. Each developer is obviously differently skilled, so we want to capture this effect in a specified variable when doing linear regression\n",
    "\n",
    "2. the `levenshtein_dist/second`, measuring the productivity of every authors commit\n",
    "\n",
    "3. the `collab_bool`, telling us whether or not the author \"collaborated\"\n",
    "\n",
    "We delete every other column of our array."
   ]
  },
  {
   "cell_type": "code",
   "execution_count": 21,
   "metadata": {},
   "outputs": [
    {
     "name": "stdout",
     "output_type": "stream",
     "text": "Shape of array: (286, 3)\n"
    }
   ],
   "source": [
    "#delete commit_hash:\n",
    "df = np.delete(df,0,1)\n",
    "#delete commit_time:\n",
    "df = np.delete(df,1,1)\n",
    "#delete parent_hash:\n",
    "df = np.delete(df,1,1)\n",
    "#delete levensthein_dist:\n",
    "df = np.delete(df,1,1)\n",
    "#delete time_between_commits:\n",
    "df = np.delete(df,1,1)\n",
    "\n",
    "print('Shape of array:', df.shape)"
   ]
  },
  {
   "cell_type": "markdown",
   "execution_count": null,
   "metadata": {},
   "outputs": [],
   "source": [
    "Its most convenient to perform (multiple) linear regression using `statsmodels`. This works best if we use a `pandas` dataframe, since we can call columns simply by their names. So in the following, we convert our `numpy` array into a 3-column `pandas` dataframe."
   ]
  },
  {
   "cell_type": "code",
   "execution_count": 22,
   "metadata": {},
   "outputs": [
    {
     "name": "stdout",
     "output_type": "stream",
     "text": "(286, 3)\n  committer_names  productivity_per_second collab_bool\n0    Jason Wilder                 0.000000           0\n1    Jason Wilder                 0.034483           0\n2    Jason Wilder                 0.000016           0\n"
    }
   ],
   "source": [
    "#insert first column of df as 'committer_names':\n",
    "pdf = pd.DataFrame({'committer_names': df[:,0]})\n",
    "#insert second column of df as 'productivity_per_second':\n",
    "pdf['productivity_per_second'] = df[:,1]\n",
    "#we must account for the lack of pandas' ability to handle scientific numeric notation (e.g. e^-5) by specifically turning them into numeric values:\n",
    "pdf['productivity_per_second'] = pd.to_numeric(pdf['productivity_per_second'])\n",
    "#insert third column of df as 'collab_bool':\n",
    "pdf['collab_bool'] = df[:,2]\n",
    "\n",
    "print(pdf.shape)\n",
    "print(pdf.head(3))"
   ]
  },
  {
   "cell_type": "markdown",
   "execution_count": null,
   "metadata": {},
   "outputs": [],
   "source": [
    "## Multiple linear regression\n",
    "\n",
    "Finally we can run linear regression!\n",
    "\n",
    "We must keep in mind, that the `committer_names` are `strings` and for each `committer_name`, we want to have a variable that captures the developers identity. Since they are 'strings', it would make them `categorical` variables. We can captures all of the different `committer_names` by introducing `dummy` variables. \n",
    "\n",
    "Thankfully, `statsmodels` sports an useful feature for automatically dealing with turning these `categorical` into `dummy` variables. \n",
    "We can neglect any common influence of one certain `committer_name` with another.\n",
    "\n",
    "Our multiple linear regression therefore consists of $$\\beta_{\\text{col}} \\cdot \\text{collab_bool} \\quad + \\quad \\textbf{beta}^{\\text{T}} \\cdot \\textbf{committer_names} \\quad = \\quad  \\text{productivity_per_second},$$\n",
    "where $\\textbf{beta} = (\\beta_0, \\ldots, \\beta_{\\text{number_committers}+1})$, ($\\beta_0$ accounts for the intercept) \n",
    "\n",
    "$\\textbf{committer_names} = (\\mathbb{1}, \\text{committer_names}[0], \\ldots, \\text{committer_names}[\\text{number_committers}])$\n",
    "\n",
    "By investigating the value of the estimated $\\beta_{\\text{col}}$, we can explain the linear effect of collaborating on the productivity. This may allow us to discuss the Ringelmann effect when comparing different group sizes.\n"
   ]
  },
  {
   "cell_type": "code",
   "execution_count": 23,
   "metadata": {},
   "outputs": [
    {
     "name": "stdout",
     "output_type": "stream",
     "text": "OLS Regression Results                              \n===================================================================================\nDep. Variable:     productivity_per_second   R-squared:                       0.055\nModel:                                 OLS   Adj. R-squared:                 -0.197\nMethod:                      Least Squares   F-statistic:                    0.2190\nDate:                     Sun, 17 Nov 2019   Prob (F-statistic):               1.00\nTime:                             18:04:05   Log-Likelihood:                -87.419\nNo. Observations:                      286   AIC:                             296.8\nDf Residuals:                          225   BIC:                             519.9\nDf Model:                               60                                         \nCovariance Type:                 nonrobust                                         \n===========================================================================================================\n                                              coef    std err          t      P>|t|      [0.025      0.975]\n-----------------------------------------------------------------------------------------------------------\nIntercept                                  -0.0258      0.194     -0.133      0.894      -0.408       0.356\ncollab_bool[T.1]                            0.0688      0.057      1.204      0.230      -0.044       0.181\ncommitter_names[T.Andrew Vos]              -0.0430      0.414     -0.104      0.917      -0.859       0.773\ncommitter_names[T.Anthony Mayfield]        -0.0430      0.414     -0.104      0.917      -0.859       0.773\ncommitter_names[T.Baptiste Donaux]          0.1559      0.221      0.706      0.481      -0.280       0.591\ncommitter_names[T.Ben Hall]                -0.0430      0.414     -0.104      0.917      -0.859       0.773\ncommitter_names[T.Bernardo Farah]          -0.0430      0.321     -0.134      0.893      -0.675       0.589\ncommitter_names[T.Brian Christner]          0.0258      0.418      0.062      0.951      -0.798       0.849\ncommitter_names[T.Brian Prodoehl]          -0.0430      0.414     -0.104      0.917      -0.859       0.773\ncommitter_names[T.Cody Ramaker]            -0.0430      0.414     -0.104      0.917      -0.859       0.773\ncommitter_names[T.CoreOS Admin]            -0.0430      0.414     -0.104      0.917      -0.859       0.773\ncommitter_names[T.David Wisner]             0.0258      0.418      0.062      0.951      -0.798       0.849\ncommitter_names[T.Eric Betts]               0.0258      0.418      0.062      0.951      -0.798       0.849\ncommitter_names[T.Frank Lemanschik]        -0.0430      0.414     -0.104      0.917      -0.859       0.773\ncommitter_names[T.Gabriel Baker]            0.0258      0.418      0.062      0.951      -0.798       0.849\ncommitter_names[T.GitHub]                  -0.0060      0.203     -0.029      0.977      -0.407       0.395\ncommitter_names[T.Gpkfr]                   -0.0430      0.414     -0.104      0.917      -0.859       0.773\ncommitter_names[T.Jason Wilder]             0.0717      0.199      0.361      0.718      -0.320       0.463\ncommitter_names[T.Jiazhen Xie]              0.4070      0.321      1.269      0.206      -0.225       1.039\ncommitter_names[T.Jonas Svatos]            -0.0430      0.414     -0.104      0.917      -0.859       0.773\ncommitter_names[T.Joseph Page]             -0.0430      0.321     -0.134      0.893      -0.675       0.589\ncommitter_names[T.Julien Pervillé]         -0.0430      0.414     -0.104      0.917      -0.859       0.773\ncommitter_names[T.Kenichi HIROSE]          -0.0430      0.414     -0.104      0.917      -0.859       0.773\ncommitter_names[T.Kuo-Cheng Yeu]            0.0258      0.326      0.079      0.937      -0.616       0.668\ncommitter_names[T.Lorenzo Cameroni]        -0.0423      0.283     -0.149      0.881      -0.600       0.515\ncommitter_names[T.Marius Gundersen]        -0.0180      0.321     -0.056      0.955      -0.650       0.614\ncommitter_names[T.Markus Kosmal]           -0.0430      0.414     -0.104      0.917      -0.859       0.773\ncommitter_names[T.Matthias Döring]        -0.0430      0.321     -0.134      0.893      -0.675       0.589\ncommitter_names[T.Matthias Döring]          0.0063      0.236      0.027      0.979      -0.458       0.471\ncommitter_names[T.Max Claus Nunes]         -0.0430      0.414     -0.104      0.917      -0.859       0.773\ncommitter_names[T.Max Wilkinson]            0.0258      0.418      0.062      0.951      -0.798       0.849\ncommitter_names[T.Mike Dillon]              0.1719      0.203      0.848      0.398      -0.228       0.571\ncommitter_names[T.Mike Rohland]            -0.0430      0.414     -0.104      0.917      -0.859       0.773\ncommitter_names[T.Naglis Jonaitis]          0.0258      0.418      0.062      0.951      -0.798       0.849\ncommitter_names[T.Nicolas Duchon]          -0.0086      0.263     -0.033      0.974      -0.528       0.510\ncommitter_names[T.Pan Teparak]              0.3820      0.263      1.450      0.148      -0.137       0.901\ncommitter_names[T.Pit Kleyersburg]         -0.0430      0.414     -0.104      0.917      -0.859       0.773\ncommitter_names[T.Ray Walker]               0.0260      0.326      0.080      0.936      -0.616       0.668\ncommitter_names[T.Rich]                     0.0258      0.418      0.062      0.951      -0.798       0.849\ncommitter_names[T.Richard Bateman]          0.0343      0.289      0.119      0.906      -0.534       0.603\ncommitter_names[T.Russ Ferriday]            0.0258      0.418      0.062      0.951      -0.798       0.849\ncommitter_names[T.Ryan Trauntvein]         -0.0430      0.414     -0.104      0.917      -0.859       0.773\ncommitter_names[T.Sebastiaan van Stijn]    -0.0429      0.321     -0.134      0.894      -0.675       0.589\ncommitter_names[T.Steve Kamerman]           0.0911      0.197      0.462      0.644      -0.297       0.479\ncommitter_names[T.Sy Doveton]               0.0258      0.418      0.062      0.951      -0.798       0.849\ncommitter_names[T.Teoh Han Hui]            -0.0086      0.322     -0.027      0.979      -0.643       0.626\ncommitter_names[T.Thomas LEVEIL]            0.0481      0.200      0.241      0.810      -0.345       0.441\ncommitter_names[T.Thomas LÉVEIL]           -0.0430      0.414     -0.104      0.917      -0.859       0.773\ncommitter_names[T.Tobias Hüske]            -0.0430      0.414     -0.104      0.917      -0.859       0.773\ncommitter_names[T.Tobias Munk]             -0.0086      0.263     -0.033      0.974      -0.528       0.510\ncommitter_names[T.Travis Dart]             -0.0430      0.414     -0.104      0.917      -0.859       0.773\ncommitter_names[T.Viranch Mehta]           -0.0199      0.283     -0.070      0.944      -0.579       0.539\ncommitter_names[T.Wolfgang Ebner]          -0.0082      0.322     -0.026      0.980      -0.643       0.626\ncommitter_names[T.cglewis]                 -0.0430      0.414     -0.104      0.917      -0.859       0.773\ncommitter_names[T.hwang]                   -0.0199      0.283     -0.070      0.944      -0.578       0.539\ncommitter_names[T.kumy]                     0.0258      0.418      0.062      0.951      -0.798       0.849\ncommitter_names[T.neil]                    -0.0430      0.321     -0.134      0.893      -0.675       0.589\ncommitter_names[T.neilpang]                -0.0430      0.414     -0.104      0.917      -0.859       0.773\ncommitter_names[T.ryneeverett]              0.0258      0.418      0.062      0.951      -0.798       0.849\ncommitter_names[T.Åsmund Grammeltvedt]      0.0258      0.418      0.062      0.951      -0.798       0.849\ncommitter_names[T.耐小心]                      0.0258      0.289      0.089      0.929      -0.543       0.594\n==============================================================================\nOmnibus:                      429.392   Durbin-Watson:                   1.928\nProb(Omnibus):                  0.000   Jarque-Bera (JB):            53308.106\nSkew:                           7.612   Prob(JB):                         0.00\nKurtosis:                      68.128   Cond. No.                         76.1\n==============================================================================\n\nWarnings:\n[1] Standard Errors assume that the covariance matrix of the errors is correctly specified.\n"
    }
   ],
   "source": [
    "import statsmodels.formula.api as sm\n",
    "\n",
    "# format: y ~ x + committer_names:\n",
    "model = sm.ols(formula='productivity_per_second ~ collab_bool + committer_names', data = pdf)\n",
    "#train model:\n",
    "fit = model.fit()\n",
    "\n",
    "#print results:\n",
    "print(fit.summary())"
   ]
  },
  {
   "cell_type": "markdown",
   "execution_count": null,
   "metadata": {},
   "outputs": [],
   "source": [
    "## Summary of `nginx-proxy` repo\n",
    "\n",
    "We can see all the valuable information in the summary. Aside of giving us the calculated intercept and the various slope coefficients, we may also interpret other useful parameters.\n",
    "\n",
    "The positive `collab_bool` value could suggest a positive impact on productivity if committers are collaborating, but: we defined this value to simply be a `True` or `False` value whether or not the committer is working on a commit of another author. This is simply not strong enough for explaining real collaboration! It would need at least 2 back-and-fourth commits of two authors to be able to call it a collaboration. \n",
    "Furthermore, the estimated `collab_bool` value of $0.0688$ does not seem robust to support a possible increase of productivity for collaborating team members.\n",
    "\n",
    "In addition, we observe fairly high p-values in the summary for almost all coefficients, so we cannot reject the hypothesis, that there is no linear relationship in the data, thus we may assume that there is no linear relationship at all!\n",
    "\n",
    "In order to even prove a linear relationship in the data, the assumption of normally distributed residuals must hold. However, we need to check the normality of the residuals to test for a linear relationship. We can immediately see that $\\text{Prob(Omnibus)}=0$ and $\\text{Prob(JB)}=0$, this allows to confidently reject the hypothesis, that the residuals are normally distributed. Summarising the analysis, we can assume that there is no linear relationship in the data, thus we cannot properly discuss the positive `collab_bool` in respect to the Ringelmann effect."
   ]
  },
  {
   "cell_type": "markdown",
   "execution_count": null,
   "metadata": {},
   "outputs": [],
   "source": [
    "## Predictions\n",
    "\n",
    "We can now construct fictive predictions, by creating a dataframe with the corresponding exog values."
   ]
  },
  {
   "cell_type": "code",
   "execution_count": 26,
   "metadata": {},
   "outputs": [
    {
     "data": {
      "text/plain": "-7.632783294297951e-17"
     },
     "execution_count": 26,
     "metadata": {},
     "output_type": "execute_result"
    }
   ],
   "source": [
    "#Construct prediction for: [Ben Hall, True]\n",
    "X_pred = pd.DataFrame({'committer_names': 'Ben Hall'}, index=[0])\n",
    "X_pred['collab_bool'] = 1\n",
    "\n",
    "pred = fit.predict(X_pred)\n",
    "pred[0]"
   ]
  }
 ]
}