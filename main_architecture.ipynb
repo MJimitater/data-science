{
 "nbformat": 4,
 "nbformat_minor": 2,
 "metadata": {
  "language_info": {
   "name": "python",
   "codemirror_mode": {
    "name": "ipython",
    "version": 3
   }
  },
  "orig_nbformat": 2,
  "file_extension": ".py",
  "mimetype": "text/x-python",
  "name": "python",
  "npconvert_exporter": "python",
  "pygments_lexer": "ipython3",
  "version": 3
 },
 "cells": [
  {
   "cell_type": "markdown",
   "execution_count": null,
   "metadata": {},
   "outputs": [],
   "source": [
    "# Exploring the Ringelmann effect with git2net\n",
    "**Lucas Schelkes**\n",
    "\n"
   ]
  },
  {
   "cell_type": "markdown",
   "execution_count": null,
   "metadata": {},
   "outputs": [],
   "source": [
    "In this project, we analyze the effect of group size on the productivity in GitHub projects. \n",
    "\n",
    "Using the tool `git2net`, we will analyse the following GitHub repositories:\n",
    "\n",
    "1. `TLP` (power saving tool for ThinkPads) as a small example (11 committers)\n",
    "\n",
    "2. `Android` (Android architecture blueprints v2 for building apps) as an medium-sized example (40 committers)\n",
    "\n",
    "3. `nginx-proxy` (sets up container for running nginx) as an medium-large-sized example (60 committers)\n",
    "\n",
    "4. `hello-world` (\"hello world\" code in all languages) as a large-sized example (79 committers)\n",
    "\n",
    "Finally we will derive to an interpretation of the analysis in respect to the Ringelmann effect."
   ]
  },
  {
   "cell_type": "markdown",
   "execution_count": null,
   "metadata": {},
   "outputs": [],
   "source": [
    "## `Android architecture blueprints v2 for building apps` repo\n",
    "\n",
    "We first mine the co-editing data from variously sized git repositories.\n",
    "First, we specify the `sqlite` database location and the to-be-mined cloned `GitHub` repository."
   ]
  },
  {
   "cell_type": "code",
   "execution_count": 1,
   "metadata": {},
   "outputs": [],
   "source": [
    "import os\n",
    "import git2net\n",
    "\n",
    "#path to copy of virgin db:\n",
    "#sqlite_db_file = '/home/luc/pip/git2net/group_work_1/tlp (Kopie).db'\n",
    "#sqlite_db_file = '/home/luc/pip/git2net/group_work_1/bitcoin.db'\n",
    "sqlite_db_file = '/home/luc/pip/git2net/group_work_1/architecture-samples (Kopie).db'\n",
    "\n",
    "\n",
    "\n",
    "#set variable to whatever folder the to-be-mined git repository is located:\n",
    "#repo_dir = '/home/luc/pip/git2net/ds_gw_1/TLP'\n",
    "#repo_dir = '/home/luc/pip/git2net/group_work_1/architecture-samples'"
   ]
  },
  {
   "cell_type": "markdown",
   "execution_count": null,
   "metadata": {},
   "outputs": [],
   "source": [
    "## Mining\n",
    "\n",
    "Only do the mining, if a copy of the \"virgin\" sqlite database has not being saved in `sqlite_db_file`.\n",
    "This copy needs to be freshly recopied from the virgin file in every Notebook run-through to avoid database errors."
   ]
  },
  {
   "cell_type": "code",
   "execution_count": 2,
   "metadata": {},
   "outputs": [],
   "source": [
    "#uncomment this block, if mining is wished\n",
    "\n",
    "#check, if database file is there; remove if yes\n",
    "#if os.path.exists(sqlite_db_file):\n",
    "#    os.remove(sqlite_db_file)\n",
    "#    print('sqlite_db_file removed!')\n",
    "\n",
    "#mining process: \n",
    "#repo_dir: to-be-mined git repository\n",
    "#sqlite_db_file: to-be-stored values in database\n",
    "\n",
    "#git2net.mine_git_repo(repo_dir, sqlite_db_file)\n",
    "\n",
    "#git2net.mining_state_summary(repo_dir, sqlite_db_file)"
   ]
  },
  {
   "cell_type": "markdown",
   "execution_count": null,
   "metadata": {},
   "outputs": [],
   "source": [
    "## Visualization\n",
    "\n",
    "In order to get a first idea of who about did roughly what with whom else, lets look at a graph showing edges from `committer_A` to `committer_B` whenever `committer_A` changed a line of the original author `committer_B`."
   ]
  },
  {
   "cell_type": "code",
   "execution_count": 3,
   "metadata": {},
   "outputs": [
    {
     "data": {
      "text/html": "<style>\n    text.label_ycvoEfvd {\n        text-anchor: middle;\n        font-size: 8px;\n        font-family: Arial, Helvetica, sans-serif;\n        fill: #999999;\n        stroke: #ffffff;\n        stroke-width: 0.1px;\n        opacity: 1.0;\n    }\n    .links_ycvoEfvd line {\n    stroke-opacity: 1.0;\n    }\n    .arrows svg:path {\n        stroke: #666;\n    }\n    .nodes_ycvoEfvd circle {\n    stroke: #fff;\n    stroke-width: 0.5px;\n    }\n</style>\n\n<svg width=\"400\" height=\"400\" id=\"ycvoEfvd\">        \n    <text x=\"20\" y=\"20\" font-family=\"sans-serif\" font-size=\"14px\" fill=\"#666\" style=\"cursor: pointer\"\n        id='ycvoEfvd_svg_txt'>[save svg]</text>\n</svg>\n\n<script charset=\"utf-8\" src=\"https://d3js.org/d3.v4.min.js\"></script>\n<script charset=\"utf-8\">\n\n// Load via requireJS if available (jupyter notebook environment)\ntry {\n    // Problem: require.config will raise an exception when called for the second time \n    require.config({\n        paths: {\n            //d3: \"https://d3js.org/d3.v4.min\"\n            d3: \"https://d3js.org/d3.v4.min.js\".replace(\".js\", \"\")\n        }\n    });\n    console.log(\"Detected requireJS\");\n}\ncatch(err){\n    // a reference error indicates that requireJS does not exist. \n    // other errors may occur due to multiple calls to config\n    if (err instanceof ReferenceError){\n        console.log(\"Detected no requireJS\");\n\n        // Helper function that waits for d3js to be loaded\n        require = function require(symbols, callback) {\n            var ms = 5;\n            window.setTimeout(function(t) {\n                if (window[symbols[0]])\n                    callback(window[symbols[0]]);\n                else \n                    window.setTimeout(arguments.callee, ms);\n            }, ms);\n        }\n    }\n}\n\n// wait until d3js has been loaded\nrequire([\"d3\"], function(d3) {\n    var svg = d3.select(\"#\"+\"ycvoEfvd\"), radius = 6, width = +svg.attr(\"width\"), height = +svg.attr(\"height\");\n\n    var color = d3.scaleOrdinal(d3.schemeCategory20);\n\n    var graph = {\"links\": [{\"source\": \"Jose Alcerreca\", \"target\": \"Stephan Linzner\", \"color\": \"#999999\", \"width\": 0.5, \"weight\": 0.35815602836879434}, {\"source\": \"Jose Alcerreca\", \"target\": \"Jan-Felix Schmakeit\", \"color\": \"#999999\", \"width\": 0.5, \"weight\": 0.3601190476190476}, {\"source\": \"Stephan Linzner\", \"target\": \"Jan-Felix Schmakeit\", \"color\": \"#999999\", \"width\": 0.5, \"weight\": 0.37202380952380953}, {\"source\": \"Stephan Linzner\", \"target\": \"Jose Alcerreca\", \"color\": \"#999999\", \"width\": 0.5, \"weight\": 0.08865248226950355}, {\"source\": \"Natalie Masse\", \"target\": \"Jan-Felix Schmakeit\", \"color\": \"#999999\", \"width\": 0.5, \"weight\": 0.29591836734693877}, {\"source\": \"Natalie Masse\", \"target\": \"Stephan Linzner\", \"color\": \"#999999\", \"width\": 0.5, \"weight\": 0.23979591836734693}, {\"source\": \"Natalie Masse\", \"target\": \"Jose Alcerreca\", \"color\": \"#999999\", \"width\": 0.5, \"weight\": 0.10204081632653061}, {\"source\": \"Stephan Linzner\", \"target\": \"Natalie Masse\", \"color\": \"#999999\", \"width\": 0.5, \"weight\": 0.19387755102040816}, {\"source\": \"Jan-Felix Schmakeit\", \"target\": \"Stephan Linzner\", \"color\": \"#999999\", \"width\": 0.5, \"weight\": 0.020833333333333332}, {\"source\": \"Jan-Felix Schmakeit\", \"target\": \"Jose Alcerreca\", \"color\": \"#999999\", \"width\": 0.5, \"weight\": 0.002976190476190476}, {\"source\": \"Jose Alcerreca\", \"target\": \"Natalie Masse\", \"color\": \"#999999\", \"width\": 0.5, \"weight\": 0.1377551020408163}, {\"source\": \"Jose Alc\\u00e9rreca\", \"target\": \"Jan-Felix Schmakeit\", \"color\": \"#999999\", \"width\": 0.5, \"weight\": 0.01488095238095238}, {\"source\": \"Jose Alc\\u00e9rreca\", \"target\": \"Natalie Masse\", \"color\": \"#999999\", \"width\": 0.5, \"weight\": 0.01020408163265306}, {\"source\": \"Jose Alc\\u00e9rreca\", \"target\": \"Stephan Linzner\", \"color\": \"#999999\", \"width\": 0.5, \"weight\": 0.03900709219858156}, {\"source\": \"Egor N\", \"target\": \"Stephan Linzner\", \"color\": \"#999999\", \"width\": 0.5, \"weight\": 0.3333333333333333}, {\"source\": \"devrel-build\", \"target\": \"Jan-Felix Schmakeit\", \"color\": \"#999999\", \"width\": 0.5, \"weight\": 0.19047619047619047}, {\"source\": \"devrel-build\", \"target\": \"Natalie Masse\", \"color\": \"#999999\", \"width\": 0.5, \"weight\": 0.19047619047619047}, {\"source\": \"devrel-build\", \"target\": \"Stephan Linzner\", \"color\": \"#999999\", \"width\": 0.5, \"weight\": 0.42857142857142855}, {\"source\": \"devrel-build\", \"target\": \"Jose Alcerreca\", \"color\": \"#999999\", \"width\": 0.5, \"weight\": 0.19047619047619047}, {\"source\": \"Sebas LG\", \"target\": \"Stephan Linzner\", \"color\": \"#999999\", \"width\": 0.5, \"weight\": 1.0}, {\"source\": \"Ryan Seys\", \"target\": \"Stephan Linzner\", \"color\": \"#999999\", \"width\": 0.5, \"weight\": 0.6666666666666666}, {\"source\": \"Gen\", \"target\": \"Stephan Linzner\", \"color\": \"#999999\", \"width\": 0.5, \"weight\": 0.5}, {\"source\": \"Sergey V\", \"target\": \"Stephan Linzner\", \"color\": \"#999999\", \"width\": 0.5, \"weight\": 0.5}, {\"source\": \"David Gonzalez\", \"target\": \"Jose Alcerreca\", \"color\": \"#999999\", \"width\": 0.5, \"weight\": 0.6550522648083623}, {\"source\": \"Jose Alcerreca\", \"target\": \"David Gonzalez\", \"color\": \"#999999\", \"width\": 0.5, \"weight\": 0.32752613240418116}, {\"source\": \"JoseAlcerreca\", \"target\": \"Jose Alcerreca\", \"color\": \"#999999\", \"width\": 0.5, \"weight\": 0.06341463414634146}, {\"source\": \"Natalie Masse Hooper\", \"target\": \"Jose Alcerreca\", \"color\": \"#999999\", \"width\": 0.5, \"weight\": 0.25}, {\"source\": \"Natalie Masse Hooper\", \"target\": \"JoseAlcerreca\", \"color\": \"#999999\", \"width\": 0.5, \"weight\": 0.25}, {\"source\": \"Dmitriy Zaitsev\", \"target\": \"Jose Alcerreca\", \"color\": \"#999999\", \"width\": 0.5, \"weight\": 0.4444444444444444}, {\"source\": \"Ravindra Kumar\", \"target\": \"JoseAlcerreca\", \"color\": \"#999999\", \"width\": 0.5, \"weight\": 0.7777777777777778}, {\"source\": \"Jose Alcerreca\", \"target\": \"JoseAlcerreca\", \"color\": \"#999999\", \"width\": 0.5, \"weight\": 0.44878048780487806}, {\"source\": \"Brandon Gogetap\", \"target\": \"JoseAlcerreca\", \"color\": \"#999999\", \"width\": 0.5, \"weight\": 0.5}, {\"source\": \"Duong Quang Son\", \"target\": \"Jose Alcerreca\", \"color\": \"#999999\", \"width\": 0.5, \"weight\": 0.16666666666666666}, {\"source\": \"JoseAlcerreca\", \"target\": \"Brandon Gogetap\", \"color\": \"#999999\", \"width\": 0.5, \"weight\": 0.5}, {\"source\": \"Jose Alcerreca\", \"target\": \"Duong Quang Son\", \"color\": \"#999999\", \"width\": 0.5, \"weight\": 0.75}, {\"source\": \"h3r3x3\", \"target\": \"Jose Alcerreca\", \"color\": \"#999999\", \"width\": 0.5, \"weight\": 0.10526315789473684}, {\"source\": \"h3r3x3\", \"target\": \"David Gonzalez\", \"color\": \"#999999\", \"width\": 0.5, \"weight\": 0.05263157894736842}, {\"source\": \"Jose Alc\\u00e9rreca\", \"target\": \"JoseAlcerreca\", \"color\": \"#999999\", \"width\": 0.5, \"weight\": 0.17073170731707318}, {\"source\": \"Jorge 'Jorhell' Barroso aka flipper83\", \"target\": \"Jose Alc\\u00e9rreca\", \"color\": \"#999999\", \"width\": 0.5, \"weight\": 0.5}, {\"source\": \"Yigit Boyar\", \"target\": \"JoseAlcerreca\", \"color\": \"#999999\", \"width\": 0.5, \"weight\": 0.5}, {\"source\": \"Jose Alcerreca\", \"target\": \"Tomasz Rykala\", \"color\": \"#999999\", \"width\": 0.5, \"weight\": 0.7}, {\"source\": \"Jose Alcerreca\", \"target\": \"h3r3x3\", \"color\": \"#999999\", \"width\": 0.5, \"weight\": 0.5789473684210527}, {\"source\": \"Jose Alc\\u00e9rreca\", \"target\": \"Jose Alcerreca\", \"color\": \"#999999\", \"width\": 0.5, \"weight\": 0.48987463837994216}, {\"source\": \"Jose Alc\\u00e9rreca\", \"target\": \"David Gonzalez\", \"color\": \"#999999\", \"width\": 0.5, \"weight\": 0.013937282229965157}, {\"source\": \"Samuel Urbanowicz\", \"target\": \"h3r3x3\", \"color\": \"#999999\", \"width\": 0.5, \"weight\": 0.5}, {\"source\": \"Samuel Urbanowicz\", \"target\": \"Jose Alcerreca\", \"color\": \"#999999\", \"width\": 0.5, \"weight\": 0.5}, {\"source\": \"tomaszrykala\", \"target\": \"Jose Alcerreca\", \"color\": \"#999999\", \"width\": 0.5, \"weight\": 0.11290322580645161}, {\"source\": \"tomaszrykala\", \"target\": \"h3r3x3\", \"color\": \"#999999\", \"width\": 0.5, \"weight\": 0.05263157894736842}, {\"source\": \"Jose Alc\\u00e9rreca\", \"target\": \"h3r3x3\", \"color\": \"#999999\", \"width\": 0.5, \"weight\": 0.10526315789473684}, {\"source\": \"richarth\", \"target\": \"Stephan Linzner\", \"color\": \"#999999\", \"width\": 0.5, \"weight\": 0.3333333333333333}, {\"source\": \"Jose Alcerreca\", \"target\": \"tomaszrykala\", \"color\": \"#999999\", \"width\": 0.5, \"weight\": 0.532258064516129}, {\"source\": \"Kiran Rao\", \"target\": \"Jose Alcerreca\", \"color\": \"#999999\", \"width\": 0.5, \"weight\": 0.3}, {\"source\": \"Jose Alc\\u00e9rreca\", \"target\": \"The Gitter Badger\", \"color\": \"#999999\", \"width\": 0.5, \"weight\": 1.0}, {\"source\": \"Andrew\", \"target\": \"Jose Alcerreca\", \"color\": \"#999999\", \"width\": 0.5, \"weight\": 0.2}, {\"source\": \"Florina Muntenescu\", \"target\": \"Jose Alcerreca\", \"color\": \"#999999\", \"width\": 0.5, \"weight\": 0.4095238095238095}, {\"source\": \"Florina Muntenescu\", \"target\": \"JoseAlcerreca\", \"color\": \"#999999\", \"width\": 0.5, \"weight\": 0.02926829268292683}, {\"source\": \"Florina Muntenescu\", \"target\": \"Jose Alc\\u00e9rreca\", \"color\": \"#999999\", \"width\": 0.5, \"weight\": 0.023809523809523808}, {\"source\": \"Erik Hellman\", \"target\": \"Jose Alc\\u00e9rreca\", \"color\": \"#999999\", \"width\": 0.5, \"weight\": 0.5}, {\"source\": \"Jose Alcerreca\", \"target\": \"Jose Alc\\u00e9rreca\", \"color\": \"#999999\", \"width\": 0.5, \"weight\": 0.16200578592092574}, {\"source\": \"Greg Pearce\", \"target\": \"Jose Alcerreca\", \"color\": \"#999999\", \"width\": 0.5, \"weight\": 0.3333333333333333}, {\"source\": \"Shinya Fukuta\", \"target\": \"Jose Alcerreca\", \"color\": \"#999999\", \"width\": 0.5, \"weight\": 0.5}, {\"source\": \"Florina Muntenescu\", \"target\": \"tomaszrykala\", \"color\": \"#999999\", \"width\": 0.5, \"weight\": 0.016129032258064516}, {\"source\": \"Jose Alc\\u00e9rreca\", \"target\": \"tomaszrykala\", \"color\": \"#999999\", \"width\": 0.5, \"weight\": 0.1774193548387097}, {\"source\": \"Eric Fung\", \"target\": \"Jose Alcerreca\", \"color\": \"#999999\", \"width\": 0.5, \"weight\": 0.3333333333333333}, {\"source\": \"Greg\", \"target\": \"Jose Alc\\u00e9rreca\", \"color\": \"#999999\", \"width\": 0.5, \"weight\": 0.5}, {\"source\": \"David Gonz\\u00e1lez\", \"target\": \"Jose Alc\\u00e9rreca\", \"color\": \"#999999\", \"width\": 0.5, \"weight\": 0.058823529411764705}, {\"source\": \"murdly\", \"target\": \"Jose Alcerreca\", \"color\": \"#999999\", \"width\": 0.5, \"weight\": 0.3333333333333333}, {\"source\": \"murdly\", \"target\": \"tomaszrykala\", \"color\": \"#999999\", \"width\": 0.5, \"weight\": 0.3333333333333333}, {\"source\": \"Jose Alcerreca\", \"target\": \"benoit\", \"color\": \"#999999\", \"width\": 0.5, \"weight\": 1.0}, {\"source\": \"Walmyr Filho\", \"target\": \"Stephan Linzner\", \"color\": \"#999999\", \"width\": 0.5, \"weight\": 1.0}, {\"source\": \"David Gonz\\u00e1lez\", \"target\": \"Jose Alcerreca\", \"color\": \"#999999\", \"width\": 0.5, \"weight\": 0.8235294117647058}, {\"source\": \"David Gonz\\u00e1lez\", \"target\": \"tomaszrykala\", \"color\": \"#999999\", \"width\": 0.5, \"weight\": 0.11764705882352941}, {\"source\": \"Jose Alcerreca\", \"target\": \"Florina Muntenescu\", \"color\": \"#999999\", \"width\": 0.5, \"weight\": 0.3238095238095238}, {\"source\": \"Jose Alcerreca\", \"target\": \"Shinya Fukuta\", \"color\": \"#999999\", \"width\": 0.5, \"weight\": 0.5}, {\"source\": \"Jose Alcerreca\", \"target\": \"Dmitriy Zaitsev\", \"color\": \"#999999\", \"width\": 0.5, \"weight\": 0.3333333333333333}, {\"source\": \"Jose Alc\\u00e9rreca\", \"target\": \"Jorge 'Jorhell' Barroso aka flipper83\", \"color\": \"#999999\", \"width\": 0.5, \"weight\": 0.5}, {\"source\": \"Jose Alc\\u00e9rreca\", \"target\": \"Erik Hellman\", \"color\": \"#999999\", \"width\": 0.5, \"weight\": 0.5}, {\"source\": \"Jose Alc\\u00e9rreca\", \"target\": \"Greg\", \"color\": \"#999999\", \"width\": 0.5, \"weight\": 0.5}, {\"source\": \"Jose Alcerreca\", \"target\": \"Yigit Boyar\", \"color\": \"#999999\", \"width\": 0.5, \"weight\": 0.25}, {\"source\": \"Jose Alcerreca\", \"target\": \"Ravindra Kumar\", \"color\": \"#999999\", \"width\": 0.5, \"weight\": 0.1111111111111111}, {\"source\": \"Sharif Salah\", \"target\": \"JoseAlcerreca\", \"color\": \"#999999\", \"width\": 0.5, \"weight\": 0.41228070175438597}, {\"source\": \"Sharif Salah\", \"target\": \"Jose Alc\\u00e9rreca\", \"color\": \"#999999\", \"width\": 0.5, \"weight\": 0.12280701754385964}, {\"source\": \"Sharif Salah\", \"target\": \"Jose Alcerreca\", \"color\": \"#999999\", \"width\": 0.5, \"weight\": 0.043859649122807015}, {\"source\": \"Sharif Salah\", \"target\": \"Natalie Masse Hooper\", \"color\": \"#999999\", \"width\": 0.5, \"weight\": 0.25}, {\"source\": \"Jose Alcerreca\", \"target\": \"Kiran Rao\", \"color\": \"#999999\", \"width\": 0.5, \"weight\": 0.4}, {\"source\": \"Jose Alc\\u00e9rreca\", \"target\": \"Natalie Masse Hooper\", \"color\": \"#999999\", \"width\": 0.5, \"weight\": 0.25}, {\"source\": \"Jose Alcerreca\", \"target\": \"murdly\", \"color\": \"#999999\", \"width\": 0.5, \"weight\": 0.3333333333333333}, {\"source\": \"Adam Stroud\", \"target\": \"Jose Alcerreca\", \"color\": \"#999999\", \"width\": 0.5, \"weight\": 1.0}, {\"source\": \"Anril\", \"target\": \"Jose Alcerreca\", \"color\": \"#999999\", \"width\": 0.5, \"weight\": 0.5}, {\"source\": \"Jose Alc\\u00e9rreca\", \"target\": \"Sharif Salah\", \"color\": \"#999999\", \"width\": 0.5, \"weight\": 0.13157894736842105}, {\"source\": \"Jose Alcerreca\", \"target\": \"Greg Pearce\", \"color\": \"#999999\", \"width\": 0.5, \"weight\": 0.5}, {\"source\": \"Florina Muntenescu\", \"target\": \"Tomasz Rykala\", \"color\": \"#999999\", \"width\": 0.5, \"weight\": 0.3}, {\"source\": \"Florina Muntenescu\", \"target\": \"Sharif Salah\", \"color\": \"#999999\", \"width\": 0.5, \"weight\": 0.19298245614035087}, {\"source\": \"Dennis Sheil\", \"target\": \"Sharif Salah\", \"color\": \"#999999\", \"width\": 0.5, \"weight\": 0.5}, {\"source\": \"fmuntenescu\", \"target\": \"Jose Alcerreca\", \"color\": \"#999999\", \"width\": 0.5, \"weight\": 0.6666666666666666}, {\"source\": \"Jose Alc\\u00e9rreca\", \"target\": \"Florina Muntenescu\", \"color\": \"#999999\", \"width\": 0.5, \"weight\": 0.047619047619047616}, {\"source\": \"Rebecca Franks\", \"target\": \"Jose Alcerreca\", \"color\": \"#999999\", \"width\": 0.5, \"weight\": 0.26666666666666666}, {\"source\": \"Rebecca Franks\", \"target\": \"Jose Alc\\u00e9rreca\", \"color\": \"#999999\", \"width\": 0.5, \"weight\": 0.13333333333333333}, {\"source\": \"Rebecca Franks\", \"target\": \"tomaszrykala\", \"color\": \"#999999\", \"width\": 0.5, \"weight\": 0.13333333333333333}, {\"source\": \"Stephan Linzner\", \"target\": \"Jose Alc\\u00e9rreca\", \"color\": \"#999999\", \"width\": 0.5, \"weight\": 0.0070921985815602835}, {\"source\": \"Mohit Ajwani\", \"target\": \"Jose Alcerreca\", \"color\": \"#999999\", \"width\": 0.5, \"weight\": 0.3333333333333333}, {\"source\": \"Frank Kwok\", \"target\": \"Jose Alcerreca\", \"color\": \"#999999\", \"width\": 0.5, \"weight\": 1.0}, {\"source\": \"Trent\", \"target\": \"Jose Alcerreca\", \"color\": \"#999999\", \"width\": 0.5, \"weight\": 0.75}, {\"source\": \"Nick K\", \"target\": \"Stephan Linzner\", \"color\": \"#999999\", \"width\": 0.5, \"weight\": 0.6666666666666666}, {\"source\": \"Douglas Sigelbaum\", \"target\": \"Jose Alc\\u00e9rreca\", \"color\": \"#999999\", \"width\": 0.5, \"weight\": 0.16224188790560473}, {\"source\": \"DougSig\", \"target\": \"Jose Alc\\u00e9rreca\", \"color\": \"#999999\", \"width\": 0.5, \"weight\": 0.11134903640256959}, {\"source\": \"Jose Alc\\u00e9rreca\", \"target\": \"Greg Pearce\", \"color\": \"#999999\", \"width\": 0.5, \"weight\": 0.16666666666666666}, {\"source\": \"Jose Alc\\u00e9rreca\", \"target\": \"Kiran Rao\", \"color\": \"#999999\", \"width\": 0.5, \"weight\": 0.1}, {\"source\": \"Jose Alc\\u00e9rreca\", \"target\": \"Dmitriy Zaitsev\", \"color\": \"#999999\", \"width\": 0.5, \"weight\": 0.2222222222222222}, {\"source\": \"Jose Alc\\u00e9rreca\", \"target\": \"Yigit Boyar\", \"color\": \"#999999\", \"width\": 0.5, \"weight\": 0.25}, {\"source\": \"Jose Alc\\u00e9rreca\", \"target\": \"Ravindra Kumar\", \"color\": \"#999999\", \"width\": 0.5, \"weight\": 0.1111111111111111}, {\"source\": \"Jose Alc\\u00e9rreca\", \"target\": \"Douglas Sigelbaum\", \"color\": \"#999999\", \"width\": 0.5, \"weight\": 0.04424778761061947}, {\"source\": \"Jose Alcerreca\", \"target\": \"Douglas Sigelbaum\", \"color\": \"#999999\", \"width\": 0.5, \"weight\": 0.12979351032448377}, {\"source\": \"Florina Muntenescu\", \"target\": \"Andrew\", \"color\": \"#999999\", \"width\": 0.5, \"weight\": 0.2}, {\"source\": \"Florina Muntenescu\", \"target\": \"h3r3x3\", \"color\": \"#999999\", \"width\": 0.5, \"weight\": 0.05263157894736842}, {\"source\": \"Douglas Sigelbaum\", \"target\": \"Jose Alcerreca\", \"color\": \"#999999\", \"width\": 0.5, \"weight\": 0.3805309734513274}, {\"source\": \"Douglas Sigelbaum\", \"target\": \"DougSig\", \"color\": \"#999999\", \"width\": 0.5, \"weight\": 0.24778761061946902}, {\"source\": \"Jose Alc\\u00e9rreca\", \"target\": \"DougSig\", \"color\": \"#999999\", \"width\": 0.5, \"weight\": 0.01284796573875803}, {\"source\": \"Maher Malaeb\", \"target\": \"Sharif Salah\", \"color\": \"#999999\", \"width\": 0.5, \"weight\": 0.3333333333333333}, {\"source\": \"Jan Hudzik\", \"target\": \"Sharif Salah\", \"color\": \"#999999\", \"width\": 0.5, \"weight\": 0.3333333333333333}, {\"source\": \"Jose Alcerreca\", \"target\": \"Rebecca Franks\", \"color\": \"#999999\", \"width\": 0.5, \"weight\": 0.26666666666666666}, {\"source\": \"DougSig\", \"target\": \"Jose Alcerreca\", \"color\": \"#999999\", \"width\": 0.5, \"weight\": 0.24197002141327623}, {\"source\": \"Jose Alcerreca\", \"target\": \"Sharif Salah\", \"color\": \"#999999\", \"width\": 0.5, \"weight\": 0.06140350877192982}, {\"source\": \"Pablo Andr\\u00e9s Dorado Su\\u00e1rez\", \"target\": \"Jose Alc\\u00e9rreca\", \"color\": \"#999999\", \"width\": 0.5, \"weight\": 0.5}, {\"source\": \"Jose Alcerreca\", \"target\": \"Maher Malaeb\", \"color\": \"#999999\", \"width\": 0.5, \"weight\": 0.3333333333333333}, {\"source\": \"Jose Alcerreca\", \"target\": \"Jan Hudzik\", \"color\": \"#999999\", \"width\": 0.5, \"weight\": 0.3333333333333333}, {\"source\": \"Douglas Sigelbaum\", \"target\": \"Florina Muntenescu\", \"color\": \"#999999\", \"width\": 0.5, \"weight\": 0.01904761904761905}, {\"source\": \"Jose Alc\\u00e9rreca\", \"target\": \"Maher Malaeb\", \"color\": \"#999999\", \"width\": 0.5, \"weight\": 0.3333333333333333}, {\"source\": \"Jose Alc\\u00e9rreca\", \"target\": \"Jan Hudzik\", \"color\": \"#999999\", \"width\": 0.5, \"weight\": 0.3333333333333333}, {\"source\": \"Michael Amygdalidis\", \"target\": \"Stephan Linzner\", \"color\": \"#999999\", \"width\": 0.5, \"weight\": 0.47058823529411764}, {\"source\": \"Michael Amygdalidis\", \"target\": \"Jose Alc\\u00e9rreca\", \"color\": \"#999999\", \"width\": 0.5, \"weight\": 0.058823529411764705}, {\"source\": \"Michael Amygdalidis\", \"target\": \"Nick K\", \"color\": \"#999999\", \"width\": 0.5, \"weight\": 0.16666666666666666}, {\"source\": \"Nick K\", \"target\": \"Jose Alc\\u00e9rreca\", \"color\": \"#999999\", \"width\": 0.5, \"weight\": 0.16666666666666666}, {\"source\": \"Stephan Linzner\", \"target\": \"Ryan Seys\", \"color\": \"#999999\", \"width\": 0.5, \"weight\": 0.3333333333333333}, {\"source\": \"Stephan Linzner\", \"target\": \"Michael Amygdalidis\", \"color\": \"#999999\", \"width\": 0.5, \"weight\": 0.11764705882352941}, {\"source\": \"Doug Sigelbaum\", \"target\": \"DougSig\", \"color\": \"#999999\", \"width\": 0.5, \"weight\": 0.2222222222222222}, {\"source\": \"Doug Sigelbaum\", \"target\": \"Jose Alcerreca\", \"color\": \"#999999\", \"width\": 0.5, \"weight\": 0.4444444444444444}, {\"source\": \"Doug Sigelbaum\", \"target\": \"Douglas Sigelbaum\", \"color\": \"#999999\", \"width\": 0.5, \"weight\": 0.2222222222222222}, {\"source\": \"Doug Sigelbaum\", \"target\": \"Jose Alc\\u00e9rreca\", \"color\": \"#999999\", \"width\": 0.5, \"weight\": 0.1111111111111111}, {\"source\": \"Jose Alc\\u00e9rreca\", \"target\": \"Andrew\", \"color\": \"#999999\", \"width\": 0.5, \"weight\": 0.2}, {\"source\": \"Jose Alcerreca\", \"target\": \"Mohit Ajwani\", \"color\": \"#999999\", \"width\": 0.5, \"weight\": 0.3333333333333333}, {\"source\": \"Jose Alcerreca\", \"target\": \"fmuntenescu\", \"color\": \"#999999\", \"width\": 0.5, \"weight\": 0.3333333333333333}, {\"source\": \"Jose Alcerreca\", \"target\": \"DougSig\", \"color\": \"#999999\", \"width\": 0.5, \"weight\": 0.430406852248394}, {\"source\": \"Jose Alcerreca\", \"target\": \"Anril\", \"color\": \"#999999\", \"width\": 0.5, \"weight\": 0.5}, {\"source\": \"Jose Alcerreca\", \"target\": \"Pablo Andr\\u00e9s Dorado Su\\u00e1rez\", \"color\": \"#999999\", \"width\": 0.5, \"weight\": 0.5}, {\"source\": \"Jose Alc\\u00e9rreca\", \"target\": \"Rebecca Franks\", \"color\": \"#999999\", \"width\": 0.5, \"weight\": 0.06666666666666667}, {\"source\": \"Jose Alc\\u00e9rreca\", \"target\": \"Duong Quang Son\", \"color\": \"#999999\", \"width\": 0.5, \"weight\": 0.08333333333333333}, {\"source\": \"Jose Alc\\u00e9rreca\", \"target\": \"Mohit Ajwani\", \"color\": \"#999999\", \"width\": 0.5, \"weight\": 0.3333333333333333}, {\"source\": \"yanjhk\", \"target\": \"Jose Alcerreca\", \"color\": \"#999999\", \"width\": 0.5, \"weight\": 0.5}, {\"source\": \"Jose Alcerreca\", \"target\": \"Michael Amygdalidis\", \"color\": \"#999999\", \"width\": 0.5, \"weight\": 0.29411764705882354}, {\"source\": \"Dennis Meng\", \"target\": \"Jose Alcerreca\", \"color\": \"#999999\", \"width\": 0.5, \"weight\": 0.3632887189292543}, {\"source\": \"Dennis Meng\", \"target\": \"Stephan Linzner\", \"color\": \"#999999\", \"width\": 0.5, \"weight\": 0.032504780114722756}, {\"source\": \"Jonathan Gerrish\", \"target\": \"Jose Alcerreca\", \"color\": \"#999999\", \"width\": 0.5, \"weight\": 0.4161849710982659}, {\"source\": \"Jose Alcerreca\", \"target\": \"Jonathan Gerrish\", \"color\": \"#999999\", \"width\": 0.5, \"weight\": 0.16473988439306358}, {\"source\": \"Jose Alcerreca\", \"target\": \"Dennis Meng\", \"color\": \"#999999\", \"width\": 0.5, \"weight\": 0.2390057361376673}, {\"source\": \"Jose Alcerreca\", \"target\": \"richarth\", \"color\": \"#999999\", \"width\": 0.5, \"weight\": 0.6666666666666666}, {\"source\": \"Douglas Sigelbaum\", \"target\": \"Kiran Rao\", \"color\": \"#999999\", \"width\": 0.5, \"weight\": 0.1}, {\"source\": \"Douglas Sigelbaum\", \"target\": \"Rebecca Franks\", \"color\": \"#999999\", \"width\": 0.5, \"weight\": 0.06666666666666667}, {\"source\": \"Douglas Sigelbaum\", \"target\": \"tomaszrykala\", \"color\": \"#999999\", \"width\": 0.5, \"weight\": 0.03225806451612903}, {\"source\": \"Douglas Sigelbaum\", \"target\": \"Eric Fung\", \"color\": \"#999999\", \"width\": 0.5, \"weight\": 0.3333333333333333}, {\"source\": \"Douglas Sigelbaum\", \"target\": \"Andrew\", \"color\": \"#999999\", \"width\": 0.5, \"weight\": 0.2}, {\"source\": \"Ada Zhang\", \"target\": \"Jose Alcerreca\", \"color\": \"#999999\", \"width\": 0.5, \"weight\": 0.2972972972972973}, {\"source\": \"DougSig\", \"target\": \"Kiran Rao\", \"color\": \"#999999\", \"width\": 0.5, \"weight\": 0.1}, {\"source\": \"DougSig\", \"target\": \"Rebecca Franks\", \"color\": \"#999999\", \"width\": 0.5, \"weight\": 0.06666666666666667}, {\"source\": \"DougSig\", \"target\": \"tomaszrykala\", \"color\": \"#999999\", \"width\": 0.5, \"weight\": 0.03225806451612903}, {\"source\": \"DougSig\", \"target\": \"Florina Muntenescu\", \"color\": \"#999999\", \"width\": 0.5, \"weight\": 0.014285714285714285}, {\"source\": \"DougSig\", \"target\": \"Eric Fung\", \"color\": \"#999999\", \"width\": 0.5, \"weight\": 0.3333333333333333}, {\"source\": \"DougSig\", \"target\": \"Andrew\", \"color\": \"#999999\", \"width\": 0.5, \"weight\": 0.2}, {\"source\": \"Jose Alc\\u00e9rreca\", \"target\": \"Dennis Meng\", \"color\": \"#999999\", \"width\": 0.5, \"weight\": 0.08030592734225621}, {\"source\": \"Dennis Meng\", \"target\": \"Jonathan Gerrish\", \"color\": \"#999999\", \"width\": 0.5, \"weight\": 0.05202312138728324}, {\"source\": \"Dennis Meng\", \"target\": \"Jan-Felix Schmakeit\", \"color\": \"#999999\", \"width\": 0.5, \"weight\": 0.008928571428571428}, {\"source\": \"Ada Zhang\", \"target\": \"Dennis Meng\", \"color\": \"#999999\", \"width\": 0.5, \"weight\": 0.16216216216216217}, {\"source\": \"Ada Zhang\", \"target\": \"Jan-Felix Schmakeit\", \"color\": \"#999999\", \"width\": 0.5, \"weight\": 0.06756756756756757}, {\"source\": \"Ada Zhang\", \"target\": \"Stephan Linzner\", \"color\": \"#999999\", \"width\": 0.5, \"weight\": 0.10810810810810811}, {\"source\": \"Jonathan Gerrish\", \"target\": \"Dennis Meng\", \"color\": \"#999999\", \"width\": 0.5, \"weight\": 0.27167630057803466}, {\"source\": \"Jonathan Gerrish\", \"target\": \"Stephan Linzner\", \"color\": \"#999999\", \"width\": 0.5, \"weight\": 0.017341040462427744}, {\"source\": \"Jonathan Gerrish\", \"target\": \"Jan-Felix Schmakeit\", \"color\": \"#999999\", \"width\": 0.5, \"weight\": 0.002976190476190476}, {\"source\": \"Dennis Meng\", \"target\": \"Ada Zhang\", \"color\": \"#999999\", \"width\": 0.5, \"weight\": 0.013513513513513514}, {\"source\": \"Jose Alcerreca\", \"target\": \"Ada Zhang\", \"color\": \"#999999\", \"width\": 0.5, \"weight\": 0.14864864864864866}, {\"source\": \"Islam Salah\", \"target\": \"Jose Alcerreca\", \"color\": \"#999999\", \"width\": 0.5, \"weight\": 1.0}, {\"source\": \"Jose Alc\\u00e9rreca\", \"target\": \"Ada Zhang\", \"color\": \"#999999\", \"width\": 0.5, \"weight\": 0.13513513513513514}, {\"source\": \"Jose Alc\\u00e9rreca\", \"target\": \"Jonathan Gerrish\", \"color\": \"#999999\", \"width\": 0.5, \"weight\": 0.06647398843930635}, {\"source\": \"Lyla Fujiwara\", \"target\": \"Jose Alcerreca\", \"color\": \"#999999\", \"width\": 0.5, \"weight\": 0.4878048780487805}, {\"source\": \"Lyla Fujiwara\", \"target\": \"Jan-Felix Schmakeit\", \"color\": \"#999999\", \"width\": 0.5, \"weight\": 0.0975609756097561}, {\"source\": \"Lyla Fujiwara\", \"target\": \"Dennis Meng\", \"color\": \"#999999\", \"width\": 0.5, \"weight\": 0.1951219512195122}, {\"source\": \"Lyla McBeath Fujiwara\", \"target\": \"Jose Alcerreca\", \"color\": \"#999999\", \"width\": 0.5, \"weight\": 0.6714285714285714}, {\"source\": \"Lyla McBeath Fujiwara\", \"target\": \"Jan-Felix Schmakeit\", \"color\": \"#999999\", \"width\": 0.5, \"weight\": 0.02857142857142857}, {\"source\": \"Lyla McBeath Fujiwara\", \"target\": \"Stephan Linzner\", \"color\": \"#999999\", \"width\": 0.5, \"weight\": 0.02857142857142857}, {\"source\": \"Lyla McBeath Fujiwara\", \"target\": \"Ada Zhang\", \"color\": \"#999999\", \"width\": 0.5, \"weight\": 0.02857142857142857}, {\"source\": \"Jose Alcerreca\", \"target\": \"Trent\", \"color\": \"#999999\", \"width\": 0.5, \"weight\": 0.25}, {\"source\": \"Jose Alcerreca\", \"target\": \"Mustafa Kurtuldu\", \"color\": \"#999999\", \"width\": 0.5, \"weight\": 1.0}, {\"source\": \"Jose Alcerreca\", \"target\": \"Dennis Sheil\", \"color\": \"#999999\", \"width\": 0.5, \"weight\": 0.5}, {\"source\": \"Lyla McBeath Fujiwara\", \"target\": \"Dennis Meng\", \"color\": \"#999999\", \"width\": 0.5, \"weight\": 0.18571428571428572}, {\"source\": \"Lyla McBeath Fujiwara\", \"target\": \"Jonathan Gerrish\", \"color\": \"#999999\", \"width\": 0.5, \"weight\": 0.014285714285714285}, {\"source\": \"Jose Alcerreca\", \"target\": \"Gen\", \"color\": \"#999999\", \"width\": 0.5, \"weight\": 0.5}, {\"source\": \"Jose Alcerreca\", \"target\": \"Egor N\", \"color\": \"#999999\", \"width\": 0.5, \"weight\": 0.6666666666666666}, {\"source\": \"Jose Alcerreca\", \"target\": \"Sergey V\", \"color\": \"#999999\", \"width\": 0.5, \"weight\": 0.5}, {\"source\": \"Jose Alcerreca\", \"target\": \"Lyla McBeath Fujiwara\", \"color\": \"#999999\", \"width\": 0.5, \"weight\": 0.04285714285714286}, {\"source\": \"Lyla Fujiwara\", \"target\": \"Jonathan Gerrish\", \"color\": \"#999999\", \"width\": 0.5, \"weight\": 0.04878048780487805}, {\"source\": \"Lyla Fujiwara\", \"target\": \"Stephan Linzner\", \"color\": \"#999999\", \"width\": 0.5, \"weight\": 0.07317073170731707}, {\"source\": \"Lyla Fujiwara\", \"target\": \"Ada Zhang\", \"color\": \"#999999\", \"width\": 0.5, \"weight\": 0.07317073170731707}, {\"source\": \"Lyla Fujiwara\", \"target\": \"Jose Alc\\u00e9rreca\", \"color\": \"#999999\", \"width\": 0.5, \"weight\": 0.024390243902439025}, {\"source\": \"Jose Alcerreca\", \"target\": \"yanjhk\", \"color\": \"#999999\", \"width\": 0.5, \"weight\": 0.5}], \"nodes\": [{\"id\": \"Jose Alcerreca\", \"text\": \"Jose Alcerreca\", \"color\": \"#99ccff\", \"size\": 5.0}, {\"id\": \"Stephan Linzner\", \"text\": \"Stephan Linzner\", \"color\": \"#99ccff\", \"size\": 5.0}, {\"id\": \"Jan-Felix Schmakeit\", \"text\": \"Jan-Felix Schmakeit\", \"color\": \"#99ccff\", \"size\": 5.0}, {\"id\": \"Natalie Masse\", \"text\": \"Natalie Masse\", \"color\": \"#99ccff\", \"size\": 5.0}, {\"id\": \"Jose Alc\\u00e9rreca\", \"text\": \"Jose Alc\\u00e9rreca\", \"color\": \"#99ccff\", \"size\": 5.0}, {\"id\": \"Egor N\", \"text\": \"Egor N\", \"color\": \"#99ccff\", \"size\": 5.0}, {\"id\": \"devrel-build\", \"text\": \"devrel-build\", \"color\": \"#99ccff\", \"size\": 5.0}, {\"id\": \"Sebas LG\", \"text\": \"Sebas LG\", \"color\": \"#99ccff\", \"size\": 5.0}, {\"id\": \"Ryan Seys\", \"text\": \"Ryan Seys\", \"color\": \"#99ccff\", \"size\": 5.0}, {\"id\": \"Gen\", \"text\": \"Gen\", \"color\": \"#99ccff\", \"size\": 5.0}, {\"id\": \"Sergey V\", \"text\": \"Sergey V\", \"color\": \"#99ccff\", \"size\": 5.0}, {\"id\": \"David Gonzalez\", \"text\": \"David Gonzalez\", \"color\": \"#99ccff\", \"size\": 5.0}, {\"id\": \"JoseAlcerreca\", \"text\": \"JoseAlcerreca\", \"color\": \"#99ccff\", \"size\": 5.0}, {\"id\": \"Natalie Masse Hooper\", \"text\": \"Natalie Masse Hooper\", \"color\": \"#99ccff\", \"size\": 5.0}, {\"id\": \"Dmitriy Zaitsev\", \"text\": \"Dmitriy Zaitsev\", \"color\": \"#99ccff\", \"size\": 5.0}, {\"id\": \"Ravindra Kumar\", \"text\": \"Ravindra Kumar\", \"color\": \"#99ccff\", \"size\": 5.0}, {\"id\": \"Brandon Gogetap\", \"text\": \"Brandon Gogetap\", \"color\": \"#99ccff\", \"size\": 5.0}, {\"id\": \"Duong Quang Son\", \"text\": \"Duong Quang Son\", \"color\": \"#99ccff\", \"size\": 5.0}, {\"id\": \"h3r3x3\", \"text\": \"h3r3x3\", \"color\": \"#99ccff\", \"size\": 5.0}, {\"id\": \"Jorge 'Jorhell' Barroso aka flipper83\", \"text\": \"Jorge 'Jorhell' Barroso aka flipper83\", \"color\": \"#99ccff\", \"size\": 5.0}, {\"id\": \"Yigit Boyar\", \"text\": \"Yigit Boyar\", \"color\": \"#99ccff\", \"size\": 5.0}, {\"id\": \"Tomasz Rykala\", \"text\": \"Tomasz Rykala\", \"color\": \"#99ccff\", \"size\": 5.0}, {\"id\": \"Samuel Urbanowicz\", \"text\": \"Samuel Urbanowicz\", \"color\": \"#99ccff\", \"size\": 5.0}, {\"id\": \"tomaszrykala\", \"text\": \"tomaszrykala\", \"color\": \"#99ccff\", \"size\": 5.0}, {\"id\": \"richarth\", \"text\": \"richarth\", \"color\": \"#99ccff\", \"size\": 5.0}, {\"id\": \"Kiran Rao\", \"text\": \"Kiran Rao\", \"color\": \"#99ccff\", \"size\": 5.0}, {\"id\": \"The Gitter Badger\", \"text\": \"The Gitter Badger\", \"color\": \"#99ccff\", \"size\": 5.0}, {\"id\": \"Andrew\", \"text\": \"Andrew\", \"color\": \"#99ccff\", \"size\": 5.0}, {\"id\": \"Florina Muntenescu\", \"text\": \"Florina Muntenescu\", \"color\": \"#99ccff\", \"size\": 5.0}, {\"id\": \"Erik Hellman\", \"text\": \"Erik Hellman\", \"color\": \"#99ccff\", \"size\": 5.0}, {\"id\": \"Greg Pearce\", \"text\": \"Greg Pearce\", \"color\": \"#99ccff\", \"size\": 5.0}, {\"id\": \"Shinya Fukuta\", \"text\": \"Shinya Fukuta\", \"color\": \"#99ccff\", \"size\": 5.0}, {\"id\": \"Eric Fung\", \"text\": \"Eric Fung\", \"color\": \"#99ccff\", \"size\": 5.0}, {\"id\": \"Greg\", \"text\": \"Greg\", \"color\": \"#99ccff\", \"size\": 5.0}, {\"id\": \"David Gonz\\u00e1lez\", \"text\": \"David Gonz\\u00e1lez\", \"color\": \"#99ccff\", \"size\": 5.0}, {\"id\": \"murdly\", \"text\": \"murdly\", \"color\": \"#99ccff\", \"size\": 5.0}, {\"id\": \"benoit\", \"text\": \"benoit\", \"color\": \"#99ccff\", \"size\": 5.0}, {\"id\": \"Walmyr Filho\", \"text\": \"Walmyr Filho\", \"color\": \"#99ccff\", \"size\": 5.0}, {\"id\": \"Sharif Salah\", \"text\": \"Sharif Salah\", \"color\": \"#99ccff\", \"size\": 5.0}, {\"id\": \"Adam Stroud\", \"text\": \"Adam Stroud\", \"color\": \"#99ccff\", \"size\": 5.0}, {\"id\": \"Anril\", \"text\": \"Anril\", \"color\": \"#99ccff\", \"size\": 5.0}, {\"id\": \"Dennis Sheil\", \"text\": \"Dennis Sheil\", \"color\": \"#99ccff\", \"size\": 5.0}, {\"id\": \"fmuntenescu\", \"text\": \"fmuntenescu\", \"color\": \"#99ccff\", \"size\": 5.0}, {\"id\": \"Rebecca Franks\", \"text\": \"Rebecca Franks\", \"color\": \"#99ccff\", \"size\": 5.0}, {\"id\": \"Mohit Ajwani\", \"text\": \"Mohit Ajwani\", \"color\": \"#99ccff\", \"size\": 5.0}, {\"id\": \"Frank Kwok\", \"text\": \"Frank Kwok\", \"color\": \"#99ccff\", \"size\": 5.0}, {\"id\": \"Trent\", \"text\": \"Trent\", \"color\": \"#99ccff\", \"size\": 5.0}, {\"id\": \"Nick K\", \"text\": \"Nick K\", \"color\": \"#99ccff\", \"size\": 5.0}, {\"id\": \"Douglas Sigelbaum\", \"text\": \"Douglas Sigelbaum\", \"color\": \"#99ccff\", \"size\": 5.0}, {\"id\": \"DougSig\", \"text\": \"DougSig\", \"color\": \"#99ccff\", \"size\": 5.0}, {\"id\": \"Maher Malaeb\", \"text\": \"Maher Malaeb\", \"color\": \"#99ccff\", \"size\": 5.0}, {\"id\": \"Jan Hudzik\", \"text\": \"Jan Hudzik\", \"color\": \"#99ccff\", \"size\": 5.0}, {\"id\": \"Pablo Andr\\u00e9s Dorado Su\\u00e1rez\", \"text\": \"Pablo Andr\\u00e9s Dorado Su\\u00e1rez\", \"color\": \"#99ccff\", \"size\": 5.0}, {\"id\": \"Michael Amygdalidis\", \"text\": \"Michael Amygdalidis\", \"color\": \"#99ccff\", \"size\": 5.0}, {\"id\": \"Doug Sigelbaum\", \"text\": \"Doug Sigelbaum\", \"color\": \"#99ccff\", \"size\": 5.0}, {\"id\": \"yanjhk\", \"text\": \"yanjhk\", \"color\": \"#99ccff\", \"size\": 5.0}, {\"id\": \"Dennis Meng\", \"text\": \"Dennis Meng\", \"color\": \"#99ccff\", \"size\": 5.0}, {\"id\": \"Jonathan Gerrish\", \"text\": \"Jonathan Gerrish\", \"color\": \"#99ccff\", \"size\": 5.0}, {\"id\": \"Ada Zhang\", \"text\": \"Ada Zhang\", \"color\": \"#99ccff\", \"size\": 5.0}, {\"id\": \"Islam Salah\", \"text\": \"Islam Salah\", \"color\": \"#99ccff\", \"size\": 5.0}, {\"id\": \"Lyla Fujiwara\", \"text\": \"Lyla Fujiwara\", \"color\": \"#99ccff\", \"size\": 5.0}, {\"id\": \"Lyla McBeath Fujiwara\", \"text\": \"Lyla McBeath Fujiwara\", \"color\": \"#99ccff\", \"size\": 5.0}, {\"id\": \"Mustafa Kurtuldu\", \"text\": \"Mustafa Kurtuldu\", \"color\": \"#99ccff\", \"size\": 5.0}]};\n    var directed = true;\n\n    var simulation = d3.forceSimulation()        \n       .force(\"link\", d3.forceLink().id(function(d) { return d.id; }).strength(function(d){return d.weight;}))\n        .force(\"charge\", d3.forceManyBody().strength(-20).distanceMax(400))\n       .force(\"repelForce\", d3.forceManyBody().strength(-200).distanceMax(100))\n       .force(\"center\", d3.forceCenter(400 / 2, 400 / 2))\n       .alphaTarget(0.0);\n\n    svg.append(\"defs\").selectAll(\"marker\")\n        .data([\"end\"])\n    .enter().append(\"marker\")\n        .attr(\"id\", String)\n        .attr(\"viewBox\", \"0 -5 20 20\")\n        .attr(\"refX\", 34)\n        .attr(\"refY\", 0)\n        .attr(\"markerWidth\", 15)\n        .attr(\"markerHeight\", 15)\n        .attr(\"orient\", \"auto\")\n    .append(\"path\")\n        // draws a filled path (triangle) between three points\n        .attr(\"d\", \"M0,-5 L20,0 L0,5 z\")\n        .attr(\"fill\", '#999')\n        .attr(\"stroke\", 'none');\n\n    var g = svg.append(\"g\")\n        .attr(\"class\", \"everything\");\n\n    var link = g.append(\"g\")\n        .attr(\"class\", \"links_ycvoEfvd\")\n        .selectAll(\"line\")\n        .data(graph.links)\n        .enter().append(\"line\")\n        .attr(\"stroke-width\", function(d) { return d.width; })\n        .attr(\"stroke\", function(d) { return d.color; } );\n\n    if (directed)\n        link.attr(\"marker-end\", \"url(#end)\");\n\n    var node_g = g.append(\"g\")\n        .attr(\"class\", \"nodes_ycvoEfvd\")\n        .selectAll(\"circle\")\n        .data(graph.nodes)\n        .enter()\n        .append(\"g\"); \n\n    var node = node_g.append(\"circle\")\n        .attr('id', function(d) { return d.id; })\n        .attr(\"r\", function(d) { return d.size; })\n        .attr(\"fill\", function(d) { return d.color; })\n        .call(d3.drag()\n            .on(\"start\", dragstarted)\n            .on(\"drag\", dragged)\n            .on(\"end\", dragended));\n\n    var text = node_g.append(\"text\")\n    .attr(\"x\", [0, -10][0])\n    .attr(\"y\", [0, -10][1]+3)\n    .attr(\"id\", function(d) {return d.id; })\n    .attr(\"class\", \"label_ycvoEfvd\")\n    .text(function(d) { return d.id; });\n\n    node.append(\"title\")\n        .text(function(d) { return d.text; });\n\n    var zoom_handler = d3.zoom()\n        .on(\"zoom\", zoom_actions);\n    zoom_handler(svg);\n\n    // attach event handler for svg export\n    d3.select('#ycvoEfvd_svg_txt').on(\"click\", save_svg);\n\n    simulation\n        .nodes(graph.nodes)\n        .on(\"tick\", ticked);\n\n    simulation.force(\"link\")\n        .links(graph.links);\n\n    function ticked() {\n        link.attr(\"x1\", function(d) { return d.source.x; })\n            .attr(\"y1\", function(d) { return d.source.y; })\n            .attr(\"x2\", function(d) { return d.target.x; })\n            .attr(\"y2\", function(d) { return d.target.y; });\n\n         text.attr(\"transform\", transform);\n\n\n        text.attr(\"cx\", function(d) { return d.x; })\n            .attr(\"cy\", function(d) { return d.y; });\n\n        node.attr(\"cx\", function(d) { return d.x; })\n            .attr(\"cy\", function(d) { return d.y; });\n    }\n\n    function transform(d) {\n        return \"translate(\" + d.x + \",\" + d.y + \")\";\n    }\n\n    function dragstarted(d) {\n    if (!d3.event.active) simulation.alphaTarget(0.3).restart();\n    d.fx = d.x;\n    d.fy = d.y;\n    }\n\n    function zoom_actions(){\n        g.attr(\"transform\", d3.event.transform)\n    }    \n\n    function dragged(d) {\n    d.fx = d3.event.x;\n    d.fy = d3.event.y;\n    }\n\n    function dragended(d) {\n    if (!d3.event.active) simulation.alphaTarget(0);\n    d.fx = null;\n    d.fy = null;\n    }\n\n    function to_svg() {\n        // Returns a SVG representation of the current state of the visualisation\n\t    var svg  = document.getElementById('ycvoEfvd');\n\t    var xml = (new XMLSerializer).serializeToString(svg);\n        return xml;\n    }\n\n    function save_svg() {\n        var svg  = document.getElementById('ycvoEfvd');\n        var xml = (new XMLSerializer).serializeToString(svg);        \n        var blob = new Blob([xml], {type: 'text/xml'});\n        if(window.navigator.msSaveOrOpenBlob) {\n            window.navigator.msSaveBlob(blob, 'network.svg');\n        }\n        else{\n            var elem = window.document.createElement('a');\n            elem.href = window.URL.createObjectURL(blob);\n            elem.download = 'network.svg';\n            document.body.appendChild(elem);\n            elem.click();\n            document.body.removeChild(elem);\n        }\n    }\n});\n</script>",
      "text/plain": "<pathpy.classes.network.Network at 0x7fe577bf6438>"
     },
     "execution_count": 3,
     "metadata": {},
     "output_type": "execute_result"
    }
   ],
   "source": [
    "#package for network visualization:\n",
    "import pathpy as pp\n",
    "\n",
    "#fetching information:\n",
    "t, node_info, edge_info = git2net.get_coediting_network(sqlite_db_file)\n",
    "\n",
    "#showing graph:\n",
    "pp.Network.from_temporal_network(t)"
   ]
  },
  {
   "cell_type": "markdown",
   "execution_count": null,
   "metadata": {},
   "outputs": [],
   "source": [
    "This already gives us the idea that there are a couple of centre figures in the community.\n",
    "\n",
    "Lets look at the work activity of the committers in the last 6 months, this gives us an idea who has recently been active. The following graph shows us which committer has edited which files from `01.05.2019` onwards."
   ]
  },
  {
   "cell_type": "code",
   "execution_count": 4,
   "metadata": {},
   "outputs": [
    {
     "data": {
      "text/html": "<style>\n    text.label_PNIdQIGJ {\n        text-anchor: middle;\n        font-size: 8px;\n        font-family: Arial, Helvetica, sans-serif;\n        fill: #999999;\n        stroke: #ffffff;\n        stroke-width: 0.1px;\n        opacity: 1.0;\n    }\n    .links_PNIdQIGJ line {\n    stroke-opacity: 1.0;\n    }\n    .arrows svg:path {\n        stroke: #666;\n    }\n    .nodes_PNIdQIGJ circle {\n    stroke: #fff;\n    stroke-width: 0.5px;\n    }\n</style>\n\n<svg width=\"400\" height=\"400\" id=\"PNIdQIGJ\">        \n    <text x=\"20\" y=\"20\" font-family=\"sans-serif\" font-size=\"14px\" fill=\"#666\" style=\"cursor: pointer\"\n        id='PNIdQIGJ_svg_txt'>[save svg]</text>\n</svg>\n\n<script charset=\"utf-8\" src=\"https://d3js.org/d3.v4.min.js\"></script>\n<script charset=\"utf-8\">\n\n// Load via requireJS if available (jupyter notebook environment)\ntry {\n    // Problem: require.config will raise an exception when called for the second time \n    require.config({\n        paths: {\n            //d3: \"https://d3js.org/d3.v4.min\"\n            d3: \"https://d3js.org/d3.v4.min.js\".replace(\".js\", \"\")\n        }\n    });\n    console.log(\"Detected requireJS\");\n}\ncatch(err){\n    // a reference error indicates that requireJS does not exist. \n    // other errors may occur due to multiple calls to config\n    if (err instanceof ReferenceError){\n        console.log(\"Detected no requireJS\");\n\n        // Helper function that waits for d3js to be loaded\n        require = function require(symbols, callback) {\n            var ms = 5;\n            window.setTimeout(function(t) {\n                if (window[symbols[0]])\n                    callback(window[symbols[0]]);\n                else \n                    window.setTimeout(arguments.callee, ms);\n            }, ms);\n        }\n    }\n}\n\n// wait until d3js has been loaded\nrequire([\"d3\"], function(d3) {\n    var svg = d3.select(\"#\"+\"PNIdQIGJ\"), radius = 6, width = +svg.attr(\"width\"), height = +svg.attr(\"height\");\n\n    var color = d3.scaleOrdinal(d3.schemeCategory20);\n\n    var graph = {\"links\": [{\"source\": \"Dennis Meng\", \"target\": \"TasksActivityTest.kt\", \"color\": \"#999999\", \"width\": 0.5, \"weight\": 0.2857142857142857}, {\"source\": \"Jose Alcerreca\", \"target\": \"config.yml\", \"color\": \"#999999\", \"width\": 0.5, \"weight\": 0.625}, {\"source\": \"Jose Alcerreca\", \"target\": \"styles.xml\", \"color\": \"#999999\", \"width\": 0.5, \"weight\": 0.5}, {\"source\": \"Jose Alcerreca\", \"target\": \"README.md\", \"color\": \"#999999\", \"width\": 0.5, \"weight\": 0.2777777777777778}, {\"source\": \"Jose Alcerreca\", \"target\": \"AddEditTaskFragment.kt\", \"color\": \"#999999\", \"width\": 0.5, \"weight\": 0.5294117647058824}, {\"source\": \"Jose Alcerreca\", \"target\": \"TaskDetailFragment.kt\", \"color\": \"#999999\", \"width\": 0.5, \"weight\": 0.5555555555555556}, {\"source\": \"Jose Alcerreca\", \"target\": \"TasksFragment.kt\", \"color\": \"#999999\", \"width\": 0.5, \"weight\": 0.5714285714285714}, {\"source\": \"Jose Alcerreca\", \"target\": \"EspressoIdlingResource.kt\", \"color\": \"#999999\", \"width\": 0.5, \"weight\": 0.7142857142857143}, {\"source\": \"Jose Alcerreca\", \"target\": \"ViewExt.kt\", \"color\": \"#999999\", \"width\": 0.5, \"weight\": 0.6666666666666666}, {\"source\": \"Dennis Meng\", \"target\": \"build.gradle\", \"color\": \"#999999\", \"width\": 0.5, \"weight\": 0.14285714285714285}, {\"source\": \"Jose Alcerreca\", \"target\": \"TasksActivityTest.kt\", \"color\": \"#999999\", \"width\": 0.5, \"weight\": 0.4444444444444444}, {\"source\": \"Jose Alcerreca\", \"target\": \"AddEditTaskFragmentTest.kt\", \"color\": \"#999999\", \"width\": 0.5, \"weight\": 0.5625}, {\"source\": \"Jose Alcerreca\", \"target\": \"TasksFragmentTest.kt\", \"color\": \"#999999\", \"width\": 0.5, \"weight\": 0.6}, {\"source\": \"Jose Alcerreca\", \"target\": \"StatisticsUtilsTest.kt\", \"color\": \"#999999\", \"width\": 0.5, \"weight\": 0.6}, {\"source\": \"Jose Alcerreca\", \"target\": \"TaskDetailViewModelTest.kt\", \"color\": \"#999999\", \"width\": 0.5, \"weight\": 0.5294117647058824}, {\"source\": \"Jose Alc\\u00e9rreca\", \"target\": \"build.gradle\", \"color\": \"#999999\", \"width\": 0.5, \"weight\": 0.35714285714285715}, {\"source\": \"Islam Salah\", \"target\": \"SimpleCountingIdlingResource.kt\", \"color\": \"#999999\", \"width\": 0.5, \"weight\": 1.0}, {\"source\": \"Jose Alc\\u00e9rreca\", \"target\": \"SimpleCountingIdlingResource.kt\", \"color\": \"#999999\", \"width\": 0.5, \"weight\": 0.2857142857142857}, {\"source\": \"Jose Alc\\u00e9rreca\", \"target\": \"TaskDetailFragment.kt\", \"color\": \"#999999\", \"width\": 0.5, \"weight\": 0.16666666666666666}, {\"source\": \"Jose Alc\\u00e9rreca\", \"target\": \"styles.xml\", \"color\": \"#999999\", \"width\": 0.5, \"weight\": 0.5}, {\"source\": \"Jose Alc\\u00e9rreca\", \"target\": \"README.md\", \"color\": \"#999999\", \"width\": 0.5, \"weight\": 0.6666666666666666}, {\"source\": \"Jose Alc\\u00e9rreca\", \"target\": \"TasksActivityTest.kt\", \"color\": \"#999999\", \"width\": 0.5, \"weight\": 0.3333333333333333}, {\"source\": \"Jose Alc\\u00e9rreca\", \"target\": \"TasksFragment.kt\", \"color\": \"#999999\", \"width\": 0.5, \"weight\": 0.14285714285714285}, {\"source\": \"Jose Alc\\u00e9rreca\", \"target\": \"EspressoIdlingResource.kt\", \"color\": \"#999999\", \"width\": 0.5, \"weight\": 0.2857142857142857}, {\"source\": \"Jose Alc\\u00e9rreca\", \"target\": \"AddEditTaskFragment.kt\", \"color\": \"#999999\", \"width\": 0.5, \"weight\": 0.17647058823529413}, {\"source\": \"Jose Alc\\u00e9rreca\", \"target\": \"ViewExt.kt\", \"color\": \"#999999\", \"width\": 0.5, \"weight\": 0.2222222222222222}, {\"source\": \"Jose Alc\\u00e9rreca\", \"target\": \"config.yml\", \"color\": \"#999999\", \"width\": 0.5, \"weight\": 0.375}, {\"source\": \"Jose Alcerreca\", \"target\": \"DiskIOThreadExecutor.kt\", \"color\": \"#999999\", \"width\": 0.5, \"weight\": 1.0}, {\"source\": \"Jose Alcerreca\", \"target\": \"AppNavigationTest.kt\", \"color\": \"#999999\", \"width\": 0.5, \"weight\": 0.5384615384615384}, {\"source\": \"Jose Alcerreca\", \"target\": \"StatisticsViewModel.kt\", \"color\": \"#999999\", \"width\": 0.5, \"weight\": 0.8333333333333334}, {\"source\": \"Jose Alcerreca\", \"target\": \"build.gradle\", \"color\": \"#999999\", \"width\": 0.5, \"weight\": 0.5714285714285714}, {\"source\": \"Dennis Meng\", \"target\": \"AddEditTaskFragmentTest.kt\", \"color\": \"#999999\", \"width\": 0.5, \"weight\": 0.14285714285714285}, {\"source\": \"Dennis Meng\", \"target\": \"TasksFragmentTest.kt\", \"color\": \"#999999\", \"width\": 0.5, \"weight\": 0.14285714285714285}, {\"source\": \"Dennis Meng\", \"target\": \"StatisticsUtilsTest.kt\", \"color\": \"#999999\", \"width\": 0.5, \"weight\": 0.14285714285714285}, {\"source\": \"Dennis Meng\", \"target\": \"TaskDetailViewModelTest.kt\", \"color\": \"#999999\", \"width\": 0.5, \"weight\": 0.14285714285714285}, {\"source\": \"Jose Alc\\u00e9rreca\", \"target\": \"AddEditTaskFragmentTest.kt\", \"color\": \"#999999\", \"width\": 0.5, \"weight\": 0.25}, {\"source\": \"Jose Alc\\u00e9rreca\", \"target\": \"StatisticsUtilsTest.kt\", \"color\": \"#999999\", \"width\": 0.5, \"weight\": 0.3}, {\"source\": \"Jose Alc\\u00e9rreca\", \"target\": \"TaskDetailViewModelTest.kt\", \"color\": \"#999999\", \"width\": 0.5, \"weight\": 0.23529411764705882}, {\"source\": \"Jose Alcerreca\", \"target\": \"MainCoroutineRule.kt\", \"color\": \"#999999\", \"width\": 0.5, \"weight\": 1.0}, {\"source\": \"Jose Alcerreca\", \"target\": \"TasksDaoTest.kt\", \"color\": \"#999999\", \"width\": 0.5, \"weight\": 0.7142857142857143}, {\"source\": \"Jose Alcerreca\", \"target\": \"TasksLocalDataSourceTest.kt\", \"color\": \"#999999\", \"width\": 0.5, \"weight\": 0.7}, {\"source\": \"Jose Alcerreca\", \"target\": \"StatisticsFragmentTest.kt\", \"color\": \"#999999\", \"width\": 0.5, \"weight\": 0.5555555555555556}, {\"source\": \"Jose Alcerreca\", \"target\": \"TaskDetailFragmentTest.kt\", \"color\": \"#999999\", \"width\": 0.5, \"weight\": 0.4444444444444444}, {\"source\": \"Jose Alc\\u00e9rreca\", \"target\": \"AppNavigationTest.kt\", \"color\": \"#999999\", \"width\": 0.5, \"weight\": 0.3076923076923077}, {\"source\": \"Jose Alcerreca\", \"target\": \"TaskDetailViewModel.kt\", \"color\": \"#999999\", \"width\": 0.5, \"weight\": 0.5625}, {\"source\": \"Jose Alc\\u00e9rreca\", \"target\": \"StatisticsFragmentTest.kt\", \"color\": \"#999999\", \"width\": 0.5, \"weight\": 0.4444444444444444}, {\"source\": \"Jose Alc\\u00e9rreca\", \"target\": \"ServiceLocator.kt\", \"color\": \"#999999\", \"width\": 0.5, \"weight\": 0.5}, {\"source\": \"Jose Alc\\u00e9rreca\", \"target\": \"DefaultTasksRepository.kt\", \"color\": \"#999999\", \"width\": 0.5, \"weight\": 0.25}, {\"source\": \"Jose Alc\\u00e9rreca\", \"target\": \"TasksViewModel.kt\", \"color\": \"#999999\", \"width\": 0.5, \"weight\": 0.2}, {\"source\": \"Jose Alc\\u00e9rreca\", \"target\": \"TaskDetailFragmentTest.kt\", \"color\": \"#999999\", \"width\": 0.5, \"weight\": 0.3333333333333333}, {\"source\": \"Jose Alc\\u00e9rreca\", \"target\": \"TasksRemoteDataSource.kt\", \"color\": \"#999999\", \"width\": 0.5, \"weight\": 0.16666666666666666}, {\"source\": \"Jose Alc\\u00e9rreca\", \"target\": \"strings.xml\", \"color\": \"#999999\", \"width\": 0.5, \"weight\": 0.3}, {\"source\": \"Jose Alc\\u00e9rreca\", \"target\": \"nav_graph.xml\", \"color\": \"#999999\", \"width\": 0.5, \"weight\": 0.2222222222222222}, {\"source\": \"Jose Alcerreca\", \"target\": \"StatisticsFragment.kt\", \"color\": \"#999999\", \"width\": 0.5, \"weight\": 0.5384615384615384}, {\"source\": \"Jose Alcerreca\", \"target\": \"FragmentExt.kt\", \"color\": \"#999999\", \"width\": 0.5, \"weight\": 0.3333333333333333}, {\"source\": \"Jose Alcerreca\", \"target\": \"CoroutinesTestRule.kt\", \"color\": \"#999999\", \"width\": 0.5, \"weight\": 1.0}, {\"source\": \"Jose Alcerreca\", \"target\": \"AddEditTaskViewModelTest.kt\", \"color\": \"#999999\", \"width\": 0.5, \"weight\": 0.45454545454545453}, {\"source\": \"Jose Alcerreca\", \"target\": \"DefaultTasksRepositoryTest.kt\", \"color\": \"#999999\", \"width\": 0.5, \"weight\": 0.75}, {\"source\": \"Jose Alcerreca\", \"target\": \"StatisticsViewModelTest.kt\", \"color\": \"#999999\", \"width\": 0.5, \"weight\": 0.8333333333333334}, {\"source\": \"Jose Alcerreca\", \"target\": \"TasksViewModelTest.kt\", \"color\": \"#999999\", \"width\": 0.5, \"weight\": 0.5}, {\"source\": \"Jose Alcerreca\", \"target\": \"proguard-rules.pro\", \"color\": \"#999999\", \"width\": 0.5, \"weight\": 1.0}, {\"source\": \"Jose Alcerreca\", \"target\": \"TasksRemoteDataSource.kt\", \"color\": \"#999999\", \"width\": 0.5, \"weight\": 0.8333333333333334}, {\"source\": \"Jose Alcerreca\", \"target\": \"FakeTasksRemoteDataSource.kt\", \"color\": \"#999999\", \"width\": 0.5, \"weight\": 0.75}, {\"source\": \"Jose Alcerreca\", \"target\": \"FakeRepository.kt\", \"color\": \"#999999\", \"width\": 0.5, \"weight\": 1.0}, {\"source\": \"Jose Alcerreca\", \"target\": \"DefaultTasksRepository.kt\", \"color\": \"#999999\", \"width\": 0.5, \"weight\": 0.75}, {\"source\": \"Jose Alcerreca\", \"target\": \"TasksViewModel.kt\", \"color\": \"#999999\", \"width\": 0.5, \"weight\": 0.4666666666666667}, {\"source\": \"Jose Alcerreca\", \"target\": \"statistics_frag.xml\", \"color\": \"#999999\", \"width\": 0.5, \"weight\": 0.5454545454545454}, {\"source\": \"Jose Alcerreca\", \"target\": \"taskdetail_frag.xml\", \"color\": \"#999999\", \"width\": 0.5, \"weight\": 0.5833333333333334}, {\"source\": \"Jose Alcerreca\", \"target\": \"nav_graph.xml\", \"color\": \"#999999\", \"width\": 0.5, \"weight\": 0.4444444444444444}, {\"source\": \"Jose Alcerreca\", \"target\": \"ViewModelFactory.kt\", \"color\": \"#999999\", \"width\": 0.5, \"weight\": 0.75}, {\"source\": \"Jose Alcerreca\", \"target\": \"SimpleCountingIdlingResource.kt\", \"color\": \"#999999\", \"width\": 0.5, \"weight\": 0.5714285714285714}, {\"source\": \"Jose Alcerreca\", \"target\": \"AddEditTaskViewModel.kt\", \"color\": \"#999999\", \"width\": 0.5, \"weight\": 0.4}, {\"source\": \"Jose Alcerreca\", \"target\": \"tasks_frag.xml\", \"color\": \"#999999\", \"width\": 0.5, \"weight\": 0.46153846153846156}, {\"source\": \"Jose Alc\\u00e9rreca\", \"target\": \"TasksFragmentTest.kt\", \"color\": \"#999999\", \"width\": 0.5, \"weight\": 0.2}, {\"source\": \"Jose Alc\\u00e9rreca\", \"target\": \"DefaultTasksRepositoryTest.kt\", \"color\": \"#999999\", \"width\": 0.5, \"weight\": 0.25}, {\"source\": \"Jose Alc\\u00e9rreca\", \"target\": \"TasksLocalDataSourceTest.kt\", \"color\": \"#999999\", \"width\": 0.5, \"weight\": 0.3}, {\"source\": \"Jose Alc\\u00e9rreca\", \"target\": \"AddEditTaskViewModelTest.kt\", \"color\": \"#999999\", \"width\": 0.5, \"weight\": 0.2727272727272727}, {\"source\": \"Jose Alc\\u00e9rreca\", \"target\": \"TasksViewModelTest.kt\", \"color\": \"#999999\", \"width\": 0.5, \"weight\": 0.25}, {\"source\": \"Jose Alc\\u00e9rreca\", \"target\": \"StatisticsViewModelTest.kt\", \"color\": \"#999999\", \"width\": 0.5, \"weight\": 0.16666666666666666}, {\"source\": \"Jose Alc\\u00e9rreca\", \"target\": \"TaskDetailViewModel.kt\", \"color\": \"#999999\", \"width\": 0.5, \"weight\": 0.1875}, {\"source\": \"Jose Alc\\u00e9rreca\", \"target\": \"TasksDaoTest.kt\", \"color\": \"#999999\", \"width\": 0.5, \"weight\": 0.2857142857142857}, {\"source\": \"Jose Alcerreca\", \"target\": \"TasksAdapter.kt\", \"color\": \"#999999\", \"width\": 0.5, \"weight\": 0.7142857142857143}, {\"source\": \"Jose Alcerreca\", \"target\": \"TasksListBindings.kt\", \"color\": \"#999999\", \"width\": 0.5, \"weight\": 0.6666666666666666}, {\"source\": \"Jose Alcerreca\", \"target\": \"task_item.xml\", \"color\": \"#999999\", \"width\": 0.5, \"weight\": 0.5833333333333334}, {\"source\": \"Jose Alcerreca\", \"target\": \"TasksActivity.kt\", \"color\": \"#999999\", \"width\": 0.5, \"weight\": 0.5555555555555556}, {\"source\": \"Jose Alcerreca\", \"target\": \"TestUtils.kt\", \"color\": \"#999999\", \"width\": 0.5, \"weight\": 1.0}, {\"source\": \"Lyla Fujiwara\", \"target\": \"TasksListBindings.kt\", \"color\": \"#999999\", \"width\": 0.5, \"weight\": 0.16666666666666666}, {\"source\": \"Lyla Fujiwara\", \"target\": \"TasksAdapter.kt\", \"color\": \"#999999\", \"width\": 0.5, \"weight\": 0.14285714285714285}, {\"source\": \"Lyla Fujiwara\", \"target\": \"tasks_frag.xml\", \"color\": \"#999999\", \"width\": 0.5, \"weight\": 0.23076923076923078}, {\"source\": \"Lyla Fujiwara\", \"target\": \"task_item.xml\", \"color\": \"#999999\", \"width\": 0.5, \"weight\": 0.16666666666666666}, {\"source\": \"Lyla Fujiwara\", \"target\": \"TasksFragment.kt\", \"color\": \"#999999\", \"width\": 0.5, \"weight\": 0.14285714285714285}, {\"source\": \"Lyla Fujiwara\", \"target\": \"TasksViewModel.kt\", \"color\": \"#999999\", \"width\": 0.5, \"weight\": 0.2}, {\"source\": \"Jose Alcerreca\", \"target\": \"TaskDetailUserActionsListener.kt\", \"color\": \"#999999\", \"width\": 0.5, \"weight\": 1.0}, {\"source\": \"Jose Alcerreca\", \"target\": \"TaskItemUserActionsListener.kt\", \"color\": \"#999999\", \"width\": 0.5, \"weight\": 1.0}, {\"source\": \"Jose Alcerreca\", \"target\": \".travis.yml\", \"color\": \"#999999\", \"width\": 0.5, \"weight\": 0.5}, {\"source\": \"Jose Alcerreca\", \"target\": \"TasksDataSource.kt\", \"color\": \"#999999\", \"width\": 0.5, \"weight\": 0.75}, {\"source\": \"Jose Alcerreca\", \"target\": \"TasksRepository.kt\", \"color\": \"#999999\", \"width\": 0.5, \"weight\": 1.0}, {\"source\": \"Jose Alcerreca\", \"target\": \"TasksLocalDataSource.kt\", \"color\": \"#999999\", \"width\": 0.5, \"weight\": 0.75}, {\"source\": \"Jose Alcerreca\", \"target\": \"ToDoDatabase.kt\", \"color\": \"#999999\", \"width\": 0.5, \"weight\": 0.75}, {\"source\": \"Lyla Fujiwara\", \"target\": \"StatisticsFragment.kt\", \"color\": \"#999999\", \"width\": 0.5, \"weight\": 0.15384615384615385}, {\"source\": \"Lyla Fujiwara\", \"target\": \"TaskDetailFragment.kt\", \"color\": \"#999999\", \"width\": 0.5, \"weight\": 0.1111111111111111}, {\"source\": \"Lyla Fujiwara\", \"target\": \"taskdetail_frag.xml\", \"color\": \"#999999\", \"width\": 0.5, \"weight\": 0.16666666666666666}, {\"source\": \"Lyla Fujiwara\", \"target\": \"ViewModelFactory.kt\", \"color\": \"#999999\", \"width\": 0.5, \"weight\": 0.25}, {\"source\": \"Lyla Fujiwara\", \"target\": \"statistics_frag.xml\", \"color\": \"#999999\", \"width\": 0.5, \"weight\": 0.18181818181818182}, {\"source\": \"Lyla Fujiwara\", \"target\": \"AddEditTaskFragment.kt\", \"color\": \"#999999\", \"width\": 0.5, \"weight\": 0.11764705882352941}, {\"source\": \"Lyla Fujiwara\", \"target\": \"nav_graph.xml\", \"color\": \"#999999\", \"width\": 0.5, \"weight\": 0.2222222222222222}, {\"source\": \"Lyla Fujiwara\", \"target\": \"ViewExt.kt\", \"color\": \"#999999\", \"width\": 0.5, \"weight\": 0.1111111111111111}, {\"source\": \"Lyla Fujiwara\", \"target\": \"TaskDetailViewModel.kt\", \"color\": \"#999999\", \"width\": 0.5, \"weight\": 0.125}, {\"source\": \"Lyla Fujiwara\", \"target\": \"AddEditTaskViewModel.kt\", \"color\": \"#999999\", \"width\": 0.5, \"weight\": 0.2}, {\"source\": \"Jose Alcerreca\", \"target\": \"ScrollChildSwipeRefreshLayout.kt\", \"color\": \"#999999\", \"width\": 0.5, \"weight\": 0.75}, {\"source\": \"Jose Alcerreca\", \"target\": \"Task.kt\", \"color\": \"#999999\", \"width\": 0.5, \"weight\": 0.75}, {\"source\": \"Jose Alcerreca\", \"target\": \"StatisticsUtils.kt\", \"color\": \"#999999\", \"width\": 0.5, \"weight\": 0.6666666666666666}, {\"source\": \"Jose Alcerreca\", \"target\": \"ServiceLocator.kt\", \"color\": \"#999999\", \"width\": 0.5, \"weight\": 0.5}, {\"source\": \"Jose Alcerreca\", \"target\": \"FakeDataSource.kt\", \"color\": \"#999999\", \"width\": 0.5, \"weight\": 1.0}, {\"source\": \"Lyla McBeath Fujiwara\", \"target\": \"AddEditTaskFragment.kt\", \"color\": \"#999999\", \"width\": 0.5, \"weight\": 0.17647058823529413}, {\"source\": \"Lyla McBeath Fujiwara\", \"target\": \"AddEditTaskViewModel.kt\", \"color\": \"#999999\", \"width\": 0.5, \"weight\": 0.2}, {\"source\": \"Lyla McBeath Fujiwara\", \"target\": \"StatisticsFragment.kt\", \"color\": \"#999999\", \"width\": 0.5, \"weight\": 0.15384615384615385}, {\"source\": \"Lyla McBeath Fujiwara\", \"target\": \"TaskDetailFragment.kt\", \"color\": \"#999999\", \"width\": 0.5, \"weight\": 0.16666666666666666}, {\"source\": \"Lyla McBeath Fujiwara\", \"target\": \"TaskDetailViewModel.kt\", \"color\": \"#999999\", \"width\": 0.5, \"weight\": 0.125}, {\"source\": \"Lyla McBeath Fujiwara\", \"target\": \"TasksFragment.kt\", \"color\": \"#999999\", \"width\": 0.5, \"weight\": 0.14285714285714285}, {\"source\": \"Lyla McBeath Fujiwara\", \"target\": \"TasksViewModel.kt\", \"color\": \"#999999\", \"width\": 0.5, \"weight\": 0.13333333333333333}, {\"source\": \"Lyla McBeath Fujiwara\", \"target\": \"FragmentExt.kt\", \"color\": \"#999999\", \"width\": 0.5, \"weight\": 0.3333333333333333}, {\"source\": \"Lyla McBeath Fujiwara\", \"target\": \"AddEditTaskViewModelTest.kt\", \"color\": \"#999999\", \"width\": 0.5, \"weight\": 0.18181818181818182}, {\"source\": \"Lyla McBeath Fujiwara\", \"target\": \"TaskDetailViewModelTest.kt\", \"color\": \"#999999\", \"width\": 0.5, \"weight\": 0.11764705882352941}, {\"source\": \"Lyla McBeath Fujiwara\", \"target\": \"TasksViewModelTest.kt\", \"color\": \"#999999\", \"width\": 0.5, \"weight\": 0.16666666666666666}, {\"source\": \"Jose Alcerreca\", \"target\": \"AndroidManifest.xml\", \"color\": \"#999999\", \"width\": 0.5, \"weight\": 0.75}, {\"source\": \"Jose Alcerreca\", \"target\": \"drawer_item_color.xml\", \"color\": \"#999999\", \"width\": 0.5, \"weight\": 0.6666666666666666}, {\"source\": \"Jose Alcerreca\", \"target\": \"opensans_font.xml\", \"color\": \"#999999\", \"width\": 0.5, \"weight\": 0.6666666666666666}, {\"source\": \"Jose Alcerreca\", \"target\": \"addtask_frag.xml\", \"color\": \"#999999\", \"width\": 0.5, \"weight\": 0.5}, {\"source\": \"Jose Alcerreca\", \"target\": \"strings.xml\", \"color\": \"#999999\", \"width\": 0.5, \"weight\": 0.4}, {\"source\": \"Jose Alcerreca\", \"target\": \"DataBindingIdlingResource.kt\", \"color\": \"#999999\", \"width\": 0.5, \"weight\": 1.0}, {\"source\": \"Lyla McBeath Fujiwara\", \"target\": \"nav_header.xml\", \"color\": \"#999999\", \"width\": 0.5, \"weight\": 0.14285714285714285}, {\"source\": \"Lyla McBeath Fujiwara\", \"target\": \"tasks_frag.xml\", \"color\": \"#999999\", \"width\": 0.5, \"weight\": 0.15384615384615385}, {\"source\": \"Lyla McBeath Fujiwara\", \"target\": \"dimens.xml\", \"color\": \"#999999\", \"width\": 0.5, \"weight\": 0.14285714285714285}, {\"source\": \"Lyla McBeath Fujiwara\", \"target\": \"strings.xml\", \"color\": \"#999999\", \"width\": 0.5, \"weight\": 0.2}, {\"source\": \"Jose Alcerreca\", \"target\": \"Event.kt\", \"color\": \"#999999\", \"width\": 0.5, \"weight\": 0.75}, {\"source\": \"Jose Alcerreca\", \"target\": \"TodoApplication.kt\", \"color\": \"#999999\", \"width\": 0.5, \"weight\": 1.0}, {\"source\": \"Jose Alcerreca\", \"target\": \"Result.kt\", \"color\": \"#999999\", \"width\": 0.5, \"weight\": 1.0}, {\"source\": \"Jose Alcerreca\", \"target\": \"TasksDao.kt\", \"color\": \"#999999\", \"width\": 0.5, \"weight\": 0.6666666666666666}, {\"source\": \"Jose Alcerreca\", \"target\": \"TasksFilterType.kt\", \"color\": \"#999999\", \"width\": 0.5, \"weight\": 0.6666666666666666}, {\"source\": \"Jose Alcerreca\", \"target\": \"ic_add.xml\", \"color\": \"#999999\", \"width\": 0.5, \"weight\": 0.6666666666666666}, {\"source\": \"Jose Alcerreca\", \"target\": \"ic_assignment_turned_in_24dp.xml\", \"color\": \"#999999\", \"width\": 0.5, \"weight\": 0.6666666666666666}, {\"source\": \"Jose Alcerreca\", \"target\": \"ic_check_circle_96dp.xml\", \"color\": \"#999999\", \"width\": 0.5, \"weight\": 0.5}, {\"source\": \"Jose Alcerreca\", \"target\": \"ic_done.xml\", \"color\": \"#999999\", \"width\": 0.5, \"weight\": 0.6666666666666666}, {\"source\": \"Jose Alcerreca\", \"target\": \"ic_edit.xml\", \"color\": \"#999999\", \"width\": 0.5, \"weight\": 0.6666666666666666}, {\"source\": \"Jose Alcerreca\", \"target\": \"ic_filter_list.xml\", \"color\": \"#999999\", \"width\": 0.5, \"weight\": 0.6666666666666666}, {\"source\": \"Jose Alcerreca\", \"target\": \"ic_list.xml\", \"color\": \"#999999\", \"width\": 0.5, \"weight\": 0.6666666666666666}, {\"source\": \"Jose Alcerreca\", \"target\": \"ic_menu.xml\", \"color\": \"#999999\", \"width\": 0.5, \"weight\": 0.6666666666666666}, {\"source\": \"Jose Alcerreca\", \"target\": \"ic_statistics.xml\", \"color\": \"#999999\", \"width\": 0.5, \"weight\": 0.6666666666666666}, {\"source\": \"Jose Alcerreca\", \"target\": \"ic_statistics_100dp.xml\", \"color\": \"#999999\", \"width\": 0.5, \"weight\": 0.6666666666666666}, {\"source\": \"Jose Alcerreca\", \"target\": \"ic_statistics_24dp.xml\", \"color\": \"#999999\", \"width\": 0.5, \"weight\": 0.6666666666666666}, {\"source\": \"Jose Alcerreca\", \"target\": \"ic_verified_user_96dp.xml\", \"color\": \"#999999\", \"width\": 0.5, \"weight\": 0.5}, {\"source\": \"Jose Alcerreca\", \"target\": \"list_completed_touch_feedback.xml\", \"color\": \"#999999\", \"width\": 0.5, \"weight\": 0.6666666666666666}, {\"source\": \"Jose Alcerreca\", \"target\": \"touch_feedback.xml\", \"color\": \"#999999\", \"width\": 0.5, \"weight\": 0.6666666666666666}, {\"source\": \"Jose Alcerreca\", \"target\": \"nav_header.xml\", \"color\": \"#999999\", \"width\": 0.5, \"weight\": 0.42857142857142855}, {\"source\": \"Jose Alcerreca\", \"target\": \"tasks_act.xml\", \"color\": \"#999999\", \"width\": 0.5, \"weight\": 0.6666666666666666}, {\"source\": \"Jose Alcerreca\", \"target\": \"drawer_actions.xml\", \"color\": \"#999999\", \"width\": 0.5, \"weight\": 0.42857142857142855}, {\"source\": \"Jose Alcerreca\", \"target\": \"filter_tasks.xml\", \"color\": \"#999999\", \"width\": 0.5, \"weight\": 0.6666666666666666}, {\"source\": \"Jose Alcerreca\", \"target\": \"taskdetail_fragment_menu.xml\", \"color\": \"#999999\", \"width\": 0.5, \"weight\": 0.6666666666666666}, {\"source\": \"Jose Alcerreca\", \"target\": \"tasks_fragment_menu.xml\", \"color\": \"#999999\", \"width\": 0.5, \"weight\": 0.6666666666666666}, {\"source\": \"Jose Alcerreca\", \"target\": \"dimens.xml\", \"color\": \"#999999\", \"width\": 0.5, \"weight\": 0.42857142857142855}, {\"source\": \"Jose Alcerreca\", \"target\": \"attrs.xml\", \"color\": \"#999999\", \"width\": 0.5, \"weight\": 0.6666666666666666}, {\"source\": \"Jose Alcerreca\", \"target\": \"colors.xml\", \"color\": \"#999999\", \"width\": 0.5, \"weight\": 0.6666666666666666}, {\"source\": \"Jose Alcerreca\", \"target\": \"TasksRepositoryExt.kt\", \"color\": \"#999999\", \"width\": 0.5, \"weight\": 0.5}, {\"source\": \"Jose Alcerreca\", \"target\": \"LiveDataTestUtil.kt\", \"color\": \"#999999\", \"width\": 0.5, \"weight\": 0.5}, {\"source\": \"Jose Alcerreca\", \"target\": \"TestUtil.kt\", \"color\": \"#999999\", \"width\": 0.5, \"weight\": 1.0}, {\"source\": \"Jose Alcerreca\", \"target\": \"CONTRIBUTING.md\", \"color\": \"#999999\", \"width\": 0.5, \"weight\": 1.0}, {\"source\": \"Jose Alcerreca\", \"target\": \"ISSUE_TEMPLATE.md\", \"color\": \"#999999\", \"width\": 0.5, \"weight\": 1.0}, {\"source\": \"Jose Alcerreca\", \"target\": \"LICENSE\", \"color\": \"#999999\", \"width\": 0.5, \"weight\": 1.0}, {\"source\": \"Jose Alcerreca\", \"target\": \"code-of-conduct.md\", \"color\": \"#999999\", \"width\": 0.5, \"weight\": 1.0}, {\"source\": \"Lyla McBeath Fujiwara\", \"target\": \"AppNavigationTest.kt\", \"color\": \"#999999\", \"width\": 0.5, \"weight\": 0.07692307692307693}, {\"source\": \"Lyla McBeath Fujiwara\", \"target\": \"TasksActivityTest.kt\", \"color\": \"#999999\", \"width\": 0.5, \"weight\": 0.05555555555555555}, {\"source\": \"Lyla McBeath Fujiwara\", \"target\": \"TasksActivity.kt\", \"color\": \"#999999\", \"width\": 0.5, \"weight\": 0.1111111111111111}, {\"source\": \"Lyla McBeath Fujiwara\", \"target\": \"addtask_frag.xml\", \"color\": \"#999999\", \"width\": 0.5, \"weight\": 0.125}, {\"source\": \"Lyla McBeath Fujiwara\", \"target\": \"statistics_frag.xml\", \"color\": \"#999999\", \"width\": 0.5, \"weight\": 0.09090909090909091}, {\"source\": \"Lyla McBeath Fujiwara\", \"target\": \"task_item.xml\", \"color\": \"#999999\", \"width\": 0.5, \"weight\": 0.08333333333333333}, {\"source\": \"Lyla McBeath Fujiwara\", \"target\": \"taskdetail_frag.xml\", \"color\": \"#999999\", \"width\": 0.5, \"weight\": 0.08333333333333333}, {\"source\": \"Lyla McBeath Fujiwara\", \"target\": \"drawer_actions.xml\", \"color\": \"#999999\", \"width\": 0.5, \"weight\": 0.14285714285714285}, {\"source\": \"Lyla McBeath Fujiwara\", \"target\": \"nav_graph.xml\", \"color\": \"#999999\", \"width\": 0.5, \"weight\": 0.1111111111111111}, {\"source\": \"Lyla McBeath Fujiwara\", \"target\": \"AddEditTaskFragmentTest.kt\", \"color\": \"#999999\", \"width\": 0.5, \"weight\": 0.0625}, {\"source\": \"Lyla McBeath Fujiwara\", \"target\": \"TaskDetailFragmentTest.kt\", \"color\": \"#999999\", \"width\": 0.5, \"weight\": 0.1111111111111111}, {\"source\": \"Lyla McBeath Fujiwara\", \"target\": \"TasksFragmentTest.kt\", \"color\": \"#999999\", \"width\": 0.5, \"weight\": 0.06666666666666667}, {\"source\": \"Jose Alcerreca\", \"target\": \".gitignore\", \"color\": \"#999999\", \"width\": 0.5, \"weight\": 1.0}, {\"source\": \"Lyla Fujiwara\", \"target\": \"drawer_actions.xml\", \"color\": \"#999999\", \"width\": 0.5, \"weight\": 0.14285714285714285}, {\"source\": \"Lyla Fujiwara\", \"target\": \"AddEditTaskFragmentTest.kt\", \"color\": \"#999999\", \"width\": 0.5, \"weight\": 0.0625}, {\"source\": \"Lyla Fujiwara\", \"target\": \"nav_header.xml\", \"color\": \"#999999\", \"width\": 0.5, \"weight\": 0.14285714285714285}, {\"source\": \"Lyla Fujiwara\", \"target\": \"TasksActivity.kt\", \"color\": \"#999999\", \"width\": 0.5, \"weight\": 0.1111111111111111}, {\"source\": \"Lyla Fujiwara\", \"target\": \"TasksFragmentTest.kt\", \"color\": \"#999999\", \"width\": 0.5, \"weight\": 0.06666666666666667}, {\"source\": \"Lyla Fujiwara\", \"target\": \"AppNavigationTest.kt\", \"color\": \"#999999\", \"width\": 0.5, \"weight\": 0.07692307692307693}, {\"source\": \"Lyla Fujiwara\", \"target\": \"dimens.xml\", \"color\": \"#999999\", \"width\": 0.5, \"weight\": 0.14285714285714285}, {\"source\": \"Lyla Fujiwara\", \"target\": \"FragmentExt.kt\", \"color\": \"#999999\", \"width\": 0.5, \"weight\": 0.16666666666666666}, {\"source\": \"Lyla Fujiwara\", \"target\": \"TaskDetailFragmentTest.kt\", \"color\": \"#999999\", \"width\": 0.5, \"weight\": 0.1111111111111111}, {\"source\": \"Lyla Fujiwara\", \"target\": \"TaskDetailViewModelTest.kt\", \"color\": \"#999999\", \"width\": 0.5, \"weight\": 0.058823529411764705}, {\"source\": \"Lyla Fujiwara\", \"target\": \"addtask_frag.xml\", \"color\": \"#999999\", \"width\": 0.5, \"weight\": 0.125}, {\"source\": \"Lyla Fujiwara\", \"target\": \"AddEditTaskViewModelTest.kt\", \"color\": \"#999999\", \"width\": 0.5, \"weight\": 0.09090909090909091}, {\"source\": \"Lyla Fujiwara\", \"target\": \"strings.xml\", \"color\": \"#999999\", \"width\": 0.5, \"weight\": 0.1}, {\"source\": \"Lyla Fujiwara\", \"target\": \"README.md\", \"color\": \"#999999\", \"width\": 0.5, \"weight\": 0.05555555555555555}, {\"source\": \"Lyla Fujiwara\", \"target\": \"TasksActivityTest.kt\", \"color\": \"#999999\", \"width\": 0.5, \"weight\": 0.05555555555555555}, {\"source\": \"Lyla Fujiwara\", \"target\": \"TasksViewModelTest.kt\", \"color\": \"#999999\", \"width\": 0.5, \"weight\": 0.08333333333333333}, {\"source\": \"Jose Alc\\u00e9rreca\", \"target\": \"ic_filter_list.xml\", \"color\": \"#999999\", \"width\": 0.5, \"weight\": 0.3333333333333333}, {\"source\": \"Jose Alc\\u00e9rreca\", \"target\": \"ic_check_circle_96dp.xml\", \"color\": \"#999999\", \"width\": 0.5, \"weight\": 0.5}, {\"source\": \"Jose Alc\\u00e9rreca\", \"target\": \"list_completed_touch_feedback.xml\", \"color\": \"#999999\", \"width\": 0.5, \"weight\": 0.3333333333333333}, {\"source\": \"Jose Alc\\u00e9rreca\", \"target\": \"drawer_actions.xml\", \"color\": \"#999999\", \"width\": 0.5, \"weight\": 0.2857142857142857}, {\"source\": \"Jose Alc\\u00e9rreca\", \"target\": \"ic_add.xml\", \"color\": \"#999999\", \"width\": 0.5, \"weight\": 0.3333333333333333}, {\"source\": \"Jose Alc\\u00e9rreca\", \"target\": \"dimens.xml\", \"color\": \"#999999\", \"width\": 0.5, \"weight\": 0.2857142857142857}, {\"source\": \"Jose Alc\\u00e9rreca\", \"target\": \"AddEditTaskViewModel.kt\", \"color\": \"#999999\", \"width\": 0.5, \"weight\": 0.2}, {\"source\": \"Jose Alc\\u00e9rreca\", \"target\": \"TasksListBindings.kt\", \"color\": \"#999999\", \"width\": 0.5, \"weight\": 0.16666666666666666}, {\"source\": \"Jose Alc\\u00e9rreca\", \"target\": \"TasksLocalDataSource.kt\", \"color\": \"#999999\", \"width\": 0.5, \"weight\": 0.25}, {\"source\": \"Jose Alc\\u00e9rreca\", \"target\": \"tasks_fragment_menu.xml\", \"color\": \"#999999\", \"width\": 0.5, \"weight\": 0.3333333333333333}, {\"source\": \"Jose Alc\\u00e9rreca\", \"target\": \"opensans_font.xml\", \"color\": \"#999999\", \"width\": 0.5, \"weight\": 0.3333333333333333}, {\"source\": \"Jose Alc\\u00e9rreca\", \"target\": \"ic_verified_user_96dp.xml\", \"color\": \"#999999\", \"width\": 0.5, \"weight\": 0.5}, {\"source\": \"Jose Alc\\u00e9rreca\", \"target\": \"TasksDataSource.kt\", \"color\": \"#999999\", \"width\": 0.5, \"weight\": 0.25}, {\"source\": \"Jose Alc\\u00e9rreca\", \"target\": \"TasksFilterType.kt\", \"color\": \"#999999\", \"width\": 0.5, \"weight\": 0.3333333333333333}, {\"source\": \"Jose Alc\\u00e9rreca\", \"target\": \"TasksRepositoryExt.kt\", \"color\": \"#999999\", \"width\": 0.5, \"weight\": 0.5}, {\"source\": \"Jose Alc\\u00e9rreca\", \"target\": \"Task.kt\", \"color\": \"#999999\", \"width\": 0.5, \"weight\": 0.25}, {\"source\": \"Jose Alc\\u00e9rreca\", \"target\": \"ic_list.xml\", \"color\": \"#999999\", \"width\": 0.5, \"weight\": 0.3333333333333333}, {\"source\": \"Jose Alc\\u00e9rreca\", \"target\": \"ic_statistics_24dp.xml\", \"color\": \"#999999\", \"width\": 0.5, \"weight\": 0.3333333333333333}, {\"source\": \"Jose Alc\\u00e9rreca\", \"target\": \"nav_header.xml\", \"color\": \"#999999\", \"width\": 0.5, \"weight\": 0.2857142857142857}, {\"source\": \"Jose Alc\\u00e9rreca\", \"target\": \"TasksActivity.kt\", \"color\": \"#999999\", \"width\": 0.5, \"weight\": 0.2222222222222222}, {\"source\": \"Jose Alc\\u00e9rreca\", \"target\": \"touch_feedback.xml\", \"color\": \"#999999\", \"width\": 0.5, \"weight\": 0.3333333333333333}, {\"source\": \"Jose Alc\\u00e9rreca\", \"target\": \"LiveDataTestUtil.kt\", \"color\": \"#999999\", \"width\": 0.5, \"weight\": 0.5}, {\"source\": \"Jose Alc\\u00e9rreca\", \"target\": \"taskdetail_frag.xml\", \"color\": \"#999999\", \"width\": 0.5, \"weight\": 0.16666666666666666}, {\"source\": \"Jose Alc\\u00e9rreca\", \"target\": \"StatisticsViewModel.kt\", \"color\": \"#999999\", \"width\": 0.5, \"weight\": 0.16666666666666666}, {\"source\": \"Jose Alc\\u00e9rreca\", \"target\": \"ic_statistics.xml\", \"color\": \"#999999\", \"width\": 0.5, \"weight\": 0.3333333333333333}, {\"source\": \"Jose Alc\\u00e9rreca\", \"target\": \"statistics_frag.xml\", \"color\": \"#999999\", \"width\": 0.5, \"weight\": 0.18181818181818182}, {\"source\": \"Jose Alc\\u00e9rreca\", \"target\": \"TasksDao.kt\", \"color\": \"#999999\", \"width\": 0.5, \"weight\": 0.3333333333333333}, {\"source\": \"Jose Alc\\u00e9rreca\", \"target\": \"taskdetail_fragment_menu.xml\", \"color\": \"#999999\", \"width\": 0.5, \"weight\": 0.3333333333333333}, {\"source\": \"Jose Alc\\u00e9rreca\", \"target\": \".travis.yml\", \"color\": \"#999999\", \"width\": 0.5, \"weight\": 0.5}, {\"source\": \"Jose Alc\\u00e9rreca\", \"target\": \"attrs.xml\", \"color\": \"#999999\", \"width\": 0.5, \"weight\": 0.3333333333333333}, {\"source\": \"Jose Alc\\u00e9rreca\", \"target\": \"ToDoDatabase.kt\", \"color\": \"#999999\", \"width\": 0.5, \"weight\": 0.25}, {\"source\": \"Jose Alc\\u00e9rreca\", \"target\": \"ic_menu.xml\", \"color\": \"#999999\", \"width\": 0.5, \"weight\": 0.3333333333333333}, {\"source\": \"Jose Alc\\u00e9rreca\", \"target\": \"StatisticsFragment.kt\", \"color\": \"#999999\", \"width\": 0.5, \"weight\": 0.15384615384615385}, {\"source\": \"Jose Alc\\u00e9rreca\", \"target\": \"addtask_frag.xml\", \"color\": \"#999999\", \"width\": 0.5, \"weight\": 0.25}, {\"source\": \"Jose Alc\\u00e9rreca\", \"target\": \"tasks_frag.xml\", \"color\": \"#999999\", \"width\": 0.5, \"weight\": 0.15384615384615385}, {\"source\": \"Jose Alc\\u00e9rreca\", \"target\": \"task_item.xml\", \"color\": \"#999999\", \"width\": 0.5, \"weight\": 0.16666666666666666}, {\"source\": \"Jose Alc\\u00e9rreca\", \"target\": \"Event.kt\", \"color\": \"#999999\", \"width\": 0.5, \"weight\": 0.25}, {\"source\": \"Jose Alc\\u00e9rreca\", \"target\": \"StatisticsUtils.kt\", \"color\": \"#999999\", \"width\": 0.5, \"weight\": 0.3333333333333333}, {\"source\": \"Jose Alc\\u00e9rreca\", \"target\": \"ic_statistics_100dp.xml\", \"color\": \"#999999\", \"width\": 0.5, \"weight\": 0.3333333333333333}, {\"source\": \"Jose Alc\\u00e9rreca\", \"target\": \"ic_done.xml\", \"color\": \"#999999\", \"width\": 0.5, \"weight\": 0.3333333333333333}, {\"source\": \"Jose Alc\\u00e9rreca\", \"target\": \"tasks_act.xml\", \"color\": \"#999999\", \"width\": 0.5, \"weight\": 0.3333333333333333}, {\"source\": \"Jose Alc\\u00e9rreca\", \"target\": \"ic_edit.xml\", \"color\": \"#999999\", \"width\": 0.5, \"weight\": 0.3333333333333333}, {\"source\": \"Jose Alc\\u00e9rreca\", \"target\": \"TasksAdapter.kt\", \"color\": \"#999999\", \"width\": 0.5, \"weight\": 0.14285714285714285}, {\"source\": \"Jose Alc\\u00e9rreca\", \"target\": \"drawer_item_color.xml\", \"color\": \"#999999\", \"width\": 0.5, \"weight\": 0.3333333333333333}, {\"source\": \"Jose Alc\\u00e9rreca\", \"target\": \"colors.xml\", \"color\": \"#999999\", \"width\": 0.5, \"weight\": 0.3333333333333333}, {\"source\": \"Jose Alc\\u00e9rreca\", \"target\": \"ic_assignment_turned_in_24dp.xml\", \"color\": \"#999999\", \"width\": 0.5, \"weight\": 0.3333333333333333}, {\"source\": \"Jose Alc\\u00e9rreca\", \"target\": \"ScrollChildSwipeRefreshLayout.kt\", \"color\": \"#999999\", \"width\": 0.5, \"weight\": 0.25}, {\"source\": \"Jose Alc\\u00e9rreca\", \"target\": \"AndroidManifest.xml\", \"color\": \"#999999\", \"width\": 0.5, \"weight\": 0.25}, {\"source\": \"Jose Alc\\u00e9rreca\", \"target\": \"filter_tasks.xml\", \"color\": \"#999999\", \"width\": 0.5, \"weight\": 0.3333333333333333}, {\"source\": \"Jose Alc\\u00e9rreca\", \"target\": \"FragmentExt.kt\", \"color\": \"#999999\", \"width\": 0.5, \"weight\": 0.16666666666666666}, {\"source\": \"Jose Alc\\u00e9rreca\", \"target\": \"FakeTasksRemoteDataSource.kt\", \"color\": \"#999999\", \"width\": 0.5, \"weight\": 0.25}, {\"source\": \"Jose Alcerreca\", \"target\": \"proguardTest-rules.pro\", \"color\": \"#999999\", \"width\": 0.5, \"weight\": 1.0}, {\"source\": \"Jose Alcerreca\", \"target\": \"ActivityTestExt.kt\", \"color\": \"#999999\", \"width\": 0.5, \"weight\": 1.0}, {\"source\": \"Jose Alcerreca\", \"target\": \"NavigationViewActions.kt\", \"color\": \"#999999\", \"width\": 0.5, \"weight\": 1.0}, {\"source\": \"Jose Alcerreca\", \"target\": \"TasksScreenTest.kt\", \"color\": \"#999999\", \"width\": 0.5, \"weight\": 1.0}, {\"source\": \"Jose Alcerreca\", \"target\": \"SingleExecutors.kt\", \"color\": \"#999999\", \"width\": 0.5, \"weight\": 1.0}, {\"source\": \"Jose Alcerreca\", \"target\": \"AddEditTaskScreenTest.kt\", \"color\": \"#999999\", \"width\": 0.5, \"weight\": 1.0}, {\"source\": \"Jose Alcerreca\", \"target\": \"StatisticsScreenTest.kt\", \"color\": \"#999999\", \"width\": 0.5, \"weight\": 1.0}, {\"source\": \"Jose Alcerreca\", \"target\": \"TaskDetailScreenTest.kt\", \"color\": \"#999999\", \"width\": 0.5, \"weight\": 1.0}, {\"source\": \"Jose Alcerreca\", \"target\": \"SingleLiveEvent.kt\", \"color\": \"#999999\", \"width\": 0.5, \"weight\": 1.0}, {\"source\": \"Jose Alcerreca\", \"target\": \"AddEditTaskActivity.kt\", \"color\": \"#999999\", \"width\": 0.5, \"weight\": 1.0}, {\"source\": \"Jose Alcerreca\", \"target\": \"AddEditTaskNavigator.kt\", \"color\": \"#999999\", \"width\": 0.5, \"weight\": 1.0}, {\"source\": \"Jose Alcerreca\", \"target\": \"StatisticsActivity.kt\", \"color\": \"#999999\", \"width\": 0.5, \"weight\": 1.0}, {\"source\": \"Jose Alcerreca\", \"target\": \"TaskDetailActivity.kt\", \"color\": \"#999999\", \"width\": 0.5, \"weight\": 1.0}, {\"source\": \"Jose Alcerreca\", \"target\": \"TaskDetailNavigator.kt\", \"color\": \"#999999\", \"width\": 0.5, \"weight\": 1.0}, {\"source\": \"Jose Alcerreca\", \"target\": \"TaskItemNavigator.kt\", \"color\": \"#999999\", \"width\": 0.5, \"weight\": 1.0}, {\"source\": \"Jose Alcerreca\", \"target\": \"TasksNavigator.kt\", \"color\": \"#999999\", \"width\": 0.5, \"weight\": 1.0}, {\"source\": \"Jose Alcerreca\", \"target\": \"AppCompatActivityExt.kt\", \"color\": \"#999999\", \"width\": 0.5, \"weight\": 1.0}, {\"source\": \"Jose Alcerreca\", \"target\": \"AppExecutors.kt\", \"color\": \"#999999\", \"width\": 0.5, \"weight\": 1.0}, {\"source\": \"Jose Alcerreca\", \"target\": \"logo.png\", \"color\": \"#999999\", \"width\": 0.5, \"weight\": 1.0}, {\"source\": \"Jose Alcerreca\", \"target\": \"ic_check_circle_24dp.xml\", \"color\": \"#999999\", \"width\": 0.5, \"weight\": 1.0}, {\"source\": \"Jose Alcerreca\", \"target\": \"ic_verified_user_24dp.xml\", \"color\": \"#999999\", \"width\": 0.5, \"weight\": 1.0}, {\"source\": \"Jose Alcerreca\", \"target\": \"addtask_act.xml\", \"color\": \"#999999\", \"width\": 0.5, \"weight\": 1.0}, {\"source\": \"Jose Alcerreca\", \"target\": \"statistics_act.xml\", \"color\": \"#999999\", \"width\": 0.5, \"weight\": 1.0}, {\"source\": \"Jose Alcerreca\", \"target\": \"taskdetail_act.xml\", \"color\": \"#999999\", \"width\": 0.5, \"weight\": 1.0}, {\"source\": \"Jose Alcerreca\", \"target\": \"ic_launcher.png\", \"color\": \"#999999\", \"width\": 0.5, \"weight\": 1.0}, {\"source\": \"Jose Alcerreca\", \"target\": \"Injection.kt\", \"color\": \"#999999\", \"width\": 0.5, \"weight\": 1.0}, {\"source\": \"Jose Alcerreca\", \"target\": \"MockitoKotlinHelpers.kt\", \"color\": \"#999999\", \"width\": 0.5, \"weight\": 1.0}, {\"source\": \"Jose Alcerreca\", \"target\": \"LiveDataTestUtil.java\", \"color\": \"#999999\", \"width\": 0.5, \"weight\": 1.0}, {\"source\": \"Jose Alcerreca\", \"target\": \"TasksRepositoryTest.kt\", \"color\": \"#999999\", \"width\": 0.5, \"weight\": 1.0}, {\"source\": \"Jose Alcerreca\", \"target\": \"org.mockito.plugins.MockMaker\", \"color\": \"#999999\", \"width\": 0.5, \"weight\": 1.0}, {\"source\": \"Jose Alcerreca\", \"target\": \"gradle.properties\", \"color\": \"#999999\", \"width\": 0.5, \"weight\": 1.0}, {\"source\": \"Jose Alcerreca\", \"target\": \"gradle-wrapper.jar\", \"color\": \"#999999\", \"width\": 0.5, \"weight\": 1.0}, {\"source\": \"Jose Alcerreca\", \"target\": \"gradle-wrapper.properties\", \"color\": \"#999999\", \"width\": 0.5, \"weight\": 1.0}, {\"source\": \"Jose Alcerreca\", \"target\": \"gradlew\", \"color\": \"#999999\", \"width\": 0.5, \"weight\": 1.0}, {\"source\": \"Jose Alcerreca\", \"target\": \"gradlew.bat\", \"color\": \"#999999\", \"width\": 0.5, \"weight\": 1.0}, {\"source\": \"Jose Alcerreca\", \"target\": \"settings.gradle\", \"color\": \"#999999\", \"width\": 0.5, \"weight\": 1.0}], \"nodes\": [{\"id\": \"Dennis Meng\", \"text\": \"Dennis Meng\", \"color\": \"#73D2DE\", \"size\": 5.0}, {\"id\": \"TasksActivityTest.kt\", \"text\": \"TasksActivityTest.kt\", \"color\": \"#2E5EAA\", \"size\": 5.0}, {\"id\": \"Jose Alcerreca\", \"text\": \"Jose Alcerreca\", \"color\": \"#73D2DE\", \"size\": 5.0}, {\"id\": \"config.yml\", \"text\": \"config.yml\", \"color\": \"#2E5EAA\", \"size\": 5.0}, {\"id\": \"styles.xml\", \"text\": \"styles.xml\", \"color\": \"#2E5EAA\", \"size\": 5.0}, {\"id\": \"README.md\", \"text\": \"README.md\", \"color\": \"#2E5EAA\", \"size\": 5.0}, {\"id\": \"AddEditTaskFragment.kt\", \"text\": \"AddEditTaskFragment.kt\", \"color\": \"#2E5EAA\", \"size\": 5.0}, {\"id\": \"TaskDetailFragment.kt\", \"text\": \"TaskDetailFragment.kt\", \"color\": \"#2E5EAA\", \"size\": 5.0}, {\"id\": \"TasksFragment.kt\", \"text\": \"TasksFragment.kt\", \"color\": \"#2E5EAA\", \"size\": 5.0}, {\"id\": \"EspressoIdlingResource.kt\", \"text\": \"EspressoIdlingResource.kt\", \"color\": \"#2E5EAA\", \"size\": 5.0}, {\"id\": \"ViewExt.kt\", \"text\": \"ViewExt.kt\", \"color\": \"#2E5EAA\", \"size\": 5.0}, {\"id\": \"build.gradle\", \"text\": \"build.gradle\", \"color\": \"#2E5EAA\", \"size\": 5.0}, {\"id\": \"AddEditTaskFragmentTest.kt\", \"text\": \"AddEditTaskFragmentTest.kt\", \"color\": \"#2E5EAA\", \"size\": 5.0}, {\"id\": \"TasksFragmentTest.kt\", \"text\": \"TasksFragmentTest.kt\", \"color\": \"#2E5EAA\", \"size\": 5.0}, {\"id\": \"StatisticsUtilsTest.kt\", \"text\": \"StatisticsUtilsTest.kt\", \"color\": \"#2E5EAA\", \"size\": 5.0}, {\"id\": \"TaskDetailViewModelTest.kt\", \"text\": \"TaskDetailViewModelTest.kt\", \"color\": \"#2E5EAA\", \"size\": 5.0}, {\"id\": \"Jose Alc\\u00e9rreca\", \"text\": \"Jose Alc\\u00e9rreca\", \"color\": \"#73D2DE\", \"size\": 5.0}, {\"id\": \"Islam Salah\", \"text\": \"Islam Salah\", \"color\": \"#73D2DE\", \"size\": 5.0}, {\"id\": \"SimpleCountingIdlingResource.kt\", \"text\": \"SimpleCountingIdlingResource.kt\", \"color\": \"#2E5EAA\", \"size\": 5.0}, {\"id\": \"DiskIOThreadExecutor.kt\", \"text\": \"DiskIOThreadExecutor.kt\", \"color\": \"#2E5EAA\", \"size\": 5.0}, {\"id\": \"AppNavigationTest.kt\", \"text\": \"AppNavigationTest.kt\", \"color\": \"#2E5EAA\", \"size\": 5.0}, {\"id\": \"StatisticsViewModel.kt\", \"text\": \"StatisticsViewModel.kt\", \"color\": \"#2E5EAA\", \"size\": 5.0}, {\"id\": \"MainCoroutineRule.kt\", \"text\": \"MainCoroutineRule.kt\", \"color\": \"#2E5EAA\", \"size\": 5.0}, {\"id\": \"TasksDaoTest.kt\", \"text\": \"TasksDaoTest.kt\", \"color\": \"#2E5EAA\", \"size\": 5.0}, {\"id\": \"TasksLocalDataSourceTest.kt\", \"text\": \"TasksLocalDataSourceTest.kt\", \"color\": \"#2E5EAA\", \"size\": 5.0}, {\"id\": \"StatisticsFragmentTest.kt\", \"text\": \"StatisticsFragmentTest.kt\", \"color\": \"#2E5EAA\", \"size\": 5.0}, {\"id\": \"TaskDetailFragmentTest.kt\", \"text\": \"TaskDetailFragmentTest.kt\", \"color\": \"#2E5EAA\", \"size\": 5.0}, {\"id\": \"TaskDetailViewModel.kt\", \"text\": \"TaskDetailViewModel.kt\", \"color\": \"#2E5EAA\", \"size\": 5.0}, {\"id\": \"ServiceLocator.kt\", \"text\": \"ServiceLocator.kt\", \"color\": \"#2E5EAA\", \"size\": 5.0}, {\"id\": \"DefaultTasksRepository.kt\", \"text\": \"DefaultTasksRepository.kt\", \"color\": \"#2E5EAA\", \"size\": 5.0}, {\"id\": \"TasksViewModel.kt\", \"text\": \"TasksViewModel.kt\", \"color\": \"#2E5EAA\", \"size\": 5.0}, {\"id\": \"TasksRemoteDataSource.kt\", \"text\": \"TasksRemoteDataSource.kt\", \"color\": \"#2E5EAA\", \"size\": 5.0}, {\"id\": \"strings.xml\", \"text\": \"strings.xml\", \"color\": \"#2E5EAA\", \"size\": 5.0}, {\"id\": \"nav_graph.xml\", \"text\": \"nav_graph.xml\", \"color\": \"#2E5EAA\", \"size\": 5.0}, {\"id\": \"StatisticsFragment.kt\", \"text\": \"StatisticsFragment.kt\", \"color\": \"#2E5EAA\", \"size\": 5.0}, {\"id\": \"FragmentExt.kt\", \"text\": \"FragmentExt.kt\", \"color\": \"#2E5EAA\", \"size\": 5.0}, {\"id\": \"CoroutinesTestRule.kt\", \"text\": \"CoroutinesTestRule.kt\", \"color\": \"#2E5EAA\", \"size\": 5.0}, {\"id\": \"AddEditTaskViewModelTest.kt\", \"text\": \"AddEditTaskViewModelTest.kt\", \"color\": \"#2E5EAA\", \"size\": 5.0}, {\"id\": \"DefaultTasksRepositoryTest.kt\", \"text\": \"DefaultTasksRepositoryTest.kt\", \"color\": \"#2E5EAA\", \"size\": 5.0}, {\"id\": \"StatisticsViewModelTest.kt\", \"text\": \"StatisticsViewModelTest.kt\", \"color\": \"#2E5EAA\", \"size\": 5.0}, {\"id\": \"TasksViewModelTest.kt\", \"text\": \"TasksViewModelTest.kt\", \"color\": \"#2E5EAA\", \"size\": 5.0}, {\"id\": \"proguard-rules.pro\", \"text\": \"proguard-rules.pro\", \"color\": \"#2E5EAA\", \"size\": 5.0}, {\"id\": \"FakeTasksRemoteDataSource.kt\", \"text\": \"FakeTasksRemoteDataSource.kt\", \"color\": \"#2E5EAA\", \"size\": 5.0}, {\"id\": \"FakeRepository.kt\", \"text\": \"FakeRepository.kt\", \"color\": \"#2E5EAA\", \"size\": 5.0}, {\"id\": \"statistics_frag.xml\", \"text\": \"statistics_frag.xml\", \"color\": \"#2E5EAA\", \"size\": 5.0}, {\"id\": \"taskdetail_frag.xml\", \"text\": \"taskdetail_frag.xml\", \"color\": \"#2E5EAA\", \"size\": 5.0}, {\"id\": \"ViewModelFactory.kt\", \"text\": \"ViewModelFactory.kt\", \"color\": \"#2E5EAA\", \"size\": 5.0}, {\"id\": \"AddEditTaskViewModel.kt\", \"text\": \"AddEditTaskViewModel.kt\", \"color\": \"#2E5EAA\", \"size\": 5.0}, {\"id\": \"tasks_frag.xml\", \"text\": \"tasks_frag.xml\", \"color\": \"#2E5EAA\", \"size\": 5.0}, {\"id\": \"TasksAdapter.kt\", \"text\": \"TasksAdapter.kt\", \"color\": \"#2E5EAA\", \"size\": 5.0}, {\"id\": \"TasksListBindings.kt\", \"text\": \"TasksListBindings.kt\", \"color\": \"#2E5EAA\", \"size\": 5.0}, {\"id\": \"task_item.xml\", \"text\": \"task_item.xml\", \"color\": \"#2E5EAA\", \"size\": 5.0}, {\"id\": \"TasksActivity.kt\", \"text\": \"TasksActivity.kt\", \"color\": \"#2E5EAA\", \"size\": 5.0}, {\"id\": \"TestUtils.kt\", \"text\": \"TestUtils.kt\", \"color\": \"#2E5EAA\", \"size\": 5.0}, {\"id\": \"Lyla Fujiwara\", \"text\": \"Lyla Fujiwara\", \"color\": \"#73D2DE\", \"size\": 5.0}, {\"id\": \"TaskDetailUserActionsListener.kt\", \"text\": \"TaskDetailUserActionsListener.kt\", \"color\": \"#2E5EAA\", \"size\": 5.0}, {\"id\": \"TaskItemUserActionsListener.kt\", \"text\": \"TaskItemUserActionsListener.kt\", \"color\": \"#2E5EAA\", \"size\": 5.0}, {\"id\": \".travis.yml\", \"text\": \".travis.yml\", \"color\": \"#2E5EAA\", \"size\": 5.0}, {\"id\": \"TasksDataSource.kt\", \"text\": \"TasksDataSource.kt\", \"color\": \"#2E5EAA\", \"size\": 5.0}, {\"id\": \"TasksRepository.kt\", \"text\": \"TasksRepository.kt\", \"color\": \"#2E5EAA\", \"size\": 5.0}, {\"id\": \"TasksLocalDataSource.kt\", \"text\": \"TasksLocalDataSource.kt\", \"color\": \"#2E5EAA\", \"size\": 5.0}, {\"id\": \"ToDoDatabase.kt\", \"text\": \"ToDoDatabase.kt\", \"color\": \"#2E5EAA\", \"size\": 5.0}, {\"id\": \"ScrollChildSwipeRefreshLayout.kt\", \"text\": \"ScrollChildSwipeRefreshLayout.kt\", \"color\": \"#2E5EAA\", \"size\": 5.0}, {\"id\": \"Task.kt\", \"text\": \"Task.kt\", \"color\": \"#2E5EAA\", \"size\": 5.0}, {\"id\": \"StatisticsUtils.kt\", \"text\": \"StatisticsUtils.kt\", \"color\": \"#2E5EAA\", \"size\": 5.0}, {\"id\": \"FakeDataSource.kt\", \"text\": \"FakeDataSource.kt\", \"color\": \"#2E5EAA\", \"size\": 5.0}, {\"id\": \"Lyla McBeath Fujiwara\", \"text\": \"Lyla McBeath Fujiwara\", \"color\": \"#73D2DE\", \"size\": 5.0}, {\"id\": \"AndroidManifest.xml\", \"text\": \"AndroidManifest.xml\", \"color\": \"#2E5EAA\", \"size\": 5.0}, {\"id\": \"drawer_item_color.xml\", \"text\": \"drawer_item_color.xml\", \"color\": \"#2E5EAA\", \"size\": 5.0}, {\"id\": \"opensans_font.xml\", \"text\": \"opensans_font.xml\", \"color\": \"#2E5EAA\", \"size\": 5.0}, {\"id\": \"addtask_frag.xml\", \"text\": \"addtask_frag.xml\", \"color\": \"#2E5EAA\", \"size\": 5.0}, {\"id\": \"DataBindingIdlingResource.kt\", \"text\": \"DataBindingIdlingResource.kt\", \"color\": \"#2E5EAA\", \"size\": 5.0}, {\"id\": \"nav_header.xml\", \"text\": \"nav_header.xml\", \"color\": \"#2E5EAA\", \"size\": 5.0}, {\"id\": \"dimens.xml\", \"text\": \"dimens.xml\", \"color\": \"#2E5EAA\", \"size\": 5.0}, {\"id\": \"Event.kt\", \"text\": \"Event.kt\", \"color\": \"#2E5EAA\", \"size\": 5.0}, {\"id\": \"TodoApplication.kt\", \"text\": \"TodoApplication.kt\", \"color\": \"#2E5EAA\", \"size\": 5.0}, {\"id\": \"Result.kt\", \"text\": \"Result.kt\", \"color\": \"#2E5EAA\", \"size\": 5.0}, {\"id\": \"TasksDao.kt\", \"text\": \"TasksDao.kt\", \"color\": \"#2E5EAA\", \"size\": 5.0}, {\"id\": \"TasksFilterType.kt\", \"text\": \"TasksFilterType.kt\", \"color\": \"#2E5EAA\", \"size\": 5.0}, {\"id\": \"ic_add.xml\", \"text\": \"ic_add.xml\", \"color\": \"#2E5EAA\", \"size\": 5.0}, {\"id\": \"ic_assignment_turned_in_24dp.xml\", \"text\": \"ic_assignment_turned_in_24dp.xml\", \"color\": \"#2E5EAA\", \"size\": 5.0}, {\"id\": \"ic_check_circle_96dp.xml\", \"text\": \"ic_check_circle_96dp.xml\", \"color\": \"#2E5EAA\", \"size\": 5.0}, {\"id\": \"ic_done.xml\", \"text\": \"ic_done.xml\", \"color\": \"#2E5EAA\", \"size\": 5.0}, {\"id\": \"ic_edit.xml\", \"text\": \"ic_edit.xml\", \"color\": \"#2E5EAA\", \"size\": 5.0}, {\"id\": \"ic_filter_list.xml\", \"text\": \"ic_filter_list.xml\", \"color\": \"#2E5EAA\", \"size\": 5.0}, {\"id\": \"ic_list.xml\", \"text\": \"ic_list.xml\", \"color\": \"#2E5EAA\", \"size\": 5.0}, {\"id\": \"ic_menu.xml\", \"text\": \"ic_menu.xml\", \"color\": \"#2E5EAA\", \"size\": 5.0}, {\"id\": \"ic_statistics.xml\", \"text\": \"ic_statistics.xml\", \"color\": \"#2E5EAA\", \"size\": 5.0}, {\"id\": \"ic_statistics_100dp.xml\", \"text\": \"ic_statistics_100dp.xml\", \"color\": \"#2E5EAA\", \"size\": 5.0}, {\"id\": \"ic_statistics_24dp.xml\", \"text\": \"ic_statistics_24dp.xml\", \"color\": \"#2E5EAA\", \"size\": 5.0}, {\"id\": \"ic_verified_user_96dp.xml\", \"text\": \"ic_verified_user_96dp.xml\", \"color\": \"#2E5EAA\", \"size\": 5.0}, {\"id\": \"list_completed_touch_feedback.xml\", \"text\": \"list_completed_touch_feedback.xml\", \"color\": \"#2E5EAA\", \"size\": 5.0}, {\"id\": \"touch_feedback.xml\", \"text\": \"touch_feedback.xml\", \"color\": \"#2E5EAA\", \"size\": 5.0}, {\"id\": \"tasks_act.xml\", \"text\": \"tasks_act.xml\", \"color\": \"#2E5EAA\", \"size\": 5.0}, {\"id\": \"drawer_actions.xml\", \"text\": \"drawer_actions.xml\", \"color\": \"#2E5EAA\", \"size\": 5.0}, {\"id\": \"filter_tasks.xml\", \"text\": \"filter_tasks.xml\", \"color\": \"#2E5EAA\", \"size\": 5.0}, {\"id\": \"taskdetail_fragment_menu.xml\", \"text\": \"taskdetail_fragment_menu.xml\", \"color\": \"#2E5EAA\", \"size\": 5.0}, {\"id\": \"tasks_fragment_menu.xml\", \"text\": \"tasks_fragment_menu.xml\", \"color\": \"#2E5EAA\", \"size\": 5.0}, {\"id\": \"attrs.xml\", \"text\": \"attrs.xml\", \"color\": \"#2E5EAA\", \"size\": 5.0}, {\"id\": \"colors.xml\", \"text\": \"colors.xml\", \"color\": \"#2E5EAA\", \"size\": 5.0}, {\"id\": \"TasksRepositoryExt.kt\", \"text\": \"TasksRepositoryExt.kt\", \"color\": \"#2E5EAA\", \"size\": 5.0}, {\"id\": \"LiveDataTestUtil.kt\", \"text\": \"LiveDataTestUtil.kt\", \"color\": \"#2E5EAA\", \"size\": 5.0}, {\"id\": \"TestUtil.kt\", \"text\": \"TestUtil.kt\", \"color\": \"#2E5EAA\", \"size\": 5.0}, {\"id\": \"CONTRIBUTING.md\", \"text\": \"CONTRIBUTING.md\", \"color\": \"#2E5EAA\", \"size\": 5.0}, {\"id\": \"ISSUE_TEMPLATE.md\", \"text\": \"ISSUE_TEMPLATE.md\", \"color\": \"#2E5EAA\", \"size\": 5.0}, {\"id\": \"LICENSE\", \"text\": \"LICENSE\", \"color\": \"#2E5EAA\", \"size\": 5.0}, {\"id\": \"code-of-conduct.md\", \"text\": \"code-of-conduct.md\", \"color\": \"#2E5EAA\", \"size\": 5.0}, {\"id\": \".gitignore\", \"text\": \".gitignore\", \"color\": \"#2E5EAA\", \"size\": 5.0}, {\"id\": \"proguardTest-rules.pro\", \"text\": \"proguardTest-rules.pro\", \"color\": \"#2E5EAA\", \"size\": 5.0}, {\"id\": \"ActivityTestExt.kt\", \"text\": \"ActivityTestExt.kt\", \"color\": \"#2E5EAA\", \"size\": 5.0}, {\"id\": \"NavigationViewActions.kt\", \"text\": \"NavigationViewActions.kt\", \"color\": \"#2E5EAA\", \"size\": 5.0}, {\"id\": \"TasksScreenTest.kt\", \"text\": \"TasksScreenTest.kt\", \"color\": \"#2E5EAA\", \"size\": 5.0}, {\"id\": \"SingleExecutors.kt\", \"text\": \"SingleExecutors.kt\", \"color\": \"#2E5EAA\", \"size\": 5.0}, {\"id\": \"AddEditTaskScreenTest.kt\", \"text\": \"AddEditTaskScreenTest.kt\", \"color\": \"#2E5EAA\", \"size\": 5.0}, {\"id\": \"StatisticsScreenTest.kt\", \"text\": \"StatisticsScreenTest.kt\", \"color\": \"#2E5EAA\", \"size\": 5.0}, {\"id\": \"TaskDetailScreenTest.kt\", \"text\": \"TaskDetailScreenTest.kt\", \"color\": \"#2E5EAA\", \"size\": 5.0}, {\"id\": \"SingleLiveEvent.kt\", \"text\": \"SingleLiveEvent.kt\", \"color\": \"#2E5EAA\", \"size\": 5.0}, {\"id\": \"AddEditTaskActivity.kt\", \"text\": \"AddEditTaskActivity.kt\", \"color\": \"#2E5EAA\", \"size\": 5.0}, {\"id\": \"AddEditTaskNavigator.kt\", \"text\": \"AddEditTaskNavigator.kt\", \"color\": \"#2E5EAA\", \"size\": 5.0}, {\"id\": \"StatisticsActivity.kt\", \"text\": \"StatisticsActivity.kt\", \"color\": \"#2E5EAA\", \"size\": 5.0}, {\"id\": \"TaskDetailActivity.kt\", \"text\": \"TaskDetailActivity.kt\", \"color\": \"#2E5EAA\", \"size\": 5.0}, {\"id\": \"TaskDetailNavigator.kt\", \"text\": \"TaskDetailNavigator.kt\", \"color\": \"#2E5EAA\", \"size\": 5.0}, {\"id\": \"TaskItemNavigator.kt\", \"text\": \"TaskItemNavigator.kt\", \"color\": \"#2E5EAA\", \"size\": 5.0}, {\"id\": \"TasksNavigator.kt\", \"text\": \"TasksNavigator.kt\", \"color\": \"#2E5EAA\", \"size\": 5.0}, {\"id\": \"AppCompatActivityExt.kt\", \"text\": \"AppCompatActivityExt.kt\", \"color\": \"#2E5EAA\", \"size\": 5.0}, {\"id\": \"AppExecutors.kt\", \"text\": \"AppExecutors.kt\", \"color\": \"#2E5EAA\", \"size\": 5.0}, {\"id\": \"logo.png\", \"text\": \"logo.png\", \"color\": \"#2E5EAA\", \"size\": 5.0}, {\"id\": \"ic_check_circle_24dp.xml\", \"text\": \"ic_check_circle_24dp.xml\", \"color\": \"#2E5EAA\", \"size\": 5.0}, {\"id\": \"ic_verified_user_24dp.xml\", \"text\": \"ic_verified_user_24dp.xml\", \"color\": \"#2E5EAA\", \"size\": 5.0}, {\"id\": \"addtask_act.xml\", \"text\": \"addtask_act.xml\", \"color\": \"#2E5EAA\", \"size\": 5.0}, {\"id\": \"statistics_act.xml\", \"text\": \"statistics_act.xml\", \"color\": \"#2E5EAA\", \"size\": 5.0}, {\"id\": \"taskdetail_act.xml\", \"text\": \"taskdetail_act.xml\", \"color\": \"#2E5EAA\", \"size\": 5.0}, {\"id\": \"ic_launcher.png\", \"text\": \"ic_launcher.png\", \"color\": \"#2E5EAA\", \"size\": 5.0}, {\"id\": \"Injection.kt\", \"text\": \"Injection.kt\", \"color\": \"#2E5EAA\", \"size\": 5.0}, {\"id\": \"MockitoKotlinHelpers.kt\", \"text\": \"MockitoKotlinHelpers.kt\", \"color\": \"#2E5EAA\", \"size\": 5.0}, {\"id\": \"LiveDataTestUtil.java\", \"text\": \"LiveDataTestUtil.java\", \"color\": \"#2E5EAA\", \"size\": 5.0}, {\"id\": \"TasksRepositoryTest.kt\", \"text\": \"TasksRepositoryTest.kt\", \"color\": \"#2E5EAA\", \"size\": 5.0}, {\"id\": \"org.mockito.plugins.MockMaker\", \"text\": \"org.mockito.plugins.MockMaker\", \"color\": \"#2E5EAA\", \"size\": 5.0}, {\"id\": \"gradle.properties\", \"text\": \"gradle.properties\", \"color\": \"#2E5EAA\", \"size\": 5.0}, {\"id\": \"gradle-wrapper.jar\", \"text\": \"gradle-wrapper.jar\", \"color\": \"#2E5EAA\", \"size\": 5.0}, {\"id\": \"gradle-wrapper.properties\", \"text\": \"gradle-wrapper.properties\", \"color\": \"#2E5EAA\", \"size\": 5.0}, {\"id\": \"gradlew\", \"text\": \"gradlew\", \"color\": \"#2E5EAA\", \"size\": 5.0}, {\"id\": \"gradlew.bat\", \"text\": \"gradlew.bat\", \"color\": \"#2E5EAA\", \"size\": 5.0}, {\"id\": \"settings.gradle\", \"text\": \"settings.gradle\", \"color\": \"#2E5EAA\", \"size\": 5.0}]};\n    var directed = true;\n\n    var simulation = d3.forceSimulation()        \n       .force(\"link\", d3.forceLink().id(function(d) { return d.id; }).strength(function(d){return d.weight;}))\n        .force(\"charge\", d3.forceManyBody().strength(-20).distanceMax(400))\n       .force(\"repelForce\", d3.forceManyBody().strength(-200).distanceMax(100))\n       .force(\"center\", d3.forceCenter(400 / 2, 400 / 2))\n       .alphaTarget(0.0);\n\n    svg.append(\"defs\").selectAll(\"marker\")\n        .data([\"end\"])\n    .enter().append(\"marker\")\n        .attr(\"id\", String)\n        .attr(\"viewBox\", \"0 -5 20 20\")\n        .attr(\"refX\", 34)\n        .attr(\"refY\", 0)\n        .attr(\"markerWidth\", 15)\n        .attr(\"markerHeight\", 15)\n        .attr(\"orient\", \"auto\")\n    .append(\"path\")\n        // draws a filled path (triangle) between three points\n        .attr(\"d\", \"M0,-5 L20,0 L0,5 z\")\n        .attr(\"fill\", '#999')\n        .attr(\"stroke\", 'none');\n\n    var g = svg.append(\"g\")\n        .attr(\"class\", \"everything\");\n\n    var link = g.append(\"g\")\n        .attr(\"class\", \"links_PNIdQIGJ\")\n        .selectAll(\"line\")\n        .data(graph.links)\n        .enter().append(\"line\")\n        .attr(\"stroke-width\", function(d) { return d.width; })\n        .attr(\"stroke\", function(d) { return d.color; } );\n\n    if (directed)\n        link.attr(\"marker-end\", \"url(#end)\");\n\n    var node_g = g.append(\"g\")\n        .attr(\"class\", \"nodes_PNIdQIGJ\")\n        .selectAll(\"circle\")\n        .data(graph.nodes)\n        .enter()\n        .append(\"g\"); \n\n    var node = node_g.append(\"circle\")\n        .attr('id', function(d) { return d.id; })\n        .attr(\"r\", function(d) { return d.size; })\n        .attr(\"fill\", function(d) { return d.color; })\n        .call(d3.drag()\n            .on(\"start\", dragstarted)\n            .on(\"drag\", dragged)\n            .on(\"end\", dragended));\n\n    var text = node_g.append(\"text\")\n    .attr(\"x\", [0, -10][0])\n    .attr(\"y\", [0, -10][1]+3)\n    .attr(\"id\", function(d) {return d.id; })\n    .attr(\"class\", \"label_PNIdQIGJ\")\n    .text(function(d) { return d.id; });\n\n    node.append(\"title\")\n        .text(function(d) { return d.text; });\n\n    var zoom_handler = d3.zoom()\n        .on(\"zoom\", zoom_actions);\n    zoom_handler(svg);\n\n    // attach event handler for svg export\n    d3.select('#PNIdQIGJ_svg_txt').on(\"click\", save_svg);\n\n    simulation\n        .nodes(graph.nodes)\n        .on(\"tick\", ticked);\n\n    simulation.force(\"link\")\n        .links(graph.links);\n\n    function ticked() {\n        link.attr(\"x1\", function(d) { return d.source.x; })\n            .attr(\"y1\", function(d) { return d.source.y; })\n            .attr(\"x2\", function(d) { return d.target.x; })\n            .attr(\"y2\", function(d) { return d.target.y; });\n\n         text.attr(\"transform\", transform);\n\n\n        text.attr(\"cx\", function(d) { return d.x; })\n            .attr(\"cy\", function(d) { return d.y; });\n\n        node.attr(\"cx\", function(d) { return d.x; })\n            .attr(\"cy\", function(d) { return d.y; });\n    }\n\n    function transform(d) {\n        return \"translate(\" + d.x + \",\" + d.y + \")\";\n    }\n\n    function dragstarted(d) {\n    if (!d3.event.active) simulation.alphaTarget(0.3).restart();\n    d.fx = d.x;\n    d.fy = d.y;\n    }\n\n    function zoom_actions(){\n        g.attr(\"transform\", d3.event.transform)\n    }    \n\n    function dragged(d) {\n    d.fx = d3.event.x;\n    d.fy = d3.event.y;\n    }\n\n    function dragended(d) {\n    if (!d3.event.active) simulation.alphaTarget(0);\n    d.fx = null;\n    d.fy = null;\n    }\n\n    function to_svg() {\n        // Returns a SVG representation of the current state of the visualisation\n\t    var svg  = document.getElementById('PNIdQIGJ');\n\t    var xml = (new XMLSerializer).serializeToString(svg);\n        return xml;\n    }\n\n    function save_svg() {\n        var svg  = document.getElementById('PNIdQIGJ');\n        var xml = (new XMLSerializer).serializeToString(svg);        \n        var blob = new Blob([xml], {type: 'text/xml'});\n        if(window.navigator.msSaveOrOpenBlob) {\n            window.navigator.msSaveBlob(blob, 'network.svg');\n        }\n        else{\n            var elem = window.document.createElement('a');\n            elem.href = window.URL.createObjectURL(blob);\n            elem.download = 'network.svg';\n            document.body.appendChild(elem);\n            elem.click();\n            document.body.removeChild(elem);\n        }\n    }\n});\n</script>",
      "text/plain": "<IPython.core.display.HTML object>"
     },
     "metadata": {},
     "output_type": "display_data"
    }
   ],
   "source": [
    "from datetime import datetime\n",
    "\n",
    "time_from = datetime(2019, 5, 1)\n",
    "t, node_info, edge_info = git2net.get_bipartite_network(sqlite_db_file, time_from=time_from)\n",
    "\n",
    "n = pp.Network.from_temporal_network(t)\n",
    "colour_map = {'author': '#73D2DE', 'file': '#2E5EAA'}\n",
    "node_colour = {node: colour_map[node_info['class'][node]] for node in n.nodes}\n",
    "pp.visualisation.plot(n, node_color=node_colour)"
   ]
  },
  {
   "cell_type": "markdown",
   "execution_count": null,
   "metadata": {},
   "outputs": [],
   "source": [
    "## Sqlite queries\n",
    "\n",
    "Lets begin to analyse the sqlite database, by connecting to the file."
   ]
  },
  {
   "cell_type": "code",
   "execution_count": 5,
   "metadata": {},
   "outputs": [],
   "source": [
    "import pandas as pd\n",
    "import sqlite3\n",
    "\n",
    "#connect to database file:\n",
    "con = sqlite3.connect(sqlite_db_file)\n",
    "c = con.cursor()"
   ]
  },
  {
   "cell_type": "markdown",
   "execution_count": null,
   "metadata": {},
   "outputs": [],
   "source": [
    "Since we only want to look at the edit type `replacement` in the `edits`-table, lets create a new table `df2` with the columns that we need for linear regression, namely:\n",
    "\n",
    "1. the distinct `hash` commit value\n",
    "2. the `committer_name`\n",
    "3. the `committer_date`\n",
    "4. the parent commit hash `original_commit_deletion`\n",
    "5. and the producitivity measure `levenshtein_dist`."
   ]
  },
  {
   "cell_type": "code",
   "execution_count": 6,
   "metadata": {},
   "outputs": [
    {
     "data": {
      "text/plain": "<sqlite3.Cursor at 0x7fe59892e810>"
     },
     "execution_count": 6,
     "metadata": {},
     "output_type": "execute_result"
    }
   ],
   "source": [
    "#create a new table with the desired column names:\n",
    "query0=\"\"\"\n",
    "    CREATE TABLE IF NOT EXISTS df2(\n",
    "    hash TEXT PRIMARY KEY,\n",
    "    committer_name TEXT,\n",
    "    committer_date TEXT,\n",
    "    original_commit_deletion TEXT,\n",
    "    levenshtein_dist INTEGER);\n",
    "\"\"\"\n",
    "\n",
    "#execute the queries on the database:\n",
    "c.execute(query0)"
   ]
  },
  {
   "cell_type": "markdown",
   "execution_count": null,
   "metadata": {},
   "outputs": [],
   "source": [
    "Following task 02, lets select only rows of table `edits`, where `edit_type='replacement'` and merge this with table `commits` along the primary key `hash`. This gives us a joined table of `edits` and `commits`, but with hashes occuring multiple times, each with different `levenshtein_dist`.\n",
    "\n",
    "Therefore we group this query by unique hashes, taking the sum of the `levenshtein dist` of same hashes, because we want to know the total `levenshtein_dist` for each commit and not for every single edit.\n",
    "\n",
    "Finally, we insert this into the new table `df2` to avoid key words (e.g. `SUM(levenshtein_dist)`) as column names."
   ]
  },
  {
   "cell_type": "code",
   "execution_count": 7,
   "metadata": {},
   "outputs": [
    {
     "data": {
      "text/plain": "<sqlite3.Cursor at 0x7fe59892e810>"
     },
     "execution_count": 7,
     "metadata": {},
     "output_type": "execute_result"
    }
   ],
   "source": [
    "query1=\"\"\"\n",
    "    INSERT INTO df2(hash, committer_name, committer_date, original_commit_deletion, levenshtein_dist)\n",
    "    SELECT hash, committer_name, committer_date, original_commit_deletion, \"SUM(levenshtein_dist)\"\n",
    "    FROM\n",
    "    (\n",
    "    SELECT \n",
    "    hash,\n",
    "    committer_name,\n",
    "    committer_date,\n",
    "    original_commit_deletion,\n",
    "    SUM(levenshtein_dist)\n",
    "    FROM(SELECT * FROM edits INNER JOIN commits ON commits.hash = edits.commit_hash WHERE edit_type = 'replacement')\n",
    "    GROUP BY hash\n",
    "    );\n",
    "\"\"\"\n",
    "\n",
    "c.execute(query1)"
   ]
  },
  {
   "cell_type": "markdown",
   "execution_count": null,
   "metadata": {},
   "outputs": [],
   "source": [
    "We can count the distinct `committer_names`, this gives us an idea of the size."
   ]
  },
  {
   "cell_type": "code",
   "execution_count": 8,
   "metadata": {},
   "outputs": [
    {
     "name": "stdout",
     "output_type": "stream",
     "text": "The number of committers we are dealing with is 40\n"
    }
   ],
   "source": [
    "#count the distinct committer names:\n",
    "query1_1=\"\"\"\n",
    "    SELECT count(DISTINCT committer_name) FROM df2;\n",
    "\"\"\"\n",
    "\n",
    "c.execute(query1_1)\n",
    "\n",
    "#store amount of distinct committer names as int...\n",
    "number_committers = c.fetchone()[0]\n",
    "\n",
    "print('The number of committers we are dealing with is', number_committers)\n",
    "\n",
    "#save the queries:\n",
    "con.commit()"
   ]
  },
  {
   "cell_type": "markdown",
   "execution_count": null,
   "metadata": {},
   "outputs": [],
   "source": [
    "Lets take a look of the committers names with the following query."
   ]
  },
  {
   "cell_type": "code",
   "execution_count": 9,
   "metadata": {},
   "outputs": [],
   "source": [
    "#select the distinct committer names\n",
    "query1_2=\"\"\"\n",
    "     SELECT DISTINCT committer_name FROM df2;\n",
    "\"\"\"\n",
    "\n",
    "c.execute(query1_2)\n",
    "\n",
    "#store names of committers in list:\n",
    "committer_list = c.fetchall()\n",
    "\n",
    "#save the queries:\n",
    "con.commit()\n",
    "\n",
    "#close the database to make it accessible for others:\n",
    "con.close()"
   ]
  },
  {
   "cell_type": "code",
   "execution_count": 10,
   "metadata": {},
   "outputs": [
    {
     "name": "stdout",
     "output_type": "stream",
     "text": "The committers names are:\n\n"
    },
    {
     "data": {
      "text/plain": "['Natalie Masse',\n 'Dennis Meng',\n 'Jose Alcerreca',\n 'Greg Pearce',\n 'Florina Muntenescu',\n 'GitHub',\n 'Stephan Linzner',\n 'Andrew',\n 'Douglas Sigelbaum',\n 'Jose Alcérreca',\n 'Jonathan Gerrish',\n 'h3r3x3',\n 'Eric Fung',\n 'JoseAlcerreca',\n 'David Gonzalez',\n 'Walmyr Filho',\n 'Ravindra Kumar',\n 'Yigit Boyar',\n 'Jan-Felix Schmakeit',\n 'Anril',\n 'Shinya Fukuta',\n 'tomaszrykala',\n 'Ada Zhang',\n 'Samuel Urbanowicz',\n 'Sergey V',\n \"Jorge 'Jorhell' Barroso aka flipper83\",\n 'Islam Salah',\n 'Natalie Masse Hooper',\n 'Gen',\n 'Duong Quang Son',\n 'Lyla McBeath Fujiwara',\n 'Egor N',\n 'richarth',\n 'Michael Amygdalidis',\n 'Mohit Ajwani',\n 'Brandon Gogetap',\n 'Dennis Sheil',\n 'Dmitriy Zaitsev',\n 'murdly',\n 'Ryan Seys']"
     },
     "execution_count": 10,
     "metadata": {},
     "output_type": "execute_result"
    }
   ],
   "source": [
    "#turn list of string-tuples into list of single-strings:\n",
    "committers = [i[0] for i in committer_list]\n",
    "\n",
    "print('The committers names are:\\n')\n",
    "\n",
    "committers\n"
   ]
  },
  {
   "cell_type": "markdown",
   "execution_count": null,
   "metadata": {},
   "outputs": [],
   "source": [
    "We want to find a productivity measure that suits each commit. The idea is to find the next commit, that an author did, and calculate the `levensthein_dist` for that specific time intervall between the two commits. Therefore, we first need to sort the `df2`-table by ascending `commit_dates`.\n",
    "\n",
    "We call this new table `df3`. We do this by executing our sorting query on `df2` and transfering everything to `df3`. By doing this procedure we avoid table errors and unclean workspace."
   ]
  },
  {
   "cell_type": "code",
   "execution_count": 11,
   "metadata": {},
   "outputs": [],
   "source": [
    "#create new empty table:\n",
    "query01=\"\"\"\n",
    "    CREATE TABLE IF NOT EXISTS df3(\n",
    "    hash TEXT PRIMARY KEY,\n",
    "    committer_name TEXT,\n",
    "    committer_date TEXT,\n",
    "    original_commit_deletion TEXT,\n",
    "    levenshtein_dist INTEGER);\n",
    "\"\"\"\n",
    "\n",
    "#sort committer_date ascending:\n",
    "query2=\"\"\"\n",
    "    INSERT INTO df3(hash, committer_name, committer_date, original_commit_deletion, levenshtein_dist)\n",
    "    SELECT *\n",
    "    FROM\n",
    "    (\n",
    "    SELECT * \n",
    "    FROM df2 \n",
    "    ORDER BY committer_date ASC\n",
    "    );\n",
    "\"\"\"\n",
    "\n",
    "#delete table df2:\n",
    "query3=\"\"\"\n",
    "    DROP TABLE df2;\n",
    "\"\"\"\n",
    "\n",
    "con = sqlite3.connect(sqlite_db_file)\n",
    "c = con.cursor()\n",
    "\n",
    "#execute the queries:\n",
    "c.execute(query01)\n",
    "c.execute(query2)\n",
    "c.execute(query3)\n",
    "#result: df3\n",
    "\n",
    "#close connection:\n",
    "con.commit()\n",
    "con.close()"
   ]
  },
  {
   "cell_type": "markdown",
   "execution_count": null,
   "metadata": {},
   "outputs": [],
   "source": [
    "## Numpy array\n",
    "\n",
    "Now we have a clean table with ascending `committer_dates`. We can transform this into a numpy array for faster and more precise calculations. "
   ]
  },
  {
   "cell_type": "code",
   "execution_count": 12,
   "metadata": {},
   "outputs": [
    {
     "name": "stdout",
     "output_type": "stream",
     "text": "The first row of the np array: \n ['6bf33a90fe82dc3f3081a3a5d3a58e78aaae3d27' 'Stephan Linzner'\n '2015-10-07 19:16:19' '1d23ebcbfe17345ab31f1e1d10e2d060201b1185' 1300]\n"
    }
   ],
   "source": [
    "#reopen connection:\n",
    "con = sqlite3.connect(sqlite_db_file)\n",
    "\n",
    "#output df2 as a pandas dataframe:\n",
    "df = pd.read_sql_query(\"SELECT * FROM df3;\", con=con)\n",
    "\n",
    "#turn Pandas dataframe into numpy array:\n",
    "df = df.values\n",
    "\n",
    "print('The first row of the np array: \\n', df[0])"
   ]
  },
  {
   "cell_type": "markdown",
   "execution_count": null,
   "metadata": {},
   "outputs": [],
   "source": [
    "## Productivity measure\n",
    "\n",
    "Since we will need to extend the array for the extra productivity value that we will calculate, we introduce a small function that appends further columns to our array."
   ]
  },
  {
   "cell_type": "code",
   "execution_count": 13,
   "metadata": {},
   "outputs": [],
   "source": [
    "import numpy as np\n",
    "\n",
    "#function for adding a full-length '0'-column to the dataframe:\n",
    "def add_column(df):\n",
    "    new_column = np.array(np.zeros(df.shape[0]))\n",
    "    return np.column_stack((df, new_column))"
   ]
  },
  {
   "cell_type": "code",
   "execution_count": 14,
   "metadata": {},
   "outputs": [
    {
     "name": "stdout",
     "output_type": "stream",
     "text": "Shape of array: (404, 6)\n"
    }
   ],
   "source": [
    "#add column:\n",
    "df = add_column(df)\n",
    "print('Shape of array:', df.shape)"
   ]
  },
  {
   "cell_type": "markdown",
   "execution_count": null,
   "metadata": {},
   "outputs": [],
   "source": [
    "In order to find out the total time between two commits of each author, we must turn the `committer_date` (string) into a readible numeric object. We can do this by stripping the time variables and returning a `datetime`-object."
   ]
  },
  {
   "cell_type": "code",
   "execution_count": 15,
   "metadata": {},
   "outputs": [
    {
     "name": "stdout",
     "output_type": "stream",
     "text": "2015-10-07 19:16:19\n<class 'datetime.datetime'>\n"
    }
   ],
   "source": [
    "#make date stamps readible, by turning them into a datetime-object:\n",
    "\n",
    "from datetime import datetime\n",
    "\n",
    "def date_to_int(date_str):\n",
    "    return datetime.strptime(date_str, '%Y-%m-%d %H:%M:%S')\n",
    "\n",
    "print(date_to_int(df[0][2]))\n",
    "print(type(date_to_int(df[0][2])))"
   ]
  },
  {
   "cell_type": "markdown",
   "execution_count": null,
   "metadata": {},
   "outputs": [],
   "source": [
    "Since the table is sorted by ascending `committer_dates`, we can simply run a loop and check for the next commit that a certain author delivered. We then calculate the amount of time (in seconds) between the two commits; we save the value in the newly created column.\n",
    "\n"
   ]
  },
  {
   "cell_type": "code",
   "execution_count": 16,
   "metadata": {},
   "outputs": [],
   "source": [
    "\n",
    "for i in range(df.shape[0]-1):\n",
    "    #grab the author and his commit_time:\n",
    "    author = df[i][1]\n",
    "    commit_time = df[i][2]\n",
    "    for j in range(i+1,df.shape[0]):\n",
    "        #search for the his next commit:\n",
    "        author_next = df[j][1]\n",
    "        commit_time_next = df[j][2]\n",
    "        #if there is a \"next commit\", calculate the commit_time differences (in total seconds) and save the value in the last column:\n",
    "        if author == author_next:\n",
    "                #calulate the total time (in seconds) between the 2 commits:\n",
    "                df[j][5] = (date_to_int(commit_time_next) - date_to_int(commit_time)).total_seconds()\n",
    "                break\n",
    "            "
   ]
  },
  {
   "cell_type": "code",
   "execution_count": 17,
   "metadata": {},
   "outputs": [
    {
     "name": "stdout",
     "output_type": "stream",
     "text": "Shape of array: (404, 7)\n"
    }
   ],
   "source": [
    "#add empty 6th column:\n",
    "df = add_column(df)\n",
    "print('Shape of array:', df.shape)"
   ]
  },
  {
   "cell_type": "markdown",
   "execution_count": null,
   "metadata": {},
   "outputs": [],
   "source": [
    "If someone has a `levensthein_dist` of 1000, but took 3 months to commit it, he was not very productive.\n",
    "Whereas someone with that same `levensthein_dist`, who commited in 3 days, is far more productive. \n",
    "\n",
    "Therefore, we define the productivity measure for each authors commit to be the `levensthein_dist` per second:\n",
    "\n",
    "$$\\text{levensthein_dist/second} \\quad = \\quad \\frac{\\text{levensthein_dist}}{\\text{time_between_two_commits}}$$ "
   ]
  },
  {
   "cell_type": "code",
   "execution_count": 18,
   "metadata": {},
   "outputs": [],
   "source": [
    "for i in range(df.shape[0]):\n",
    "    #if time_between_commits = 0, then set productivity to 0\n",
    "    if df[i][5] == 0:\n",
    "        df[i][6] = 0\n",
    "    #else, calculate productivity measure and store in 6th column\n",
    "    else:     \n",
    "        df[i][6] = df[i][4] / df[i][5]"
   ]
  },
  {
   "cell_type": "code",
   "execution_count": 19,
   "metadata": {},
   "outputs": [
    {
     "name": "stdout",
     "output_type": "stream",
     "text": "Shape of array: (404, 8)\n"
    }
   ],
   "source": [
    "#add empty 7th column:\n",
    "df = add_column(df)\n",
    "print('Shape of array:', df.shape)"
   ]
  },
  {
   "cell_type": "markdown",
   "execution_count": null,
   "metadata": {},
   "outputs": [],
   "source": [
    "## Collaboration variable\n",
    "\n",
    "Following task 03, we want to construct a variable defining if the author collaborated or not for his commit, i.e. whether or not he is editing someone elses commit.\n",
    "\n",
    "We set a boolean variable\n",
    "- '1' if the authors parents hash is another authors commit hash (collaborated: True)\n",
    "- '0' if this is not the case (collaborated: False)\n",
    "\n",
    "and store this in the newly created column."
   ]
  },
  {
   "cell_type": "code",
   "execution_count": 20,
   "metadata": {},
   "outputs": [],
   "source": [
    "for i in range(df.shape[0]):\n",
    "    parent_hash = df[i][3]\n",
    "    #set orig_author to default 'nobody'\n",
    "    #(important for genesis commit hashes)\n",
    "    orig_author = 'nobody'\n",
    "    for j in range(i):\n",
    "        #check whether any other prior hash is from the same author\n",
    "        if df[j][0] == parent_hash:\n",
    "            #update orig_author with real author name:\n",
    "            orig_author = df[j][1]\n",
    "            #if original hash found, then break:\n",
    "            break\n",
    "    #set a place holder in the 7th column:\n",
    "    df[i][7] = 'no parent_hash'\n",
    "    #if author collaborated, save '1', if not, save '0':\n",
    "    #only if orig_author was another author, did the author collaborate:\n",
    "    if orig_author != df[i][1] and orig_author != 'nobody':\n",
    "        df[i][7] = 1\n",
    "    else:\n",
    "        df[i][7] = 0"
   ]
  },
  {
   "cell_type": "markdown",
   "execution_count": null,
   "metadata": {},
   "outputs": [],
   "source": [
    "Now check the `df`-variable. We know have all the data in the columns needed for linear regression!\n",
    "\n",
    "Specifically, we only need\n",
    "\n",
    "1. the `committer_name`, capturing the identity of the developer. Each developer is obviously differently skilled, so we want to capture this effect in a specified variable when doing linear regression\n",
    "\n",
    "2. the `levenshtein_dist/second`, measuring the productivity of every authors commit\n",
    "\n",
    "3. the `collab_bool`, telling us whether or not the author \"collaborated\"\n",
    "\n",
    "We delete every other column of our array."
   ]
  },
  {
   "cell_type": "code",
   "execution_count": 21,
   "metadata": {},
   "outputs": [
    {
     "name": "stdout",
     "output_type": "stream",
     "text": "Shape of array: (404, 3)\n"
    }
   ],
   "source": [
    "#delete commit_hash:\n",
    "df = np.delete(df,0,1)\n",
    "#delete commit_time:\n",
    "df = np.delete(df,1,1)\n",
    "#delete parent_hash:\n",
    "df = np.delete(df,1,1)\n",
    "#delete levensthein_dist:\n",
    "df = np.delete(df,1,1)\n",
    "#delete time_between_commits:\n",
    "df = np.delete(df,1,1)\n",
    "\n",
    "print('Shape of array:', df.shape)"
   ]
  },
  {
   "cell_type": "markdown",
   "execution_count": null,
   "metadata": {},
   "outputs": [],
   "source": [
    "Its most convenient to perform (multiple) linear regression using `statsmodels`. This works best if we use a `pandas` dataframe, since we can call columns simply by their names. So in the following, we convert our `numpy` array into a 3-column `pandas` dataframe."
   ]
  },
  {
   "cell_type": "code",
   "execution_count": 22,
   "metadata": {},
   "outputs": [
    {
     "name": "stdout",
     "output_type": "stream",
     "text": "(404, 3)\n   committer_names  productivity_per_second collab_bool\n0  Stephan Linzner                 0.000000           0\n1  Stephan Linzner                 0.004408           0\n2   Jose Alcerreca                 0.000000           1\n"
    }
   ],
   "source": [
    "#insert first column of df as 'committer_names':\n",
    "pdf = pd.DataFrame({'committer_names': df[:,0]})\n",
    "#insert second column of df as 'productivity_per_second':\n",
    "pdf['productivity_per_second'] = df[:,1]\n",
    "#we must account for the lack of pandas' ability to handle scientific numeric notation (e.g. e^-5) by specifically turning them into numeric values:\n",
    "pdf['productivity_per_second'] = pd.to_numeric(pdf['productivity_per_second'])\n",
    "#insert third column of df as 'collab_bool':\n",
    "pdf['collab_bool'] = df[:,2]\n",
    "\n",
    "print(pdf.shape)\n",
    "print(pdf.head(3))"
   ]
  },
  {
   "cell_type": "markdown",
   "execution_count": null,
   "metadata": {},
   "outputs": [],
   "source": [
    "## Multiple linear regression\n",
    "\n",
    "Finally we can run linear regression!\n",
    "\n",
    "We must keep in mind, that the `committer_names` are `strings` and for each `committer_name`, we want to have a variable that captures the developers identity. Since they are 'strings', it would make them `categorical` variables. We can captures all of the different `committer_names` by introducing `dummy` variables. \n",
    "\n",
    "Thankfully, `statsmodels` sports an useful feature for automatically dealing with turning these `categorical` into `dummy` variables. \n",
    "We can neglect any common influence of one certain `committer_name` with another.\n",
    "\n",
    "Our multiple linear regression therefore consists of $$\\beta_{\\text{col}} \\cdot \\text{collab_bool} \\quad + \\quad \\textbf{beta}^{\\text{T}} \\cdot \\textbf{committer_names} \\quad = \\quad  \\text{productivity_per_second},$$\n",
    "where $\\textbf{beta} = (\\beta_0, \\ldots, \\beta_{\\text{number_committers}+1})$, ($\\beta_0$ accounts for the intercept) \n",
    "\n",
    "$\\textbf{committer_names} = (\\mathbb{1}, \\text{committer_names}[0], \\ldots, \\text{committer_names}[\\text{number_committers}])$\n",
    "\n",
    "By investigating the value of the estimated $\\beta_{\\text{col}}$, we can explain the linear effect of collaborating on the productivity. This may allow to discuss the Ringelmann effect when comparing different group sizes.\n"
   ]
  },
  {
   "cell_type": "code",
   "execution_count": 23,
   "metadata": {},
   "outputs": [
    {
     "name": "stdout",
     "output_type": "stream",
     "text": "OLS Regression Results                              \n===================================================================================\nDep. Variable:     productivity_per_second   R-squared:                       0.011\nModel:                                 OLS   Adj. R-squared:                 -0.098\nMethod:                      Least Squares   F-statistic:                   0.09731\nDate:                     Sat, 16 Nov 2019   Prob (F-statistic):               1.00\nTime:                             22:15:54   Log-Likelihood:                -1389.0\nNo. Observations:                      404   AIC:                             2860.\nDf Residuals:                          363   BIC:                             3024.\nDf Model:                               40                                         \nCovariance Type:                 nonrobust                                         \n============================================================================================================================\n                                                               coef    std err          t      P>|t|      [0.025      0.975]\n----------------------------------------------------------------------------------------------------------------------------\nIntercept                                                    0.5233      4.090      0.128      0.898      -7.520       8.566\ncollab_bool[T.1]                                            -0.5229      0.973     -0.537      0.591      -2.436       1.390\ncommitter_names[T.Andrew]                                   -0.5233      8.936     -0.059      0.953     -18.096      17.050\ncommitter_names[T.Anril]                                    -0.5233      8.936     -0.059      0.953     -18.096      17.050\ncommitter_names[T.Brandon Gogetap]                          -0.0005      8.883  -5.16e-05      1.000     -17.469      17.468\ncommitter_names[T.David Gonzalez]                           -0.0821      4.592     -0.018      0.986      -9.113       8.949\ncommitter_names[T.Dennis Meng]                              -0.2100      4.605     -0.046      0.964      -9.266       8.846\ncommitter_names[T.Dennis Sheil]                             -0.0005      8.883  -5.16e-05      1.000     -17.469      17.468\ncommitter_names[T.Dmitriy Zaitsev]                          -0.5233      8.936     -0.059      0.953     -18.096      17.050\ncommitter_names[T.Douglas Sigelbaum]                         0.2456      4.413      0.056      0.956      -8.433       8.924\ncommitter_names[T.Duong Quang Son]                          -0.5228      6.949     -0.075      0.940     -14.189      13.143\ncommitter_names[T.Egor N]                                   -0.0005      8.883  -5.16e-05      1.000     -17.469      17.468\ncommitter_names[T.Eric Fung]                                -0.5233      8.936     -0.059      0.953     -18.096      17.050\ncommitter_names[T.Florina Muntenescu]                        0.3133      4.339      0.072      0.942      -8.220       8.846\ncommitter_names[T.Gen]                                      -0.0005      8.883  -5.16e-05      1.000     -17.469      17.468\ncommitter_names[T.GitHub]                                   -0.3232      4.229     -0.076      0.939      -8.640       7.993\ncommitter_names[T.Greg Pearce]                              -0.5233      8.936     -0.059      0.953     -18.096      17.050\ncommitter_names[T.Islam Salah]                              -0.0005      8.883  -5.16e-05      1.000     -17.469      17.468\ncommitter_names[T.Jan-Felix Schmakeit]                      -0.3484      6.103     -0.057      0.955     -12.350      11.653\ncommitter_names[T.Jonathan Gerrish]                          0.2000      4.507      0.044      0.965      -8.662       9.062\ncommitter_names[T.Jorge 'Jorhell' Barroso aka flipper83]    -0.0005      8.883  -5.16e-05      1.000     -17.469      17.468\ncommitter_names[T.Jose Alcerreca]                            1.2297      4.095      0.300      0.764      -6.823       9.282\ncommitter_names[T.Jose Alcérreca]                            0.4395      4.709      0.093      0.926      -8.822       9.701\ncommitter_names[T.JoseAlcerreca]                            -0.4945      4.800     -0.103      0.918      -9.934       8.945\ncommitter_names[T.Lyla McBeath Fujiwara]                    -0.0814      5.639     -0.014      0.988     -11.171      11.008\ncommitter_names[T.Michael Amygdalidis]                       0.1470      6.881      0.021      0.983     -13.384      13.678\ncommitter_names[T.Mohit Ajwani]                             -0.5233      8.936     -0.059      0.953     -18.096      17.050\ncommitter_names[T.Natalie Masse]                            -0.2078      4.660     -0.045      0.964      -9.372       8.956\ncommitter_names[T.Natalie Masse Hooper]                     -0.5233      8.936     -0.059      0.953     -18.096      17.050\ncommitter_names[T.Ravindra Kumar]                           -0.5233      8.936     -0.059      0.953     -18.096      17.050\ncommitter_names[T.Ryan Seys]                                -0.0005      8.883  -5.16e-05      1.000     -17.469      17.468\ncommitter_names[T.Samuel Urbanowicz]                        -0.0005      8.883  -5.16e-05      1.000     -17.469      17.468\ncommitter_names[T.Sergey V]                                 -0.0005      8.883  -5.16e-05      1.000     -17.469      17.468\ncommitter_names[T.Shinya Fukuta]                            -0.5233      6.949     -0.075      0.940     -14.189      13.142\ncommitter_names[T.Stephan Linzner]                          -0.3852      4.251     -0.091      0.928      -8.745       7.975\ncommitter_names[T.Walmyr Filho]                           2.623e-05      6.881   3.81e-06      1.000     -13.531      13.531\ncommitter_names[T.Yigit Boyar]                              -0.0005      8.883  -5.16e-05      1.000     -17.469      17.468\ncommitter_names[T.h3r3x3]                                   -0.3490      6.103     -0.057      0.954     -12.350      11.652\ncommitter_names[T.murdly]                                   -0.5233      8.936     -0.059      0.953     -18.096      17.050\ncommitter_names[T.richarth]                                 -0.2619      6.898     -0.038      0.970     -13.827      13.303\ncommitter_names[T.tomaszrykala]                             -0.4095      5.386     -0.076      0.939     -11.002      10.183\n==============================================================================\nOmnibus:                      783.482   Durbin-Watson:                   2.046\nProb(Omnibus):                  0.000   Jarque-Bera (JB):           540415.348\nSkew:                          12.848   Prob(JB):                         0.00\nKurtosis:                     180.324   Cond. No.                         76.7\n==============================================================================\n\nWarnings:\n[1] Standard Errors assume that the covariance matrix of the errors is correctly specified.\n"
    }
   ],
   "source": [
    "import statsmodels.formula.api as sm\n",
    "\n",
    "# format: y ~ x + committer_names:\n",
    "model = sm.ols(formula='productivity_per_second ~ collab_bool + committer_names', data = pdf)\n",
    "#train model:\n",
    "fit = model.fit()\n",
    "\n",
    "#print results:\n",
    "print(fit.summary())"
   ]
  },
  {
   "cell_type": "markdown",
   "execution_count": null,
   "metadata": {},
   "outputs": [],
   "source": [
    "## Summary of `Android architecture blueprints v2 for building apps` repo\n",
    "\n",
    "We can see all the valuable information in the summary. Aside of giving us the calculated intercept and the various slope coefficients, we may also interpret other useful parameters.\n",
    "\n",
    "The negative `collab_bool` value could suggest a negative impact on productivity if committers are collaborating, but: we defined this value to simply be a `True` or `False` value whether or not the committer is working on a commit of another author. This is simply not strong enough for explaining real collaboration! It would need at least 2 back-and-fourth commits of two authors to be able to call it a collaboration. \n",
    "Furthermore, the estimated `collab_bool` value of $-0.1566$ does not seem robust, since we know from the visualizations that basically only Thomas Koch did all the work, no real collaboration can be found in the data. Any other of the few authors editing files of Thomas Koch is distorting this value, since they are not way as productive as lone wolf Thomas Koch is. This negative `collab_bool` is not robust enough to support a decline of productivity for collaborating team members. Significantly large confidence intervalls further nourish this hypothesis. \n",
    "\n",
    "In addition, we observe fairly high p-values in the summary for almost all coefficients, so we cannot reject the hypothesis, that there is no linear relationship in the data, thus we may assume that there is no linear relationship at all!\n",
    "\n",
    "In order to even prove a linear relationship in the data, the assumption of normally distributed residuals must hold. However, we need to check the normality of the residuals to test for a linear relationship. We can immediately see that $\\text{Prob(Omnibus)}=0$ and $\\text{Prob(JB)}=0$, this allows to confidently reject the hypothesis, that the residuals are normally distributed. Summarising the analysis, we can assume that there is no linear relationship in the data, thus we cannot properly discuss the negative `collab_bool` in respect to the Ringelmann effect.   \n",
    "\n"
   ]
  },
  {
   "cell_type": "markdown",
   "execution_count": null,
   "metadata": {},
   "outputs": [],
   "source": [
    "## Predictions\n",
    "\n",
    "We can now construct fictive predictions, by creating a dataframe with the corresponding exog values."
   ]
  },
  {
   "cell_type": "code",
   "execution_count": 24,
   "metadata": {},
   "outputs": [
    {
     "data": {
      "text/plain": "4.884981308350689e-15"
     },
     "execution_count": 24,
     "metadata": {},
     "output_type": "execute_result"
    }
   ],
   "source": [
    "#Construct prediction for: [Islam Salah, True]\n",
    "X_pred = pd.DataFrame({'committer_names': 'Islam Salah'}, index=[0])\n",
    "X_pred['collab_bool'] = 1\n",
    "\n",
    "pred = fit.predict(X_pred)\n",
    "pred[0]"
   ]
  }
 ]
}