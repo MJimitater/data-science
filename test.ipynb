{
 "nbformat": 4,
 "nbformat_minor": 2,
 "metadata": {
  "language_info": {
   "name": "python",
   "codemirror_mode": {
    "name": "ipython",
    "version": 3
   }
  },
  "orig_nbformat": 2,
  "file_extension": ".py",
  "mimetype": "text/x-python",
  "name": "python",
  "npconvert_exporter": "python",
  "pygments_lexer": "ipython3",
  "version": 3
 },
 "cells": [
  {
   "cell_type": "code",
   "execution_count": 10,
   "metadata": {},
   "outputs": [],
   "source": [
    "import pandas as pd\n",
    "import numpy as np"
   ]
  },
  {
   "cell_type": "code",
   "execution_count": 203,
   "metadata": {},
   "outputs": [
    {
     "data": {
      "text/html": "<div>\n<style scoped>\n    .dataframe tbody tr th:only-of-type {\n        vertical-align: middle;\n    }\n\n    .dataframe tbody tr th {\n        vertical-align: top;\n    }\n\n    .dataframe thead th {\n        text-align: right;\n    }\n</style>\n<table border=\"1\" class=\"dataframe\">\n  <thead>\n    <tr style=\"text-align: right;\">\n      <th></th>\n      <th>A</th>\n      <th>B</th>\n      <th>C</th>\n      <th>D</th>\n    </tr>\n  </thead>\n  <tbody>\n    <tr>\n      <th>0</th>\n      <td>-1.118042</td>\n      <td>0.347551</td>\n      <td>-0.902839</td>\n      <td>0.888007</td>\n    </tr>\n    <tr>\n      <th>1</th>\n      <td>-0.831656</td>\n      <td>1.773690</td>\n      <td>1.832713</td>\n      <td>0.141473</td>\n    </tr>\n    <tr>\n      <th>2</th>\n      <td>0.451277</td>\n      <td>0.285638</td>\n      <td>-0.467025</td>\n      <td>-0.922900</td>\n    </tr>\n    <tr>\n      <th>3</th>\n      <td>-0.698833</td>\n      <td>1.004442</td>\n      <td>1.996054</td>\n      <td>-1.259576</td>\n    </tr>\n    <tr>\n      <th>4</th>\n      <td>1.630026</td>\n      <td>-0.472157</td>\n      <td>0.816888</td>\n      <td>0.865432</td>\n    </tr>\n  </tbody>\n</table>\n</div>",
      "text/plain": "          A         B         C         D\n0 -1.118042  0.347551 -0.902839  0.888007\n1 -0.831656  1.773690  1.832713  0.141473\n2  0.451277  0.285638 -0.467025 -0.922900\n3 -0.698833  1.004442  1.996054 -1.259576\n4  1.630026 -0.472157  0.816888  0.865432"
     },
     "execution_count": 203,
     "metadata": {},
     "output_type": "execute_result"
    }
   ],
   "source": [
    "df = pd.DataFrame(np.random.randn(5, 4), columns=list('ABCD'))\n",
    "df"
   ]
  },
  {
   "cell_type": "code",
   "execution_count": 204,
   "metadata": {},
   "outputs": [],
   "source": [
    "\n",
    "def adding_up(df):\n",
    "    print(df)\n",
    "    print(df.shape[0])\n",
    "    if df.shape[0] == 1:\n",
    "        return df\n",
    "    for i in range(df.shape[0]):\n",
    "        print('i=',i)        \n",
    "        for j in range(i+1, df.shape[0]):\n",
    "            if df.iloc[i]['A'] < df.iloc[j]['A']:\n",
    "                print(df.iloc[i]['D'])\n",
    "                print(df.iloc[j]['D'])\n",
    "                tmp = df.iloc[i]['D'] + df.iloc[j]['D']\n",
    "                df.iloc[i]['D'] = tmp\n",
    "                print(df.iloc[i]['D'])\n",
    "                print('Es wird gedropped, anschließend Indexreset:\\n')\n",
    "                df = df.drop(df.index[j])        \n",
    "                df = df.reset_index(drop=True)\n",
    "                print(df)\n",
    "                #print(type(df))\n",
    "                return df"
   ]
  },
  {
   "cell_type": "code",
   "execution_count": 205,
   "metadata": {},
   "outputs": [
    {
     "name": "stdout",
     "output_type": "stream",
     "text": "<class 'pandas.core.frame.DataFrame'>\n          A         B         C         D\n0 -1.118042  0.347551 -0.902839  0.888007\n1 -0.831656  1.773690  1.832713  0.141473\n2  0.451277  0.285638 -0.467025 -0.922900\n3 -0.698833  1.004442  1.996054 -1.259576\n4  1.630026 -0.472157  0.816888  0.865432\n5\ni= 0\n0.8880065378910188\n0.1414725552624686\n1.0294790931534874\nEs wird gedropped, anschließend Indexreset:\n\n          A         B         C         D\n0 -1.118042  0.347551 -0.902839  1.029479\n1  0.451277  0.285638 -0.467025 -0.922900\n2 -0.698833  1.004442  1.996054 -1.259576\n3  1.630026 -0.472157  0.816888  0.865432\n<class 'pandas.core.frame.DataFrame'>\n<class 'pandas.core.frame.DataFrame'>\n          A         B         C         D\n0 -1.118042  0.347551 -0.902839  1.029479\n1  0.451277  0.285638 -0.467025 -0.922900\n2 -0.698833  1.004442  1.996054 -1.259576\n3  1.630026 -0.472157  0.816888  0.865432\n4\ni= 0\n1.0294790931534874\n-0.9229002627909019\n0.10657883036258553\nEs wird gedropped, anschließend Indexreset:\n\n          A         B         C         D\n0 -1.118042  0.347551 -0.902839  0.106579\n1 -0.698833  1.004442  1.996054 -1.259576\n2  1.630026 -0.472157  0.816888  0.865432\n<class 'pandas.core.frame.DataFrame'>\n<class 'pandas.core.frame.DataFrame'>\n          A         B         C         D\n0 -1.118042  0.347551 -0.902839  0.106579\n1 -0.698833  1.004442  1.996054 -1.259576\n2  1.630026 -0.472157  0.816888  0.865432\n3\ni= 0\n0.10657883036258553\n-1.2595758849539835\n-1.1529970545913981\nEs wird gedropped, anschließend Indexreset:\n\n          A         B         C         D\n0 -1.118042  0.347551 -0.902839 -1.152997\n1  1.630026 -0.472157  0.816888  0.865432\n<class 'pandas.core.frame.DataFrame'>\n<class 'pandas.core.frame.DataFrame'>\n          A         B         C         D\n0 -1.118042  0.347551 -0.902839 -1.152997\n1  1.630026 -0.472157  0.816888  0.865432\n2\ni= 0\n-1.1529970545913981\n0.86543236781269\n-0.28756468677870817\nEs wird gedropped, anschließend Indexreset:\n\n          A         B         C         D\n0 -1.118042  0.347551 -0.902839 -0.287565\n<class 'pandas.core.frame.DataFrame'>\n<class 'pandas.core.frame.DataFrame'>\n          A         B         C         D\n0 -1.118042  0.347551 -0.902839 -0.287565\n1\n<class 'pandas.core.frame.DataFrame'>\ndone\n"
    }
   ],
   "source": [
    "tmp_df = df\n",
    "\n",
    "while True:\n",
    "    print(type(tmp_df))\n",
    "    something = adding_up(tmp_df)\n",
    "    print(type(something))\n",
    "    if something.shape == tmp_df.shape:\n",
    "        break\n",
    "    tmp_df = something\n",
    "\n",
    "print('done')"
   ]
  },
  {
   "cell_type": "code",
   "execution_count": 134,
   "metadata": {},
   "outputs": [
    {
     "name": "stdout",
     "output_type": "stream",
     "text": "(3, 4)\n   A  B   C   D\n0  0  1   2   3\n1  4  5   6   7\n2  8  9  10  11\n   A  B   C   D\n0  0  1   2   3\n2  8  9  10  11\n   A  B  C  D\n0  0  1  2  3\n(1, 4)\n"
    }
   ],
   "source": [
    "x = pd.DataFrame(np.arange(12).reshape(3, 4), columns=['A', 'B', 'C', 'D'])\n",
    "print(x.shape)\n",
    "print(x)\n",
    "x = x.drop(x.index[1])\n",
    "print(x)\n",
    "x = x.drop(x.index[1])\n",
    "print(x)\n",
    "print(x.shape)"
   ]
  }
 ]
}