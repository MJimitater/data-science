{
 "nbformat": 4,
 "nbformat_minor": 2,
 "metadata": {
  "language_info": {
   "name": "python",
   "codemirror_mode": {
    "name": "ipython",
    "version": 3
   }
  },
  "orig_nbformat": 2,
  "file_extension": ".py",
  "mimetype": "text/x-python",
  "name": "python",
  "npconvert_exporter": "python",
  "pygments_lexer": "ipython3",
  "version": 3
 },
 "cells": [
  {
   "cell_type": "markdown",
   "execution_count": null,
   "metadata": {},
   "outputs": [],
   "source": [
    "# Exploring the Ringelmann effect with git2net\n",
    "**Lucas Schelkes**\n",
    "\n"
   ]
  },
  {
   "cell_type": "markdown",
   "execution_count": null,
   "metadata": {},
   "outputs": [],
   "source": [
    "In this project, we analyze the effect of group size on the productivity in GitHub projects. \n",
    "\n",
    "Using the tool `git2net`, we will analyse the following GitHub repositories:\n",
    "\n",
    "1. `TLP` (power saving tool for ThinkPads) as a small example (11 committers)\n",
    "\n",
    "2. `Android` (Android architecture blueprints v2 for building apps) as an medium-sized example (40 committers)\n",
    "\n",
    "3. `nginx-proxy` (sets up container for running nginx) as an medium-large-sized example (60 committers)\n",
    "\n",
    "4. `hello-world` (\"hello world\" code in all languages) as a large-sized example (79 committers)\n",
    "\n",
    "Finally we will derive to an interpretation of the analysis in respect to the Ringelmann effect."
   ]
  },
  {
   "cell_type": "markdown",
   "execution_count": null,
   "metadata": {},
   "outputs": [],
   "source": [
    "## `Hello-World` repo\n",
    "\n",
    "We first mine the co-editing data from variously sized git repositories.\n",
    "First, we specify the `sqlite` database location and the to-be-mined cloned `GitHub` repository."
   ]
  },
  {
   "cell_type": "code",
   "execution_count": 1,
   "metadata": {},
   "outputs": [],
   "source": [
    "import os\n",
    "import git2net\n",
    "\n",
    "#path to copy of virgin db:\n",
    "#sqlite_db_file = '/home/luc/pip/git2net/group_work_1/tlp (Kopie).db'\n",
    "#sqlite_db_file = '/home/luc/pip/git2net/group_work_1/bitcoin.db'\n",
    "sqlite_db_file = '/home/luc/pip/git2net/group_work_1/hello-world (Kopie).db'\n",
    "#sqlite_db_file = '/home/luc/pip/git2net/group_work_1/architecture-samples (Kopie).db'\n",
    "\n",
    "\n",
    "\n",
    "#set variable to whatever folder the to-be-mined git repository is located:\n",
    "#repo_dir = '/home/luc/pip/git2net/ds_gw_1/TLP'\n",
    "#repo_dir = '/home/luc/pip/git2net/group_work_1/architecture-samples'"
   ]
  },
  {
   "cell_type": "markdown",
   "execution_count": null,
   "metadata": {},
   "outputs": [],
   "source": [
    "## Mining\n",
    "\n",
    "Only do the mining, if a copy of the \"virgin\" sqlite database has not being saved in `sqlite_db_file`.\n",
    "This copy needs to be freshly recopied from the virgin file in every Notebook run-through to avoid database errors."
   ]
  },
  {
   "cell_type": "code",
   "execution_count": 2,
   "metadata": {},
   "outputs": [],
   "source": [
    "#uncomment this block, if mining is wished\n",
    "\n",
    "#check, if database file is there; remove if yes\n",
    "#if os.path.exists(sqlite_db_file):\n",
    "#    os.remove(sqlite_db_file)\n",
    "#    print('sqlite_db_file removed!')\n",
    "\n",
    "#mining process: \n",
    "#repo_dir: to-be-mined git repository\n",
    "#sqlite_db_file: to-be-stored values in database\n",
    "\n",
    "#git2net.mine_git_repo(repo_dir, sqlite_db_file)\n",
    "\n",
    "#git2net.mining_state_summary(repo_dir, sqlite_db_file)"
   ]
  },
  {
   "cell_type": "markdown",
   "execution_count": null,
   "metadata": {},
   "outputs": [],
   "source": [
    "## Visualization\n",
    "\n",
    "In order to get a first idea of who about did roughly what with whom else, lets look at a graph showing edges from `committer_A` to `committer_B` whenever `committer_A` changed a line of the original author `committer_B`."
   ]
  },
  {
   "cell_type": "code",
   "execution_count": 3,
   "metadata": {},
   "outputs": [
    {
     "data": {
      "text/html": "<style>\n    text.label_rLpTwTwf {\n        text-anchor: middle;\n        font-size: 8px;\n        font-family: Arial, Helvetica, sans-serif;\n        fill: #999999;\n        stroke: #ffffff;\n        stroke-width: 0.1px;\n        opacity: 1.0;\n    }\n    .links_rLpTwTwf line {\n    stroke-opacity: 1.0;\n    }\n    .arrows svg:path {\n        stroke: #666;\n    }\n    .nodes_rLpTwTwf circle {\n    stroke: #fff;\n    stroke-width: 0.5px;\n    }\n</style>\n\n<svg width=\"400\" height=\"400\" id=\"rLpTwTwf\">        \n    <text x=\"20\" y=\"20\" font-family=\"sans-serif\" font-size=\"14px\" fill=\"#666\" style=\"cursor: pointer\"\n        id='rLpTwTwf_svg_txt'>[save svg]</text>\n</svg>\n\n<script charset=\"utf-8\" src=\"https://d3js.org/d3.v4.min.js\"></script>\n<script charset=\"utf-8\">\n\n// Load via requireJS if available (jupyter notebook environment)\ntry {\n    // Problem: require.config will raise an exception when called for the second time \n    require.config({\n        paths: {\n            //d3: \"https://d3js.org/d3.v4.min\"\n            d3: \"https://d3js.org/d3.v4.min.js\".replace(\".js\", \"\")\n        }\n    });\n    console.log(\"Detected requireJS\");\n}\ncatch(err){\n    // a reference error indicates that requireJS does not exist. \n    // other errors may occur due to multiple calls to config\n    if (err instanceof ReferenceError){\n        console.log(\"Detected no requireJS\");\n\n        // Helper function that waits for d3js to be loaded\n        require = function require(symbols, callback) {\n            var ms = 5;\n            window.setTimeout(function(t) {\n                if (window[symbols[0]])\n                    callback(window[symbols[0]]);\n                else \n                    window.setTimeout(arguments.callee, ms);\n            }, ms);\n        }\n    }\n}\n\n// wait until d3js has been loaded\nrequire([\"d3\"], function(d3) {\n    var svg = d3.select(\"#\"+\"rLpTwTwf\"), radius = 6, width = +svg.attr(\"width\"), height = +svg.attr(\"height\");\n\n    var color = d3.scaleOrdinal(d3.schemeCategory20);\n\n    var graph = {\"links\": [{\"source\": \"Michael Gebetsroither\", \"target\": \"Mike Donaghy\", \"color\": \"#999999\", \"width\": 0.5, \"weight\": 0.5}, {\"source\": \"Robert Wohlrab\", \"target\": \"Mike Donaghy\", \"color\": \"#999999\", \"width\": 0.5, \"weight\": 0.15384615384615385}, {\"source\": \"Pat Nakajima\", \"target\": \"Chris Wanstrath\", \"color\": \"#999999\", \"width\": 0.5, \"weight\": 0.3333333333333333}, {\"source\": \"Mike Green\", \"target\": \"Mike Donaghy\", \"color\": \"#999999\", \"width\": 0.5, \"weight\": 0.25}, {\"source\": \"Clive Crous\", \"target\": \"Mike Donaghy\", \"color\": \"#999999\", \"width\": 0.5, \"weight\": 0.4375}, {\"source\": \"bill[y]\", \"target\": \"Mike Donaghy\", \"color\": \"#999999\", \"width\": 0.5, \"weight\": 0.5}, {\"source\": \"Clive Crous\", \"target\": \"bill[y]\", \"color\": \"#999999\", \"width\": 0.5, \"weight\": 0.5}, {\"source\": \"Pratik K. Patel\", \"target\": \"Mike Donaghy\", \"color\": \"#999999\", \"width\": 0.5, \"weight\": 0.3333333333333333}, {\"source\": \"Chris Wanstrath\", \"target\": \"Mike Green\", \"color\": \"#999999\", \"width\": 0.5, \"weight\": 0.5}, {\"source\": \"Chris Wanstrath\", \"target\": \"Clive Crous\", \"color\": \"#999999\", \"width\": 0.5, \"weight\": 0.14285714285714285}, {\"source\": \"Elliot Winard\", \"target\": \"Mike Donaghy\", \"color\": \"#999999\", \"width\": 0.5, \"weight\": 0.6666666666666666}, {\"source\": \"Clive Crous\", \"target\": \"Aupajo\", \"color\": \"#999999\", \"width\": 0.5, \"weight\": 1.0}, {\"source\": \"Erik Hahn\", \"target\": \"Mike Green\", \"color\": \"#999999\", \"width\": 0.5, \"weight\": 0.25}, {\"source\": \"Kai Krakow\", \"target\": \"Erik Hahn\", \"color\": \"#999999\", \"width\": 0.5, \"weight\": 0.5}, {\"source\": \"William Suggs\", \"target\": \"Cyp\", \"color\": \"#999999\", \"width\": 0.5, \"weight\": 0.6666666666666666}, {\"source\": \"William Suggs\", \"target\": \"Kyle Liu\", \"color\": \"#999999\", \"width\": 0.5, \"weight\": 1.0}, {\"source\": \"Amorilia\", \"target\": \"Jean-Olivier Irisson\", \"color\": \"#999999\", \"width\": 0.5, \"weight\": 1.0}, {\"source\": \"Amorilia\", \"target\": \"Alcides Fonseca\", \"color\": \"#999999\", \"width\": 0.5, \"weight\": 1.0}, {\"source\": \"Daniel Spiewak\", \"target\": \"Pratik K. Patel\", \"color\": \"#999999\", \"width\": 0.5, \"weight\": 0.3333333333333333}, {\"source\": \"Daniel Spiewak\", \"target\": \"Rodrigo Manh\\u00e3es\", \"color\": \"#999999\", \"width\": 0.5, \"weight\": 1.0}, {\"source\": \"Daniel Spiewak\", \"target\": \"Mike Donaghy\", \"color\": \"#999999\", \"width\": 0.5, \"weight\": 0.2727272727272727}, {\"source\": \"Amorilia\", \"target\": \"laxman\", \"color\": \"#999999\", \"width\": 0.5, \"weight\": 1.0}, {\"source\": \"Amorilia\", \"target\": \"tinogomes\", \"color\": \"#999999\", \"width\": 0.5, \"weight\": 0.5}, {\"source\": \"Pratik K. Patel\", \"target\": \"Clive Crous\", \"color\": \"#999999\", \"width\": 0.5, \"weight\": 0.16666666666666666}, {\"source\": \"Adam Harte\", \"target\": \"AdamHarte\", \"color\": \"#999999\", \"width\": 0.5, \"weight\": 1.0}, {\"source\": \"Christian\", \"target\": \"Robert Peters\", \"color\": \"#999999\", \"width\": 0.5, \"weight\": 1.0}, {\"source\": \"Mike Donaghy\", \"target\": \"Robert Peters\", \"color\": \"#999999\", \"width\": 0.5, \"weight\": 0.685064935064935}, {\"source\": \"Rene Saarsoo\", \"target\": \"Robert Peters\", \"color\": \"#999999\", \"width\": 0.5, \"weight\": 1.0}, {\"source\": \"kongr45gpen\", \"target\": \"Robert Peters\", \"color\": \"#999999\", \"width\": 0.5, \"weight\": 0.75}, {\"source\": \"Nathan M. Swan\", \"target\": \"Robert Peters\", \"color\": \"#999999\", \"width\": 0.5, \"weight\": 1.0}, {\"source\": \"Eric Schaefer\", \"target\": \"Robert Peters\", \"color\": \"#999999\", \"width\": 0.5, \"weight\": 1.0}, {\"source\": \"Sergey Nartimov\", \"target\": \"Robert Peters\", \"color\": \"#999999\", \"width\": 0.5, \"weight\": 1.0}, {\"source\": \"Daniel Clarke\", \"target\": \"Robert Peters\", \"color\": \"#999999\", \"width\": 0.5, \"weight\": 0.045454545454545456}, {\"source\": \"elektronikLexikon\", \"target\": \"Robert Peters\", \"color\": \"#999999\", \"width\": 0.5, \"weight\": 0.6666666666666666}, {\"source\": \"elektronikLexikon\", \"target\": \"kongr45gpen\", \"color\": \"#999999\", \"width\": 0.5, \"weight\": 0.3333333333333333}, {\"source\": \"TDLive\", \"target\": \"Robert Peters\", \"color\": \"#999999\", \"width\": 0.5, \"weight\": 0.5}, {\"source\": \"Jacob\", \"target\": \"Mike Donaghy\", \"color\": \"#999999\", \"width\": 0.5, \"weight\": 0.5}, {\"source\": \"\\u30de\\u30fc\\u30c6\\u30a3\\u30f3\", \"target\": \"Robert Peters\", \"color\": \"#999999\", \"width\": 0.5, \"weight\": 1.0}, {\"source\": \"Ho Tuan Kiet\", \"target\": \"Robert Peters\", \"color\": \"#999999\", \"width\": 0.5, \"weight\": 0.25}, {\"source\": \"Petr Severa\", \"target\": \"Robert Peters\", \"color\": \"#999999\", \"width\": 0.5, \"weight\": 1.0}, {\"source\": \"Dagal\", \"target\": \"Robert Peters\", \"color\": \"#999999\", \"width\": 0.5, \"weight\": 1.0}, {\"source\": \"xcvista\", \"target\": \"Robert Peters\", \"color\": \"#999999\", \"width\": 0.5, \"weight\": 0.21052631578947367}, {\"source\": \"Karthikeyan VJ\", \"target\": \"AdamHarte\", \"color\": \"#999999\", \"width\": 0.5, \"weight\": 1.0}, {\"source\": \"Mario Lang\", \"target\": \"Robert Peters\", \"color\": \"#999999\", \"width\": 0.5, \"weight\": 0.1111111111111111}, {\"source\": \"Gunnar Gu\\u00f0var\\u00f0arson\", \"target\": \"Robert Peters\", \"color\": \"#999999\", \"width\": 0.5, \"weight\": 0.05319148936170213}, {\"source\": \"Rhys Bower\", \"target\": \"Robert Peters\", \"color\": \"#999999\", \"width\": 0.5, \"weight\": 0.16666666666666666}, {\"source\": \"Jack Wearden\", \"target\": \"Robert Peters\", \"color\": \"#999999\", \"width\": 0.5, \"weight\": 1.0}, {\"source\": \"AtlasJan\", \"target\": \"Robert Peters\", \"color\": \"#999999\", \"width\": 0.5, \"weight\": 0.5}, {\"source\": \"Jocinardo Rodrigues (Jojo)\", \"target\": \"Gunnar Gu\\u00f0var\\u00f0arson\", \"color\": \"#999999\", \"width\": 0.5, \"weight\": 0.018867924528301886}, {\"source\": \"Sam Tobin-Hochstadt\", \"target\": \"Marcus Ortiz\", \"color\": \"#999999\", \"width\": 0.5, \"weight\": 1.0}, {\"source\": \"Ben Watkins\", \"target\": \"Robert Peters\", \"color\": \"#999999\", \"width\": 0.5, \"weight\": 1.0}, {\"source\": \"bcnjr5\", \"target\": \"Robert Peters\", \"color\": \"#999999\", \"width\": 0.5, \"weight\": 0.09375}, {\"source\": \"Aniruddh\", \"target\": \"Robert Peters\", \"color\": \"#999999\", \"width\": 0.5, \"weight\": 1.0}, {\"source\": \"Mike Donaghy\", \"target\": \"Marcus Ortiz\", \"color\": \"#999999\", \"width\": 0.5, \"weight\": 0.9661016949152542}, {\"source\": \"Mike Donaghy\", \"target\": \"Gunnar Gu\\u00f0var\\u00f0arson\", \"color\": \"#999999\", \"width\": 0.5, \"weight\": 0.8936170212765957}, {\"source\": \"mimi1971\", \"target\": \"Erik Hahn\", \"color\": \"#999999\", \"width\": 0.5, \"weight\": 0.8333333333333334}, {\"source\": \"mimi1971\", \"target\": \"William Suggs\", \"color\": \"#999999\", \"width\": 0.5, \"weight\": 0.7333333333333333}, {\"source\": \"mimi1971\", \"target\": \"Mike Donaghy\", \"color\": \"#999999\", \"width\": 0.5, \"weight\": 0.25384615384615383}, {\"source\": \"mimi1971\", \"target\": \"Harvey\", \"color\": \"#999999\", \"width\": 0.5, \"weight\": 1.0}, {\"source\": \"mimi1971\", \"target\": \"Bradly Feeley\", \"color\": \"#999999\", \"width\": 0.5, \"weight\": 1.0}, {\"source\": \"mimi1971\", \"target\": \"Robert Wohlrab\", \"color\": \"#999999\", \"width\": 0.5, \"weight\": 0.8461538461538461}, {\"source\": \"mimi1971\", \"target\": \"zeussolo\", \"color\": \"#999999\", \"width\": 0.5, \"weight\": 1.0}, {\"source\": \"mimi1971\", \"target\": \"Clive Crous\", \"color\": \"#999999\", \"width\": 0.5, \"weight\": 0.3125}, {\"source\": \"mimi1971\", \"target\": \"fogus\", \"color\": \"#999999\", \"width\": 0.5, \"weight\": 1.0}, {\"source\": \"mimi1971\", \"target\": \"Daniel Spiewak\", \"color\": \"#999999\", \"width\": 0.5, \"weight\": 0.45454545454545453}, {\"source\": \"mimi1971\", \"target\": \"Benjamin Kramer\", \"color\": \"#999999\", \"width\": 0.5, \"weight\": 1.0}, {\"source\": \"mimi1971\", \"target\": \"tinogomes\", \"color\": \"#999999\", \"width\": 0.5, \"weight\": 0.5}, {\"source\": \"mimi1971\", \"target\": \"Amorilia\", \"color\": \"#999999\", \"width\": 0.5, \"weight\": 0.5}, {\"source\": \"mimi1971\", \"target\": \"Kevin Ballard\", \"color\": \"#999999\", \"width\": 0.5, \"weight\": 1.0}, {\"source\": \"mimi1971\", \"target\": \"Pat Nakajima\", \"color\": \"#999999\", \"width\": 0.5, \"weight\": 0.6666666666666666}, {\"source\": \"mimi1971\", \"target\": \"Kfir Shay\", \"color\": \"#999999\", \"width\": 0.5, \"weight\": 1.0}, {\"source\": \"mimi1971\", \"target\": \"Timothy Goddard\", \"color\": \"#999999\", \"width\": 0.5, \"weight\": 1.0}, {\"source\": \"mimi1971\", \"target\": \"Miguel Aranha Baldi H\\u00f6rlle\", \"color\": \"#999999\", \"width\": 0.5, \"weight\": 1.0}, {\"source\": \"mimi1971\", \"target\": \"rck\", \"color\": \"#999999\", \"width\": 0.5, \"weight\": 1.0}, {\"source\": \"mimi1971\", \"target\": \"Michael Gebetsroither\", \"color\": \"#999999\", \"width\": 0.5, \"weight\": 0.5}, {\"source\": \"mimi1971\", \"target\": \"Matt Foster\", \"color\": \"#999999\", \"width\": 0.5, \"weight\": 1.0}, {\"source\": \"mimi1971\", \"target\": \"Dana Contreras\", \"color\": \"#999999\", \"width\": 0.5, \"weight\": 1.0}, {\"source\": \"mimi1971\", \"target\": \"Kai Krakow\", \"color\": \"#999999\", \"width\": 0.5, \"weight\": 0.5}, {\"source\": \"mimi1971\", \"target\": \"Chris Wanstrath\", \"color\": \"#999999\", \"width\": 0.5, \"weight\": 0.42857142857142855}, {\"source\": \"mimi1971\", \"target\": \"Elliot Winard\", \"color\": \"#999999\", \"width\": 0.5, \"weight\": 0.3333333333333333}, {\"source\": \"mimi1971\", \"target\": \"Yacin Nadji\", \"color\": \"#999999\", \"width\": 0.5, \"weight\": 1.0}, {\"source\": \"mimi1971\", \"target\": \"Robby Russell\", \"color\": \"#999999\", \"width\": 0.5, \"weight\": 1.0}, {\"source\": \"mimi1971\", \"target\": \"Bryce Kerley\", \"color\": \"#999999\", \"width\": 0.5, \"weight\": 1.0}, {\"source\": \"mimi1971\", \"target\": \"Henrik N\", \"color\": \"#999999\", \"width\": 0.5, \"weight\": 1.0}, {\"source\": \"mimi1971\", \"target\": \"Brendan O'Connor\", \"color\": \"#999999\", \"width\": 0.5, \"weight\": 1.0}, {\"source\": \"mimi1971\", \"target\": \"Cyp\", \"color\": \"#999999\", \"width\": 0.5, \"weight\": 0.3333333333333333}, {\"source\": \"mimi1971\", \"target\": \"Pratik K. Patel\", \"color\": \"#999999\", \"width\": 0.5, \"weight\": 0.16666666666666666}, {\"source\": \"mimi1971\", \"target\": \"Nicol\\u00e1s Sanguinetti\", \"color\": \"#999999\", \"width\": 0.5, \"weight\": 1.0}, {\"source\": \"mimi1971\", \"target\": \"Colin Campbell-McPherson\", \"color\": \"#999999\", \"width\": 0.5, \"weight\": 1.0}, {\"source\": \"mimi1971\", \"target\": \"Kyle Lau\", \"color\": \"#999999\", \"width\": 0.5, \"weight\": 1.0}, {\"source\": \"mimi1971\", \"target\": \"Martin H\\ufffdger\", \"color\": \"#999999\", \"width\": 0.5, \"weight\": 1.0}, {\"source\": \"mimi1971\", \"target\": \"Carsten Nielsen\", \"color\": \"#999999\", \"width\": 0.5, \"weight\": 1.0}, {\"source\": \"mimi1971\", \"target\": \"Alex Malinovich\", \"color\": \"#999999\", \"width\": 0.5, \"weight\": 1.0}, {\"source\": \"mimi1971\", \"target\": \"Bruce Cowan\", \"color\": \"#999999\", \"width\": 0.5, \"weight\": 1.0}, {\"source\": \"mimi1971\", \"target\": \"odalet\", \"color\": \"#999999\", \"width\": 0.5, \"weight\": 1.0}, {\"source\": \"mimi1971\", \"target\": \"Bryce Roney\", \"color\": \"#999999\", \"width\": 0.5, \"weight\": 1.0}, {\"source\": \"mimi1971\", \"target\": \"Joshua Suggs\", \"color\": \"#999999\", \"width\": 0.5, \"weight\": 1.0}, {\"source\": \"Robert Peters\", \"target\": \"mimi1971\", \"color\": \"#999999\", \"width\": 0.5, \"weight\": 0.007692307692307693}, {\"source\": \"Mike Donaghy\", \"target\": \"AdamHarte\", \"color\": \"#999999\", \"width\": 0.5, \"weight\": 0.8867924528301887}, {\"source\": \"Mike Donaghy\", \"target\": \"Jacob\", \"color\": \"#999999\", \"width\": 0.5, \"weight\": 0.5}, {\"source\": \"cmhokej\", \"target\": \"Robert Peters\", \"color\": \"#999999\", \"width\": 0.5, \"weight\": 1.0}, {\"source\": \"Wellington Viana\", \"target\": \"Robert Peters\", \"color\": \"#999999\", \"width\": 0.5, \"weight\": 1.0}, {\"source\": \"inv-vinoth\", \"target\": \"Robert Peters\", \"color\": \"#999999\", \"width\": 0.5, \"weight\": 1.0}, {\"source\": \"Li4ick\", \"target\": \"Robert Peters\", \"color\": \"#999999\", \"width\": 0.5, \"weight\": 1.0}, {\"source\": \"Peter Atashian\", \"target\": \"bcnjr5\", \"color\": \"#999999\", \"width\": 0.5, \"weight\": 1.0}, {\"source\": \"Denton-L\", \"target\": \"Robert Peters\", \"color\": \"#999999\", \"width\": 0.5, \"weight\": 1.0}, {\"source\": \"Lars Brinkhoff\", \"target\": \"Robert Peters\", \"color\": \"#999999\", \"width\": 0.5, \"weight\": 0.013157894736842105}, {\"source\": \"Rhys Bower\", \"target\": \"bcnjr5\", \"color\": \"#999999\", \"width\": 0.5, \"weight\": 0.5555555555555556}, {\"source\": \"Rhys Bower\", \"target\": \"Jean-Sebastien Ney\", \"color\": \"#999999\", \"width\": 0.5, \"weight\": 1.0}, {\"source\": \"Rhys Bower\", \"target\": \"faisalman\", \"color\": \"#999999\", \"width\": 0.5, \"weight\": 0.25}, {\"source\": \"Rhys Bower\", \"target\": \"Jithil P Ponnan\", \"color\": \"#999999\", \"width\": 0.5, \"weight\": 1.0}, {\"source\": \"Mike Donaghy\", \"target\": \"bcnjr5\", \"color\": \"#999999\", \"width\": 0.5, \"weight\": 0.65625}, {\"source\": \"Philippe Loctaux\", \"target\": \"Mario Lang\", \"color\": \"#999999\", \"width\": 0.5, \"weight\": 0.14285714285714285}, {\"source\": \"Mike Donaghy\", \"target\": \"Mario Lang\", \"color\": \"#999999\", \"width\": 0.5, \"weight\": 0.7777777777777778}, {\"source\": \"Paul Brinkmeier\", \"target\": \"faisalman\", \"color\": \"#999999\", \"width\": 0.5, \"weight\": 0.25}, {\"source\": \"Mike Donaghy\", \"target\": \"faisalman\", \"color\": \"#999999\", \"width\": 0.5, \"weight\": 0.25}, {\"source\": \"KommX\", \"target\": \"Philippe Loctaux\", \"color\": \"#999999\", \"width\": 0.5, \"weight\": 1.0}, {\"source\": \"Index Int\", \"target\": \"Robert Peters\", \"color\": \"#999999\", \"width\": 0.5, \"weight\": 1.0}, {\"source\": \"Marconi Lanna\", \"target\": \"Robert Peters\", \"color\": \"#999999\", \"width\": 0.5, \"weight\": 1.0}, {\"source\": \"Mike Donaghy\", \"target\": \"Philippe Loctaux\", \"color\": \"#999999\", \"width\": 0.5, \"weight\": 0.7142857142857143}, {\"source\": \"Adam Dinwoodie\", \"target\": \"Rhys Bower\", \"color\": \"#999999\", \"width\": 0.5, \"weight\": 1.0}, {\"source\": \"Mike Donaghy\", \"target\": \"Rhys Bower\", \"color\": \"#999999\", \"width\": 0.5, \"weight\": 0.05555555555555555}, {\"source\": \"Alhadis\", \"target\": \"Robert Peters\", \"color\": \"#999999\", \"width\": 0.5, \"weight\": 1.0}, {\"source\": \"bilal arslan\", \"target\": \"Aditya Bist\", \"color\": \"#999999\", \"width\": 0.5, \"weight\": 0.16666666666666666}, {\"source\": \"Mike Donaghy\", \"target\": \"Aditya Bist\", \"color\": \"#999999\", \"width\": 0.5, \"weight\": 0.8333333333333334}, {\"source\": \"D.E. Akers\", \"target\": \"Robert Peters\", \"color\": \"#999999\", \"width\": 0.5, \"weight\": 1.0}, {\"source\": \"David\", \"target\": \"bcnjr5\", \"color\": \"#999999\", \"width\": 0.5, \"weight\": 0.015625}, {\"source\": \"George Gibson\", \"target\": \"Robert Peters\", \"color\": \"#999999\", \"width\": 0.5, \"weight\": 0.38095238095238093}, {\"source\": \"George Gibson\", \"target\": \"bcnjr5\", \"color\": \"#999999\", \"width\": 0.5, \"weight\": 0.047619047619047616}, {\"source\": \"tleb\", \"target\": \"Will Pimblett\", \"color\": \"#999999\", \"width\": 0.5, \"weight\": 1.0}, {\"source\": \"Rhed Shi\", \"target\": \"bilal arslan\", \"color\": \"#999999\", \"width\": 0.5, \"weight\": 0.2}, {\"source\": \"Rhed Shi\", \"target\": \"xcvista\", \"color\": \"#999999\", \"width\": 0.5, \"weight\": 0.6}, {\"source\": \"Rhed Shi\", \"target\": \"Robert Peters\", \"color\": \"#999999\", \"width\": 0.5, \"weight\": 0.2}, {\"source\": \"Shark64\", \"target\": \"Shark\", \"color\": \"#999999\", \"width\": 0.5, \"weight\": 0.36363636363636365}, {\"source\": \"Shark\", \"target\": \"Daniel Clarke\", \"color\": \"#999999\", \"width\": 0.5, \"weight\": 0.36363636363636365}, {\"source\": \"Mike Donaghy\", \"target\": \"xcvista\", \"color\": \"#999999\", \"width\": 0.5, \"weight\": 0.5263157894736842}, {\"source\": \"Mike Donaghy\", \"target\": \"bilal arslan\", \"color\": \"#999999\", \"width\": 0.5, \"weight\": 0.6}, {\"source\": \"Mike Donaghy\", \"target\": \"George Gibson\", \"color\": \"#999999\", \"width\": 0.5, \"weight\": 0.2857142857142857}, {\"source\": \"Mike Donaghy\", \"target\": \"Sam Tebbs\", \"color\": \"#999999\", \"width\": 0.5, \"weight\": 0.7142857142857143}, {\"source\": \"George Gibson\", \"target\": \"Sam Tebbs\", \"color\": \"#999999\", \"width\": 0.5, \"weight\": 0.14285714285714285}, {\"source\": \"George Gibson\", \"target\": \"xcvista\", \"color\": \"#999999\", \"width\": 0.5, \"weight\": 0.05263157894736842}, {\"source\": \"George Gibson\", \"target\": \"bilal arslan\", \"color\": \"#999999\", \"width\": 0.5, \"weight\": 0.1}, {\"source\": \"Shark64\", \"target\": \"Daniel Clarke\", \"color\": \"#999999\", \"width\": 0.5, \"weight\": 0.6363636363636364}, {\"source\": \"tleb\", \"target\": \"Jocinardo Rodrigues (Jojo)\", \"color\": \"#999999\", \"width\": 0.5, \"weight\": 0.3333333333333333}, {\"source\": \"tleb\", \"target\": \"Daniel Rodrigues Lima\", \"color\": \"#999999\", \"width\": 0.5, \"weight\": 0.3333333333333333}, {\"source\": \"Mike Donaghy\", \"target\": \"Daniel Clarke\", \"color\": \"#999999\", \"width\": 0.5, \"weight\": 0.2727272727272727}, {\"source\": \"Mike Donaghy\", \"target\": \"Daniel Rodrigues Lima\", \"color\": \"#999999\", \"width\": 0.5, \"weight\": 0.7142857142857143}, {\"source\": \"Mike Donaghy\", \"target\": \"Jocinardo Rodrigues (Jojo)\", \"color\": \"#999999\", \"width\": 0.5, \"weight\": 0.8867924528301887}, {\"source\": \"Mike Donaghy\", \"target\": \"AtlasJan\", \"color\": \"#999999\", \"width\": 0.5, \"weight\": 0.5}, {\"source\": \"Shark\", \"target\": \"Sam Tebbs\", \"color\": \"#999999\", \"width\": 0.5, \"weight\": 0.14285714285714285}, {\"source\": \"Shark\", \"target\": \"George Gibson\", \"color\": \"#999999\", \"width\": 0.5, \"weight\": 0.09523809523809523}, {\"source\": \"Shark\", \"target\": \"xcvista\", \"color\": \"#999999\", \"width\": 0.5, \"weight\": 0.05263157894736842}, {\"source\": \"Shark\", \"target\": \"bilal arslan\", \"color\": \"#999999\", \"width\": 0.5, \"weight\": 0.1}, {\"source\": \"Ben Hoyt\", \"target\": \"Lars Brinkhoff\", \"color\": \"#999999\", \"width\": 0.5, \"weight\": 1.0}, {\"source\": \"Boloutare Doubeni\", \"target\": \"Robert Peters\", \"color\": \"#999999\", \"width\": 0.5, \"weight\": 1.0}, {\"source\": \"Erik Hesselink\", \"target\": \"David\", \"color\": \"#999999\", \"width\": 0.5, \"weight\": 1.0}, {\"source\": \"Bob Faist\", \"target\": \"Robert Peters\", \"color\": \"#999999\", \"width\": 0.5, \"weight\": 1.0}, {\"source\": \"Benjamin Gudehus\", \"target\": \"bcnjr5\", \"color\": \"#999999\", \"width\": 0.5, \"weight\": 1.0}, {\"source\": \"Frederik Ring\", \"target\": \"Paul Hofmann\", \"color\": \"#999999\", \"width\": 0.5, \"weight\": 1.0}, {\"source\": \"Naveen Kumar Molleti\", \"target\": \"manuelgu\", \"color\": \"#999999\", \"width\": 0.5, \"weight\": 1.0}, {\"source\": \"Carl D. Benson\", \"target\": \"David\", \"color\": \"#999999\", \"width\": 0.5, \"weight\": 0.4}, {\"source\": \"Dawid Mazurek\", \"target\": \"Jocinardo Rodrigues (Jojo)\", \"color\": \"#999999\", \"width\": 0.5, \"weight\": 1.0}, {\"source\": \"Shashank S\", \"target\": \"Colas BROUX\", \"color\": \"#999999\", \"width\": 0.5, \"weight\": 0.25}, {\"source\": \"Shashank S\", \"target\": \"Gunnar Gu\\u00f0var\\u00f0arson\", \"color\": \"#999999\", \"width\": 0.5, \"weight\": 0.125}, {\"source\": \"deanturpin\", \"target\": \"Robert Peters\", \"color\": \"#999999\", \"width\": 0.5, \"weight\": 1.0}, {\"source\": \"Niels NTG\", \"target\": \"mr.Shu\", \"color\": \"#999999\", \"width\": 0.5, \"weight\": 0.6666666666666666}, {\"source\": \"Aaron Muir Hamilton\", \"target\": \"Robert Peters\", \"color\": \"#999999\", \"width\": 0.5, \"weight\": 1.0}, {\"source\": \"Santhosh Kumar Srinivasan\", \"target\": \"Anantha Raju C\", \"color\": \"#999999\", \"width\": 0.5, \"weight\": 1.0}, {\"source\": \"thatHexa\", \"target\": \"Mike Donaghy\", \"color\": \"#999999\", \"width\": 0.5, \"weight\": 0.22362869198312235}, {\"source\": \"thatHexa\", \"target\": \"Robert Peters\", \"color\": \"#999999\", \"width\": 0.5, \"weight\": 0.004219409282700422}, {\"source\": \"Mike Donaghy\", \"target\": \"David\", \"color\": \"#999999\", \"width\": 0.5, \"weight\": 0.9230769230769231}, {\"source\": \"Mike Donaghy\", \"target\": \"Colas BROUX\", \"color\": \"#999999\", \"width\": 0.5, \"weight\": 0.9518072289156626}, {\"source\": \"Mike Donaghy\", \"target\": \"Lars Brinkhoff\", \"color\": \"#999999\", \"width\": 0.5, \"weight\": 0.9473684210526315}, {\"source\": \"Mike Donaghy\", \"target\": \"Paul Hofmann\", \"color\": \"#999999\", \"width\": 0.5, \"weight\": 0.8870967741935484}, {\"source\": \"Mike Donaghy\", \"target\": \"mr.Shu\", \"color\": \"#999999\", \"width\": 0.5, \"weight\": 0.8571428571428571}, {\"source\": \"Mike Donaghy\", \"target\": \"Markus Gr\\u00e4b\", \"color\": \"#999999\", \"width\": 0.5, \"weight\": 0.9310344827586207}, {\"source\": \"Mike Donaghy\", \"target\": \"Anantha Raju C\", \"color\": \"#999999\", \"width\": 0.5, \"weight\": 0.8333333333333334}, {\"source\": \"Atlas Sullivan\", \"target\": \"faisalman\", \"color\": \"#999999\", \"width\": 0.5, \"weight\": 0.25}, {\"source\": \"Atlas Sullivan\", \"target\": \"bcnjr5\", \"color\": \"#999999\", \"width\": 0.5, \"weight\": 0.05263157894736842}, {\"source\": \"Atlas Sullivan\", \"target\": \"Robert Peters\", \"color\": \"#999999\", \"width\": 0.5, \"weight\": 0.15789473684210525}, {\"source\": \"Atlas Sullivan\", \"target\": \"Gunnar Gu\\u00f0var\\u00f0arson\", \"color\": \"#999999\", \"width\": 0.5, \"weight\": 0.10526315789473684}, {\"source\": \"Atlas Sullivan\", \"target\": \"AdamHarte\", \"color\": \"#999999\", \"width\": 0.5, \"weight\": 0.05263157894736842}, {\"source\": \"Atlas Sullivan\", \"target\": \"Marcus Ortiz\", \"color\": \"#999999\", \"width\": 0.5, \"weight\": 0.05263157894736842}, {\"source\": \"Mike Donaghy\", \"target\": \"thatHexa\", \"color\": \"#999999\", \"width\": 0.5, \"weight\": 0.24472573839662448}, {\"source\": \"Mike Donaghy\", \"target\": \"Frank Ch. Eigler\", \"color\": \"#999999\", \"width\": 0.5, \"weight\": 1.0}, {\"source\": \"Shark\", \"target\": \"Robert Peters\", \"color\": \"#999999\", \"width\": 0.5, \"weight\": 0.06060606060606061}, {\"source\": \"Mike Donaghy\", \"target\": \"Shark\", \"color\": \"#999999\", \"width\": 0.5, \"weight\": 0.09090909090909091}, {\"source\": \"Daniel Mietchen\", \"target\": \"thatHexa\", \"color\": \"#999999\", \"width\": 0.5, \"weight\": 1.0}, {\"source\": \"Mike Donaghy\", \"target\": \"Karan Saxena\", \"color\": \"#999999\", \"width\": 0.5, \"weight\": 1.0}, {\"source\": \"Mike Donaghy\", \"target\": \"Aakash Patel\", \"color\": \"#999999\", \"width\": 0.5, \"weight\": 1.0}, {\"source\": \"Mike Donaghy\", \"target\": \"Carl D. Benson\", \"color\": \"#999999\", \"width\": 0.5, \"weight\": 0.6}, {\"source\": \"Luke Deen Taylor\", \"target\": \"thatHexa\", \"color\": \"#999999\", \"width\": 0.5, \"weight\": 0.3333333333333333}, {\"source\": \"Mike Donaghy\", \"target\": \"Luke Deen Taylor\", \"color\": \"#999999\", \"width\": 0.5, \"weight\": 0.3055555555555556}, {\"source\": \"Shark\", \"target\": \"Colas BROUX\", \"color\": \"#999999\", \"width\": 0.5, \"weight\": 0.030303030303030304}, {\"source\": \"Shark\", \"target\": \"Gunnar Gu\\u00f0var\\u00f0arson\", \"color\": \"#999999\", \"width\": 0.5, \"weight\": 0.030303030303030304}, {\"source\": \"Shark\", \"target\": \"Markus Gr\\u00e4b\", \"color\": \"#999999\", \"width\": 0.5, \"weight\": 0.034482758620689655}, {\"source\": \"Shark\", \"target\": \"Mike Donaghy\", \"color\": \"#999999\", \"width\": 0.5, \"weight\": 0.030303030303030304}, {\"source\": \"Shark\", \"target\": \"Jocinardo Rodrigues (Jojo)\", \"color\": \"#999999\", \"width\": 0.5, \"weight\": 0.030303030303030304}, {\"source\": \"Shark\", \"target\": \"Anantha Raju C\", \"color\": \"#999999\", \"width\": 0.5, \"weight\": 0.05555555555555555}, {\"source\": \"Shark\", \"target\": \"mr.Shu\", \"color\": \"#999999\", \"width\": 0.5, \"weight\": 0.030303030303030304}, {\"source\": \"Shark\", \"target\": \"Paul Hofmann\", \"color\": \"#999999\", \"width\": 0.5, \"weight\": 0.030303030303030304}, {\"source\": \"Shark\", \"target\": \"David\", \"color\": \"#999999\", \"width\": 0.5, \"weight\": 0.030303030303030304}, {\"source\": \"Shark\", \"target\": \"Lars Brinkhoff\", \"color\": \"#999999\", \"width\": 0.5, \"weight\": 0.030303030303030304}, {\"source\": \"Luke Deen Taylor\", \"target\": \"Clement Ng\", \"color\": \"#999999\", \"width\": 0.5, \"weight\": 0.1388888888888889}, {\"source\": \"Mike Donaghy\", \"target\": \"Clement Ng\", \"color\": \"#999999\", \"width\": 0.5, \"weight\": 0.13768115942028986}, {\"source\": \"Mike Donaghy\", \"target\": \"Crazywolf132\", \"color\": \"#999999\", \"width\": 0.5, \"weight\": 0.6666666666666666}, {\"source\": \"PoroCYon\", \"target\": \"Clement Ng\", \"color\": \"#999999\", \"width\": 0.5, \"weight\": 0.16666666666666666}, {\"source\": \"thatHexa\", \"target\": \"Luke Deen Taylor\", \"color\": \"#999999\", \"width\": 0.5, \"weight\": 0.027777777777777776}, {\"source\": \"thatHexa\", \"target\": \"Sitesh Shrivastava\", \"color\": \"#999999\", \"width\": 0.5, \"weight\": 0.3333333333333333}, {\"source\": \"Mike Donaghy\", \"target\": \"Sitesh Shrivastava\", \"color\": \"#999999\", \"width\": 0.5, \"weight\": 0.6666666666666666}, {\"source\": \"Atlas Sullivan\", \"target\": \"Shark\", \"color\": \"#999999\", \"width\": 0.5, \"weight\": 0.05263157894736842}, {\"source\": \"Atlas Sullivan\", \"target\": \"Colas BROUX\", \"color\": \"#999999\", \"width\": 0.5, \"weight\": 0.05263157894736842}, {\"source\": \"Atlas Sullivan\", \"target\": \"Markus Gr\\u00e4b\", \"color\": \"#999999\", \"width\": 0.5, \"weight\": 0.05263157894736842}, {\"source\": \"Atlas Sullivan\", \"target\": \"Mike Donaghy\", \"color\": \"#999999\", \"width\": 0.5, \"weight\": 0.05263157894736842}, {\"source\": \"Atlas Sullivan\", \"target\": \"Jocinardo Rodrigues (Jojo)\", \"color\": \"#999999\", \"width\": 0.5, \"weight\": 0.05263157894736842}, {\"source\": \"Atlas Sullivan\", \"target\": \"Anantha Raju C\", \"color\": \"#999999\", \"width\": 0.5, \"weight\": 0.05555555555555555}, {\"source\": \"Atlas Sullivan\", \"target\": \"mr.Shu\", \"color\": \"#999999\", \"width\": 0.5, \"weight\": 0.05263157894736842}, {\"source\": \"Atlas Sullivan\", \"target\": \"Paul Hofmann\", \"color\": \"#999999\", \"width\": 0.5, \"weight\": 0.05263157894736842}, {\"source\": \"Atlas Sullivan\", \"target\": \"David\", \"color\": \"#999999\", \"width\": 0.5, \"weight\": 0.05263157894736842}, {\"source\": \"Atlas Sullivan\", \"target\": \"Lars Brinkhoff\", \"color\": \"#999999\", \"width\": 0.5, \"weight\": 0.05263157894736842}, {\"source\": \"JimmyBot\", \"target\": \"thatHexa\", \"color\": \"#999999\", \"width\": 0.5, \"weight\": 0.2}, {\"source\": \"George Chakhidze\", \"target\": \"Ryan Yates\", \"color\": \"#999999\", \"width\": 0.5, \"weight\": 1.0}, {\"source\": \"thatHexa\", \"target\": \"Callum Macrae\", \"color\": \"#999999\", \"width\": 0.5, \"weight\": 1.0}, {\"source\": \"thatHexa\", \"target\": \"Lsong\", \"color\": \"#999999\", \"width\": 0.5, \"weight\": 0.3333333333333333}, {\"source\": \"Mike Donaghy\", \"target\": \"Ryan Yates\", \"color\": \"#999999\", \"width\": 0.5, \"weight\": 0.6}, {\"source\": \"Clement Ng\", \"target\": \"thatHexa\", \"color\": \"#999999\", \"width\": 0.5, \"weight\": 0.47101449275362317}, {\"source\": \"Clement Ng\", \"target\": \"Crazywolf132\", \"color\": \"#999999\", \"width\": 0.5, \"weight\": 0.3333333333333333}, {\"source\": \"Clement Ng\", \"target\": \"Luke Deen Taylor\", \"color\": \"#999999\", \"width\": 0.5, \"weight\": 0.027777777777777776}, {\"source\": \"Andrew Breza\", \"target\": \"Paul Brinkmeier\", \"color\": \"#999999\", \"width\": 0.5, \"weight\": 1.0}, {\"source\": \"carlosam\", \"target\": \"Clement Ng\", \"color\": \"#999999\", \"width\": 0.5, \"weight\": 0.5}, {\"source\": \"carlosam\", \"target\": \"bcnjr5\", \"color\": \"#999999\", \"width\": 0.5, \"weight\": 0.5}, {\"source\": \"Aylin Cakal\", \"target\": \"Shashank S\", \"color\": \"#999999\", \"width\": 0.5, \"weight\": 0.25}, {\"source\": \"Mike Donaghy\", \"target\": \"Paul Brinkmeier\", \"color\": \"#999999\", \"width\": 0.5, \"weight\": 0.5714285714285714}, {\"source\": \"Ben Peachey\", \"target\": \"TDLive\", \"color\": \"#999999\", \"width\": 0.5, \"weight\": 0.5}, {\"source\": \"Ben Peachey\", \"target\": \"Luke Deen Taylor\", \"color\": \"#999999\", \"width\": 0.5, \"weight\": 0.14285714285714285}, {\"source\": \"Ben Peachey\", \"target\": \"Clement Ng\", \"color\": \"#999999\", \"width\": 0.5, \"weight\": 0.14285714285714285}, {\"source\": \"Sophie Hamilton\", \"target\": \"thatHexa\", \"color\": \"#999999\", \"width\": 0.5, \"weight\": 0.125}, {\"source\": \"Sophie Hamilton\", \"target\": \"deatcoca\", \"color\": \"#999999\", \"width\": 0.5, \"weight\": 0.14285714285714285}, {\"source\": \"Sophie Hamilton\", \"target\": \"dhruvsgarg\", \"color\": \"#999999\", \"width\": 0.5, \"weight\": 1.0}, {\"source\": \"TheMrIron2\", \"target\": \"Robert Peters\", \"color\": \"#999999\", \"width\": 0.5, \"weight\": 0.5}, {\"source\": \"TheMrIron2\", \"target\": \"Aylin Cakal\", \"color\": \"#999999\", \"width\": 0.5, \"weight\": 0.5}, {\"source\": \"Mike Donaghy\", \"target\": \"Shashank S\", \"color\": \"#999999\", \"width\": 0.5, \"weight\": 0.25}, {\"source\": \"Mike Donaghy\", \"target\": \"Aylin Cakal\", \"color\": \"#999999\", \"width\": 0.5, \"weight\": 0.5}, {\"source\": \"Mike Donaghy\", \"target\": \"deatcoca\", \"color\": \"#999999\", \"width\": 0.5, \"weight\": 0.42857142857142855}, {\"source\": \"Muhammed Ibrahim\", \"target\": \"John Gracey\", \"color\": \"#999999\", \"width\": 0.5, \"weight\": 0.3333333333333333}, {\"source\": \"Muhammed Ibrahim\", \"target\": \"Yt-trium\", \"color\": \"#999999\", \"width\": 0.5, \"weight\": 1.0}, {\"source\": \"Muhammed Ibrahim\", \"target\": \"Robert Peters\", \"color\": \"#999999\", \"width\": 0.5, \"weight\": 0.3333333333333333}, {\"source\": \"Darwin Ameli\", \"target\": \"George Gibson\", \"color\": \"#999999\", \"width\": 0.5, \"weight\": 1.0}, {\"source\": \"V. Barozzi\", \"target\": \"Clement Ng\", \"color\": \"#999999\", \"width\": 0.5, \"weight\": 0.3333333333333333}, {\"source\": \"Mike Donaghy\", \"target\": \"John Gracey\", \"color\": \"#999999\", \"width\": 0.5, \"weight\": 0.5}, {\"source\": \"Mike Donaghy\", \"target\": \"electr0sheep\", \"color\": \"#999999\", \"width\": 0.5, \"weight\": 1.0}, {\"source\": \"Mike Donaghy\", \"target\": \"pingjiang\", \"color\": \"#999999\", \"width\": 0.5, \"weight\": 1.0}, {\"source\": \"ConorOBrien-Foxx\", \"target\": \"Clement Ng\", \"color\": \"#999999\", \"width\": 0.5, \"weight\": 0.2971014492753623}, {\"source\": \"ConorOBrien-Foxx\", \"target\": \"Luke Deen Taylor\", \"color\": \"#999999\", \"width\": 0.5, \"weight\": 0.1111111111111111}, {\"source\": \"ConorOBrien-Foxx\", \"target\": \"thatHexa\", \"color\": \"#999999\", \"width\": 0.5, \"weight\": 0.2391304347826087}, {\"source\": \"ConorOBrien-Foxx\", \"target\": \"Andrey Portnoy\", \"color\": \"#999999\", \"width\": 0.5, \"weight\": 0.3333333333333333}, {\"source\": \"ConorOBrien-Foxx\", \"target\": \"PyvesB\", \"color\": \"#999999\", \"width\": 0.5, \"weight\": 0.3333333333333333}, {\"source\": \"ConorOBrien-Foxx\", \"target\": \"Mike Donaghy\", \"color\": \"#999999\", \"width\": 0.5, \"weight\": 0.036231884057971016}, {\"source\": \"ConorOBrien-Foxx\", \"target\": \"Ben Peachey\", \"color\": \"#999999\", \"width\": 0.5, \"weight\": 0.2857142857142857}, {\"source\": \"ConorOBrien-Foxx\", \"target\": \"Sophie Hamilton\", \"color\": \"#999999\", \"width\": 0.5, \"weight\": 0.375}, {\"source\": \"ConorOBrien-Foxx\", \"target\": \"aaronryank\", \"color\": \"#999999\", \"width\": 0.5, \"weight\": 0.25}, {\"source\": \"ConorOBrien-Foxx\", \"target\": \"PoroCYon\", \"color\": \"#999999\", \"width\": 0.5, \"weight\": 0.3333333333333333}, {\"source\": \"ConorOBrien-Foxx\", \"target\": \"V. Barozzi\", \"color\": \"#999999\", \"width\": 0.5, \"weight\": 0.3333333333333333}, {\"source\": \"ConorOBrien-Foxx\", \"target\": \"deatcoca\", \"color\": \"#999999\", \"width\": 0.5, \"weight\": 0.42857142857142855}, {\"source\": \"ConorOBrien-Foxx\", \"target\": \"JimmyBot\", \"color\": \"#999999\", \"width\": 0.5, \"weight\": 0.2}, {\"source\": \"ConorOBrien-Foxx\", \"target\": \"Aleks Bunin\", \"color\": \"#999999\", \"width\": 0.5, \"weight\": 0.3333333333333333}, {\"source\": \"ConorOBrien-Foxx\", \"target\": \"Jeff Carlson\", \"color\": \"#999999\", \"width\": 0.5, \"weight\": 0.3333333333333333}, {\"source\": \"Mike Donaghy\", \"target\": \"Andrey Portnoy\", \"color\": \"#999999\", \"width\": 0.5, \"weight\": 0.6666666666666666}, {\"source\": \"Mike Donaghy\", \"target\": \"PyvesB\", \"color\": \"#999999\", \"width\": 0.5, \"weight\": 0.6666666666666666}, {\"source\": \"Mike Donaghy\", \"target\": \"Ben Peachey\", \"color\": \"#999999\", \"width\": 0.5, \"weight\": 0.2857142857142857}, {\"source\": \"Mike Donaghy\", \"target\": \"Sophie Hamilton\", \"color\": \"#999999\", \"width\": 0.5, \"weight\": 0.25}, {\"source\": \"Mike Donaghy\", \"target\": \"aaronryank\", \"color\": \"#999999\", \"width\": 0.5, \"weight\": 0.5}, {\"source\": \"Mike Donaghy\", \"target\": \"PoroCYon\", \"color\": \"#999999\", \"width\": 0.5, \"weight\": 0.3333333333333333}, {\"source\": \"Mike Donaghy\", \"target\": \"V. Barozzi\", \"color\": \"#999999\", \"width\": 0.5, \"weight\": 0.3333333333333333}, {\"source\": \"Mike Donaghy\", \"target\": \"JimmyBot\", \"color\": \"#999999\", \"width\": 0.5, \"weight\": 0.4}, {\"source\": \"Mike Donaghy\", \"target\": \"Aleks Bunin\", \"color\": \"#999999\", \"width\": 0.5, \"weight\": 0.6666666666666666}, {\"source\": \"Mike Donaghy\", \"target\": \"Jeff Carlson\", \"color\": \"#999999\", \"width\": 0.5, \"weight\": 0.6666666666666666}, {\"source\": \"Dmitry\", \"target\": \"Ho Tuan Kiet\", \"color\": \"#999999\", \"width\": 0.5, \"weight\": 1.0}, {\"source\": \"Mike Donaghy\", \"target\": \"Ho Tuan Kiet\", \"color\": \"#999999\", \"width\": 0.5, \"weight\": 0.25}, {\"source\": \"Daniel Le\", \"target\": \"thatHexa\", \"color\": \"#999999\", \"width\": 0.5, \"weight\": 0.014925373134328358}, {\"source\": \"Daniel Le\", \"target\": \"ConorOBrien-Foxx\", \"color\": \"#999999\", \"width\": 0.5, \"weight\": 0.5373134328358209}, {\"source\": \"\\u8d3e\\u987a\\u540d(Jarvis)\", \"target\": \"Robert Peters\", \"color\": \"#999999\", \"width\": 0.5, \"weight\": 1.0}, {\"source\": \"Greg Weisbrod\", \"target\": \"thatHexa\", \"color\": \"#999999\", \"width\": 0.5, \"weight\": 0.16666666666666666}, {\"source\": \"Greg Weisbrod\", \"target\": \"Daniel Le\", \"color\": \"#999999\", \"width\": 0.5, \"weight\": 0.3333333333333333}, {\"source\": \"Greg Weisbrod\", \"target\": \"Gram\", \"color\": \"#999999\", \"width\": 0.5, \"weight\": 0.16666666666666666}, {\"source\": \"Akil Krishnan\", \"target\": \"thatHexa\", \"color\": \"#999999\", \"width\": 0.5, \"weight\": 0.09090909090909091}, {\"source\": \"Akil Krishnan\", \"target\": \"Daniel Le\", \"color\": \"#999999\", \"width\": 0.5, \"weight\": 0.22727272727272727}, {\"source\": \"Akil Krishnan\", \"target\": \"Gram\", \"color\": \"#999999\", \"width\": 0.5, \"weight\": 0.18181818181818182}, {\"source\": \"Mike Donaghy\", \"target\": \"ConorOBrien-Foxx\", \"color\": \"#999999\", \"width\": 0.5, \"weight\": 0.014492753623188406}, {\"source\": \"thathexa\", \"target\": \"thatHexa\", \"color\": \"#999999\", \"width\": 0.5, \"weight\": 0.15}, {\"source\": \"thathexa\", \"target\": \"Daniel Le\", \"color\": \"#999999\", \"width\": 0.5, \"weight\": 0.1}, {\"source\": \"thathexa\", \"target\": \"Gram\", \"color\": \"#999999\", \"width\": 0.5, \"weight\": 0.09090909090909091}, {\"source\": \"Arthur Guiot\", \"target\": \"thatHexa\", \"color\": \"#999999\", \"width\": 0.5, \"weight\": 0.2}, {\"source\": \"Arthur Guiot\", \"target\": \"Daniel Le\", \"color\": \"#999999\", \"width\": 0.5, \"weight\": 0.4}, {\"source\": \"Arthur Guiot\", \"target\": \"Gram\", \"color\": \"#999999\", \"width\": 0.5, \"weight\": 0.2}, {\"source\": \"Mike Donaghy\", \"target\": \"Daniel Le\", \"color\": \"#999999\", \"width\": 0.5, \"weight\": 0.26865671641791045}, {\"source\": \"Mike Donaghy\", \"target\": \"Gram\", \"color\": \"#999999\", \"width\": 0.5, \"weight\": 0.5454545454545454}, {\"source\": \"Mike Donaghy\", \"target\": \"Akil Krishnan\", \"color\": \"#999999\", \"width\": 0.5, \"weight\": 0.5454545454545454}, {\"source\": \"Mike Donaghy\", \"target\": \"Arthur Guiot\", \"color\": \"#999999\", \"width\": 0.5, \"weight\": 0.2}, {\"source\": \"Mike Donaghy\", \"target\": \"Greg Weisbrod\", \"color\": \"#999999\", \"width\": 0.5, \"weight\": 0.3333333333333333}, {\"source\": \"Mike Donaghy\", \"target\": \"thathexa\", \"color\": \"#999999\", \"width\": 0.5, \"weight\": 0.05}, {\"source\": \"Mike Donaghy\", \"target\": \"Lsong\", \"color\": \"#999999\", \"width\": 0.5, \"weight\": 0.3333333333333333}, {\"source\": \"yopaman\", \"target\": \"Akil Krishnan\", \"color\": \"#999999\", \"width\": 0.5, \"weight\": 0.3333333333333333}, {\"source\": \"yopaman\", \"target\": \"Daniel Le\", \"color\": \"#999999\", \"width\": 0.5, \"weight\": 0.3333333333333333}, {\"source\": \"Beyar\", \"target\": \"Robert Peters\", \"color\": \"#999999\", \"width\": 0.5, \"weight\": 1.0}, {\"source\": \"yakut \\u00f6zcan\", \"target\": \"Niels NTG\", \"color\": \"#999999\", \"width\": 0.5, \"weight\": 0.3333333333333333}, {\"source\": \"yakut \\u00f6zcan\", \"target\": \"mr.Shu\", \"color\": \"#999999\", \"width\": 0.5, \"weight\": 0.6666666666666666}, {\"source\": \"Moonkwanghyun\", \"target\": \"Robert Peters\", \"color\": \"#999999\", \"width\": 0.5, \"weight\": 1.0}, {\"source\": \"Mike Donaghy\", \"target\": \"yopaman\", \"color\": \"#999999\", \"width\": 0.5, \"weight\": 0.3333333333333333}, {\"source\": \"thathexa\", \"target\": \"Paul Brinkmeier\", \"color\": \"#999999\", \"width\": 0.5, \"weight\": 0.14285714285714285}, {\"source\": \"thathexa\", \"target\": \"Ryan Yates\", \"color\": \"#999999\", \"width\": 0.5, \"weight\": 0.2}, {\"source\": \"thathexa\", \"target\": \"Lsong\", \"color\": \"#999999\", \"width\": 0.5, \"weight\": 0.3333333333333333}, {\"source\": \"thathexa\", \"target\": \"Clement Ng\", \"color\": \"#999999\", \"width\": 0.5, \"weight\": 0.1}, {\"source\": \"thathexa\", \"target\": \"Luke Deen Taylor\", \"color\": \"#999999\", \"width\": 0.5, \"weight\": 0.05}, {\"source\": \"thathexa\", \"target\": \"aaronryank\", \"color\": \"#999999\", \"width\": 0.5, \"weight\": 0.25}, {\"source\": \"thathexa\", \"target\": \"PoroCYon\", \"color\": \"#999999\", \"width\": 0.5, \"weight\": 0.16666666666666666}, {\"source\": \"thathexa\", \"target\": \"JimmyBot\", \"color\": \"#999999\", \"width\": 0.5, \"weight\": 0.2}, {\"source\": \"thathexa\", \"target\": \"Robert Peters\", \"color\": \"#999999\", \"width\": 0.5, \"weight\": 0.05}, {\"source\": \"thathexa\", \"target\": \"Shashank S\", \"color\": \"#999999\", \"width\": 0.5, \"weight\": 0.125}, {\"source\": \"thathexa\", \"target\": \"John Gracey\", \"color\": \"#999999\", \"width\": 0.5, \"weight\": 0.25}, {\"source\": \"thathexa\", \"target\": \"Ho Tuan Kiet\", \"color\": \"#999999\", \"width\": 0.5, \"weight\": 0.25}], \"nodes\": [{\"id\": \"Michael Gebetsroither\", \"text\": \"Michael Gebetsroither\", \"color\": \"#99ccff\", \"size\": 5.0}, {\"id\": \"Mike Donaghy\", \"text\": \"Mike Donaghy\", \"color\": \"#99ccff\", \"size\": 5.0}, {\"id\": \"Robert Wohlrab\", \"text\": \"Robert Wohlrab\", \"color\": \"#99ccff\", \"size\": 5.0}, {\"id\": \"Pat Nakajima\", \"text\": \"Pat Nakajima\", \"color\": \"#99ccff\", \"size\": 5.0}, {\"id\": \"Chris Wanstrath\", \"text\": \"Chris Wanstrath\", \"color\": \"#99ccff\", \"size\": 5.0}, {\"id\": \"Mike Green\", \"text\": \"Mike Green\", \"color\": \"#99ccff\", \"size\": 5.0}, {\"id\": \"Clive Crous\", \"text\": \"Clive Crous\", \"color\": \"#99ccff\", \"size\": 5.0}, {\"id\": \"bill[y]\", \"text\": \"bill[y]\", \"color\": \"#99ccff\", \"size\": 5.0}, {\"id\": \"Pratik K. Patel\", \"text\": \"Pratik K. Patel\", \"color\": \"#99ccff\", \"size\": 5.0}, {\"id\": \"Elliot Winard\", \"text\": \"Elliot Winard\", \"color\": \"#99ccff\", \"size\": 5.0}, {\"id\": \"Aupajo\", \"text\": \"Aupajo\", \"color\": \"#99ccff\", \"size\": 5.0}, {\"id\": \"Erik Hahn\", \"text\": \"Erik Hahn\", \"color\": \"#99ccff\", \"size\": 5.0}, {\"id\": \"Kai Krakow\", \"text\": \"Kai Krakow\", \"color\": \"#99ccff\", \"size\": 5.0}, {\"id\": \"William Suggs\", \"text\": \"William Suggs\", \"color\": \"#99ccff\", \"size\": 5.0}, {\"id\": \"Cyp\", \"text\": \"Cyp\", \"color\": \"#99ccff\", \"size\": 5.0}, {\"id\": \"Kyle Liu\", \"text\": \"Kyle Liu\", \"color\": \"#99ccff\", \"size\": 5.0}, {\"id\": \"Amorilia\", \"text\": \"Amorilia\", \"color\": \"#99ccff\", \"size\": 5.0}, {\"id\": \"Jean-Olivier Irisson\", \"text\": \"Jean-Olivier Irisson\", \"color\": \"#99ccff\", \"size\": 5.0}, {\"id\": \"Alcides Fonseca\", \"text\": \"Alcides Fonseca\", \"color\": \"#99ccff\", \"size\": 5.0}, {\"id\": \"Daniel Spiewak\", \"text\": \"Daniel Spiewak\", \"color\": \"#99ccff\", \"size\": 5.0}, {\"id\": \"Rodrigo Manh\\u00e3es\", \"text\": \"Rodrigo Manh\\u00e3es\", \"color\": \"#99ccff\", \"size\": 5.0}, {\"id\": \"laxman\", \"text\": \"laxman\", \"color\": \"#99ccff\", \"size\": 5.0}, {\"id\": \"tinogomes\", \"text\": \"tinogomes\", \"color\": \"#99ccff\", \"size\": 5.0}, {\"id\": \"Adam Harte\", \"text\": \"Adam Harte\", \"color\": \"#99ccff\", \"size\": 5.0}, {\"id\": \"AdamHarte\", \"text\": \"AdamHarte\", \"color\": \"#99ccff\", \"size\": 5.0}, {\"id\": \"Christian\", \"text\": \"Christian\", \"color\": \"#99ccff\", \"size\": 5.0}, {\"id\": \"Robert Peters\", \"text\": \"Robert Peters\", \"color\": \"#99ccff\", \"size\": 5.0}, {\"id\": \"Rene Saarsoo\", \"text\": \"Rene Saarsoo\", \"color\": \"#99ccff\", \"size\": 5.0}, {\"id\": \"kongr45gpen\", \"text\": \"kongr45gpen\", \"color\": \"#99ccff\", \"size\": 5.0}, {\"id\": \"Nathan M. Swan\", \"text\": \"Nathan M. Swan\", \"color\": \"#99ccff\", \"size\": 5.0}, {\"id\": \"Eric Schaefer\", \"text\": \"Eric Schaefer\", \"color\": \"#99ccff\", \"size\": 5.0}, {\"id\": \"Sergey Nartimov\", \"text\": \"Sergey Nartimov\", \"color\": \"#99ccff\", \"size\": 5.0}, {\"id\": \"Daniel Clarke\", \"text\": \"Daniel Clarke\", \"color\": \"#99ccff\", \"size\": 5.0}, {\"id\": \"elektronikLexikon\", \"text\": \"elektronikLexikon\", \"color\": \"#99ccff\", \"size\": 5.0}, {\"id\": \"TDLive\", \"text\": \"TDLive\", \"color\": \"#99ccff\", \"size\": 5.0}, {\"id\": \"Jacob\", \"text\": \"Jacob\", \"color\": \"#99ccff\", \"size\": 5.0}, {\"id\": \"\\u30de\\u30fc\\u30c6\\u30a3\\u30f3\", \"text\": \"\\u30de\\u30fc\\u30c6\\u30a3\\u30f3\", \"color\": \"#99ccff\", \"size\": 5.0}, {\"id\": \"Ho Tuan Kiet\", \"text\": \"Ho Tuan Kiet\", \"color\": \"#99ccff\", \"size\": 5.0}, {\"id\": \"Petr Severa\", \"text\": \"Petr Severa\", \"color\": \"#99ccff\", \"size\": 5.0}, {\"id\": \"Dagal\", \"text\": \"Dagal\", \"color\": \"#99ccff\", \"size\": 5.0}, {\"id\": \"xcvista\", \"text\": \"xcvista\", \"color\": \"#99ccff\", \"size\": 5.0}, {\"id\": \"Karthikeyan VJ\", \"text\": \"Karthikeyan VJ\", \"color\": \"#99ccff\", \"size\": 5.0}, {\"id\": \"Mario Lang\", \"text\": \"Mario Lang\", \"color\": \"#99ccff\", \"size\": 5.0}, {\"id\": \"Gunnar Gu\\u00f0var\\u00f0arson\", \"text\": \"Gunnar Gu\\u00f0var\\u00f0arson\", \"color\": \"#99ccff\", \"size\": 5.0}, {\"id\": \"Rhys Bower\", \"text\": \"Rhys Bower\", \"color\": \"#99ccff\", \"size\": 5.0}, {\"id\": \"Jack Wearden\", \"text\": \"Jack Wearden\", \"color\": \"#99ccff\", \"size\": 5.0}, {\"id\": \"AtlasJan\", \"text\": \"AtlasJan\", \"color\": \"#99ccff\", \"size\": 5.0}, {\"id\": \"Jocinardo Rodrigues (Jojo)\", \"text\": \"Jocinardo Rodrigues (Jojo)\", \"color\": \"#99ccff\", \"size\": 5.0}, {\"id\": \"Sam Tobin-Hochstadt\", \"text\": \"Sam Tobin-Hochstadt\", \"color\": \"#99ccff\", \"size\": 5.0}, {\"id\": \"Marcus Ortiz\", \"text\": \"Marcus Ortiz\", \"color\": \"#99ccff\", \"size\": 5.0}, {\"id\": \"Ben Watkins\", \"text\": \"Ben Watkins\", \"color\": \"#99ccff\", \"size\": 5.0}, {\"id\": \"bcnjr5\", \"text\": \"bcnjr5\", \"color\": \"#99ccff\", \"size\": 5.0}, {\"id\": \"Aniruddh\", \"text\": \"Aniruddh\", \"color\": \"#99ccff\", \"size\": 5.0}, {\"id\": \"mimi1971\", \"text\": \"mimi1971\", \"color\": \"#99ccff\", \"size\": 5.0}, {\"id\": \"Harvey\", \"text\": \"Harvey\", \"color\": \"#99ccff\", \"size\": 5.0}, {\"id\": \"Bradly Feeley\", \"text\": \"Bradly Feeley\", \"color\": \"#99ccff\", \"size\": 5.0}, {\"id\": \"zeussolo\", \"text\": \"zeussolo\", \"color\": \"#99ccff\", \"size\": 5.0}, {\"id\": \"fogus\", \"text\": \"fogus\", \"color\": \"#99ccff\", \"size\": 5.0}, {\"id\": \"Benjamin Kramer\", \"text\": \"Benjamin Kramer\", \"color\": \"#99ccff\", \"size\": 5.0}, {\"id\": \"Kevin Ballard\", \"text\": \"Kevin Ballard\", \"color\": \"#99ccff\", \"size\": 5.0}, {\"id\": \"Kfir Shay\", \"text\": \"Kfir Shay\", \"color\": \"#99ccff\", \"size\": 5.0}, {\"id\": \"Timothy Goddard\", \"text\": \"Timothy Goddard\", \"color\": \"#99ccff\", \"size\": 5.0}, {\"id\": \"Miguel Aranha Baldi H\\u00f6rlle\", \"text\": \"Miguel Aranha Baldi H\\u00f6rlle\", \"color\": \"#99ccff\", \"size\": 5.0}, {\"id\": \"rck\", \"text\": \"rck\", \"color\": \"#99ccff\", \"size\": 5.0}, {\"id\": \"Matt Foster\", \"text\": \"Matt Foster\", \"color\": \"#99ccff\", \"size\": 5.0}, {\"id\": \"Dana Contreras\", \"text\": \"Dana Contreras\", \"color\": \"#99ccff\", \"size\": 5.0}, {\"id\": \"Yacin Nadji\", \"text\": \"Yacin Nadji\", \"color\": \"#99ccff\", \"size\": 5.0}, {\"id\": \"Robby Russell\", \"text\": \"Robby Russell\", \"color\": \"#99ccff\", \"size\": 5.0}, {\"id\": \"Bryce Kerley\", \"text\": \"Bryce Kerley\", \"color\": \"#99ccff\", \"size\": 5.0}, {\"id\": \"Henrik N\", \"text\": \"Henrik N\", \"color\": \"#99ccff\", \"size\": 5.0}, {\"id\": \"Brendan O'Connor\", \"text\": \"Brendan O'Connor\", \"color\": \"#99ccff\", \"size\": 5.0}, {\"id\": \"Nicol\\u00e1s Sanguinetti\", \"text\": \"Nicol\\u00e1s Sanguinetti\", \"color\": \"#99ccff\", \"size\": 5.0}, {\"id\": \"Colin Campbell-McPherson\", \"text\": \"Colin Campbell-McPherson\", \"color\": \"#99ccff\", \"size\": 5.0}, {\"id\": \"Kyle Lau\", \"text\": \"Kyle Lau\", \"color\": \"#99ccff\", \"size\": 5.0}, {\"id\": \"Martin H\\ufffdger\", \"text\": \"Martin H\\ufffdger\", \"color\": \"#99ccff\", \"size\": 5.0}, {\"id\": \"Carsten Nielsen\", \"text\": \"Carsten Nielsen\", \"color\": \"#99ccff\", \"size\": 5.0}, {\"id\": \"Alex Malinovich\", \"text\": \"Alex Malinovich\", \"color\": \"#99ccff\", \"size\": 5.0}, {\"id\": \"Bruce Cowan\", \"text\": \"Bruce Cowan\", \"color\": \"#99ccff\", \"size\": 5.0}, {\"id\": \"odalet\", \"text\": \"odalet\", \"color\": \"#99ccff\", \"size\": 5.0}, {\"id\": \"Bryce Roney\", \"text\": \"Bryce Roney\", \"color\": \"#99ccff\", \"size\": 5.0}, {\"id\": \"Joshua Suggs\", \"text\": \"Joshua Suggs\", \"color\": \"#99ccff\", \"size\": 5.0}, {\"id\": \"cmhokej\", \"text\": \"cmhokej\", \"color\": \"#99ccff\", \"size\": 5.0}, {\"id\": \"Wellington Viana\", \"text\": \"Wellington Viana\", \"color\": \"#99ccff\", \"size\": 5.0}, {\"id\": \"inv-vinoth\", \"text\": \"inv-vinoth\", \"color\": \"#99ccff\", \"size\": 5.0}, {\"id\": \"Li4ick\", \"text\": \"Li4ick\", \"color\": \"#99ccff\", \"size\": 5.0}, {\"id\": \"Peter Atashian\", \"text\": \"Peter Atashian\", \"color\": \"#99ccff\", \"size\": 5.0}, {\"id\": \"Denton-L\", \"text\": \"Denton-L\", \"color\": \"#99ccff\", \"size\": 5.0}, {\"id\": \"Lars Brinkhoff\", \"text\": \"Lars Brinkhoff\", \"color\": \"#99ccff\", \"size\": 5.0}, {\"id\": \"Jean-Sebastien Ney\", \"text\": \"Jean-Sebastien Ney\", \"color\": \"#99ccff\", \"size\": 5.0}, {\"id\": \"faisalman\", \"text\": \"faisalman\", \"color\": \"#99ccff\", \"size\": 5.0}, {\"id\": \"Jithil P Ponnan\", \"text\": \"Jithil P Ponnan\", \"color\": \"#99ccff\", \"size\": 5.0}, {\"id\": \"Philippe Loctaux\", \"text\": \"Philippe Loctaux\", \"color\": \"#99ccff\", \"size\": 5.0}, {\"id\": \"Paul Brinkmeier\", \"text\": \"Paul Brinkmeier\", \"color\": \"#99ccff\", \"size\": 5.0}, {\"id\": \"KommX\", \"text\": \"KommX\", \"color\": \"#99ccff\", \"size\": 5.0}, {\"id\": \"Index Int\", \"text\": \"Index Int\", \"color\": \"#99ccff\", \"size\": 5.0}, {\"id\": \"Marconi Lanna\", \"text\": \"Marconi Lanna\", \"color\": \"#99ccff\", \"size\": 5.0}, {\"id\": \"Adam Dinwoodie\", \"text\": \"Adam Dinwoodie\", \"color\": \"#99ccff\", \"size\": 5.0}, {\"id\": \"Alhadis\", \"text\": \"Alhadis\", \"color\": \"#99ccff\", \"size\": 5.0}, {\"id\": \"bilal arslan\", \"text\": \"bilal arslan\", \"color\": \"#99ccff\", \"size\": 5.0}, {\"id\": \"Aditya Bist\", \"text\": \"Aditya Bist\", \"color\": \"#99ccff\", \"size\": 5.0}, {\"id\": \"D.E. Akers\", \"text\": \"D.E. Akers\", \"color\": \"#99ccff\", \"size\": 5.0}, {\"id\": \"David\", \"text\": \"David\", \"color\": \"#99ccff\", \"size\": 5.0}, {\"id\": \"George Gibson\", \"text\": \"George Gibson\", \"color\": \"#99ccff\", \"size\": 5.0}, {\"id\": \"tleb\", \"text\": \"tleb\", \"color\": \"#99ccff\", \"size\": 5.0}, {\"id\": \"Will Pimblett\", \"text\": \"Will Pimblett\", \"color\": \"#99ccff\", \"size\": 5.0}, {\"id\": \"Rhed Shi\", \"text\": \"Rhed Shi\", \"color\": \"#99ccff\", \"size\": 5.0}, {\"id\": \"Shark64\", \"text\": \"Shark64\", \"color\": \"#99ccff\", \"size\": 5.0}, {\"id\": \"Shark\", \"text\": \"Shark\", \"color\": \"#99ccff\", \"size\": 5.0}, {\"id\": \"Sam Tebbs\", \"text\": \"Sam Tebbs\", \"color\": \"#99ccff\", \"size\": 5.0}, {\"id\": \"Daniel Rodrigues Lima\", \"text\": \"Daniel Rodrigues Lima\", \"color\": \"#99ccff\", \"size\": 5.0}, {\"id\": \"Ben Hoyt\", \"text\": \"Ben Hoyt\", \"color\": \"#99ccff\", \"size\": 5.0}, {\"id\": \"Boloutare Doubeni\", \"text\": \"Boloutare Doubeni\", \"color\": \"#99ccff\", \"size\": 5.0}, {\"id\": \"Erik Hesselink\", \"text\": \"Erik Hesselink\", \"color\": \"#99ccff\", \"size\": 5.0}, {\"id\": \"Bob Faist\", \"text\": \"Bob Faist\", \"color\": \"#99ccff\", \"size\": 5.0}, {\"id\": \"Benjamin Gudehus\", \"text\": \"Benjamin Gudehus\", \"color\": \"#99ccff\", \"size\": 5.0}, {\"id\": \"Frederik Ring\", \"text\": \"Frederik Ring\", \"color\": \"#99ccff\", \"size\": 5.0}, {\"id\": \"Paul Hofmann\", \"text\": \"Paul Hofmann\", \"color\": \"#99ccff\", \"size\": 5.0}, {\"id\": \"Naveen Kumar Molleti\", \"text\": \"Naveen Kumar Molleti\", \"color\": \"#99ccff\", \"size\": 5.0}, {\"id\": \"manuelgu\", \"text\": \"manuelgu\", \"color\": \"#99ccff\", \"size\": 5.0}, {\"id\": \"Carl D. Benson\", \"text\": \"Carl D. Benson\", \"color\": \"#99ccff\", \"size\": 5.0}, {\"id\": \"Dawid Mazurek\", \"text\": \"Dawid Mazurek\", \"color\": \"#99ccff\", \"size\": 5.0}, {\"id\": \"Shashank S\", \"text\": \"Shashank S\", \"color\": \"#99ccff\", \"size\": 5.0}, {\"id\": \"Colas BROUX\", \"text\": \"Colas BROUX\", \"color\": \"#99ccff\", \"size\": 5.0}, {\"id\": \"deanturpin\", \"text\": \"deanturpin\", \"color\": \"#99ccff\", \"size\": 5.0}, {\"id\": \"Niels NTG\", \"text\": \"Niels NTG\", \"color\": \"#99ccff\", \"size\": 5.0}, {\"id\": \"mr.Shu\", \"text\": \"mr.Shu\", \"color\": \"#99ccff\", \"size\": 5.0}, {\"id\": \"Aaron Muir Hamilton\", \"text\": \"Aaron Muir Hamilton\", \"color\": \"#99ccff\", \"size\": 5.0}, {\"id\": \"Santhosh Kumar Srinivasan\", \"text\": \"Santhosh Kumar Srinivasan\", \"color\": \"#99ccff\", \"size\": 5.0}, {\"id\": \"Anantha Raju C\", \"text\": \"Anantha Raju C\", \"color\": \"#99ccff\", \"size\": 5.0}, {\"id\": \"thatHexa\", \"text\": \"thatHexa\", \"color\": \"#99ccff\", \"size\": 5.0}, {\"id\": \"Markus Gr\\u00e4b\", \"text\": \"Markus Gr\\u00e4b\", \"color\": \"#99ccff\", \"size\": 5.0}, {\"id\": \"Atlas Sullivan\", \"text\": \"Atlas Sullivan\", \"color\": \"#99ccff\", \"size\": 5.0}, {\"id\": \"Frank Ch. Eigler\", \"text\": \"Frank Ch. Eigler\", \"color\": \"#99ccff\", \"size\": 5.0}, {\"id\": \"Daniel Mietchen\", \"text\": \"Daniel Mietchen\", \"color\": \"#99ccff\", \"size\": 5.0}, {\"id\": \"Karan Saxena\", \"text\": \"Karan Saxena\", \"color\": \"#99ccff\", \"size\": 5.0}, {\"id\": \"Aakash Patel\", \"text\": \"Aakash Patel\", \"color\": \"#99ccff\", \"size\": 5.0}, {\"id\": \"Luke Deen Taylor\", \"text\": \"Luke Deen Taylor\", \"color\": \"#99ccff\", \"size\": 5.0}, {\"id\": \"Clement Ng\", \"text\": \"Clement Ng\", \"color\": \"#99ccff\", \"size\": 5.0}, {\"id\": \"Crazywolf132\", \"text\": \"Crazywolf132\", \"color\": \"#99ccff\", \"size\": 5.0}, {\"id\": \"PoroCYon\", \"text\": \"PoroCYon\", \"color\": \"#99ccff\", \"size\": 5.0}, {\"id\": \"Sitesh Shrivastava\", \"text\": \"Sitesh Shrivastava\", \"color\": \"#99ccff\", \"size\": 5.0}, {\"id\": \"JimmyBot\", \"text\": \"JimmyBot\", \"color\": \"#99ccff\", \"size\": 5.0}, {\"id\": \"George Chakhidze\", \"text\": \"George Chakhidze\", \"color\": \"#99ccff\", \"size\": 5.0}, {\"id\": \"Ryan Yates\", \"text\": \"Ryan Yates\", \"color\": \"#99ccff\", \"size\": 5.0}, {\"id\": \"Callum Macrae\", \"text\": \"Callum Macrae\", \"color\": \"#99ccff\", \"size\": 5.0}, {\"id\": \"Lsong\", \"text\": \"Lsong\", \"color\": \"#99ccff\", \"size\": 5.0}, {\"id\": \"Andrew Breza\", \"text\": \"Andrew Breza\", \"color\": \"#99ccff\", \"size\": 5.0}, {\"id\": \"carlosam\", \"text\": \"carlosam\", \"color\": \"#99ccff\", \"size\": 5.0}, {\"id\": \"Aylin Cakal\", \"text\": \"Aylin Cakal\", \"color\": \"#99ccff\", \"size\": 5.0}, {\"id\": \"Ben Peachey\", \"text\": \"Ben Peachey\", \"color\": \"#99ccff\", \"size\": 5.0}, {\"id\": \"Sophie Hamilton\", \"text\": \"Sophie Hamilton\", \"color\": \"#99ccff\", \"size\": 5.0}, {\"id\": \"deatcoca\", \"text\": \"deatcoca\", \"color\": \"#99ccff\", \"size\": 5.0}, {\"id\": \"dhruvsgarg\", \"text\": \"dhruvsgarg\", \"color\": \"#99ccff\", \"size\": 5.0}, {\"id\": \"TheMrIron2\", \"text\": \"TheMrIron2\", \"color\": \"#99ccff\", \"size\": 5.0}, {\"id\": \"Muhammed Ibrahim\", \"text\": \"Muhammed Ibrahim\", \"color\": \"#99ccff\", \"size\": 5.0}, {\"id\": \"John Gracey\", \"text\": \"John Gracey\", \"color\": \"#99ccff\", \"size\": 5.0}, {\"id\": \"Yt-trium\", \"text\": \"Yt-trium\", \"color\": \"#99ccff\", \"size\": 5.0}, {\"id\": \"Darwin Ameli\", \"text\": \"Darwin Ameli\", \"color\": \"#99ccff\", \"size\": 5.0}, {\"id\": \"V. Barozzi\", \"text\": \"V. Barozzi\", \"color\": \"#99ccff\", \"size\": 5.0}, {\"id\": \"electr0sheep\", \"text\": \"electr0sheep\", \"color\": \"#99ccff\", \"size\": 5.0}, {\"id\": \"pingjiang\", \"text\": \"pingjiang\", \"color\": \"#99ccff\", \"size\": 5.0}, {\"id\": \"ConorOBrien-Foxx\", \"text\": \"ConorOBrien-Foxx\", \"color\": \"#99ccff\", \"size\": 5.0}, {\"id\": \"Andrey Portnoy\", \"text\": \"Andrey Portnoy\", \"color\": \"#99ccff\", \"size\": 5.0}, {\"id\": \"PyvesB\", \"text\": \"PyvesB\", \"color\": \"#99ccff\", \"size\": 5.0}, {\"id\": \"aaronryank\", \"text\": \"aaronryank\", \"color\": \"#99ccff\", \"size\": 5.0}, {\"id\": \"Aleks Bunin\", \"text\": \"Aleks Bunin\", \"color\": \"#99ccff\", \"size\": 5.0}, {\"id\": \"Jeff Carlson\", \"text\": \"Jeff Carlson\", \"color\": \"#99ccff\", \"size\": 5.0}, {\"id\": \"Dmitry\", \"text\": \"Dmitry\", \"color\": \"#99ccff\", \"size\": 5.0}, {\"id\": \"Daniel Le\", \"text\": \"Daniel Le\", \"color\": \"#99ccff\", \"size\": 5.0}, {\"id\": \"\\u8d3e\\u987a\\u540d(Jarvis)\", \"text\": \"\\u8d3e\\u987a\\u540d(Jarvis)\", \"color\": \"#99ccff\", \"size\": 5.0}, {\"id\": \"Greg Weisbrod\", \"text\": \"Greg Weisbrod\", \"color\": \"#99ccff\", \"size\": 5.0}, {\"id\": \"Gram\", \"text\": \"Gram\", \"color\": \"#99ccff\", \"size\": 5.0}, {\"id\": \"Akil Krishnan\", \"text\": \"Akil Krishnan\", \"color\": \"#99ccff\", \"size\": 5.0}, {\"id\": \"thathexa\", \"text\": \"thathexa\", \"color\": \"#99ccff\", \"size\": 5.0}, {\"id\": \"Arthur Guiot\", \"text\": \"Arthur Guiot\", \"color\": \"#99ccff\", \"size\": 5.0}, {\"id\": \"yopaman\", \"text\": \"yopaman\", \"color\": \"#99ccff\", \"size\": 5.0}, {\"id\": \"Beyar\", \"text\": \"Beyar\", \"color\": \"#99ccff\", \"size\": 5.0}, {\"id\": \"yakut \\u00f6zcan\", \"text\": \"yakut \\u00f6zcan\", \"color\": \"#99ccff\", \"size\": 5.0}, {\"id\": \"Moonkwanghyun\", \"text\": \"Moonkwanghyun\", \"color\": \"#99ccff\", \"size\": 5.0}]};\n    var directed = true;\n\n    var simulation = d3.forceSimulation()        \n       .force(\"link\", d3.forceLink().id(function(d) { return d.id; }).strength(function(d){return d.weight;}))\n        .force(\"charge\", d3.forceManyBody().strength(-20).distanceMax(400))\n       .force(\"repelForce\", d3.forceManyBody().strength(-200).distanceMax(100))\n       .force(\"center\", d3.forceCenter(400 / 2, 400 / 2))\n       .alphaTarget(0.0);\n\n    svg.append(\"defs\").selectAll(\"marker\")\n        .data([\"end\"])\n    .enter().append(\"marker\")\n        .attr(\"id\", String)\n        .attr(\"viewBox\", \"0 -5 20 20\")\n        .attr(\"refX\", 34)\n        .attr(\"refY\", 0)\n        .attr(\"markerWidth\", 15)\n        .attr(\"markerHeight\", 15)\n        .attr(\"orient\", \"auto\")\n    .append(\"path\")\n        // draws a filled path (triangle) between three points\n        .attr(\"d\", \"M0,-5 L20,0 L0,5 z\")\n        .attr(\"fill\", '#999')\n        .attr(\"stroke\", 'none');\n\n    var g = svg.append(\"g\")\n        .attr(\"class\", \"everything\");\n\n    var link = g.append(\"g\")\n        .attr(\"class\", \"links_rLpTwTwf\")\n        .selectAll(\"line\")\n        .data(graph.links)\n        .enter().append(\"line\")\n        .attr(\"stroke-width\", function(d) { return d.width; })\n        .attr(\"stroke\", function(d) { return d.color; } );\n\n    if (directed)\n        link.attr(\"marker-end\", \"url(#end)\");\n\n    var node_g = g.append(\"g\")\n        .attr(\"class\", \"nodes_rLpTwTwf\")\n        .selectAll(\"circle\")\n        .data(graph.nodes)\n        .enter()\n        .append(\"g\"); \n\n    var node = node_g.append(\"circle\")\n        .attr('id', function(d) { return d.id; })\n        .attr(\"r\", function(d) { return d.size; })\n        .attr(\"fill\", function(d) { return d.color; })\n        .call(d3.drag()\n            .on(\"start\", dragstarted)\n            .on(\"drag\", dragged)\n            .on(\"end\", dragended));\n\n    var text = node_g.append(\"text\")\n    .attr(\"x\", [0, -10][0])\n    .attr(\"y\", [0, -10][1]+3)\n    .attr(\"id\", function(d) {return d.id; })\n    .attr(\"class\", \"label_rLpTwTwf\")\n    .text(function(d) { return d.id; });\n\n    node.append(\"title\")\n        .text(function(d) { return d.text; });\n\n    var zoom_handler = d3.zoom()\n        .on(\"zoom\", zoom_actions);\n    zoom_handler(svg);\n\n    // attach event handler for svg export\n    d3.select('#rLpTwTwf_svg_txt').on(\"click\", save_svg);\n\n    simulation\n        .nodes(graph.nodes)\n        .on(\"tick\", ticked);\n\n    simulation.force(\"link\")\n        .links(graph.links);\n\n    function ticked() {\n        link.attr(\"x1\", function(d) { return d.source.x; })\n            .attr(\"y1\", function(d) { return d.source.y; })\n            .attr(\"x2\", function(d) { return d.target.x; })\n            .attr(\"y2\", function(d) { return d.target.y; });\n\n         text.attr(\"transform\", transform);\n\n\n        text.attr(\"cx\", function(d) { return d.x; })\n            .attr(\"cy\", function(d) { return d.y; });\n\n        node.attr(\"cx\", function(d) { return d.x; })\n            .attr(\"cy\", function(d) { return d.y; });\n    }\n\n    function transform(d) {\n        return \"translate(\" + d.x + \",\" + d.y + \")\";\n    }\n\n    function dragstarted(d) {\n    if (!d3.event.active) simulation.alphaTarget(0.3).restart();\n    d.fx = d.x;\n    d.fy = d.y;\n    }\n\n    function zoom_actions(){\n        g.attr(\"transform\", d3.event.transform)\n    }    \n\n    function dragged(d) {\n    d.fx = d3.event.x;\n    d.fy = d3.event.y;\n    }\n\n    function dragended(d) {\n    if (!d3.event.active) simulation.alphaTarget(0);\n    d.fx = null;\n    d.fy = null;\n    }\n\n    function to_svg() {\n        // Returns a SVG representation of the current state of the visualisation\n\t    var svg  = document.getElementById('rLpTwTwf');\n\t    var xml = (new XMLSerializer).serializeToString(svg);\n        return xml;\n    }\n\n    function save_svg() {\n        var svg  = document.getElementById('rLpTwTwf');\n        var xml = (new XMLSerializer).serializeToString(svg);        \n        var blob = new Blob([xml], {type: 'text/xml'});\n        if(window.navigator.msSaveOrOpenBlob) {\n            window.navigator.msSaveBlob(blob, 'network.svg');\n        }\n        else{\n            var elem = window.document.createElement('a');\n            elem.href = window.URL.createObjectURL(blob);\n            elem.download = 'network.svg';\n            document.body.appendChild(elem);\n            elem.click();\n            document.body.removeChild(elem);\n        }\n    }\n});\n</script>",
      "text/plain": "<pathpy.classes.network.Network at 0x7f8830fd7f98>"
     },
     "execution_count": 3,
     "metadata": {},
     "output_type": "execute_result"
    }
   ],
   "source": [
    "#package for network visualization:\n",
    "import pathpy as pp\n",
    "\n",
    "#fetching information:\n",
    "t, node_info, edge_info = git2net.get_coediting_network(sqlite_db_file)\n",
    "\n",
    "#showing graph:\n",
    "pp.Network.from_temporal_network(t)"
   ]
  },
  {
   "cell_type": "markdown",
   "execution_count": null,
   "metadata": {},
   "outputs": [],
   "source": [
    "This already gives us the idea that we have a large and complex community.\n",
    "\n",
    "Lets look at the work activity of the committers in the last 6 months, this gives us an idea who has recently been active. The following graph shows us which committer has edited which files from `01.05.2019` onwards."
   ]
  },
  {
   "cell_type": "code",
   "execution_count": 4,
   "metadata": {},
   "outputs": [
    {
     "data": {
      "text/html": "<style>\n    text.label_sqsXJGhm {\n        text-anchor: middle;\n        font-size: 8px;\n        font-family: Arial, Helvetica, sans-serif;\n        fill: #999999;\n        stroke: #ffffff;\n        stroke-width: 0.1px;\n        opacity: 1.0;\n    }\n    .links_sqsXJGhm line {\n    stroke-opacity: 1.0;\n    }\n    .arrows svg:path {\n        stroke: #666;\n    }\n    .nodes_sqsXJGhm circle {\n    stroke: #fff;\n    stroke-width: 0.5px;\n    }\n</style>\n\n<svg width=\"400\" height=\"400\" id=\"sqsXJGhm\">        \n    <text x=\"20\" y=\"20\" font-family=\"sans-serif\" font-size=\"14px\" fill=\"#666\" style=\"cursor: pointer\"\n        id='sqsXJGhm_svg_txt'>[save svg]</text>\n</svg>\n\n<script charset=\"utf-8\" src=\"https://d3js.org/d3.v4.min.js\"></script>\n<script charset=\"utf-8\">\n\n// Load via requireJS if available (jupyter notebook environment)\ntry {\n    // Problem: require.config will raise an exception when called for the second time \n    require.config({\n        paths: {\n            //d3: \"https://d3js.org/d3.v4.min\"\n            d3: \"https://d3js.org/d3.v4.min.js\".replace(\".js\", \"\")\n        }\n    });\n    console.log(\"Detected requireJS\");\n}\ncatch(err){\n    // a reference error indicates that requireJS does not exist. \n    // other errors may occur due to multiple calls to config\n    if (err instanceof ReferenceError){\n        console.log(\"Detected no requireJS\");\n\n        // Helper function that waits for d3js to be loaded\n        require = function require(symbols, callback) {\n            var ms = 5;\n            window.setTimeout(function(t) {\n                if (window[symbols[0]])\n                    callback(window[symbols[0]]);\n                else \n                    window.setTimeout(arguments.callee, ms);\n            }, ms);\n        }\n    }\n}\n\n// wait until d3js has been loaded\nrequire([\"d3\"], function(d3) {\n    var svg = d3.select(\"#\"+\"sqsXJGhm\"), radius = 6, width = +svg.attr(\"width\"), height = +svg.attr(\"height\");\n\n    var color = d3.scaleOrdinal(d3.schemeCategory20);\n\n    var graph = {\"links\": [{\"source\": \"Mike Donaghy\", \"target\": \"README.md\", \"color\": \"#999999\", \"width\": 0.5, \"weight\": 1.0}, {\"source\": \"Mike Donaghy\", \"target\": \"d.d\", \"color\": \"#999999\", \"width\": 0.5, \"weight\": 1.0}, {\"source\": \"Mike Donaghy\", \"target\": \"python3.py\", \"color\": \"#999999\", \"width\": 0.5, \"weight\": 1.0}], \"nodes\": [{\"id\": \"Mike Donaghy\", \"text\": \"Mike Donaghy\", \"color\": \"#73D2DE\", \"size\": 5.0}, {\"id\": \"README.md\", \"text\": \"README.md\", \"color\": \"#2E5EAA\", \"size\": 5.0}, {\"id\": \"d.d\", \"text\": \"d.d\", \"color\": \"#2E5EAA\", \"size\": 5.0}, {\"id\": \"python3.py\", \"text\": \"python3.py\", \"color\": \"#2E5EAA\", \"size\": 5.0}]};\n    var directed = true;\n\n    var simulation = d3.forceSimulation()        \n       .force(\"link\", d3.forceLink().id(function(d) { return d.id; }).strength(function(d){return d.weight;}))\n        .force(\"charge\", d3.forceManyBody().strength(-20).distanceMax(400))\n       .force(\"repelForce\", d3.forceManyBody().strength(-200).distanceMax(100))\n       .force(\"center\", d3.forceCenter(400 / 2, 400 / 2))\n       .alphaTarget(0.0);\n\n    svg.append(\"defs\").selectAll(\"marker\")\n        .data([\"end\"])\n    .enter().append(\"marker\")\n        .attr(\"id\", String)\n        .attr(\"viewBox\", \"0 -5 20 20\")\n        .attr(\"refX\", 34)\n        .attr(\"refY\", 0)\n        .attr(\"markerWidth\", 15)\n        .attr(\"markerHeight\", 15)\n        .attr(\"orient\", \"auto\")\n    .append(\"path\")\n        // draws a filled path (triangle) between three points\n        .attr(\"d\", \"M0,-5 L20,0 L0,5 z\")\n        .attr(\"fill\", '#999')\n        .attr(\"stroke\", 'none');\n\n    var g = svg.append(\"g\")\n        .attr(\"class\", \"everything\");\n\n    var link = g.append(\"g\")\n        .attr(\"class\", \"links_sqsXJGhm\")\n        .selectAll(\"line\")\n        .data(graph.links)\n        .enter().append(\"line\")\n        .attr(\"stroke-width\", function(d) { return d.width; })\n        .attr(\"stroke\", function(d) { return d.color; } );\n\n    if (directed)\n        link.attr(\"marker-end\", \"url(#end)\");\n\n    var node_g = g.append(\"g\")\n        .attr(\"class\", \"nodes_sqsXJGhm\")\n        .selectAll(\"circle\")\n        .data(graph.nodes)\n        .enter()\n        .append(\"g\"); \n\n    var node = node_g.append(\"circle\")\n        .attr('id', function(d) { return d.id; })\n        .attr(\"r\", function(d) { return d.size; })\n        .attr(\"fill\", function(d) { return d.color; })\n        .call(d3.drag()\n            .on(\"start\", dragstarted)\n            .on(\"drag\", dragged)\n            .on(\"end\", dragended));\n\n    var text = node_g.append(\"text\")\n    .attr(\"x\", [0, -10][0])\n    .attr(\"y\", [0, -10][1]+3)\n    .attr(\"id\", function(d) {return d.id; })\n    .attr(\"class\", \"label_sqsXJGhm\")\n    .text(function(d) { return d.id; });\n\n    node.append(\"title\")\n        .text(function(d) { return d.text; });\n\n    var zoom_handler = d3.zoom()\n        .on(\"zoom\", zoom_actions);\n    zoom_handler(svg);\n\n    // attach event handler for svg export\n    d3.select('#sqsXJGhm_svg_txt').on(\"click\", save_svg);\n\n    simulation\n        .nodes(graph.nodes)\n        .on(\"tick\", ticked);\n\n    simulation.force(\"link\")\n        .links(graph.links);\n\n    function ticked() {\n        link.attr(\"x1\", function(d) { return d.source.x; })\n            .attr(\"y1\", function(d) { return d.source.y; })\n            .attr(\"x2\", function(d) { return d.target.x; })\n            .attr(\"y2\", function(d) { return d.target.y; });\n\n         text.attr(\"transform\", transform);\n\n\n        text.attr(\"cx\", function(d) { return d.x; })\n            .attr(\"cy\", function(d) { return d.y; });\n\n        node.attr(\"cx\", function(d) { return d.x; })\n            .attr(\"cy\", function(d) { return d.y; });\n    }\n\n    function transform(d) {\n        return \"translate(\" + d.x + \",\" + d.y + \")\";\n    }\n\n    function dragstarted(d) {\n    if (!d3.event.active) simulation.alphaTarget(0.3).restart();\n    d.fx = d.x;\n    d.fy = d.y;\n    }\n\n    function zoom_actions(){\n        g.attr(\"transform\", d3.event.transform)\n    }    \n\n    function dragged(d) {\n    d.fx = d3.event.x;\n    d.fy = d3.event.y;\n    }\n\n    function dragended(d) {\n    if (!d3.event.active) simulation.alphaTarget(0);\n    d.fx = null;\n    d.fy = null;\n    }\n\n    function to_svg() {\n        // Returns a SVG representation of the current state of the visualisation\n\t    var svg  = document.getElementById('sqsXJGhm');\n\t    var xml = (new XMLSerializer).serializeToString(svg);\n        return xml;\n    }\n\n    function save_svg() {\n        var svg  = document.getElementById('sqsXJGhm');\n        var xml = (new XMLSerializer).serializeToString(svg);        \n        var blob = new Blob([xml], {type: 'text/xml'});\n        if(window.navigator.msSaveOrOpenBlob) {\n            window.navigator.msSaveBlob(blob, 'network.svg');\n        }\n        else{\n            var elem = window.document.createElement('a');\n            elem.href = window.URL.createObjectURL(blob);\n            elem.download = 'network.svg';\n            document.body.appendChild(elem);\n            elem.click();\n            document.body.removeChild(elem);\n        }\n    }\n});\n</script>",
      "text/plain": "<IPython.core.display.HTML object>"
     },
     "metadata": {},
     "output_type": "display_data"
    }
   ],
   "source": [
    "from datetime import datetime\n",
    "\n",
    "time_from = datetime(2019, 5, 1)\n",
    "t, node_info, edge_info = git2net.get_bipartite_network(sqlite_db_file, time_from=time_from)\n",
    "\n",
    "n = pp.Network.from_temporal_network(t)\n",
    "colour_map = {'author': '#73D2DE', 'file': '#2E5EAA'}\n",
    "node_colour = {node: colour_map[node_info['class'][node]] for node in n.nodes}\n",
    "pp.visualisation.plot(n, node_color=node_colour)"
   ]
  },
  {
   "cell_type": "markdown",
   "execution_count": null,
   "metadata": {},
   "outputs": [],
   "source": [
    "Then again it seems like `Mike Donaghy` is the only doing with recent activity, and that there is hardly any recent activity at all.\n",
    "\n",
    "## Sqlite queries\n",
    "\n",
    "Lets begin to analyse the sqlite database, by connecting to the file."
   ]
  },
  {
   "cell_type": "code",
   "execution_count": 5,
   "metadata": {},
   "outputs": [],
   "source": [
    "import pandas as pd\n",
    "import sqlite3\n",
    "\n",
    "#connect to database file:\n",
    "con = sqlite3.connect(sqlite_db_file)\n",
    "c = con.cursor()"
   ]
  },
  {
   "cell_type": "markdown",
   "execution_count": null,
   "metadata": {},
   "outputs": [],
   "source": [
    "Since we only want to look at the edit type `replacement` in the `edits`-table, lets create a new table `df2` with the columns that we need for linear regression, namely:\n",
    "\n",
    "1. the distinct `hash` commit value\n",
    "2. the `committer_name`\n",
    "3. the `committer_date`\n",
    "4. the parent commit hash `original_commit_deletion`\n",
    "5. and the producitivity measure `levenshtein_dist`."
   ]
  },
  {
   "cell_type": "code",
   "execution_count": 6,
   "metadata": {},
   "outputs": [
    {
     "data": {
      "text/plain": "<sqlite3.Cursor at 0x7f8830aea0a0>"
     },
     "execution_count": 6,
     "metadata": {},
     "output_type": "execute_result"
    }
   ],
   "source": [
    "#create a new table with the desired column names:\n",
    "query0=\"\"\"\n",
    "    CREATE TABLE IF NOT EXISTS df2(\n",
    "    hash TEXT PRIMARY KEY,\n",
    "    committer_name TEXT,\n",
    "    committer_date TEXT,\n",
    "    original_commit_deletion TEXT,\n",
    "    levenshtein_dist INTEGER);\n",
    "\"\"\"\n",
    "\n",
    "#execute the queries on the database:\n",
    "c.execute(query0)"
   ]
  },
  {
   "cell_type": "markdown",
   "execution_count": null,
   "metadata": {},
   "outputs": [],
   "source": [
    "Following task 02, lets select only rows of table `edits`, where `edit_type='replacement'` and merge this with table `commits` along the primary key `hash`. This gives us a joined table of `edits` and `commits`, but with hashes occuring multiple times, each with different `levenshtein_dist`.\n",
    "\n",
    "Therefore we group this query by unique hashes, taking the sum of the `levenshtein dist` of same hashes, because we want to know the total `levenshtein_dist` for each commit and not for every single edit.\n",
    "\n",
    "Finally, we insert this into the new table `df2` to avoid key words (e.g. `SUM(levenshtein_dist)`) as column names."
   ]
  },
  {
   "cell_type": "code",
   "execution_count": 7,
   "metadata": {},
   "outputs": [
    {
     "data": {
      "text/plain": "<sqlite3.Cursor at 0x7f8830aea0a0>"
     },
     "execution_count": 7,
     "metadata": {},
     "output_type": "execute_result"
    }
   ],
   "source": [
    "query1=\"\"\"\n",
    "    INSERT INTO df2(hash, committer_name, committer_date, original_commit_deletion, levenshtein_dist)\n",
    "    SELECT hash, committer_name, committer_date, original_commit_deletion, \"SUM(levenshtein_dist)\"\n",
    "    FROM\n",
    "    (\n",
    "    SELECT \n",
    "    hash,\n",
    "    committer_name,\n",
    "    committer_date,\n",
    "    original_commit_deletion,\n",
    "    SUM(levenshtein_dist)\n",
    "    FROM(SELECT * FROM edits INNER JOIN commits ON commits.hash = edits.commit_hash WHERE edit_type = 'replacement')\n",
    "    GROUP BY hash\n",
    "    );\n",
    "\"\"\"\n",
    "\n",
    "c.execute(query1)"
   ]
  },
  {
   "cell_type": "markdown",
   "execution_count": null,
   "metadata": {},
   "outputs": [],
   "source": [
    "We can count the distinct `committer_names`, this gives us an idea of the size."
   ]
  },
  {
   "cell_type": "code",
   "execution_count": 8,
   "metadata": {},
   "outputs": [
    {
     "name": "stdout",
     "output_type": "stream",
     "text": "The number of committers we are dealing with is 79\n"
    }
   ],
   "source": [
    "#count the distinct committer names:\n",
    "query1_1=\"\"\"\n",
    "    SELECT count(DISTINCT committer_name) FROM df2;\n",
    "\"\"\"\n",
    "\n",
    "c.execute(query1_1)\n",
    "\n",
    "#store amount of distinct committer names as int...\n",
    "number_committers = c.fetchone()[0]\n",
    "\n",
    "print('The number of committers we are dealing with is', number_committers)\n",
    "\n",
    "#save the queries:\n",
    "con.commit()"
   ]
  },
  {
   "cell_type": "markdown",
   "execution_count": null,
   "metadata": {},
   "outputs": [],
   "source": [
    "Lets take a look of the committers names with the following query."
   ]
  },
  {
   "cell_type": "code",
   "execution_count": 9,
   "metadata": {},
   "outputs": [],
   "source": [
    "#select the distinct committer names\n",
    "query1_2=\"\"\"\n",
    "     SELECT DISTINCT committer_name FROM df2;\n",
    "\"\"\"\n",
    "\n",
    "c.execute(query1_2)\n",
    "\n",
    "#store names of committers in list:\n",
    "committer_list = c.fetchall()\n",
    "\n",
    "#save the queries:\n",
    "con.commit()\n",
    "\n",
    "#close the database to make it accessible for others:\n",
    "con.close()"
   ]
  },
  {
   "cell_type": "code",
   "execution_count": 10,
   "metadata": {},
   "outputs": [
    {
     "name": "stdout",
     "output_type": "stream",
     "text": "The committers names are:\n\n"
    },
    {
     "data": {
      "text/plain": "['Dawid Mazurek',\n 'Jacob',\n 'Carl D. Benson',\n 'Karthikeyan VJ',\n 'Arthur Guiot',\n 'Li4ick',\n 'thatHexa',\n 'Gunnar Guðvarðarson',\n 'GitHub',\n 'Mike Donaghy',\n 'bcnjr5',\n 'Rhys Bower',\n 'Alhadis',\n 'Mario Lang',\n 'Michael Gebetsroither',\n 'Ben Watkins',\n 'xcvista',\n 'Jocinardo Rodrigues (Jojo)',\n 'Luke Deen Taylor',\n 'Adam Dinwoodie',\n 'KommX',\n 'Pratik K. Patel',\n 'Peter Atashian',\n 'inv-vinoth',\n 'Eric Schaefer',\n 'ConorOBrien-Foxx',\n 'deanturpin',\n 'kongr45gpen',\n 'Rhed Shi',\n 'Frederik Ring',\n 'Nathan M. Swan',\n 'Carsten Nielsen',\n 'Ado Matejov',\n 'Benjamin Gudehus',\n 'Akil Krishnan',\n 'Sam Tebbs',\n 'Index Int',\n 'pingjiang',\n 'Philippe Loctaux',\n 'ayekat',\n 'elektronikLexikon',\n 'Mike Green',\n 'Greg Weisbrod',\n 'Ben Hoyt',\n 'Clement Ng',\n 'Adam Harte',\n 'yopaman',\n 'George Gibson',\n 'Bryce Kerley',\n 'Jack Wearden',\n 'PoroCYon',\n 'Dagal',\n 'Wellington Viana',\n 'Niels NTG',\n 'Shark',\n 'Clive Crous',\n 'Robert Wohlrab',\n 'Aleks Bunin',\n 'Petr Severa',\n 'Muhammed Ibrahim',\n 'Paul Brinkmeier',\n 'Chris Wanstrath',\n 'D.E. Akers',\n 'tleb',\n 'Daniel Le',\n 'Christian',\n 'Sergey Nartimov',\n 'Marconi Lanna',\n 'bilal arslan',\n 'Bob Faist',\n 'LegionMammal978',\n 'Shark64',\n 'Erik Hesselink',\n 'マーティン',\n 'thathexa',\n 'Shashank S',\n 'Sam Tobin-Hochstadt',\n 'Ho Tuan Kiet',\n 'Boloutare Doubeni']"
     },
     "execution_count": 10,
     "metadata": {},
     "output_type": "execute_result"
    }
   ],
   "source": [
    "#turn list of string-tuples into list of single-strings:\n",
    "committers = [i[0] for i in committer_list]\n",
    "\n",
    "print('The committers names are:\\n')\n",
    "\n",
    "committers\n"
   ]
  },
  {
   "cell_type": "markdown",
   "execution_count": null,
   "metadata": {},
   "outputs": [],
   "source": [
    "We want to find a productivity measure that suits each commit. The idea is to find the next commit, that an author did, and calculate the `levensthein_dist` for that specific time intervall between the two commits. Therefore, we first need to sort the `df2`-table by ascending `commit_dates`.\n",
    "\n",
    "We call this new table `df3`. We do this by executing our sorting query on `df2` and transfering everything to `df3`. By doing this procedure we avoid table errors and unclean workspace."
   ]
  },
  {
   "cell_type": "code",
   "execution_count": 11,
   "metadata": {},
   "outputs": [],
   "source": [
    "#create new empty table:\n",
    "query01=\"\"\"\n",
    "    CREATE TABLE IF NOT EXISTS df3(\n",
    "    hash TEXT PRIMARY KEY,\n",
    "    committer_name TEXT,\n",
    "    committer_date TEXT,\n",
    "    original_commit_deletion TEXT,\n",
    "    levenshtein_dist INTEGER);\n",
    "\"\"\"\n",
    "\n",
    "#sort committer_date ascending:\n",
    "query2=\"\"\"\n",
    "    INSERT INTO df3(hash, committer_name, committer_date, original_commit_deletion, levenshtein_dist)\n",
    "    SELECT *\n",
    "    FROM\n",
    "    (\n",
    "    SELECT * \n",
    "    FROM df2 \n",
    "    ORDER BY committer_date ASC\n",
    "    );\n",
    "\"\"\"\n",
    "\n",
    "#delete table df2:\n",
    "query3=\"\"\"\n",
    "    DROP TABLE df2;\n",
    "\"\"\"\n",
    "\n",
    "con = sqlite3.connect(sqlite_db_file)\n",
    "c = con.cursor()\n",
    "\n",
    "#execute the queries:\n",
    "c.execute(query01)\n",
    "c.execute(query2)\n",
    "c.execute(query3)\n",
    "#result: df3\n",
    "\n",
    "#close connection:\n",
    "con.commit()\n",
    "con.close()"
   ]
  },
  {
   "cell_type": "markdown",
   "execution_count": null,
   "metadata": {},
   "outputs": [],
   "source": [
    "## Numpy array\n",
    "\n",
    "Now we have a clean table with ascending `committer_dates`. We can transform this into a numpy array for faster and more precise calculations. "
   ]
  },
  {
   "cell_type": "code",
   "execution_count": 12,
   "metadata": {},
   "outputs": [
    {
     "name": "stdout",
     "output_type": "stream",
     "text": "The first row of the np array: \n ['1d0c2933a4ae69c362f76797d42d6bd182d05176' 'Michael Gebetsroither'\n '2007-11-21 12:38:08' 'c6d31dccf5cc75e8e46299fc62d38f60ec6d41e0' 1]\n"
    }
   ],
   "source": [
    "#reopen connection:\n",
    "con = sqlite3.connect(sqlite_db_file)\n",
    "\n",
    "#output df2 as a pandas dataframe:\n",
    "df = pd.read_sql_query(\"SELECT * FROM df3;\", con=con)\n",
    "\n",
    "#turn Pandas dataframe into numpy array:\n",
    "df = df.values\n",
    "\n",
    "print('The first row of the np array: \\n', df[0])"
   ]
  },
  {
   "cell_type": "markdown",
   "execution_count": null,
   "metadata": {},
   "outputs": [],
   "source": [
    "## Productivity measure\n",
    "\n",
    "Since we will need to extend the array for the extra productivity value that we will calculate, we introduce a small function that appends further columns to our array."
   ]
  },
  {
   "cell_type": "code",
   "execution_count": 13,
   "metadata": {},
   "outputs": [],
   "source": [
    "import numpy as np\n",
    "\n",
    "#function for adding a full-length '0'-column to the dataframe:\n",
    "def add_column(df):\n",
    "    new_column = np.array(np.zeros(df.shape[0]))\n",
    "    return np.column_stack((df, new_column))"
   ]
  },
  {
   "cell_type": "code",
   "execution_count": 14,
   "metadata": {},
   "outputs": [
    {
     "name": "stdout",
     "output_type": "stream",
     "text": "Shape of array: (145, 6)\n"
    }
   ],
   "source": [
    "#add column:\n",
    "df = add_column(df)\n",
    "print('Shape of array:', df.shape)"
   ]
  },
  {
   "cell_type": "markdown",
   "execution_count": null,
   "metadata": {},
   "outputs": [],
   "source": [
    "In order to find out the total time between two commits of each author, we must turn the `committer_date` (string) into a readible numeric object. We can do this by stripping the time variables and returning a `datetime`-object."
   ]
  },
  {
   "cell_type": "code",
   "execution_count": 15,
   "metadata": {},
   "outputs": [
    {
     "name": "stdout",
     "output_type": "stream",
     "text": "2007-11-21 12:38:08\n<class 'datetime.datetime'>\n"
    }
   ],
   "source": [
    "#make date stamps readible, by turning them into a datetime-object:\n",
    "\n",
    "from datetime import datetime\n",
    "\n",
    "def date_to_int(date_str):\n",
    "    return datetime.strptime(date_str, '%Y-%m-%d %H:%M:%S')\n",
    "\n",
    "print(date_to_int(df[0][2]))\n",
    "print(type(date_to_int(df[0][2])))"
   ]
  },
  {
   "cell_type": "markdown",
   "execution_count": null,
   "metadata": {},
   "outputs": [],
   "source": [
    "Since the table is sorted by ascending `committer_dates`, we can simply run a loop and check for the next commit that a certain author delivered. We then calculate the amount of time (in seconds) between the two commits; we save the value in the newly created column.\n",
    "\n"
   ]
  },
  {
   "cell_type": "code",
   "execution_count": 16,
   "metadata": {},
   "outputs": [],
   "source": [
    "\n",
    "for i in range(df.shape[0]-1):\n",
    "    #grab the author and his commit_time:\n",
    "    author = df[i][1]\n",
    "    commit_time = df[i][2]\n",
    "    for j in range(i+1,df.shape[0]):\n",
    "        #search for the his next commit:\n",
    "        author_next = df[j][1]\n",
    "        commit_time_next = df[j][2]\n",
    "        #if there is a \"next commit\", calculate the commit_time differences (in total seconds) and save the value in the last column:\n",
    "        if author == author_next:\n",
    "                #calulate the total time (in seconds) between the 2 commits:\n",
    "                df[j][5] = (date_to_int(commit_time_next) - date_to_int(commit_time)).total_seconds()\n",
    "                break\n",
    "            "
   ]
  },
  {
   "cell_type": "code",
   "execution_count": 17,
   "metadata": {},
   "outputs": [
    {
     "name": "stdout",
     "output_type": "stream",
     "text": "Shape of array: (145, 7)\n"
    }
   ],
   "source": [
    "#add empty 6th column:\n",
    "df = add_column(df)\n",
    "print('Shape of array:', df.shape)"
   ]
  },
  {
   "cell_type": "markdown",
   "execution_count": null,
   "metadata": {},
   "outputs": [],
   "source": [
    "If someone has a `levensthein_dist` of 1000, but took 3 months to commit it, he was not very productive.\n",
    "Whereas someone with that same `levensthein_dist`, who commited in 3 days, is far more productive. \n",
    "\n",
    "Therefore, we define the productivity measure for each authors commit to be the `levensthein_dist` per second:\n",
    "\n",
    "$$\\text{levensthein_dist/second} \\quad = \\quad \\frac{\\text{levensthein_dist}}{\\text{time_between_two_commits}}$$ "
   ]
  },
  {
   "cell_type": "code",
   "execution_count": 18,
   "metadata": {},
   "outputs": [],
   "source": [
    "for i in range(df.shape[0]):\n",
    "    #if time_between_commits = 0, then set productivity to 0\n",
    "    if df[i][5] == 0:\n",
    "        df[i][6] = 0\n",
    "    #else, calculate productivity measure and store in 6th column\n",
    "    else:     \n",
    "        df[i][6] = df[i][4] / df[i][5]"
   ]
  },
  {
   "cell_type": "code",
   "execution_count": 19,
   "metadata": {},
   "outputs": [
    {
     "name": "stdout",
     "output_type": "stream",
     "text": "Shape of array: (145, 8)\n"
    }
   ],
   "source": [
    "#add empty 7th column:\n",
    "df = add_column(df)\n",
    "print('Shape of array:', df.shape)"
   ]
  },
  {
   "cell_type": "markdown",
   "execution_count": null,
   "metadata": {},
   "outputs": [],
   "source": [
    "## Collaboration variable\n",
    "\n",
    "Following task 03, we want to construct a variable defining if the author collaborated or not for his commit, i.e. whether or not he is editing someone elses commit.\n",
    "\n",
    "We set a boolean variable\n",
    "- '1' if the authors parents hash is another authors commit hash (collaborated: True)\n",
    "- '0' if this is not the case (collaborated: False)\n",
    "\n",
    "and store this in the newly created column."
   ]
  },
  {
   "cell_type": "code",
   "execution_count": 20,
   "metadata": {},
   "outputs": [],
   "source": [
    "for i in range(df.shape[0]):\n",
    "    parent_hash = df[i][3]\n",
    "    #set orig_author to default 'nobody'\n",
    "    #(important for genesis commit hashes)\n",
    "    orig_author = 'nobody'\n",
    "    for j in range(i):\n",
    "        #check whether any other prior hash is from the same author\n",
    "        if df[j][0] == parent_hash:\n",
    "            #update orig_author with real author name:\n",
    "            orig_author = df[j][1]\n",
    "            #if original hash found, then break:\n",
    "            break\n",
    "    #set a place holder in the 7th column:\n",
    "    df[i][7] = 'no parent_hash'\n",
    "    #if author collaborated, save '1', if not, save '0':\n",
    "    #only if orig_author was another author, did the author collaborate:\n",
    "    if orig_author != df[i][1] and orig_author != 'nobody':\n",
    "        df[i][7] = 1\n",
    "    else:\n",
    "        df[i][7] = 0"
   ]
  },
  {
   "cell_type": "markdown",
   "execution_count": null,
   "metadata": {},
   "outputs": [],
   "source": [
    "Now check the `df`-variable. We know have all the data in the columns needed for linear regression!\n",
    "\n",
    "Specifically, we only need\n",
    "\n",
    "1. the `committer_name`, capturing the identity of the developer. Each developer is obviously differently skilled, so we want to capture this effect in a specified variable when doing linear regression\n",
    "\n",
    "2. the `levenshtein_dist/second`, measuring the productivity of every authors commit\n",
    "\n",
    "3. the `collab_bool`, telling us whether or not the author \"collaborated\"\n",
    "\n",
    "We delete every other column of our array."
   ]
  },
  {
   "cell_type": "code",
   "execution_count": 21,
   "metadata": {},
   "outputs": [
    {
     "name": "stdout",
     "output_type": "stream",
     "text": "Shape of array: (145, 3)\n"
    }
   ],
   "source": [
    "#delete commit_hash:\n",
    "df = np.delete(df,0,1)\n",
    "#delete commit_time:\n",
    "df = np.delete(df,1,1)\n",
    "#delete parent_hash:\n",
    "df = np.delete(df,1,1)\n",
    "#delete levensthein_dist:\n",
    "df = np.delete(df,1,1)\n",
    "#delete time_between_commits:\n",
    "df = np.delete(df,1,1)\n",
    "\n",
    "print('Shape of array:', df.shape)"
   ]
  },
  {
   "cell_type": "markdown",
   "execution_count": null,
   "metadata": {},
   "outputs": [],
   "source": [
    "Its most convenient to perform (multiple) linear regression using `statsmodels`. This works best if we use a `pandas` dataframe, since we can call columns simply by their names. So in the following, we convert our `numpy` array into a 3-column `pandas` dataframe."
   ]
  },
  {
   "cell_type": "code",
   "execution_count": 22,
   "metadata": {},
   "outputs": [
    {
     "name": "stdout",
     "output_type": "stream",
     "text": "(145, 3)\n         committer_names  productivity_per_second collab_bool\n0  Michael Gebetsroither                      0.0           0\n1         Robert Wohlrab                      0.0           0\n2         Robert Wohlrab                      0.0           0\n"
    }
   ],
   "source": [
    "#insert first column of df as 'committer_names':\n",
    "pdf = pd.DataFrame({'committer_names': df[:,0]})\n",
    "#insert second column of df as 'productivity_per_second':\n",
    "pdf['productivity_per_second'] = df[:,1]\n",
    "#we must account for the lack of pandas' ability to handle scientific numeric notation (e.g. e^-5) by specifically turning them into numeric values:\n",
    "pdf['productivity_per_second'] = pd.to_numeric(pdf['productivity_per_second'])\n",
    "#insert third column of df as 'collab_bool':\n",
    "pdf['collab_bool'] = df[:,2]\n",
    "\n",
    "print(pdf.shape)\n",
    "print(pdf.head(3))"
   ]
  },
  {
   "cell_type": "markdown",
   "execution_count": null,
   "metadata": {},
   "outputs": [],
   "source": [
    "## Multiple linear regression\n",
    "\n",
    "Finally we can run linear regression!\n",
    "\n",
    "We must keep in mind, that the `committer_names` are `strings` and for each `committer_name`, we want to have a variable that captures the developers identity. Since they are 'strings', it would make them `categorical` variables. We can captures all of the different `committer_names` by introducing `dummy` variables. \n",
    "\n",
    "Thankfully, `statsmodels` sports an useful feature for automatically dealing with turning these `categorical` into `dummy` variables. \n",
    "We can neglect any common influence of one certain `committer_name` with another.\n",
    "\n",
    "Our multiple linear regression therefore consists of $$\\beta_{\\text{col}} \\cdot \\text{collab_bool} \\quad + \\quad \\textbf{beta}^{\\text{T}} \\cdot \\textbf{committer_names} \\quad = \\quad  \\text{productivity_per_second},$$\n",
    "where $\\textbf{beta} = (\\beta_0, \\ldots, \\beta_{\\text{number_committers}+1})$, ($\\beta_0$ accounts for the intercept) \n",
    "\n",
    "$\\textbf{committer_names} = (\\mathbb{1}, \\text{committer_names}[0], \\ldots, \\text{committer_names}[\\text{number_committers}])$\n",
    "\n",
    "By investigating the value of the estimated $\\beta_{\\text{col}}$, we can explain the linear effect of collaborating on the productivity. This may allow us to discuss the Ringelmann effect when comparing different group sizes.\n"
   ]
  },
  {
   "cell_type": "code",
   "execution_count": 23,
   "metadata": {},
   "outputs": [
    {
     "name": "stdout",
     "output_type": "stream",
     "text": "OLS Regression Results                              \n===================================================================================\nDep. Variable:     productivity_per_second   R-squared:                       0.226\nModel:                                 OLS   Adj. R-squared:                 -0.715\nMethod:                      Least Squares   F-statistic:                    0.2399\nDate:                     Sat, 16 Nov 2019   Prob (F-statistic):               1.00\nTime:                             22:15:54   Log-Likelihood:                -46.928\nNo. Observations:                      145   AIC:                             253.9\nDf Residuals:                           65   BIC:                             492.0\nDf Model:                               79                                         \nCovariance Type:                 nonrobust                                         \n=================================================================================================================\n                                                    coef    std err          t      P>|t|      [0.025      0.975]\n-----------------------------------------------------------------------------------------------------------------\nIntercept                                         0.1566      0.525      0.298      0.767      -0.893       1.206\ncollab_bool[T.1]                                 -0.1566      0.163     -0.960      0.341      -0.482       0.169\ncommitter_names[T.Adam Harte]                    -0.1566      0.725     -0.216      0.830      -1.605       1.291\ncommitter_names[T.Ado Matejov]                   -0.1566      0.725     -0.216      0.830      -1.605       1.291\ncommitter_names[T.Akil Krishnan]                  0.0204      0.612      0.033      0.974      -1.201       1.242\ncommitter_names[T.Aleks Bunin]                   -0.1566      0.725     -0.216      0.830      -1.605       1.291\ncommitter_names[T.Alhadis]                       -0.1566      0.725     -0.216      0.830      -1.605       1.291\ncommitter_names[T.Arthur Guiot]               -1.185e-15      0.706  -1.68e-15      1.000      -1.411       1.411\ncommitter_names[T.Ben Hoyt]                      -0.1566      0.725     -0.216      0.830      -1.605       1.291\ncommitter_names[T.Ben Watkins]                   -0.1566      0.725     -0.216      0.830      -1.605       1.291\ncommitter_names[T.Benjamin Gudehus]              -0.1566      0.725     -0.216      0.830      -1.605       1.291\ncommitter_names[T.Bob Faist]                     -0.1566      0.725     -0.216      0.830      -1.605       1.291\ncommitter_names[T.Boloutare Doubeni]             -0.1566      0.725     -0.216      0.830      -1.605       1.291\ncommitter_names[T.Bryce Kerley]                  -0.1566      0.725     -0.216      0.830      -1.605       1.291\ncommitter_names[T.Carl D. Benson]                -0.1566      0.633     -0.247      0.805      -1.421       1.108\ncommitter_names[T.Carsten Nielsen]               -0.1566      0.725     -0.216      0.830      -1.605       1.291\ncommitter_names[T.Chris Wanstrath]               -0.0783      0.617     -0.127      0.899      -1.311       1.154\ncommitter_names[T.Christian]                     -0.1566      0.725     -0.216      0.830      -1.605       1.291\ncommitter_names[T.Clement Ng]                     0.9414      0.612      1.539      0.129      -0.280       2.163\ncommitter_names[T.Clive Crous]                   -0.1566      0.633     -0.247      0.805      -1.421       1.108\ncommitter_names[T.ConorOBrien-Foxx]           -1.027e-15      0.706  -1.45e-15      1.000      -1.411       1.411\ncommitter_names[T.D.E. Akers]                    -0.1566      0.725     -0.216      0.830      -1.605       1.291\ncommitter_names[T.Dagal]                         -0.1566      0.725     -0.216      0.830      -1.605       1.291\ncommitter_names[T.Daniel Le]                  -1.159e-15      0.706  -1.64e-15      1.000      -1.411       1.411\ncommitter_names[T.Dawid Mazurek]              -1.273e-15      0.706   -1.8e-15      1.000      -1.411       1.411\ncommitter_names[T.Eric Schaefer]                 -0.1566      0.725     -0.216      0.830      -1.605       1.291\ncommitter_names[T.Erik Hesselink]                -0.1566      0.725     -0.216      0.830      -1.605       1.291\ncommitter_names[T.Frederik Ring]                 -0.1566      0.725     -0.216      0.830      -1.605       1.291\ncommitter_names[T.George Gibson]                 -0.1372      0.582     -0.236      0.814      -1.299       1.025\ncommitter_names[T.GitHub]                        -0.0943      0.523     -0.180      0.857      -1.138       0.950\ncommitter_names[T.Greg Weisbrod]               -1.24e-15      0.706  -1.76e-15      1.000      -1.411       1.411\ncommitter_names[T.Gunnar Guðvarðarson]           -0.1566      0.633     -0.247      0.805      -1.421       1.108\ncommitter_names[T.Ho Tuan Kiet]                  -0.1566      0.725     -0.216      0.830      -1.605       1.291\ncommitter_names[T.Index Int]                     -0.1566      0.725     -0.216      0.830      -1.605       1.291\ncommitter_names[T.Jack Wearden]                  -0.1566      0.725     -0.216      0.830      -1.605       1.291\ncommitter_names[T.Jacob]                         -0.1564      0.633     -0.247      0.806      -1.421       1.108\ncommitter_names[T.Jocinardo Rodrigues (Jojo)] -1.138e-15      0.706  -1.61e-15      1.000      -1.411       1.411\ncommitter_names[T.Karthikeyan VJ]                -0.1566      0.725     -0.216      0.830      -1.605       1.291\ncommitter_names[T.KommX]                      -9.339e-16      0.706  -1.32e-15      1.000      -1.411       1.411\ncommitter_names[T.LegionMammal978]               -0.1566      0.725     -0.216      0.830      -1.605       1.291\ncommitter_names[T.Li4ick]                        -0.1566      0.725     -0.216      0.830      -1.605       1.291\ncommitter_names[T.Luke Deen Taylor]               0.0846      0.558      0.151      0.880      -1.031       1.200\ncommitter_names[T.Marconi Lanna]                 -0.1566      0.725     -0.216      0.830      -1.605       1.291\ncommitter_names[T.Mario Lang]                    -0.1566      0.725     -0.216      0.830      -1.605       1.291\ncommitter_names[T.Michael Gebetsroither]         -0.1566      0.725     -0.216      0.830      -1.605       1.291\ncommitter_names[T.Mike Donaghy]                  -0.0628      0.552     -0.114      0.910      -1.165       1.040\ncommitter_names[T.Mike Green]                    -0.1566      0.633     -0.247      0.805      -1.421       1.108\ncommitter_names[T.Muhammed Ibrahim]              -0.1566      0.725     -0.216      0.830      -1.605       1.291\ncommitter_names[T.Nathan M. Swan]                -0.1566      0.725     -0.216      0.830      -1.605       1.291\ncommitter_names[T.Niels NTG]                     -0.1566      0.725     -0.216      0.830      -1.605       1.291\ncommitter_names[T.Paul Brinkmeier]               -0.1566      0.725     -0.216      0.830      -1.605       1.291\ncommitter_names[T.Peter Atashian]                -0.1566      0.725     -0.216      0.830      -1.605       1.291\ncommitter_names[T.Petr Severa]                   -0.1566      0.725     -0.216      0.830      -1.605       1.291\ncommitter_names[T.Philippe Loctaux]           -6.624e-16      0.706  -9.38e-16      1.000      -1.411       1.411\ncommitter_names[T.PoroCYon]                      -0.0623      0.617     -0.101      0.920      -1.295       1.170\ncommitter_names[T.Pratik K. Patel]               -0.1566      0.633     -0.247      0.805      -1.421       1.108\ncommitter_names[T.Rhed Shi]                       0.0011      0.612      0.002      0.999      -1.221       1.223\ncommitter_names[T.Rhys Bower]                    -0.1566      0.633     -0.247      0.805      -1.421       1.108\ncommitter_names[T.Robert Wohlrab]                -0.1566      0.633     -0.247      0.805      -1.421       1.108\ncommitter_names[T.Sam Tebbs]                     -0.1566      0.725     -0.216      0.830      -1.605       1.291\ncommitter_names[T.Sam Tobin-Hochstadt]           -0.1566      0.725     -0.216      0.830      -1.605       1.291\ncommitter_names[T.Sergey Nartimov]               -0.1566      0.725     -0.216      0.830      -1.605       1.291\ncommitter_names[T.Shark]                         -0.1560      0.582     -0.268      0.789      -1.318       1.006\ncommitter_names[T.Shark64]                       -0.0880      0.599     -0.147      0.884      -1.285       1.109\ncommitter_names[T.Shashank S]                    -0.1566      0.725     -0.216      0.830      -1.605       1.291\ncommitter_names[T.Wellington Viana]              -0.1566      0.725     -0.216      0.830      -1.605       1.291\ncommitter_names[T.ayekat]                        -0.1566      0.725     -0.216      0.830      -1.605       1.291\ncommitter_names[T.bcnjr5]                        -0.1558      0.633     -0.246      0.806      -1.420       1.109\ncommitter_names[T.bilal arslan]                  -0.1566      0.725     -0.216      0.830      -1.605       1.291\ncommitter_names[T.deanturpin]                    -0.1566      0.725     -0.216      0.830      -1.605       1.291\ncommitter_names[T.elektronikLexikon]             -0.1566      0.725     -0.216      0.830      -1.605       1.291\ncommitter_names[T.inv-vinoth]                    -0.1566      0.725     -0.216      0.830      -1.605       1.291\ncommitter_names[T.kongr45gpen]                   -0.1416      0.633     -0.224      0.824      -1.406       1.123\ncommitter_names[T.pingjiang]                     -0.1348      0.633     -0.213      0.832      -1.399       1.130\ncommitter_names[T.thatHexa]                       0.4062      0.534      0.761      0.450      -0.660       1.473\ncommitter_names[T.thathexa]                   -8.288e-16      0.706  -1.17e-15      1.000      -1.411       1.411\ncommitter_names[T.tleb]                          -0.0783      0.617     -0.127      0.899      -1.311       1.154\ncommitter_names[T.xcvista]                       -0.1566      0.725     -0.216      0.830      -1.605       1.291\ncommitter_names[T.yopaman]                     -9.75e-16      0.706  -1.38e-15      1.000      -1.411       1.411\ncommitter_names[T.マーティン]                         -0.1566      0.725     -0.216      0.830      -1.605       1.291\n==============================================================================\nOmnibus:                      203.120   Durbin-Watson:                   2.420\nProb(Omnibus):                  0.000   Jarque-Bera (JB):            13329.250\nSkew:                           5.529   Prob(JB):                         0.00\nKurtosis:                      48.650   Cond. No.                         117.\n==============================================================================\n\nWarnings:\n[1] Standard Errors assume that the covariance matrix of the errors is correctly specified.\n"
    }
   ],
   "source": [
    "import statsmodels.formula.api as sm\n",
    "\n",
    "# format: y ~ x + committer_names:\n",
    "model = sm.ols(formula='productivity_per_second ~ collab_bool + committer_names', data = pdf)\n",
    "#train model:\n",
    "fit = model.fit()\n",
    "\n",
    "#print results:\n",
    "print(fit.summary())"
   ]
  },
  {
   "cell_type": "markdown",
   "execution_count": null,
   "metadata": {},
   "outputs": [],
   "source": [
    "## Summary of `Hello-world` repo\n",
    "\n",
    "We can see all the valuable information in the summary. Aside of giving us the calculated intercept and the various slope coefficients, we may also interpret other useful parameters.\n",
    "\n",
    "The negative `collab_bool` value could suggest a negative impact on productivity if committers are collaborating, but: we defined this value to simply be a `True` or `False` value whether or not the committer is working on a commit of another author. This is simply not strong enough for explaining real collaboration! It would need at least 2 back-and-fourth commits of two authors to be able to call it a collaboration. \n",
    "Furthermore, the estimated `collab_bool` value of $-0.1566$ does not seem robust to support a decline of productivity for collaborating team members.\n",
    "\n",
    "In addition, we observe fairly high p-values in the summary for almost all coefficients, so we cannot reject the hypothesis, that there is no linear relationship in the data, thus we may assume that there is no linear relationship at all!\n",
    "\n",
    "In order to even prove a linear relationship in the data, the assumption of normally distributed residuals must hold. However, we need to check the normality of the residuals to test for a linear relationship. We can immediately see that $\\text{Prob(Omnibus)}=0$ and $\\text{Prob(JB)}=0$, this allows to confidently reject the hypothesis, that the residuals are normally distributed. Summarising the analysis, we can assume that there is no linear relationship in the data, thus we cannot properly discuss the negative `collab_bool` in respect to the Ringelmann effect.\n",
    "\n"
   ]
  },
  {
   "cell_type": "markdown",
   "execution_count": null,
   "metadata": {},
   "outputs": [],
   "source": [
    "## Predictions\n",
    "We can now construct fictive predictions, by creating a dataframe with the corresponding exog values."
   ]
  },
  {
   "cell_type": "code",
   "execution_count": 24,
   "metadata": {},
   "outputs": [
    {
     "data": {
      "text/plain": "-0.1566003278571698"
     },
     "execution_count": 24,
     "metadata": {},
     "output_type": "execute_result"
    }
   ],
   "source": [
    "#Construct prediction for: [Ben Hoyt, True]\n",
    "X_pred = pd.DataFrame({'committer_names': 'Ben Hoyt'}, index=[0])\n",
    "X_pred['collab_bool'] = 1\n",
    "\n",
    "pred = fit.predict(X_pred)\n",
    "pred[0]"
   ]
  }
 ]
}